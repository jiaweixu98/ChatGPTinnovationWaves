{
 "cells": [
  {
   "cell_type": "markdown",
   "metadata": {},
   "source": [
    "use BERTopic to do topic modelling\n",
    "https://maartengr.github.io/BERTopic/"
   ]
  },
  {
   "cell_type": "code",
   "execution_count": 26,
   "metadata": {},
   "outputs": [],
   "source": [
    "import pandas as pd\n",
    "from tqdm import tqdm\n",
    "\n",
    "# we can not find 'PanGU-Σ', 'Luminous' in close Source index, cannot find 'Galatica', 'YaLM', 'PanGu-α' in open source list , so delete them.\n",
    "openSourceList = ['T5', 'mT5', 'CPM-2','T0','GPT-NeoX-20B','CodeGen','Tk-Instruct','UL2','OPT','NLLB','BLOOM','GLM','Flan-T5','mT0','BLOOMZ','OPT-IML','Pythia','LLaMA','Vicuna','ChatGLM','CodeGeeX','Koala']\n",
    "closeSourceList = ['GShard','GPT-3','LaMDA','HyperCLOVA','Codex','ERNIE 3','Jurassic-1','FLAN','MT-NLG','Yuan 1.0','Anthropic','WebGPT','Gopher','ERNIE 3.0 Titan','GLaM','InstructGPT','ChatGPT','AlphaCode','Chinchilla','PaLM','Cohere','AlexaTM','Sparrow','WeLM','U-PaLM','Flan-PaLM','Flan-U-PaLM','Alpaca','GPT-4' ,'Claude']\n",
    "\n",
    "readfile = \"/data/jx4237data/DataForChatGPTinnovationWaves/\"\n",
    "df = pd.read_csv(readfile + 'LLM09enhanced.csv',dtype=object)\n",
    "# some paper we need to delete:\n",
    "# “fake” palm paper 1909.02134\n",
    "# fake openai 1506.04006\n",
    "delete_list = ['1506.04006','1909.02134']\n",
    "df = df[~df['id'].isin(delete_list)]"
   ]
  },
  {
   "cell_type": "code",
   "execution_count": 27,
   "metadata": {},
   "outputs": [
    {
     "name": "stderr",
     "output_type": "stream",
     "text": [
      "100%|██████████| 52/52 [00:20<00:00,  2.56it/s]\n"
     ]
    }
   ],
   "source": [
    "# model2paper\n",
    "model2paper = {}\n",
    "for model in tqdm(openSourceList+closeSourceList):\n",
    "    if model in model2paper:\n",
    "        print('error')\n",
    "    model2paper[model] = set()\n",
    "    for paper in df[df['abstract'].str.contains(\"\\\\b%s\\\\b\"%model) | df['abstract'].str.lower().str.contains(\"\\\\b%s\\\\b\"%model.lower())  | df['title'].str.contains(\"\\\\b%s\\\\b\"%model) | df['title'].str.lower().str.contains(\"\\\\b%s\\\\b\"%model.lower())]['id']  :\n",
    "        model2paper[model].add(paper)\n",
    "\n",
    "# paper2model\n",
    "paper2model = {}\n",
    "for model, paperSet in model2paper.items():\n",
    "    for paper in paperSet:\n",
    "        if paper not in paper2model:\n",
    "            paper2model[paper] =[model]\n",
    "        else:\n",
    "            paper2model[paper].append(model)\n",
    "\n",
    "\n",
    "openPaperSet = set()\n",
    "closePaperSet = set()\n",
    "for k,v in model2paper.items():\n",
    "    if k in closeSourceList:\n",
    "        for paper in v:\n",
    "            closePaperSet.add(paper)\n",
    "    if k in openSourceList:\n",
    "        for paper in v:\n",
    "            openPaperSet.add(paper)"
   ]
  },
  {
   "cell_type": "code",
   "execution_count": 28,
   "metadata": {},
   "outputs": [],
   "source": [
    "# model2num\n",
    "model2num = {}\n",
    "num_seq = 0\n",
    "for k,v in sorted(model2paper.items(),  key= lambda x:-len(x[1])):\n",
    "    model2num[k] = num_seq\n",
    "    num_seq += 1"
   ]
  },
  {
   "cell_type": "code",
   "execution_count": 29,
   "metadata": {},
   "outputs": [],
   "source": [
    "# num2model\n",
    "num2model = {}\n",
    "for k,v in model2num.items():\n",
    "    num2model[v]=k"
   ]
  },
  {
   "cell_type": "code",
   "execution_count": 30,
   "metadata": {},
   "outputs": [],
   "source": [
    "paper2onemodel = {}\n",
    "paper2onemodelrank = {}\n",
    "for k,v in paper2model.items():\n",
    "    paper2onemodel[k] = sorted(v, key= lambda x:-model2num[x])[0]\n",
    "    paper2onemodelrank[k] = model2num[sorted(v, key= lambda x:-model2num[x])[0]]"
   ]
  },
  {
   "cell_type": "code",
   "execution_count": 31,
   "metadata": {},
   "outputs": [],
   "source": [
    "pureOpen = openPaperSet - closePaperSet\n",
    "pureClose = closePaperSet - openPaperSet\n",
    "mixed = openPaperSet & closePaperSet\n",
    "all = openPaperSet | closePaperSet\n",
    "\n",
    "paper2pubdate = {}\n",
    "for i in range(len(df)):\n",
    "    paper2pubdate[list(df['id'])[i]] = list(df['update_date'])[i]"
   ]
  },
  {
   "cell_type": "code",
   "execution_count": 32,
   "metadata": {},
   "outputs": [],
   "source": [
    "# get corups: title and abstract with model in their papers.\n",
    "\n",
    "df['date'] = pd.to_datetime(df['publish_date_v1'])\n",
    "df['text'] = df[['title', 'abstract']].agg(' '.join, axis=1)\n",
    "\n",
    "model_df = df[df['id'].isin(all)]"
   ]
  },
  {
   "cell_type": "code",
   "execution_count": 33,
   "metadata": {},
   "outputs": [],
   "source": [
    "def label_rep_model (row):\n",
    "   return paper2onemodel[row['id']]\n",
    "def label_rep_model_rank (row):\n",
    "   return paper2onemodelrank[row['id']]"
   ]
  },
  {
   "cell_type": "code",
   "execution_count": 34,
   "metadata": {},
   "outputs": [],
   "source": [
    "model_df['rep_model'] = model_df.apply (lambda row: label_rep_model(row), axis=1)\n",
    "model_df['rep_model_rank'] = model_df.apply (lambda row: label_rep_model_rank(row), axis=1)\n"
   ]
  },
  {
   "cell_type": "code",
   "execution_count": 35,
   "metadata": {},
   "outputs": [],
   "source": [
    "# model_df = model_df.loc[model_df['rep_model_rank'] < 10]\n",
    "text = model_df['text']\n",
    "date = model_df['date']\n",
    "y = model_df['rep_model_rank']\n",
    "cate_name = model_df['rep_model']"
   ]
  },
  {
   "cell_type": "code",
   "execution_count": 36,
   "metadata": {},
   "outputs": [],
   "source": [
    "from bertopic import BERTopic"
   ]
  },
  {
   "cell_type": "code",
   "execution_count": 37,
   "metadata": {},
   "outputs": [],
   "source": [
    "from bertopic import BERTopic\n",
    "from bertopic.backend import BaseEmbedder\n",
    "from bertopic.cluster import BaseCluster\n",
    "from bertopic.vectorizers import ClassTfidfTransformer\n",
    "from bertopic.dimensionality import BaseDimensionalityReduction\n",
    "from sklearn.feature_extraction.text import CountVectorizer\n",
    "vectorizer_model = CountVectorizer(stop_words=\"english\", min_df=2, ngram_range=(1, 2))\n",
    "# Prepare our empty sub-models and reduce frequent words while we are at it.\n",
    "empty_embedding_model = BaseEmbedder()\n",
    "empty_dimensionality_model = BaseDimensionalityReduction()\n",
    "empty_cluster_model = BaseCluster()\n",
    "ctfidf_model = ClassTfidfTransformer(reduce_frequent_words=True)\n",
    "\n",
    "# Fit BERTopic without actually performing any clustering\n",
    "topic_model= BERTopic(\n",
    "        embedding_model=empty_embedding_model,\n",
    "        umap_model=empty_dimensionality_model,\n",
    "        hdbscan_model=empty_cluster_model,\n",
    "        ctfidf_model=ctfidf_model,\n",
    "        vectorizer_model=vectorizer_model,\n",
    "        top_n_words=30,\n",
    ")\n",
    "topics, probs = topic_model.fit_transform(text, y=y)"
   ]
  },
  {
   "cell_type": "code",
   "execution_count": 38,
   "metadata": {},
   "outputs": [
    {
     "data": {
      "text/html": [
       "<div>\n",
       "<style scoped>\n",
       "    .dataframe tbody tr th:only-of-type {\n",
       "        vertical-align: middle;\n",
       "    }\n",
       "\n",
       "    .dataframe tbody tr th {\n",
       "        vertical-align: top;\n",
       "    }\n",
       "\n",
       "    .dataframe thead th {\n",
       "        text-align: right;\n",
       "    }\n",
       "</style>\n",
       "<table border=\"1\" class=\"dataframe\">\n",
       "  <thead>\n",
       "    <tr style=\"text-align: right;\">\n",
       "      <th></th>\n",
       "      <th>Topic</th>\n",
       "      <th>Count</th>\n",
       "      <th>Name</th>\n",
       "      <th>Representation</th>\n",
       "      <th>Representative_Docs</th>\n",
       "    </tr>\n",
       "  </thead>\n",
       "  <tbody>\n",
       "    <tr>\n",
       "      <th>0</th>\n",
       "      <td>0</td>\n",
       "      <td>901</td>\n",
       "      <td>0_chatgpt_ai_potential_generated</td>\n",
       "      <td>[chatgpt, ai, potential, generated, students, ...</td>\n",
       "      <td>[Exploring User Perspectives on ChatGPT: Appli...</td>\n",
       "    </tr>\n",
       "    <tr>\n",
       "      <th>1</th>\n",
       "      <td>1</td>\n",
       "      <td>592</td>\n",
       "      <td>1_gpt_shot_learning_human</td>\n",
       "      <td>[gpt, shot, learning, human, knowledge, prompt...</td>\n",
       "      <td>[Clinical Prompt Learning with Frozen Language...</td>\n",
       "    </tr>\n",
       "    <tr>\n",
       "      <th>2</th>\n",
       "      <td>2</td>\n",
       "      <td>486</td>\n",
       "      <td>2_gpt_chatgpt gpt_gpt gpt_llms</td>\n",
       "      <td>[gpt, chatgpt gpt, gpt gpt, llms, reasoning, l...</td>\n",
       "      <td>[NavGPT: Explicit Reasoning in Vision-and-Lang...</td>\n",
       "    </tr>\n",
       "    <tr>\n",
       "      <th>3</th>\n",
       "      <td>3</td>\n",
       "      <td>222</td>\n",
       "      <td>3_t5_pre_pre trained_sequence</td>\n",
       "      <td>[t5, pre, pre trained, sequence, bart, transfo...</td>\n",
       "      <td>[Investigating Pre-trained Language Models on ...</td>\n",
       "    </tr>\n",
       "    <tr>\n",
       "      <th>4</th>\n",
       "      <td>4</td>\n",
       "      <td>165</td>\n",
       "      <td>4_llama_quantization_tuning_lora</td>\n",
       "      <td>[llama, quantization, tuning, lora, instructio...</td>\n",
       "      <td>[OmniQuant: Omnidirectionally Calibrated Quant...</td>\n",
       "    </tr>\n",
       "    <tr>\n",
       "      <th>5</th>\n",
       "      <td>5</td>\n",
       "      <td>98</td>\n",
       "      <td>5_codex_code_program_repair</td>\n",
       "      <td>[codex, code, program, repair, openai codex, p...</td>\n",
       "      <td>[InferFix: End-to-End Program Repair with LLMs...</td>\n",
       "    </tr>\n",
       "    <tr>\n",
       "      <th>6</th>\n",
       "      <td>6</td>\n",
       "      <td>69</td>\n",
       "      <td>6_palm_gpt palm_med palm_med</td>\n",
       "      <td>[palm, gpt palm, med palm, med, math, attribut...</td>\n",
       "      <td>[Towards Generalist Biomedical AI   Medicine i...</td>\n",
       "    </tr>\n",
       "    <tr>\n",
       "      <th>7</th>\n",
       "      <td>7</td>\n",
       "      <td>58</td>\n",
       "      <td>7_opt_quantization_125m_perplexity</td>\n",
       "      <td>[opt, quantization, 125m, perplexity, opt 175b...</td>\n",
       "      <td>[FineQuant: Unlocking Efficiency with Fine-Gra...</td>\n",
       "    </tr>\n",
       "    <tr>\n",
       "      <th>8</th>\n",
       "      <td>8</td>\n",
       "      <td>52</td>\n",
       "      <td>8_bloom_multilingual_176b_bloom 176b</td>\n",
       "      <td>[bloom, multilingual, 176b, bloom 176b, bigsci...</td>\n",
       "      <td>[PolyLM: An Open Source Polyglot Large Languag...</td>\n",
       "    </tr>\n",
       "    <tr>\n",
       "      <th>9</th>\n",
       "      <td>9</td>\n",
       "      <td>48</td>\n",
       "      <td>9_instructgpt_negation_emergent abilities_negated</td>\n",
       "      <td>[instructgpt, negation, emergent abilities, ne...</td>\n",
       "      <td>[Improving Patient Pre-screening for Clinical ...</td>\n",
       "    </tr>\n",
       "    <tr>\n",
       "      <th>10</th>\n",
       "      <td>10</td>\n",
       "      <td>44</td>\n",
       "      <td>10_flan t5_flan_t5_discharge</td>\n",
       "      <td>[flan t5, flan, t5, discharge, spam, tuned, fi...</td>\n",
       "      <td>[Text Alignment Is An Efficient Unified Model ...</td>\n",
       "    </tr>\n",
       "    <tr>\n",
       "      <th>11</th>\n",
       "      <td>11</td>\n",
       "      <td>43</td>\n",
       "      <td>11_vicuna_vicuna 13b_pathology_13b</td>\n",
       "      <td>[vicuna, vicuna 13b, pathology, 13b, models vi...</td>\n",
       "      <td>[QLoRA: Efficient Finetuning of Quantized LLMs...</td>\n",
       "    </tr>\n",
       "    <tr>\n",
       "      <th>12</th>\n",
       "      <td>12</td>\n",
       "      <td>39</td>\n",
       "      <td>12_alpaca_instruction_instruction tuning_7b</td>\n",
       "      <td>[alpaca, instruction, instruction tuning, 7b, ...</td>\n",
       "      <td>[LLM-Adapters: An Adapter Family for Parameter...</td>\n",
       "    </tr>\n",
       "    <tr>\n",
       "      <th>13</th>\n",
       "      <td>13</td>\n",
       "      <td>29</td>\n",
       "      <td>13_claude_gpt claude_emails_phishing emails</td>\n",
       "      <td>[claude, gpt claude, emails, phishing emails, ...</td>\n",
       "      <td>[Emotionally Numb or Empathetic? Evaluating Ho...</td>\n",
       "    </tr>\n",
       "    <tr>\n",
       "      <th>14</th>\n",
       "      <td>14</td>\n",
       "      <td>27</td>\n",
       "      <td>14_codegen_code generation_code_verilog</td>\n",
       "      <td>[codegen, code generation, code, verilog, gene...</td>\n",
       "      <td>[How Effective Are Neural Networks for Fixing ...</td>\n",
       "    </tr>\n",
       "    <tr>\n",
       "      <th>15</th>\n",
       "      <td>15</td>\n",
       "      <td>23</td>\n",
       "      <td>15_mt5_lingual_cross lingual_multilingual</td>\n",
       "      <td>[mt5, lingual, cross lingual, multilingual, li...</td>\n",
       "      <td>[XSemPLR: Cross-Lingual Semantic Parsing in Mu...</td>\n",
       "    </tr>\n",
       "    <tr>\n",
       "      <th>16</th>\n",
       "      <td>16</td>\n",
       "      <td>18</td>\n",
       "      <td>16_t0_unifiedskg_flipped_task generalization</td>\n",
       "      <td>[t0, unifiedskg, flipped, task generalization,...</td>\n",
       "      <td>[Few-Shot Parameter-Efficient Fine-Tuning is B...</td>\n",
       "    </tr>\n",
       "    <tr>\n",
       "      <th>17</th>\n",
       "      <td>17</td>\n",
       "      <td>15</td>\n",
       "      <td>17_objectionable_radar_poisoning_memorization</td>\n",
       "      <td>[objectionable, radar, poisoning, memorization...</td>\n",
       "      <td>[Efficient Streaming Language Models with Atte...</td>\n",
       "    </tr>\n",
       "    <tr>\n",
       "      <th>18</th>\n",
       "      <td>18</td>\n",
       "      <td>14</td>\n",
       "      <td>18_bloomz_instruction_parrot_new languages</td>\n",
       "      <td>[bloomz, instruction, parrot, new languages, c...</td>\n",
       "      <td>[Youku-mPLUG: A 10 Million Large-scale Chinese...</td>\n",
       "    </tr>\n",
       "    <tr>\n",
       "      <th>19</th>\n",
       "      <td>19</td>\n",
       "      <td>11</td>\n",
       "      <td>19_glm_glm 130b_130b_pruning</td>\n",
       "      <td>[glm, glm 130b, 130b, pruning, bilingual, twea...</td>\n",
       "      <td>[OpenBA: An Open-sourced 15B Bilingual Asymmet...</td>\n",
       "    </tr>\n",
       "    <tr>\n",
       "      <th>20</th>\n",
       "      <td>20</td>\n",
       "      <td>10</td>\n",
       "      <td>20_llm pruner_pruner_cc_character</td>\n",
       "      <td>[llm pruner, pruner, cc, character, single mod...</td>\n",
       "      <td>[LLMRec: Benchmarking Large Language Models on...</td>\n",
       "    </tr>\n",
       "    <tr>\n",
       "      <th>21</th>\n",
       "      <td>21</td>\n",
       "      <td>10</td>\n",
       "      <td>21_consciousness_conversational ai_development...</td>\n",
       "      <td>[consciousness, conversational ai, development...</td>\n",
       "      <td>[Comparing Machines and Children: Using Develo...</td>\n",
       "    </tr>\n",
       "    <tr>\n",
       "      <th>22</th>\n",
       "      <td>22</td>\n",
       "      <td>9</td>\n",
       "      <td>22_assisted programming_ai supported_programmi...</td>\n",
       "      <td>[assisted programming, ai supported, programmi...</td>\n",
       "      <td>[From Copilot to Pilot: Towards AI Supported S...</td>\n",
       "    </tr>\n",
       "    <tr>\n",
       "      <th>23</th>\n",
       "      <td>23</td>\n",
       "      <td>9</td>\n",
       "      <td>23_anthropic_code coverage_agi_anthropic claude</td>\n",
       "      <td>[anthropic, code coverage, agi, anthropic clau...</td>\n",
       "      <td>[Towards best practices in AGI safety and gove...</td>\n",
       "    </tr>\n",
       "    <tr>\n",
       "      <th>24</th>\n",
       "      <td>24</td>\n",
       "      <td>8</td>\n",
       "      <td>24_translation_machine translation_smaller siz...</td>\n",
       "      <td>[translation, machine translation, smaller siz...</td>\n",
       "      <td>[A Paradigm Shift in Machine Translation: Boos...</td>\n",
       "    </tr>\n",
       "    <tr>\n",
       "      <th>25</th>\n",
       "      <td>25</td>\n",
       "      <td>7</td>\n",
       "      <td>25_chinchilla_galactica_circuit_compressors</td>\n",
       "      <td>[chinchilla, galactica, circuit, compressors, ...</td>\n",
       "      <td>[Tune As You Scale: Hyperparameter Optimizatio...</td>\n",
       "    </tr>\n",
       "    <tr>\n",
       "      <th>26</th>\n",
       "      <td>26</td>\n",
       "      <td>6</td>\n",
       "      <td>26_energy_co2e_mlps_mixture experts</td>\n",
       "      <td>[energy, co2e, mlps, mixture experts, sparsely...</td>\n",
       "      <td>[Compression of Deep Learning Models for Text:...</td>\n",
       "    </tr>\n",
       "    <tr>\n",
       "      <th>27</th>\n",
       "      <td>27</td>\n",
       "      <td>6</td>\n",
       "      <td>27_shallow fusion_shallow_grounding_wer</td>\n",
       "      <td>[shallow fusion, shallow, grounding, wer, dens...</td>\n",
       "      <td>[GLaM: Efficient Scaling of Language Models wi...</td>\n",
       "    </tr>\n",
       "    <tr>\n",
       "      <th>28</th>\n",
       "      <td>28</td>\n",
       "      <td>6</td>\n",
       "      <td>28_absa_instruct_invariant_unnatural</td>\n",
       "      <td>[absa, instruct, invariant, unnatural, ate, in...</td>\n",
       "      <td>[Unnatural Instructions: Tuning Language Model...</td>\n",
       "    </tr>\n",
       "    <tr>\n",
       "      <th>29</th>\n",
       "      <td>29</td>\n",
       "      <td>6</td>\n",
       "      <td>29_sts_inpars_correctly reason_gpt flan</td>\n",
       "      <td>[sts, inpars, correctly reason, gpt flan, assu...</td>\n",
       "      <td>[CSTS: Conditional Semantic Textual Similarity...</td>\n",
       "    </tr>\n",
       "    <tr>\n",
       "      <th>30</th>\n",
       "      <td>30</td>\n",
       "      <td>6</td>\n",
       "      <td>30_flan palm_symbol_priors_ul2</td>\n",
       "      <td>[flan palm, symbol, priors, ul2, input label, ...</td>\n",
       "      <td>[Capabilities of GPT-4 on Medical Challenge Pr...</td>\n",
       "    </tr>\n",
       "    <tr>\n",
       "      <th>31</th>\n",
       "      <td>31</td>\n",
       "      <td>5</td>\n",
       "      <td>31_index_reviewing_training corpora_test taking</td>\n",
       "      <td>[index, reviewing, training corpora, test taki...</td>\n",
       "      <td>[Benchmarking quantized LLaMa-based models on ...</td>\n",
       "    </tr>\n",
       "    <tr>\n",
       "      <th>32</th>\n",
       "      <td>32</td>\n",
       "      <td>5</td>\n",
       "      <td>32_korean_sensitive questions_acceptable_learn...</td>\n",
       "      <td>[korean, sensitive questions, acceptable, lear...</td>\n",
       "      <td>[SQuARe: A Large-Scale Dataset of Sensitive Qu...</td>\n",
       "    </tr>\n",
       "    <tr>\n",
       "      <th>33</th>\n",
       "      <td>33</td>\n",
       "      <td>5</td>\n",
       "      <td>33_ul2_oncology_referential_notes</td>\n",
       "      <td>[ul2, oncology, referential, notes, schema, fl...</td>\n",
       "      <td>[ImPaKT: A Dataset for Open-Schema Knowledge B...</td>\n",
       "    </tr>\n",
       "    <tr>\n",
       "      <th>34</th>\n",
       "      <td>34</td>\n",
       "      <td>5</td>\n",
       "      <td>34_web search_web_retrieval based_lfqa</td>\n",
       "      <td>[web search, web, retrieval based, lfqa, input...</td>\n",
       "      <td>[WebGPT: Browser-assisted question-answering w...</td>\n",
       "    </tr>\n",
       "    <tr>\n",
       "      <th>35</th>\n",
       "      <td>35</td>\n",
       "      <td>5</td>\n",
       "      <td>35_gopher_rms_clue_compute optimal</td>\n",
       "      <td>[gopher, rms, clue, compute optimal, data set,...</td>\n",
       "      <td>[An Information-Theoretic Analysis of Compute-...</td>\n",
       "    </tr>\n",
       "    <tr>\n",
       "      <th>36</th>\n",
       "      <td>36</td>\n",
       "      <td>4</td>\n",
       "      <td>36_african languages_reasoning strategies_afri...</td>\n",
       "      <td>[african languages, reasoning strategies, afri...</td>\n",
       "      <td>[Behavioral estimates of conceptual structure ...</td>\n",
       "    </tr>\n",
       "    <tr>\n",
       "      <th>37</th>\n",
       "      <td>37</td>\n",
       "      <td>4</td>\n",
       "      <td>37_jurassic_human lm_retro_dialogue acts</td>\n",
       "      <td>[jurassic, human lm, retro, dialogue acts, siz...</td>\n",
       "      <td>[Evaluating Human-Language Model Interaction  ...</td>\n",
       "    </tr>\n",
       "    <tr>\n",
       "      <th>38</th>\n",
       "      <td>38</td>\n",
       "      <td>3</td>\n",
       "      <td>38_forgetting_mtf_intent detection_continual</td>\n",
       "      <td>[forgetting, mtf, intent detection, continual,...</td>\n",
       "      <td>[Zero-Shot Slot and Intent Detection in Low-Re...</td>\n",
       "    </tr>\n",
       "    <tr>\n",
       "      <th>39</th>\n",
       "      <td>39</td>\n",
       "      <td>3</td>\n",
       "      <td>39_ic_linguist_st_20b</td>\n",
       "      <td>[ic, linguist, st, 20b, slot, seq2seq model, s...</td>\n",
       "      <td>[CLASP: Few-Shot Cross-Lingual Data Augmentati...</td>\n",
       "    </tr>\n",
       "    <tr>\n",
       "      <th>40</th>\n",
       "      <td>40</td>\n",
       "      <td>3</td>\n",
       "      <td>40_530b_nlg 530b_nlg_megatron</td>\n",
       "      <td>[530b, nlg 530b, nlg, megatron, efficient lear...</td>\n",
       "      <td>[Evaluating Parameter Efficient Learning for G...</td>\n",
       "    </tr>\n",
       "    <tr>\n",
       "      <th>41</th>\n",
       "      <td>41</td>\n",
       "      <td>3</td>\n",
       "      <td>41_neox 20b_gpt neox_neox_20b</td>\n",
       "      <td>[neox 20b, gpt neox, neox, 20b, dna, gram, cod...</td>\n",
       "      <td>[GPT-NeoX-20B: An Open-Source Autoregressive L...</td>\n",
       "    </tr>\n",
       "    <tr>\n",
       "      <th>42</th>\n",
       "      <td>42</td>\n",
       "      <td>2</td>\n",
       "      <td>42_palm_540b_palm 540b_62b</td>\n",
       "      <td>[palm, 540b, palm 540b, 62b, instruction finet...</td>\n",
       "      <td>[Scaling Instruction-Finetuned Language Models...</td>\n",
       "    </tr>\n",
       "    <tr>\n",
       "      <th>43</th>\n",
       "      <td>43</td>\n",
       "      <td>2</td>\n",
       "      <td>43_html_websites_read write_models computation...</td>\n",
       "      <td>[html, websites, read write, models computatio...</td>\n",
       "      <td>[Memory Augmented Large Language Models are Co...</td>\n",
       "    </tr>\n",
       "    <tr>\n",
       "      <th>44</th>\n",
       "      <td>44</td>\n",
       "      <td>2</td>\n",
       "      <td>44_task agnostic_agnostic_agnostic distillatio...</td>\n",
       "      <td>[task agnostic, agnostic, agnostic distillatio...</td>\n",
       "      <td>[ERNIE 3.0 Tiny: Frustratingly Simple Method t...</td>\n",
       "    </tr>\n",
       "    <tr>\n",
       "      <th>45</th>\n",
       "      <td>45</td>\n",
       "      <td>2</td>\n",
       "      <td>45_rlhf_social impacts_harmless_human judgements</td>\n",
       "      <td>[rlhf, social impacts, harmless, human judgeme...</td>\n",
       "      <td>[Improving alignment of dialogue agents via ta...</td>\n",
       "    </tr>\n",
       "    <tr>\n",
       "      <th>46</th>\n",
       "      <td>46</td>\n",
       "      <td>1</td>\n",
       "      <td>46_yuan_excellent performance_shot shot_traini...</td>\n",
       "      <td>[yuan, excellent performance, shot shot, train...</td>\n",
       "      <td>[Yuan 1.0: Large-Scale Pre-trained Language Mo...</td>\n",
       "    </tr>\n",
       "    <tr>\n",
       "      <th>47</th>\n",
       "      <td>47</td>\n",
       "      <td>1</td>\n",
       "      <td>47_model chinese_types tasks_capabilities mult...</td>\n",
       "      <td>[model chinese, types tasks, capabilities mult...</td>\n",
       "      <td>[WeLM: A Well-Read Pre-trained Language Model ...</td>\n",
       "    </tr>\n",
       "    <tr>\n",
       "      <th>48</th>\n",
       "      <td>48</td>\n",
       "      <td>1</td>\n",
       "      <td>48_opt_held_meta learning_decisions</td>\n",
       "      <td>[opt, held, meta learning, decisions, 30b, ins...</td>\n",
       "      <td>[OPT-IML: Scaling Language Model Instruction M...</td>\n",
       "    </tr>\n",
       "    <tr>\n",
       "      <th>49</th>\n",
       "      <td>49</td>\n",
       "      <td>1</td>\n",
       "      <td>49_humaneval_billion tokens_extensions_studio</td>\n",
       "      <td>[humaneval, billion tokens, extensions, studio...</td>\n",
       "      <td>[CodeGeeX: A Pre-Trained Model for Code Genera...</td>\n",
       "    </tr>\n",
       "    <tr>\n",
       "      <th>50</th>\n",
       "      <td>50</td>\n",
       "      <td>1</td>\n",
       "      <td>50_cpm_scale plms_cost effective_plms</td>\n",
       "      <td>[cpm, scale plms, cost effective, plms, tsingh...</td>\n",
       "      <td>[CPM-2: Large-scale Cost-effective Pre-trained...</td>\n",
       "    </tr>\n",
       "    <tr>\n",
       "      <th>51</th>\n",
       "      <td>51</td>\n",
       "      <td>1</td>\n",
       "      <td>51_titan_ernie titan_ernie_scale knowledge</td>\n",
       "      <td>[titan, ernie titan, ernie, scale knowledge, k...</td>\n",
       "      <td>[ERNIE 3.0 Titan: Exploring Larger-scale Knowl...</td>\n",
       "    </tr>\n",
       "  </tbody>\n",
       "</table>\n",
       "</div>"
      ],
      "text/plain": [
       "    Topic  Count                                               Name  \\\n",
       "0       0    901                   0_chatgpt_ai_potential_generated   \n",
       "1       1    592                          1_gpt_shot_learning_human   \n",
       "2       2    486                     2_gpt_chatgpt gpt_gpt gpt_llms   \n",
       "3       3    222                      3_t5_pre_pre trained_sequence   \n",
       "4       4    165                   4_llama_quantization_tuning_lora   \n",
       "5       5     98                        5_codex_code_program_repair   \n",
       "6       6     69                       6_palm_gpt palm_med palm_med   \n",
       "7       7     58                 7_opt_quantization_125m_perplexity   \n",
       "8       8     52               8_bloom_multilingual_176b_bloom 176b   \n",
       "9       9     48  9_instructgpt_negation_emergent abilities_negated   \n",
       "10     10     44                       10_flan t5_flan_t5_discharge   \n",
       "11     11     43                 11_vicuna_vicuna 13b_pathology_13b   \n",
       "12     12     39        12_alpaca_instruction_instruction tuning_7b   \n",
       "13     13     29        13_claude_gpt claude_emails_phishing emails   \n",
       "14     14     27            14_codegen_code generation_code_verilog   \n",
       "15     15     23          15_mt5_lingual_cross lingual_multilingual   \n",
       "16     16     18       16_t0_unifiedskg_flipped_task generalization   \n",
       "17     17     15      17_objectionable_radar_poisoning_memorization   \n",
       "18     18     14         18_bloomz_instruction_parrot_new languages   \n",
       "19     19     11                       19_glm_glm 130b_130b_pruning   \n",
       "20     20     10                  20_llm pruner_pruner_cc_character   \n",
       "21     21     10  21_consciousness_conversational ai_development...   \n",
       "22     22      9  22_assisted programming_ai supported_programmi...   \n",
       "23     23      9    23_anthropic_code coverage_agi_anthropic claude   \n",
       "24     24      8  24_translation_machine translation_smaller siz...   \n",
       "25     25      7        25_chinchilla_galactica_circuit_compressors   \n",
       "26     26      6                26_energy_co2e_mlps_mixture experts   \n",
       "27     27      6            27_shallow fusion_shallow_grounding_wer   \n",
       "28     28      6               28_absa_instruct_invariant_unnatural   \n",
       "29     29      6            29_sts_inpars_correctly reason_gpt flan   \n",
       "30     30      6                     30_flan palm_symbol_priors_ul2   \n",
       "31     31      5    31_index_reviewing_training corpora_test taking   \n",
       "32     32      5  32_korean_sensitive questions_acceptable_learn...   \n",
       "33     33      5                  33_ul2_oncology_referential_notes   \n",
       "34     34      5             34_web search_web_retrieval based_lfqa   \n",
       "35     35      5                 35_gopher_rms_clue_compute optimal   \n",
       "36     36      4  36_african languages_reasoning strategies_afri...   \n",
       "37     37      4           37_jurassic_human lm_retro_dialogue acts   \n",
       "38     38      3       38_forgetting_mtf_intent detection_continual   \n",
       "39     39      3                              39_ic_linguist_st_20b   \n",
       "40     40      3                      40_530b_nlg 530b_nlg_megatron   \n",
       "41     41      3                      41_neox 20b_gpt neox_neox_20b   \n",
       "42     42      2                         42_palm_540b_palm 540b_62b   \n",
       "43     43      2  43_html_websites_read write_models computation...   \n",
       "44     44      2  44_task agnostic_agnostic_agnostic distillatio...   \n",
       "45     45      2   45_rlhf_social impacts_harmless_human judgements   \n",
       "46     46      1  46_yuan_excellent performance_shot shot_traini...   \n",
       "47     47      1  47_model chinese_types tasks_capabilities mult...   \n",
       "48     48      1                48_opt_held_meta learning_decisions   \n",
       "49     49      1      49_humaneval_billion tokens_extensions_studio   \n",
       "50     50      1              50_cpm_scale plms_cost effective_plms   \n",
       "51     51      1         51_titan_ernie titan_ernie_scale knowledge   \n",
       "\n",
       "                                       Representation  \\\n",
       "0   [chatgpt, ai, potential, generated, students, ...   \n",
       "1   [gpt, shot, learning, human, knowledge, prompt...   \n",
       "2   [gpt, chatgpt gpt, gpt gpt, llms, reasoning, l...   \n",
       "3   [t5, pre, pre trained, sequence, bart, transfo...   \n",
       "4   [llama, quantization, tuning, lora, instructio...   \n",
       "5   [codex, code, program, repair, openai codex, p...   \n",
       "6   [palm, gpt palm, med palm, med, math, attribut...   \n",
       "7   [opt, quantization, 125m, perplexity, opt 175b...   \n",
       "8   [bloom, multilingual, 176b, bloom 176b, bigsci...   \n",
       "9   [instructgpt, negation, emergent abilities, ne...   \n",
       "10  [flan t5, flan, t5, discharge, spam, tuned, fi...   \n",
       "11  [vicuna, vicuna 13b, pathology, 13b, models vi...   \n",
       "12  [alpaca, instruction, instruction tuning, 7b, ...   \n",
       "13  [claude, gpt claude, emails, phishing emails, ...   \n",
       "14  [codegen, code generation, code, verilog, gene...   \n",
       "15  [mt5, lingual, cross lingual, multilingual, li...   \n",
       "16  [t0, unifiedskg, flipped, task generalization,...   \n",
       "17  [objectionable, radar, poisoning, memorization...   \n",
       "18  [bloomz, instruction, parrot, new languages, c...   \n",
       "19  [glm, glm 130b, 130b, pruning, bilingual, twea...   \n",
       "20  [llm pruner, pruner, cc, character, single mod...   \n",
       "21  [consciousness, conversational ai, development...   \n",
       "22  [assisted programming, ai supported, programmi...   \n",
       "23  [anthropic, code coverage, agi, anthropic clau...   \n",
       "24  [translation, machine translation, smaller siz...   \n",
       "25  [chinchilla, galactica, circuit, compressors, ...   \n",
       "26  [energy, co2e, mlps, mixture experts, sparsely...   \n",
       "27  [shallow fusion, shallow, grounding, wer, dens...   \n",
       "28  [absa, instruct, invariant, unnatural, ate, in...   \n",
       "29  [sts, inpars, correctly reason, gpt flan, assu...   \n",
       "30  [flan palm, symbol, priors, ul2, input label, ...   \n",
       "31  [index, reviewing, training corpora, test taki...   \n",
       "32  [korean, sensitive questions, acceptable, lear...   \n",
       "33  [ul2, oncology, referential, notes, schema, fl...   \n",
       "34  [web search, web, retrieval based, lfqa, input...   \n",
       "35  [gopher, rms, clue, compute optimal, data set,...   \n",
       "36  [african languages, reasoning strategies, afri...   \n",
       "37  [jurassic, human lm, retro, dialogue acts, siz...   \n",
       "38  [forgetting, mtf, intent detection, continual,...   \n",
       "39  [ic, linguist, st, 20b, slot, seq2seq model, s...   \n",
       "40  [530b, nlg 530b, nlg, megatron, efficient lear...   \n",
       "41  [neox 20b, gpt neox, neox, 20b, dna, gram, cod...   \n",
       "42  [palm, 540b, palm 540b, 62b, instruction finet...   \n",
       "43  [html, websites, read write, models computatio...   \n",
       "44  [task agnostic, agnostic, agnostic distillatio...   \n",
       "45  [rlhf, social impacts, harmless, human judgeme...   \n",
       "46  [yuan, excellent performance, shot shot, train...   \n",
       "47  [model chinese, types tasks, capabilities mult...   \n",
       "48  [opt, held, meta learning, decisions, 30b, ins...   \n",
       "49  [humaneval, billion tokens, extensions, studio...   \n",
       "50  [cpm, scale plms, cost effective, plms, tsingh...   \n",
       "51  [titan, ernie titan, ernie, scale knowledge, k...   \n",
       "\n",
       "                                  Representative_Docs  \n",
       "0   [Exploring User Perspectives on ChatGPT: Appli...  \n",
       "1   [Clinical Prompt Learning with Frozen Language...  \n",
       "2   [NavGPT: Explicit Reasoning in Vision-and-Lang...  \n",
       "3   [Investigating Pre-trained Language Models on ...  \n",
       "4   [OmniQuant: Omnidirectionally Calibrated Quant...  \n",
       "5   [InferFix: End-to-End Program Repair with LLMs...  \n",
       "6   [Towards Generalist Biomedical AI   Medicine i...  \n",
       "7   [FineQuant: Unlocking Efficiency with Fine-Gra...  \n",
       "8   [PolyLM: An Open Source Polyglot Large Languag...  \n",
       "9   [Improving Patient Pre-screening for Clinical ...  \n",
       "10  [Text Alignment Is An Efficient Unified Model ...  \n",
       "11  [QLoRA: Efficient Finetuning of Quantized LLMs...  \n",
       "12  [LLM-Adapters: An Adapter Family for Parameter...  \n",
       "13  [Emotionally Numb or Empathetic? Evaluating Ho...  \n",
       "14  [How Effective Are Neural Networks for Fixing ...  \n",
       "15  [XSemPLR: Cross-Lingual Semantic Parsing in Mu...  \n",
       "16  [Few-Shot Parameter-Efficient Fine-Tuning is B...  \n",
       "17  [Efficient Streaming Language Models with Atte...  \n",
       "18  [Youku-mPLUG: A 10 Million Large-scale Chinese...  \n",
       "19  [OpenBA: An Open-sourced 15B Bilingual Asymmet...  \n",
       "20  [LLMRec: Benchmarking Large Language Models on...  \n",
       "21  [Comparing Machines and Children: Using Develo...  \n",
       "22  [From Copilot to Pilot: Towards AI Supported S...  \n",
       "23  [Towards best practices in AGI safety and gove...  \n",
       "24  [A Paradigm Shift in Machine Translation: Boos...  \n",
       "25  [Tune As You Scale: Hyperparameter Optimizatio...  \n",
       "26  [Compression of Deep Learning Models for Text:...  \n",
       "27  [GLaM: Efficient Scaling of Language Models wi...  \n",
       "28  [Unnatural Instructions: Tuning Language Model...  \n",
       "29  [CSTS: Conditional Semantic Textual Similarity...  \n",
       "30  [Capabilities of GPT-4 on Medical Challenge Pr...  \n",
       "31  [Benchmarking quantized LLaMa-based models on ...  \n",
       "32  [SQuARe: A Large-Scale Dataset of Sensitive Qu...  \n",
       "33  [ImPaKT: A Dataset for Open-Schema Knowledge B...  \n",
       "34  [WebGPT: Browser-assisted question-answering w...  \n",
       "35  [An Information-Theoretic Analysis of Compute-...  \n",
       "36  [Behavioral estimates of conceptual structure ...  \n",
       "37  [Evaluating Human-Language Model Interaction  ...  \n",
       "38  [Zero-Shot Slot and Intent Detection in Low-Re...  \n",
       "39  [CLASP: Few-Shot Cross-Lingual Data Augmentati...  \n",
       "40  [Evaluating Parameter Efficient Learning for G...  \n",
       "41  [GPT-NeoX-20B: An Open-Source Autoregressive L...  \n",
       "42  [Scaling Instruction-Finetuned Language Models...  \n",
       "43  [Memory Augmented Large Language Models are Co...  \n",
       "44  [ERNIE 3.0 Tiny: Frustratingly Simple Method t...  \n",
       "45  [Improving alignment of dialogue agents via ta...  \n",
       "46  [Yuan 1.0: Large-Scale Pre-trained Language Mo...  \n",
       "47  [WeLM: A Well-Read Pre-trained Language Model ...  \n",
       "48  [OPT-IML: Scaling Language Model Instruction M...  \n",
       "49  [CodeGeeX: A Pre-Trained Model for Code Genera...  \n",
       "50  [CPM-2: Large-scale Cost-effective Pre-trained...  \n",
       "51  [ERNIE 3.0 Titan: Exploring Larger-scale Knowl...  "
      ]
     },
     "execution_count": 38,
     "metadata": {},
     "output_type": "execute_result"
    }
   ],
   "source": [
    "topic_model.get_topic_info()"
   ]
  },
  {
   "cell_type": "code",
   "execution_count": 39,
   "metadata": {},
   "outputs": [],
   "source": [
    "topic_model.set_topic_labels(num2model)"
   ]
  },
  {
   "cell_type": "code",
   "execution_count": 40,
   "metadata": {},
   "outputs": [
    {
     "data": {
      "application/vnd.plotly.v1+json": {
       "config": {
        "plotlyServerURL": "https://plot.ly"
       },
       "data": [
        {
         "marker": {
          "color": "#D55E00"
         },
         "orientation": "h",
         "type": "bar",
         "x": [
          0.11733166175511833,
          0.11757074063241953,
          0.11805338139438645,
          0.11864417372478801,
          0.11904992255077566,
          0.11925859546692565,
          0.11958766085041711,
          0.11986881039648052,
          0.12010880446860944,
          0.12038511845716382,
          0.12056014289794224,
          0.12085321453410272,
          0.1214568484772958,
          0.12247159756278736,
          0.12416602155176898,
          0.1242923765576265,
          0.12438876766783112,
          0.12456818238951237,
          0.126726401824935,
          0.12713691676419156,
          0.12754917360962262,
          0.12819137155572144,
          0.12901759086151995,
          0.12957238263525342,
          0.13159623481319419,
          0.13242819477120604,
          0.1333714517687454,
          0.1336301530134855,
          0.1560364127243271,
          0.18529778127335284
         ],
         "xaxis": "x",
         "y": [
          "user  ",
          "systems  ",
          "human  ",
          "questions  ",
          "based  ",
          "using chatgpt  ",
          "like  ",
          "users  ",
          "detection  ",
          "content  ",
          "chatbots  ",
          "information  ",
          "paper  ",
          "like chatgpt  ",
          "intelligence  ",
          "analysis  ",
          "artificial  ",
          "artificial intelligence  ",
          "responses  ",
          "education  ",
          "generative ai  ",
          "generative  ",
          "study  ",
          "tools  ",
          "research  ",
          "students  ",
          "generated  ",
          "potential  ",
          "ai  ",
          "chatgpt  "
         ],
         "yaxis": "y"
        },
        {
         "marker": {
          "color": "#0072B2"
         },
         "orientation": "h",
         "type": "bar",
         "x": [
          0.11360830406496811,
          0.11374345521930307,
          0.1140822043633952,
          0.11414755635790998,
          0.11458960905744522,
          0.11468400547761338,
          0.11494717129958172,
          0.11498945180533889,
          0.11511678530784394,
          0.11549029143294261,
          0.11567896220188266,
          0.11573183520918162,
          0.11576378470203659,
          0.11581435598396488,
          0.11641650066738306,
          0.11756520226231901,
          0.11827436006285462,
          0.11939307134398935,
          0.12069315271150274,
          0.12100294602224011,
          0.12116968860632456,
          0.12144482590288225,
          0.12211776976013182,
          0.12309528490437179,
          0.1231396373279957,
          0.12449109374890235,
          0.12490682406787716,
          0.12838247098541186,
          0.14023148259104026,
          0.15059313447018946
         ],
         "xaxis": "x2",
         "y": [
          "approach  ",
          "information  ",
          "language models  ",
          "new  ",
          "cot  ",
          "models gpt  ",
          "model  ",
          "explanations  ",
          "natural language  ",
          "reasoning  ",
          "natural  ",
          "classification  ",
          "fine  ",
          "methods  ",
          "text  ",
          "examples  ",
          "using  ",
          "shot learning  ",
          "zero shot  ",
          "prompting  ",
          "zero  ",
          "training  ",
          "task  ",
          "context  ",
          "prompt  ",
          "knowledge  ",
          "human  ",
          "learning  ",
          "shot  ",
          "gpt  "
         ],
         "yaxis": "y2"
        },
        {
         "marker": {
          "color": "#CC79A7"
         },
         "orientation": "h",
         "type": "bar",
         "x": [
          0.11144167561573023,
          0.1115215534821769,
          0.11178695317460434,
          0.11199392124326672,
          0.11201321163598338,
          0.1120371262810727,
          0.11204412152375445,
          0.1128412703643642,
          0.11337604131733076,
          0.11338220050007443,
          0.1141444537594991,
          0.11427168773004194,
          0.11455843106255169,
          0.11573154553214171,
          0.11588919380401394,
          0.1161918595919339,
          0.11749521893084708,
          0.11809183302432012,
          0.11971286988783986,
          0.12037494722560216,
          0.12279983789572901,
          0.12367795439360979,
          0.127368834680494,
          0.12811919730851867,
          0.12834647157292653,
          0.12943174588119985,
          0.13509178719098996,
          0.14543819478676145,
          0.15000733516260734,
          0.17415014986110536
         ],
         "xaxis": "x3",
         "y": [
          "language models  ",
          "research  ",
          "accuracy  ",
          "ability  ",
          "performance  ",
          "ai  ",
          "gpt models  ",
          "high  ",
          "potential  ",
          "data  ",
          "agent  ",
          "feedback  ",
          "legal  ",
          "benchmark  ",
          "visual  ",
          "abilities  ",
          "capabilities  ",
          "large  ",
          "evaluation  ",
          "agents  ",
          "human  ",
          "multimodal  ",
          "large language  ",
          "models llms  ",
          "llm  ",
          "reasoning  ",
          "llms  ",
          "gpt gpt  ",
          "chatgpt gpt  ",
          "gpt  "
         ],
         "yaxis": "y3"
        },
        {
         "marker": {
          "color": "#E69F00"
         },
         "orientation": "h",
         "type": "bar",
         "x": [
          0.1351154836001673,
          0.1352762396541597,
          0.13814752034399627,
          0.14008360537690473,
          0.14081215703512864,
          0.14336344131882842,
          0.1438159435200886,
          0.1442149996825373,
          0.1442623399146604,
          0.14520177396633535,
          0.14590330524455364,
          0.1463475807578764,
          0.1464549882938444,
          0.14804390311409477,
          0.1533545333638678,
          0.15632362635624503,
          0.1571605345044183,
          0.1595269358377984,
          0.15993525385321322,
          0.16468290131053528,
          0.16492580941532597,
          0.16508634507795938,
          0.16710584567797004,
          0.16929032853357603,
          0.16943829904127336,
          0.17069016920680033,
          0.1725395322331859,
          0.17418419667526258,
          0.18528006630700103,
          0.2905632218411079
         ],
         "xaxis": "x4",
         "y": [
          "architectures  ",
          "tuning  ",
          "model  ",
          "models t5  ",
          "pretrained  ",
          "gpt t5  ",
          "prompt tuning  ",
          "table  ",
          "t5 base  ",
          "task  ",
          "text text  ",
          "sequence sequence  ",
          "seq2seq  ",
          "text  ",
          "encoder decoder  ",
          "training  ",
          "pre training  ",
          "encoder  ",
          "t5 model  ",
          "plms  ",
          "trained  ",
          "decoder  ",
          "bert  ",
          "trained language  ",
          "transformer  ",
          "bart  ",
          "sequence  ",
          "pre trained  ",
          "pre  ",
          "t5  "
         ],
         "yaxis": "y4"
        },
        {
         "marker": {
          "color": "#56B4E9"
         },
         "orientation": "h",
         "type": "bar",
         "x": [
          0.13408190261958636,
          0.1350381582182703,
          0.13550449186849498,
          0.13577150165177135,
          0.13593036568408975,
          0.13631632614112918,
          0.13702357302284515,
          0.1376159646729932,
          0.13846842501779244,
          0.1385533429342588,
          0.13920690449107373,
          0.14041396126995537,
          0.14079017169371397,
          0.14132806119108388,
          0.1426876114736385,
          0.14415203298000173,
          0.14478911705468228,
          0.14531904128101114,
          0.1464349745907388,
          0.1467264241736574,
          0.1556043418269373,
          0.15564166293215856,
          0.15576727644203894,
          0.1560285313430318,
          0.15740453518504352,
          0.16182030819169624,
          0.16416050757152056,
          0.17149353895573627,
          0.17478546743741388,
          0.31042807119768984
         ],
         "xaxis": "x5",
         "y": [
          "models llms  ",
          "window  ",
          "13b  ",
          "model  ",
          "llms llama  ",
          "instruction following  ",
          "tuning llama  ",
          "parameter  ",
          "memory  ",
          "gpt llama  ",
          "domain  ",
          "llms  ",
          "knowledge editing  ",
          "weights  ",
          "context  ",
          "safety  ",
          "llm  ",
          "music  ",
          "llama models  ",
          "audio  ",
          "llama 7b  ",
          "llama model  ",
          "fine tuning  ",
          "fine  ",
          "7b  ",
          "instruction  ",
          "lora  ",
          "tuning  ",
          "quantization  ",
          "llama  "
         ],
         "yaxis": "y5"
        },
        {
         "marker": {
          "color": "#009E73"
         },
         "orientation": "h",
         "type": "bar",
         "x": [
          0.1515391621307346,
          0.15203955763895327,
          0.1525165832194888,
          0.1527369568367622,
          0.1543805214956758,
          0.15749177054323701,
          0.15924848618806486,
          0.16090312413313626,
          0.1612441897764445,
          0.1614232452472265,
          0.1672002495768815,
          0.16731495324837511,
          0.16776198149735833,
          0.16968960331240407,
          0.1739414938950209,
          0.17569528797186912,
          0.18470868190108283,
          0.18536088979918974,
          0.1867354023361308,
          0.2007448758078417,
          0.2035907326205921,
          0.20720260573049376,
          0.2152060638595553,
          0.21932080617316752,
          0.22223503043741527,
          0.22823487406329176,
          0.2403695682802473,
          0.24446972438769615,
          0.2665987543273567,
          0.3844407335140913
         ],
         "xaxis": "x6",
         "y": [
          "genetic programming  ",
          "execution  ",
          "sql  ",
          "pangu  ",
          "generation  ",
          "generate  ",
          "nl  ",
          "natural language  ",
          "problems  ",
          "natural  ",
          "bug  ",
          "fixes  ",
          "documentation  ",
          "python  ",
          "codex gpt  ",
          "fixing  ",
          "synthesis  ",
          "program repair  ",
          "copilot  ",
          "program synthesis  ",
          "code generation  ",
          "gpt codex  ",
          "bugs  ",
          "programs  ",
          "programming  ",
          "openai codex  ",
          "repair  ",
          "program  ",
          "code  ",
          "codex  "
         ],
         "yaxis": "y6"
        },
        {
         "marker": {
          "color": "#F0E442"
         },
         "orientation": "h",
         "type": "bar",
         "x": [
          0.14654040800848203,
          0.14673524795307835,
          0.1476431927539342,
          0.1476431927539342,
          0.1476431927539342,
          0.14798571136391242,
          0.14829621882853278,
          0.14834402021567616,
          0.14931851790213171,
          0.15022773437382106,
          0.1510344881147847,
          0.15452346003807943,
          0.15511027761309823,
          0.15740898619322724,
          0.15740898619322724,
          0.15744276393461232,
          0.15861070416151102,
          0.1641555381834136,
          0.1645690750242452,
          0.1678000242256703,
          0.17177961252473595,
          0.17260150202060587,
          0.18027638931707826,
          0.18195858977986298,
          0.18930954075725115,
          0.1903119390183687,
          0.19808500206965812,
          0.2185799287698858,
          0.2315422433627989,
          0.40299277526435856
         ],
         "xaxis": "x7",
         "y": [
          "multimodal  ",
          "incidental  ",
          "contrastive decoding  ",
          "stereotype  ",
          "backward reasoning  ",
          "radiation  ",
          "capabilities  ",
          "prompting  ",
          "palm 540b  ",
          "reasoning  ",
          "math word  ",
          "models palm  ",
          "bench  ",
          "model palm  ",
          "rater  ",
          "gpt code  ",
          "actions  ",
          "palm gpt  ",
          "540b  ",
          "generalist  ",
          "gsm8k  ",
          "big bench  ",
          "interpreter  ",
          "assurance  ",
          "attribution  ",
          "math  ",
          "med  ",
          "med palm  ",
          "gpt palm  ",
          "palm  "
         ],
         "yaxis": "y7"
        },
        {
         "marker": {
          "color": "#D55E00"
         },
         "orientation": "h",
         "type": "bar",
         "x": [
          0.16653508680067863,
          0.16719618779590087,
          0.1676032631606931,
          0.1693993492526414,
          0.16951605306873085,
          0.17100602381505747,
          0.17221802865211788,
          0.1733904571087447,
          0.17448955963557136,
          0.17507238196164057,
          0.17543397803573393,
          0.1770209826295954,
          0.17840104466292087,
          0.178721726381172,
          0.1795917796796774,
          0.18021282376998346,
          0.18021282376998346,
          0.180992057700851,
          0.18111047863403693,
          0.1814046573038456,
          0.18240616362526887,
          0.18295308150172285,
          0.19409409392772217,
          0.1944216604818963,
          0.19667813440336518,
          0.21594620536557393,
          0.2228004991792336,
          0.22476393671162312,
          0.24568569967266934,
          0.3762984394214045
         ],
         "xaxis": "x8",
         "y": [
          "scaling  ",
          "softmax  ",
          "context  ",
          "matrix  ",
          "linear  ",
          "activations  ",
          "attention matrix  ",
          "outliers  ",
          "icl  ",
          "quantized  ",
          "opt models  ",
          "larger  ",
          "tokens  ",
          "attention  ",
          "fol  ",
          "gemm  ",
          "kv  ",
          "memory  ",
          "context learning  ",
          "gpu  ",
          "175b  ",
          "gpt opt  ",
          "inference  ",
          "watermark  ",
          "compression  ",
          "opt 175b  ",
          "perplexity  ",
          "125m  ",
          "quantization  ",
          "opt  "
         ],
         "yaxis": "y8"
        },
        {
         "marker": {
          "color": "#0072B2"
         },
         "orientation": "h",
         "type": "bar",
         "x": [
          0.1635898666288693,
          0.16409058190851117,
          0.16409058190851117,
          0.16447825600341914,
          0.16447825600341914,
          0.1667720133122517,
          0.16930789444077748,
          0.17382030844564103,
          0.1748859968678239,
          0.1790565148598895,
          0.18017690206436437,
          0.1839848468572546,
          0.188676013148594,
          0.18985703287700284,
          0.1920946232628273,
          0.19480286119978618,
          0.1960549961473001,
          0.19761650630743863,
          0.2003278022840495,
          0.20296570557006305,
          0.20368240122732,
          0.2192522843182902,
          0.21985834703092988,
          0.22067073674655488,
          0.22504187015187743,
          0.22964625768859212,
          0.2506770842875843,
          0.255399751054154,
          0.3008905215099629,
          0.45127178297025083
         ],
         "xaxis": "x9",
         "y": [
          "bit  ",
          "weight space  ",
          "summaries factually  ",
          "open access  ",
          "int8  ",
          "formality  ",
          "polyglot  ",
          "scientific research  ",
          "korean  ",
          "lyrics  ",
          "emissions  ",
          "open  ",
          "english  ",
          "english centric  ",
          "factually inconsistent  ",
          "open world  ",
          "languages  ",
          "music  ",
          "factually consistent  ",
          "governance  ",
          "goat  ",
          "factually  ",
          "inpars  ",
          "los  ",
          "multilingual language  ",
          "bigscience  ",
          "bloom 176b  ",
          "176b  ",
          "multilingual  ",
          "bloom  "
         ],
         "yaxis": "y9"
        },
        {
         "marker": {
          "color": "#CC79A7"
         },
         "orientation": "h",
         "type": "bar",
         "x": [
          0.1596270186446766,
          0.15968894251141166,
          0.15968894251141166,
          0.16245753714669386,
          0.16423226836699054,
          0.16616704070741437,
          0.16629416991741744,
          0.16683289423819236,
          0.17045730200268974,
          0.17398700969450576,
          0.17493047199529171,
          0.1764775792039401,
          0.1770382851241101,
          0.18021257377786717,
          0.18021257377786717,
          0.18021257377786717,
          0.18021257377786717,
          0.18021257377786717,
          0.18351361823247436,
          0.1866715730334227,
          0.18697012625296522,
          0.18977764941269176,
          0.19065130901623437,
          0.1933215020478052,
          0.19674469377834408,
          0.19987947257156108,
          0.20199231019189992,
          0.2153803403280341,
          0.2535809202668641,
          0.4393688473213582
         ],
         "xaxis": "x10",
         "y": [
          "fact checking  ",
          "self instruct  ",
          "clinical trials  ",
          "checking  ",
          "emergent  ",
          "series  ",
          "rlhf  ",
          "acceptability  ",
          "instructions  ",
          "clinical  ",
          "deepspeed  ",
          "models instructgpt  ",
          "instruction  ",
          "self knowledge  ",
          "gpt instructgpt  ",
          "instructgpt chatgpt  ",
          "lexical matching  ",
          "video game  ",
          "truth  ",
          "intervention  ",
          "analogies  ",
          "personalities  ",
          "lms  ",
          "rrhf  ",
          "gpt series  ",
          "series models  ",
          "negated  ",
          "emergent abilities  ",
          "negation  ",
          "instructgpt  "
         ],
         "yaxis": "y10"
        },
        {
         "marker": {
          "color": "#E69F00"
         },
         "orientation": "h",
         "type": "bar",
         "x": [
          0.1607149410842563,
          0.16141560084325804,
          0.16329691253571377,
          0.16371608515589034,
          0.16562720180483587,
          0.1664755048544834,
          0.1671809938002638,
          0.16748828784623604,
          0.16793467543353569,
          0.17127951583004516,
          0.17127951583004516,
          0.17127951583004516,
          0.1714285819671374,
          0.171684174223619,
          0.1730368114855497,
          0.17609528775066755,
          0.1777001847449451,
          0.18105344206422766,
          0.18271181979957196,
          0.18691403334168036,
          0.18691403334168036,
          0.19817481472661724,
          0.1989388263336846,
          0.2070406282610996,
          0.20714023705185142,
          0.22019372300861195,
          0.23033849053495753,
          0.28357315271646644,
          0.3951730487909757,
          0.40340903343310414
         ],
         "xaxis": "x11",
         "y": [
          "supervised pre  ",
          "track  ",
          "fine tuning  ",
          "table based  ",
          "factual consistency  ",
          "tuning  ",
          "tutorials  ",
          "xxl  ",
          "collection  ",
          "derivations  ",
          "discharge summaries  ",
          "dynamic evaluation  ",
          "peft  ",
          "t5 xxl  ",
          "socratic  ",
          "11b  ",
          "tuned models  ",
          "instruction  ",
          "cot  ",
          "mvp  ",
          "peft techniques  ",
          "sdoh  ",
          "fine  ",
          "fine tuned  ",
          "tuned  ",
          "spam  ",
          "discharge  ",
          "t5  ",
          "flan  ",
          "flan t5  "
         ],
         "yaxis": "y11"
        },
        {
         "marker": {
          "color": "#56B4E9"
         },
         "orientation": "h",
         "type": "bar",
         "x": [
          0.15361939721910664,
          0.15389048268072392,
          0.15404045582180032,
          0.1552577831403841,
          0.1562976435299757,
          0.1570701629927085,
          0.1585436791743452,
          0.1585436791743452,
          0.15925947211583602,
          0.1597233343550709,
          0.16243045330463285,
          0.16243045330463285,
          0.16431495601599388,
          0.16491655645260436,
          0.17040145142023563,
          0.17358347856890982,
          0.17381609811196438,
          0.1783540257883694,
          0.1808412898204204,
          0.1808412898204204,
          0.1810592755150622,
          0.18240574151806171,
          0.1862351332903073,
          0.18737431734867768,
          0.19684015987436299,
          0.20162171635161746,
          0.2046474888864685,
          0.2221883331596838,
          0.24333205018273785,
          0.4046877468895873
         ],
         "xaxis": "x12",
         "y": [
          "templates  ",
          "simulator  ",
          "llm  ",
          "reasoning planning  ",
          "vl  ",
          "judgement  ",
          "detection tool  ",
          "safely  ",
          "human preferences  ",
          "llama  ",
          "radiographs  ",
          "complex structured  ",
          "emotional  ",
          "ner  ",
          "arena  ",
          "llama vicuna  ",
          "harmful  ",
          "wizardlm  ",
          "orca  ",
          "qlora  ",
          "reward  ",
          "red  ",
          "arabic  ",
          "bench  ",
          "instruction  ",
          "models vicuna  ",
          "13b  ",
          "pathology  ",
          "vicuna 13b  ",
          "vicuna  "
         ],
         "yaxis": "y12"
        },
        {
         "marker": {
          "color": "#009E73"
         },
         "orientation": "h",
         "type": "bar",
         "x": [
          0.1668938961666924,
          0.1670518129008321,
          0.16759171921554789,
          0.16812427781234804,
          0.169074033369859,
          0.16929758190260735,
          0.16936325725624937,
          0.16985640873164562,
          0.1715956505507317,
          0.17212105121440333,
          0.17514307061971274,
          0.17514307061971274,
          0.1752954992440536,
          0.1754979447166025,
          0.18286131960093838,
          0.18593514456755322,
          0.18716898726122583,
          0.1895594454686364,
          0.19024689714237336,
          0.19113025619397928,
          0.20503335277674095,
          0.2073168935290125,
          0.2103100719535722,
          0.2116589200924671,
          0.21567866570028182,
          0.2322269008042995,
          0.23709346316791408,
          0.26094144158369903,
          0.27638062703598326,
          0.40971873702034856
         ],
         "xaxis": "x13",
         "y": [
          "finetuning  ",
          "source models  ",
          "quality instruction  ",
          "closed source  ",
          "lora  ",
          "llama 7b  ",
          "llama adapter  ",
          "practices  ",
          "instruction following  ",
          "mental  ",
          "adapter based  ",
          "52k  ",
          "peft  ",
          "title  ",
          "efficient  ",
          "costs  ",
          "alpaca 7b  ",
          "imitation  ",
          "instruction data  ",
          "das  ",
          "coronavirus  ",
          "adapter  ",
          "tuning  ",
          "adapters  ",
          "tuning data  ",
          "llama  ",
          "7b  ",
          "instruction tuning  ",
          "instruction  ",
          "alpaca  "
         ],
         "yaxis": "y13"
        },
        {
         "marker": {
          "color": "#F0E442"
         },
         "orientation": "h",
         "type": "bar",
         "x": [
          0.18696080134395465,
          0.18770109712413863,
          0.19035462310346635,
          0.19066321873832423,
          0.19066321873832423,
          0.19684939994062794,
          0.19720067477231756,
          0.1975409604777426,
          0.20047874492596213,
          0.20472170331117923,
          0.2097405537912624,
          0.2097405537912624,
          0.21023607875321218,
          0.21640932177960284,
          0.22134415542824923,
          0.22414205084914618,
          0.22414205084914618,
          0.22414205084914618,
          0.22414205084914618,
          0.22523062747239286,
          0.22884404678438688,
          0.23706453438616504,
          0.23706453438616504,
          0.24467232894662705,
          0.25605896269092154,
          0.25654800381100484,
          0.26254461880326174,
          0.3003220730979343,
          0.3460189259337311,
          0.43189839401272057
         ],
         "xaxis": "x14",
         "y": [
          "jailbreaking attacks  ",
          "playing  ",
          "corrections  ",
          "dangerous  ",
          "competitions  ",
          "negotiation  ",
          "financial  ",
          "commercial  ",
          "task aware  ",
          "ai developers  ",
          "frontier ai  ",
          "incident response  ",
          "bangla  ",
          "tool learning  ",
          "energy  ",
          "triad  ",
          "avoidance  ",
          "book length  ",
          "tikz  ",
          "ai chatbots  ",
          "phishing  ",
          "making tasks  ",
          "ai feedback  ",
          "latin  ",
          "graphics  ",
          "layout  ",
          "phishing emails  ",
          "emails  ",
          "gpt claude  ",
          "claude  "
         ],
         "yaxis": "y14"
        },
        {
         "marker": {
          "color": "#D55E00"
         },
         "orientation": "h",
         "type": "bar",
         "x": [
          0.20806792050460646,
          0.20963242187929498,
          0.20963242187929498,
          0.2113715599670853,
          0.21452196386950925,
          0.21716060759326133,
          0.21778156069978052,
          0.21781371365537383,
          0.2211333257843711,
          0.2212033914650907,
          0.22836071721781792,
          0.22889398714284043,
          0.23277045694304033,
          0.23626571290646384,
          0.23916747495482107,
          0.24067767011987493,
          0.24080212079626176,
          0.24560109188903367,
          0.2514685138578781,
          0.25519613687854453,
          0.25519613687854453,
          0.26012279786632225,
          0.2655645196329527,
          0.26832293121625483,
          0.26832293121625483,
          0.2822659308887002,
          0.30835338296727094,
          0.34890336005540457,
          0.40749152298107016,
          0.4590171139850325
         ],
         "xaxis": "x15",
         "y": [
          "repository  ",
          "program synthesis  ",
          "apr  ",
          "mbpp  ",
          "names  ",
          "robustness  ",
          "pragmatic  ",
          "generated code  ",
          "python  ",
          "functional  ",
          "test  ",
          "neural code  ",
          "radar  ",
          "vulnerability repair  ",
          "bugs  ",
          "incoder  ",
          "humaneval  ",
          "codex  ",
          "java  ",
          "level code  ",
          "pie  ",
          "program  ",
          "generation  ",
          "class level  ",
          "multipl  ",
          "generation models  ",
          "verilog  ",
          "code  ",
          "code generation  ",
          "codegen  "
         ],
         "yaxis": "y15"
        },
        {
         "marker": {
          "color": "#0072B2"
         },
         "orientation": "h",
         "type": "bar",
         "x": [
          0.2319111166139135,
          0.2319111166139135,
          0.2319111166139135,
          0.23843163389852365,
          0.23843163389852365,
          0.23911922846612782,
          0.2392848047379294,
          0.24023715998890863,
          0.2421530347361261,
          0.24309262683581778,
          0.24574768198539562,
          0.24809650121640128,
          0.24842265922780982,
          0.25140442041511346,
          0.2530801302946906,
          0.2559029935706531,
          0.2714895520405284,
          0.2753171360292699,
          0.27642119204926996,
          0.27792387974845767,
          0.28284143918906934,
          0.28786669261473835,
          0.2962751440174303,
          0.30191214633295965,
          0.31056946311689787,
          0.31464538019616717,
          0.34863696297558094,
          0.37874733936448784,
          0.3920417838575868,
          0.4910733311310975
         ],
         "xaxis": "x16",
         "y": [
          "slam  ",
          "multilingual sequence  ",
          "xnli  ",
          "polish  ",
          "transformations  ",
          "resource  ",
          "multilingual pre  ",
          "character  ",
          "pre training  ",
          "denoising  ",
          "parallel  ",
          "syntactic  ",
          "seq2seq models  ",
          "xlm  ",
          "mt5 model  ",
          "languages  ",
          "mbart  ",
          "multilingual models  ",
          "sequence sequence  ",
          "parallel data  ",
          "sequence  ",
          "hebrew  ",
          "monolingual  ",
          "transfer  ",
          "cross  ",
          "lingual transfer  ",
          "multilingual  ",
          "cross lingual  ",
          "lingual  ",
          "mt5  "
         ],
         "yaxis": "y16"
        },
        {
         "marker": {
          "color": "#CC79A7"
         },
         "orientation": "h",
         "type": "bar",
         "x": [
          0.21511192240282376,
          0.2167720783154292,
          0.21757852645510053,
          0.21926595034647905,
          0.2224090809262318,
          0.22282978149333638,
          0.22476006908544702,
          0.22504976150231554,
          0.22504976150231554,
          0.22771664393844723,
          0.22849429366447002,
          0.2316413438585996,
          0.2323829526942371,
          0.2323829526942371,
          0.2362285778380873,
          0.24079770122694144,
          0.24079770122694144,
          0.24383652034059797,
          0.24514574666757336,
          0.24838985261033641,
          0.24838985261033641,
          0.25052507455861855,
          0.26812757412358107,
          0.2688639813724107,
          0.27513301803091045,
          0.2937190412732476,
          0.2942195587266242,
          0.30850314911985205,
          0.31725282411281236,
          0.491599082299079
         ],
         "xaxis": "x17",
         "y": [
          "model bias  ",
          "multi task  ",
          "shot learning  ",
          "unseen  ",
          "structured knowledge  ",
          "prompt  ",
          "fact verification  ",
          "restructured  ",
          "context learners  ",
          "continual  ",
          "faithfulness  ",
          "faithfulness metrics  ",
          "shot zero  ",
          "unseen tasks  ",
          "strong zero  ",
          "semi  ",
          "unlabeled  ",
          "shot task  ",
          "zero  ",
          "prompt model  ",
          "calm  ",
          "zero shot  ",
          "parametric language  ",
          "shot  ",
          "parametric  ",
          "semi parametric  ",
          "task generalization  ",
          "flipped  ",
          "unifiedskg  ",
          "t0  "
         ],
         "yaxis": "y17"
        },
        {
         "marker": {
          "color": "#E69F00"
         },
         "orientation": "h",
         "type": "bar",
         "x": [
          0.23071150495240533,
          0.23071150495240533,
          0.23071150495240533,
          0.23071150495240533,
          0.23071150495240533,
          0.23071150495240533,
          0.23071150495240533,
          0.23160746623781042,
          0.23160746623781042,
          0.24159852430897102,
          0.24438080591966221,
          0.25311301092096966,
          0.2584699277975757,
          0.26061358092112014,
          0.2648064417100363,
          0.2648064417100363,
          0.2648064417100363,
          0.277607825927317,
          0.2779600774066255,
          0.2869120183879256,
          0.292269729981237,
          0.2984553647827069,
          0.3048390904094467,
          0.3057721408088728,
          0.32051483347470106,
          0.3336832419518147,
          0.34516733138716976,
          0.34560665011525343,
          0.34619558762381886,
          0.3579558528575246
         ],
         "xaxis": "x18",
         "y": [
          "focus llm  ",
          "encryption  ",
          "llm attacks  ",
          "free guidance  ",
          "com eleutherai  ",
          "adversarial learning  ",
          "affirmative  ",
          "scaling laws  ",
          "bits  ",
          "adversarial  ",
          "attacker  ",
          "aligned language  ",
          "warmup  ",
          "scaling  ",
          "paraphraser  ",
          "suffix  ",
          "inverse scaling  ",
          "attacks  ",
          "passwords  ",
          "cfg  ",
          "bit precision  ",
          "averaging  ",
          "bit  ",
          "objectionable content  ",
          "ai text  ",
          "streaming  ",
          "memorization  ",
          "poisoning  ",
          "radar  ",
          "objectionable  "
         ],
         "yaxis": "y18"
        },
        {
         "marker": {
          "color": "#56B4E9"
         },
         "orientation": "h",
         "type": "bar",
         "x": [
          0.21930108034069146,
          0.22146411611570554,
          0.22231126685061423,
          0.22431973597530833,
          0.22947225581567865,
          0.230906522857958,
          0.23391355689814858,
          0.24252901393520707,
          0.24281055209056543,
          0.25020596218900276,
          0.25020596218900276,
          0.25193221685430695,
          0.25317095038327114,
          0.2540981277231161,
          0.2567985519734424,
          0.2575343556731485,
          0.2575343556731485,
          0.2791527226404752,
          0.28507885746805883,
          0.2889129592453401,
          0.3018620360649992,
          0.30208983252681926,
          0.3031846041155843,
          0.30875070191048604,
          0.3152851421579874,
          0.32166007748419956,
          0.32166007748419956,
          0.3382194481638532,
          0.35011706198326564,
          0.4730691744383998
         ],
         "xaxis": "x19",
         "y": [
          "tuned  ",
          "translation performance  ",
          "forgetting  ",
          "bangla  ",
          "kb  ",
          "asymmetric  ",
          "instruction data  ",
          "idioms  ",
          "adaptation  ",
          "new language  ",
          "impressions  ",
          "mixed  ",
          "vietnamese  ",
          "bloom  ",
          "translation  ",
          "gptj  ",
          "task tasks  ",
          "commerce  ",
          "tuned llms  ",
          "mixed data  ",
          "languages  ",
          "instruction tuned  ",
          "video  ",
          "video language  ",
          "language adaptation  ",
          "code mixed  ",
          "new languages  ",
          "parrot  ",
          "instruction  ",
          "bloomz  "
         ],
         "yaxis": "y19"
        },
        {
         "marker": {
          "color": "#009E73"
         },
         "orientation": "h",
         "type": "bar",
         "x": [
          0.2447617906084708,
          0.2447617906084708,
          0.2447617906084708,
          0.24906134015561723,
          0.2519307273347188,
          0.2519307273347188,
          0.25618114150404453,
          0.2611740103823775,
          0.2611740103823775,
          0.2611740103823775,
          0.2611740103823775,
          0.2611740103823775,
          0.2611740103823775,
          0.2611740103823775,
          0.2611740103823775,
          0.2621882719039469,
          0.2687565652009762,
          0.2725045520212745,
          0.2754279486961481,
          0.2812807931620533,
          0.28653334889313653,
          0.29196993770055396,
          0.2997707477603466,
          0.2997707477603466,
          0.3085508662491496,
          0.3141518619459217,
          0.3428131185300345,
          0.5020523177132564,
          0.5080783385263596,
          0.675145155239966
         ],
         "xaxis": "x20",
         "y": [
          "factually correct  ",
          "com thudm  ",
          "thudm  ",
          "lora  ",
          "rtx  ",
          "ptq methods  ",
          "dialog  ",
          "float  ",
          "generate factually  ",
          "trained weights  ",
          "dollars  ",
          "gradients pre  ",
          "multi digit  ",
          "unconditional  ",
          "times rtx  ",
          "bit quantization  ",
          "100k  ",
          "arithmetic operations  ",
          "weights  ",
          "blank  ",
          "100b  ",
          "quantization  ",
          "knowledge assessment  ",
          "knowledge grounded  ",
          "tweaking  ",
          "bilingual  ",
          "pruning  ",
          "130b  ",
          "glm 130b  ",
          "glm  "
         ],
         "yaxis": "y20"
        },
        {
         "marker": {
          "color": "#F0E442"
         },
         "orientation": "h",
         "type": "bar",
         "x": [
          0.23245742667142671,
          0.23996919150184962,
          0.24291940859385827,
          0.2431966013203174,
          0.2431966013203174,
          0.2461669161393634,
          0.2500344263699357,
          0.2503196945227724,
          0.2503196945227724,
          0.2503196945227724,
          0.25083323443693334,
          0.2514422096938559,
          0.25436976766173514,
          0.2595038691304348,
          0.2595038691304348,
          0.2595038691304348,
          0.2618379427087512,
          0.28256811102033325,
          0.28470104113271627,
          0.295884323869537,
          0.2978537902069237,
          0.3034569973746886,
          0.30657776207507476,
          0.30657776207507476,
          0.3227930564364286,
          0.3357020359250198,
          0.3359037529733936,
          0.3363190871490589,
          0.34393193191023547,
          0.34393193191023547
         ],
         "xaxis": "x21",
         "y": [
          "graph completion  ",
          "dialogs  ",
          "interfaces  ",
          "companion  ",
          "benchmark results  ",
          "term  ",
          "report generation  ",
          "task solving  ",
          "types models  ",
          "customizing  ",
          "medical  ",
          "multimodal  ",
          "memory  ",
          "foreign languages  ",
          "aligned llm  ",
          "lingual summarization  ",
          "llm  ",
          "recommendation  ",
          "multimodal capabilities  ",
          "long term  ",
          "medical report  ",
          "chinese  ",
          "multi modalities  ",
          "memory mechanism  ",
          "6b  ",
          "single modal  ",
          "character  ",
          "cc  ",
          "pruner  ",
          "llm pruner  "
         ],
         "yaxis": "y21"
        },
        {
         "marker": {
          "color": "#D55E00"
         },
         "orientation": "h",
         "type": "bar",
         "x": [
          0.24977939152733283,
          0.24977939152733283,
          0.24977939152733283,
          0.24977939152733283,
          0.24977939152733283,
          0.24977939152733283,
          0.2558026061933828,
          0.2570952909940292,
          0.25849571629128526,
          0.25931364401738927,
          0.2614328383796488,
          0.2631146942095113,
          0.26652806074791746,
          0.26652806074791746,
          0.26652806074791746,
          0.26652806074791746,
          0.2732005322634441,
          0.2750264359685547,
          0.2956694113099792,
          0.3132506410747781,
          0.3136821239923068,
          0.3148761391038655,
          0.3148761391038655,
          0.32857112892642093,
          0.33801128319862356,
          0.34158425117804114,
          0.3540759576461249,
          0.3705761239054332,
          0.39271876324395666,
          0.4041679365239261
         ],
         "xaxis": "x22",
         "y": [
          "set human  ",
          "similar models  ",
          "consult  ",
          "predatory  ",
          "sources information  ",
          "physics questions  ",
          "commonsense reasoning  ",
          "models dialog  ",
          "particular  ",
          "brain  ",
          "dialog  ",
          "real time  ",
          "majority vote  ",
          "reasoning conversational  ",
          "answer chatgpt  ",
          "intelligence llms  ",
          "chatgpt gpt  ",
          "fact  ",
          "children  ",
          "conversational  ",
          "oncology  ",
          "workshops  ",
          "sentient  ",
          "radiation  ",
          "radiation oncology  ",
          "crs  ",
          "conscious  ",
          "developmental  ",
          "conversational ai  ",
          "consciousness  "
         ],
         "yaxis": "y22"
        },
        {
         "marker": {
          "color": "#0072B2"
         },
         "orientation": "h",
         "type": "bar",
         "x": [
          0.2602859905599586,
          0.2666670261197064,
          0.27405479849804265,
          0.27416475619162833,
          0.2744775550118035,
          0.27699813991893335,
          0.2845480762143745,
          0.29689265759555683,
          0.3014071110259702,
          0.3064543384433023,
          0.30837985911780785,
          0.3121769776381452,
          0.3228015363994257,
          0.3245836724485993,
          0.32659907260935733,
          0.3283851777649895,
          0.33328764007111866,
          0.33616497781280913,
          0.33616497781280913,
          0.338106987557214,
          0.3538629895891384,
          0.37712412497618913,
          0.3795258245585891,
          0.38099334765115395,
          0.3879265952992536,
          0.38911490714402414,
          0.3971129709418854,
          0.45504991884995677,
          0.4681167343213493,
          0.4947657002535983
         ],
         "xaxis": "x23",
         "y": [
          "neural model  ",
          "questions code  ",
          "control  ",
          "idioms  ",
          "convolution  ",
          "attention  ",
          "techniques software  ",
          "nlp techniques  ",
          "problems require  ",
          "smells  ",
          "software  ",
          "naturalness  ",
          "completion  ",
          "codes  ",
          "generated codes  ",
          "ai assisted  ",
          "code  ",
          "code smells  ",
          "attention weights  ",
          "deepmind  ",
          "competitive programming  ",
          "completion tools  ",
          "supported  ",
          "code completion  ",
          "copilot  ",
          "llm assisted  ",
          "assisted  ",
          "programming  ",
          "ai supported  ",
          "assisted programming  "
         ],
         "yaxis": "y23"
        },
        {
         "marker": {
          "color": "#CC79A7"
         },
         "orientation": "h",
         "type": "bar",
         "x": [
          0.28110503226689454,
          0.2830201411958829,
          0.2834431919198483,
          0.2914187141541856,
          0.2914187141541856,
          0.29547990930358675,
          0.29606184696069504,
          0.29719435102334035,
          0.3049936671360193,
          0.3086848236708581,
          0.32327553169842427,
          0.3243886939034614,
          0.33410382277323963,
          0.3344850650547478,
          0.3344850650547478,
          0.34186277407907023,
          0.3442819465912463,
          0.3478992265761352,
          0.3491812628199654,
          0.3663447254814862,
          0.3691747791896805,
          0.3691747791896805,
          0.37685835430297754,
          0.38110450826870007,
          0.40187135809322244,
          0.4049013816600838,
          0.41274995092330014,
          0.4623024988661713,
          0.5194062715411063,
          0.5405325066567167
         ],
         "xaxis": "x24",
         "y": [
          "deliberative  ",
          "code  ",
          "infrastructure  ",
          "assessment techniques  ",
          "mismatched  ",
          "industries  ",
          "code llms  ",
          "modes  ",
          "humaneval  ",
          "risk assessment  ",
          "opinions  ",
          "practices  ",
          "claude  ",
          "agreed  ",
          "including openai  ",
          "failure modes  ",
          "catastrophic risks  ",
          "best practices  ",
          "risks  ",
          "safety  ",
          "labs  ",
          "safety training  ",
          "companies  ",
          "compiler  ",
          "coverage  ",
          "risk  ",
          "anthropic claude  ",
          "agi  ",
          "code coverage  ",
          "anthropic  "
         ],
         "yaxis": "y24"
        },
        {
         "marker": {
          "color": "#E69F00"
         },
         "orientation": "h",
         "type": "bar",
         "x": [
          0.28592644637454817,
          0.28592644637454817,
          0.2883047093150375,
          0.291625350196851,
          0.2964170248863935,
          0.2964170248863935,
          0.2964170248863935,
          0.2964170248863935,
          0.300277797976382,
          0.30113979506487204,
          0.31069186735170884,
          0.3165076148357052,
          0.3192370318344914,
          0.3192370318344914,
          0.3361200344848975,
          0.34531689687411893,
          0.3465102038825615,
          0.35018694879245005,
          0.3571217620857731,
          0.35935215857103436,
          0.3625520397389161,
          0.3686231725298815,
          0.3686231725298815,
          0.3747054754327687,
          0.3798901594005338,
          0.3928545665306429,
          0.3992742681341479,
          0.45989994719417154,
          0.47222526794817377,
          0.5139885028344899
         ],
         "xaxis": "x25",
         "y": [
          "unseen languages  ",
          "ontology concepts  ",
          "parallel data  ",
          "meta  ",
          "clinical cases  ",
          "opposite  ",
          "totally  ",
          "sized plms  ",
          "clinical  ",
          "translation task  ",
          "directions  ",
          "language pairs  ",
          "translation large  ",
          "wmt22  ",
          "machine  ",
          "gender  ",
          "nmt  ",
          "specific translations  ",
          "translation models  ",
          "ambiguous  ",
          "clinical domain  ",
          "comet  ",
          "translation directions  ",
          "sized  ",
          "en  ",
          "multilingual machine  ",
          "meta ai  ",
          "smaller sized  ",
          "machine translation  ",
          "translation  "
         ],
         "yaxis": "y25"
        },
        {
         "marker": {
          "color": "#56B4E9"
         },
         "orientation": "h",
         "type": "bar",
         "x": [
          0.30026579331560355,
          0.30445319701713447,
          0.31049114328257477,
          0.3142583714748984,
          0.32012674091305043,
          0.3214944655989214,
          0.3236017593875159,
          0.3269019451382708,
          0.32762248422700957,
          0.33491610268855015,
          0.3407993264305682,
          0.34472560907762745,
          0.3449041303947593,
          0.3515964603616835,
          0.35737351595342337,
          0.35737351595342337,
          0.35737351595342337,
          0.35737351595342337,
          0.36774899041761233,
          0.36888861421653846,
          0.37287749162550843,
          0.37854734579039606,
          0.37854734579039606,
          0.3829758697240789,
          0.3833339521517532,
          0.39069555870481826,
          0.422200921755166,
          0.4305618403294795,
          0.4687181234140314,
          0.6409521683494755
         ],
         "xaxis": "x26",
         "y": [
          "pareto  ",
          "accelerating  ",
          "choice  ",
          "letter  ",
          "foundation language  ",
          "emph  ",
          "70b  ",
          "models scaled  ",
          "compression  ",
          "target model  ",
          "sampling  ",
          "efficient pre  ",
          "scientific  ",
          "multiple choice  ",
          "subspaces  ",
          "parameters train  ",
          "query key  ",
          "improve large  ",
          "scientific knowledge  ",
          "heads  ",
          "choice question  ",
          "speculative  ",
          "compute optimal  ",
          "scaling  ",
          "compute  ",
          "hyperparameter  ",
          "compressors  ",
          "circuit  ",
          "galactica  ",
          "chinchilla  "
         ],
         "yaxis": "y26"
        },
        {
         "marker": {
          "color": "#009E73"
         },
         "orientation": "h",
         "type": "bar",
         "x": [
          0.3056456441897298,
          0.30818973943294237,
          0.3117951685882956,
          0.31335054568370246,
          0.31335054568370246,
          0.31335054568370246,
          0.3192019626470383,
          0.3274270695138798,
          0.32792950939807186,
          0.34372976989810894,
          0.34372976989810894,
          0.3465888260772661,
          0.3537500334985082,
          0.3537500334985082,
          0.35383678241968153,
          0.356341139653151,
          0.356341139653151,
          0.356341139653151,
          0.3595102539907422,
          0.3837744737738705,
          0.39094096669008976,
          0.39094096669008976,
          0.39921489245391667,
          0.4089806645441818,
          0.42232906086189986,
          0.4234132624395689,
          0.43199933529830203,
          0.5047026177803154,
          0.5153842100106681,
          0.5510047754803017
         ],
         "xaxis": "x27",
         "y": [
          "capacity  ",
          "matters  ",
          "scaling  ",
          "model quality  ",
          "tpu  ",
          "scale multilingual  ",
          "gated  ",
          "ml  ",
          "transformer  ",
          "500m  ",
          "sharding  ",
          "activated  ",
          "carbon footprint  ",
          "switch  ",
          "mixture  ",
          "cost method  ",
          "expressiveness  ",
          "number experts  ",
          "computation  ",
          "switch transformer  ",
          "routing  ",
          "sparsely activated  ",
          "mlp  ",
          "experts  ",
          "carbon  ",
          "sparsely  ",
          "mixture experts  ",
          "mlps  ",
          "co2e  ",
          "energy  "
         ],
         "yaxis": "y27"
        },
        {
         "marker": {
          "color": "#F0E442"
         },
         "orientation": "h",
         "type": "bar",
         "x": [
          0.31874841174114693,
          0.32101170733173473,
          0.32511112912721724,
          0.32964501735498913,
          0.33465749254204535,
          0.3448755242867753,
          0.3529117715034873,
          0.3539512753824695,
          0.3539512753824695,
          0.3554401224199418,
          0.3605235569467297,
          0.36262856020204315,
          0.36336331654925574,
          0.3732497490598145,
          0.3732497490598145,
          0.3763543448640553,
          0.3839341934568723,
          0.38422476553435386,
          0.38422476553435386,
          0.38694420036604066,
          0.38694420036604066,
          0.38694420036604066,
          0.38694420036604066,
          0.3931093271192168,
          0.398178188030888,
          0.4042177009018997,
          0.40987004766363905,
          0.4134007109874356,
          0.419575817246696,
          0.5128342279415579
         ],
         "xaxis": "x28",
         "y": [
          "computation  ",
          "diffusion  ",
          "sparsely  ",
          "scaling language  ",
          "model lm  ",
          "weights  ",
          "forward  ",
          "baseline model  ",
          "progress natural  ",
          "simulation  ",
          "feed  ",
          "forward layers  ",
          "mixture experts  ",
          "proportions  ",
          "generalist language  ",
          "activated  ",
          "fusion  ",
          "layers  ",
          "mixture  ",
          "online learning  ",
          "online reinforcement  ",
          "convolutions  ",
          "knowledge downstream  ",
          "geometry  ",
          "feed forward  ",
          "dense  ",
          "wer  ",
          "grounding  ",
          "shallow  ",
          "shallow fusion  "
         ],
         "yaxis": "y28"
        },
        {
         "marker": {
          "color": "#D55E00"
         },
         "orientation": "h",
         "type": "bar",
         "x": [
          0.2740119318062379,
          0.27626347893964387,
          0.27626347893964387,
          0.27719291202169477,
          0.27791897574504854,
          0.2786370228116362,
          0.2811465167510887,
          0.2885865244774046,
          0.30445319701713447,
          0.309082613557124,
          0.309082613557124,
          0.3142583714748984,
          0.32012674091305043,
          0.32012674091305043,
          0.3225973631629631,
          0.33047150308349105,
          0.33389412075598707,
          0.33491610268855015,
          0.33491610268855015,
          0.3385153409078688,
          0.34338701983231285,
          0.34472560907762745,
          0.35737351595342337,
          0.37619601341879616,
          0.39000547821320597,
          0.4003714807560318,
          0.4101867791142606,
          0.42463995722364317,
          0.44746998141386995,
          0.45272757867753394
         ],
         "xaxis": "x29",
         "y": [
          "rewriting  ",
          "task learning  ",
          "model generated  ",
          "points  ",
          "previous  ",
          "69  ",
          "outperforms previous  ",
          "joint  ",
          "based sentiment  ",
          "human labor  ",
          "aspect based  ",
          "sample efficiency  ",
          "naturalinstructions  ",
          "super naturalinstructions  ",
          "aspect  ",
          "super  ",
          "instruction tuned  ",
          "clinical biomedical  ",
          "instruction learning  ",
          "instruction  ",
          "sota  ",
          "examples instructions  ",
          "000 examples  ",
          "subtasks  ",
          "instructions  ",
          "ate  ",
          "unnatural  ",
          "invariant  ",
          "instruct  ",
          "absa  "
         ],
         "yaxis": "y29"
        },
        {
         "marker": {
          "color": "#0072B2"
         },
         "orientation": "h",
         "type": "bar",
         "x": [
          0.3104184556009339,
          0.31134919938269645,
          0.31134919938269645,
          0.31134919938269645,
          0.3224743162910039,
          0.3224743162910039,
          0.3285322457278354,
          0.32929920490864456,
          0.32929920490864456,
          0.3373721324288627,
          0.3373721324288627,
          0.34376181051927235,
          0.3468578390778911,
          0.34725357456314887,
          0.3599942319373242,
          0.3621419284883571,
          0.3657299686874974,
          0.3657299686874974,
          0.3813233351558348,
          0.39415185904031097,
          0.3986448619919168,
          0.4131947889426936,
          0.4208316804777241,
          0.42529703451861334,
          0.4403142604010142,
          0.4523244768120917,
          0.45604755161572885,
          0.4771162452476295,
          0.49517548150129903,
          0.5048293104438633
         ],
         "xaxis": "x30",
         "y": [
          "correctly  ",
          "believe work  ",
          "variety language  ",
          "justify  ",
          "robust models  ",
          "tasks open  ",
          "reason  ",
          "semantic textual  ",
          "textual similarity  ",
          "mturk  ",
          "query document  ",
          "assumption  ",
          "don  ",
          "interesting findings  ",
          "document pairs  ",
          "contexts  ",
          "text annotation  ",
          "v2  ",
          "annotation tasks  ",
          "similarity  ",
          "flan  ",
          "models correctly  ",
          "break  ",
          "ball  ",
          "definitive  ",
          "assumptions  ",
          "gpt flan  ",
          "correctly reason  ",
          "inpars  ",
          "sts  "
         ],
         "yaxis": "y30"
        }
       ],
       "layout": {
        "annotations": [
         {
          "font": {
           "size": 16
          },
          "showarrow": false,
          "text": "ChatGPT",
          "x": 0.0875,
          "xanchor": "center",
          "xref": "paper",
          "y": 1,
          "yanchor": "bottom",
          "yref": "paper"
         },
         {
          "font": {
           "size": 16
          },
          "showarrow": false,
          "text": "GPT-3",
          "x": 0.36250000000000004,
          "xanchor": "center",
          "xref": "paper",
          "y": 1,
          "yanchor": "bottom",
          "yref": "paper"
         },
         {
          "font": {
           "size": 16
          },
          "showarrow": false,
          "text": "GPT-4",
          "x": 0.6375000000000001,
          "xanchor": "center",
          "xref": "paper",
          "y": 1,
          "yanchor": "bottom",
          "yref": "paper"
         },
         {
          "font": {
           "size": 16
          },
          "showarrow": false,
          "text": "T5",
          "x": 0.9125,
          "xanchor": "center",
          "xref": "paper",
          "y": 1,
          "yanchor": "bottom",
          "yref": "paper"
         },
         {
          "font": {
           "size": 16
          },
          "showarrow": false,
          "text": "LLaMA",
          "x": 0.0875,
          "xanchor": "center",
          "xref": "paper",
          "y": 0.8687499999999999,
          "yanchor": "bottom",
          "yref": "paper"
         },
         {
          "font": {
           "size": 16
          },
          "showarrow": false,
          "text": "Codex",
          "x": 0.36250000000000004,
          "xanchor": "center",
          "xref": "paper",
          "y": 0.8687499999999999,
          "yanchor": "bottom",
          "yref": "paper"
         },
         {
          "font": {
           "size": 16
          },
          "showarrow": false,
          "text": "OPT",
          "x": 0.6375000000000001,
          "xanchor": "center",
          "xref": "paper",
          "y": 0.8687499999999999,
          "yanchor": "bottom",
          "yref": "paper"
         },
         {
          "font": {
           "size": 16
          },
          "showarrow": false,
          "text": "PaLM",
          "x": 0.9125,
          "xanchor": "center",
          "xref": "paper",
          "y": 0.8687499999999999,
          "yanchor": "bottom",
          "yref": "paper"
         },
         {
          "font": {
           "size": 16
          },
          "showarrow": false,
          "text": "FLAN",
          "x": 0.0875,
          "xanchor": "center",
          "xref": "paper",
          "y": 0.7375,
          "yanchor": "bottom",
          "yref": "paper"
         },
         {
          "font": {
           "size": 16
          },
          "showarrow": false,
          "text": "BLOOM",
          "x": 0.36250000000000004,
          "xanchor": "center",
          "xref": "paper",
          "y": 0.7375,
          "yanchor": "bottom",
          "yref": "paper"
         },
         {
          "font": {
           "size": 16
          },
          "showarrow": false,
          "text": "Flan-T5",
          "x": 0.6375000000000001,
          "xanchor": "center",
          "xref": "paper",
          "y": 0.7375,
          "yanchor": "bottom",
          "yref": "paper"
         },
         {
          "font": {
           "size": 16
          },
          "showarrow": false,
          "text": "Alpaca",
          "x": 0.9125,
          "xanchor": "center",
          "xref": "paper",
          "y": 0.7375,
          "yanchor": "bottom",
          "yref": "paper"
         },
         {
          "font": {
           "size": 16
          },
          "showarrow": false,
          "text": "Vicuna",
          "x": 0.0875,
          "xanchor": "center",
          "xref": "paper",
          "y": 0.60625,
          "yanchor": "bottom",
          "yref": "paper"
         },
         {
          "font": {
           "size": 16
          },
          "showarrow": false,
          "text": "InstructGPT",
          "x": 0.36250000000000004,
          "xanchor": "center",
          "xref": "paper",
          "y": 0.60625,
          "yanchor": "bottom",
          "yref": "paper"
         },
         {
          "font": {
           "size": 16
          },
          "showarrow": false,
          "text": "Claude",
          "x": 0.6375000000000001,
          "xanchor": "center",
          "xref": "paper",
          "y": 0.60625,
          "yanchor": "bottom",
          "yref": "paper"
         },
         {
          "font": {
           "size": 16
          },
          "showarrow": false,
          "text": "CodeGen",
          "x": 0.9125,
          "xanchor": "center",
          "xref": "paper",
          "y": 0.60625,
          "yanchor": "bottom",
          "yref": "paper"
         },
         {
          "font": {
           "size": 16
          },
          "showarrow": false,
          "text": "mT5",
          "x": 0.0875,
          "xanchor": "center",
          "xref": "paper",
          "y": 0.475,
          "yanchor": "bottom",
          "yref": "paper"
         },
         {
          "font": {
           "size": 16
          },
          "showarrow": false,
          "text": "T0",
          "x": 0.36250000000000004,
          "xanchor": "center",
          "xref": "paper",
          "y": 0.475,
          "yanchor": "bottom",
          "yref": "paper"
         },
         {
          "font": {
           "size": 16
          },
          "showarrow": false,
          "text": "BLOOMZ",
          "x": 0.6375000000000001,
          "xanchor": "center",
          "xref": "paper",
          "y": 0.475,
          "yanchor": "bottom",
          "yref": "paper"
         },
         {
          "font": {
           "size": 16
          },
          "showarrow": false,
          "text": "Pythia",
          "x": 0.9125,
          "xanchor": "center",
          "xref": "paper",
          "y": 0.475,
          "yanchor": "bottom",
          "yref": "paper"
         },
         {
          "font": {
           "size": 16
          },
          "showarrow": false,
          "text": "GLM",
          "x": 0.0875,
          "xanchor": "center",
          "xref": "paper",
          "y": 0.34374999999999994,
          "yanchor": "bottom",
          "yref": "paper"
         },
         {
          "font": {
           "size": 16
          },
          "showarrow": false,
          "text": "Anthropic",
          "x": 0.36250000000000004,
          "xanchor": "center",
          "xref": "paper",
          "y": 0.34374999999999994,
          "yanchor": "bottom",
          "yref": "paper"
         },
         {
          "font": {
           "size": 16
          },
          "showarrow": false,
          "text": "ChatGLM",
          "x": 0.6375000000000001,
          "xanchor": "center",
          "xref": "paper",
          "y": 0.34374999999999994,
          "yanchor": "bottom",
          "yref": "paper"
         },
         {
          "font": {
           "size": 16
          },
          "showarrow": false,
          "text": "LaMDA",
          "x": 0.9125,
          "xanchor": "center",
          "xref": "paper",
          "y": 0.34374999999999994,
          "yanchor": "bottom",
          "yref": "paper"
         },
         {
          "font": {
           "size": 16
          },
          "showarrow": false,
          "text": "AlphaCode",
          "x": 0.0875,
          "xanchor": "center",
          "xref": "paper",
          "y": 0.21249999999999997,
          "yanchor": "bottom",
          "yref": "paper"
         },
         {
          "font": {
           "size": 16
          },
          "showarrow": false,
          "text": "Chinchilla",
          "x": 0.36250000000000004,
          "xanchor": "center",
          "xref": "paper",
          "y": 0.21249999999999997,
          "yanchor": "bottom",
          "yref": "paper"
         },
         {
          "font": {
           "size": 16
          },
          "showarrow": false,
          "text": "UL2",
          "x": 0.6375000000000001,
          "xanchor": "center",
          "xref": "paper",
          "y": 0.21249999999999997,
          "yanchor": "bottom",
          "yref": "paper"
         },
         {
          "font": {
           "size": 16
          },
          "showarrow": false,
          "text": "NLLB",
          "x": 0.9125,
          "xanchor": "center",
          "xref": "paper",
          "y": 0.21249999999999997,
          "yanchor": "bottom",
          "yref": "paper"
         },
         {
          "font": {
           "size": 16
          },
          "showarrow": false,
          "text": "Flan-PaLM",
          "x": 0.0875,
          "xanchor": "center",
          "xref": "paper",
          "y": 0.08124999999999999,
          "yanchor": "bottom",
          "yref": "paper"
         },
         {
          "font": {
           "size": 16
          },
          "showarrow": false,
          "text": "Tk-Instruct",
          "x": 0.36250000000000004,
          "xanchor": "center",
          "xref": "paper",
          "y": 0.08124999999999999,
          "yanchor": "bottom",
          "yref": "paper"
         }
        ],
        "height": 8000,
        "hoverlabel": {
         "bgcolor": "white",
         "font": {
          "family": "Rockwell",
          "size": 16
         }
        },
        "showlegend": false,
        "template": {
         "data": {
          "bar": [
           {
            "error_x": {
             "color": "#2a3f5f"
            },
            "error_y": {
             "color": "#2a3f5f"
            },
            "marker": {
             "line": {
              "color": "white",
              "width": 0.5
             },
             "pattern": {
              "fillmode": "overlay",
              "size": 10,
              "solidity": 0.2
             }
            },
            "type": "bar"
           }
          ],
          "barpolar": [
           {
            "marker": {
             "line": {
              "color": "white",
              "width": 0.5
             },
             "pattern": {
              "fillmode": "overlay",
              "size": 10,
              "solidity": 0.2
             }
            },
            "type": "barpolar"
           }
          ],
          "carpet": [
           {
            "aaxis": {
             "endlinecolor": "#2a3f5f",
             "gridcolor": "#C8D4E3",
             "linecolor": "#C8D4E3",
             "minorgridcolor": "#C8D4E3",
             "startlinecolor": "#2a3f5f"
            },
            "baxis": {
             "endlinecolor": "#2a3f5f",
             "gridcolor": "#C8D4E3",
             "linecolor": "#C8D4E3",
             "minorgridcolor": "#C8D4E3",
             "startlinecolor": "#2a3f5f"
            },
            "type": "carpet"
           }
          ],
          "choropleth": [
           {
            "colorbar": {
             "outlinewidth": 0,
             "ticks": ""
            },
            "type": "choropleth"
           }
          ],
          "contour": [
           {
            "colorbar": {
             "outlinewidth": 0,
             "ticks": ""
            },
            "colorscale": [
             [
              0,
              "#0d0887"
             ],
             [
              0.1111111111111111,
              "#46039f"
             ],
             [
              0.2222222222222222,
              "#7201a8"
             ],
             [
              0.3333333333333333,
              "#9c179e"
             ],
             [
              0.4444444444444444,
              "#bd3786"
             ],
             [
              0.5555555555555556,
              "#d8576b"
             ],
             [
              0.6666666666666666,
              "#ed7953"
             ],
             [
              0.7777777777777778,
              "#fb9f3a"
             ],
             [
              0.8888888888888888,
              "#fdca26"
             ],
             [
              1,
              "#f0f921"
             ]
            ],
            "type": "contour"
           }
          ],
          "contourcarpet": [
           {
            "colorbar": {
             "outlinewidth": 0,
             "ticks": ""
            },
            "type": "contourcarpet"
           }
          ],
          "heatmap": [
           {
            "colorbar": {
             "outlinewidth": 0,
             "ticks": ""
            },
            "colorscale": [
             [
              0,
              "#0d0887"
             ],
             [
              0.1111111111111111,
              "#46039f"
             ],
             [
              0.2222222222222222,
              "#7201a8"
             ],
             [
              0.3333333333333333,
              "#9c179e"
             ],
             [
              0.4444444444444444,
              "#bd3786"
             ],
             [
              0.5555555555555556,
              "#d8576b"
             ],
             [
              0.6666666666666666,
              "#ed7953"
             ],
             [
              0.7777777777777778,
              "#fb9f3a"
             ],
             [
              0.8888888888888888,
              "#fdca26"
             ],
             [
              1,
              "#f0f921"
             ]
            ],
            "type": "heatmap"
           }
          ],
          "heatmapgl": [
           {
            "colorbar": {
             "outlinewidth": 0,
             "ticks": ""
            },
            "colorscale": [
             [
              0,
              "#0d0887"
             ],
             [
              0.1111111111111111,
              "#46039f"
             ],
             [
              0.2222222222222222,
              "#7201a8"
             ],
             [
              0.3333333333333333,
              "#9c179e"
             ],
             [
              0.4444444444444444,
              "#bd3786"
             ],
             [
              0.5555555555555556,
              "#d8576b"
             ],
             [
              0.6666666666666666,
              "#ed7953"
             ],
             [
              0.7777777777777778,
              "#fb9f3a"
             ],
             [
              0.8888888888888888,
              "#fdca26"
             ],
             [
              1,
              "#f0f921"
             ]
            ],
            "type": "heatmapgl"
           }
          ],
          "histogram": [
           {
            "marker": {
             "pattern": {
              "fillmode": "overlay",
              "size": 10,
              "solidity": 0.2
             }
            },
            "type": "histogram"
           }
          ],
          "histogram2d": [
           {
            "colorbar": {
             "outlinewidth": 0,
             "ticks": ""
            },
            "colorscale": [
             [
              0,
              "#0d0887"
             ],
             [
              0.1111111111111111,
              "#46039f"
             ],
             [
              0.2222222222222222,
              "#7201a8"
             ],
             [
              0.3333333333333333,
              "#9c179e"
             ],
             [
              0.4444444444444444,
              "#bd3786"
             ],
             [
              0.5555555555555556,
              "#d8576b"
             ],
             [
              0.6666666666666666,
              "#ed7953"
             ],
             [
              0.7777777777777778,
              "#fb9f3a"
             ],
             [
              0.8888888888888888,
              "#fdca26"
             ],
             [
              1,
              "#f0f921"
             ]
            ],
            "type": "histogram2d"
           }
          ],
          "histogram2dcontour": [
           {
            "colorbar": {
             "outlinewidth": 0,
             "ticks": ""
            },
            "colorscale": [
             [
              0,
              "#0d0887"
             ],
             [
              0.1111111111111111,
              "#46039f"
             ],
             [
              0.2222222222222222,
              "#7201a8"
             ],
             [
              0.3333333333333333,
              "#9c179e"
             ],
             [
              0.4444444444444444,
              "#bd3786"
             ],
             [
              0.5555555555555556,
              "#d8576b"
             ],
             [
              0.6666666666666666,
              "#ed7953"
             ],
             [
              0.7777777777777778,
              "#fb9f3a"
             ],
             [
              0.8888888888888888,
              "#fdca26"
             ],
             [
              1,
              "#f0f921"
             ]
            ],
            "type": "histogram2dcontour"
           }
          ],
          "mesh3d": [
           {
            "colorbar": {
             "outlinewidth": 0,
             "ticks": ""
            },
            "type": "mesh3d"
           }
          ],
          "parcoords": [
           {
            "line": {
             "colorbar": {
              "outlinewidth": 0,
              "ticks": ""
             }
            },
            "type": "parcoords"
           }
          ],
          "pie": [
           {
            "automargin": true,
            "type": "pie"
           }
          ],
          "scatter": [
           {
            "fillpattern": {
             "fillmode": "overlay",
             "size": 10,
             "solidity": 0.2
            },
            "type": "scatter"
           }
          ],
          "scatter3d": [
           {
            "line": {
             "colorbar": {
              "outlinewidth": 0,
              "ticks": ""
             }
            },
            "marker": {
             "colorbar": {
              "outlinewidth": 0,
              "ticks": ""
             }
            },
            "type": "scatter3d"
           }
          ],
          "scattercarpet": [
           {
            "marker": {
             "colorbar": {
              "outlinewidth": 0,
              "ticks": ""
             }
            },
            "type": "scattercarpet"
           }
          ],
          "scattergeo": [
           {
            "marker": {
             "colorbar": {
              "outlinewidth": 0,
              "ticks": ""
             }
            },
            "type": "scattergeo"
           }
          ],
          "scattergl": [
           {
            "marker": {
             "colorbar": {
              "outlinewidth": 0,
              "ticks": ""
             }
            },
            "type": "scattergl"
           }
          ],
          "scattermapbox": [
           {
            "marker": {
             "colorbar": {
              "outlinewidth": 0,
              "ticks": ""
             }
            },
            "type": "scattermapbox"
           }
          ],
          "scatterpolar": [
           {
            "marker": {
             "colorbar": {
              "outlinewidth": 0,
              "ticks": ""
             }
            },
            "type": "scatterpolar"
           }
          ],
          "scatterpolargl": [
           {
            "marker": {
             "colorbar": {
              "outlinewidth": 0,
              "ticks": ""
             }
            },
            "type": "scatterpolargl"
           }
          ],
          "scatterternary": [
           {
            "marker": {
             "colorbar": {
              "outlinewidth": 0,
              "ticks": ""
             }
            },
            "type": "scatterternary"
           }
          ],
          "surface": [
           {
            "colorbar": {
             "outlinewidth": 0,
             "ticks": ""
            },
            "colorscale": [
             [
              0,
              "#0d0887"
             ],
             [
              0.1111111111111111,
              "#46039f"
             ],
             [
              0.2222222222222222,
              "#7201a8"
             ],
             [
              0.3333333333333333,
              "#9c179e"
             ],
             [
              0.4444444444444444,
              "#bd3786"
             ],
             [
              0.5555555555555556,
              "#d8576b"
             ],
             [
              0.6666666666666666,
              "#ed7953"
             ],
             [
              0.7777777777777778,
              "#fb9f3a"
             ],
             [
              0.8888888888888888,
              "#fdca26"
             ],
             [
              1,
              "#f0f921"
             ]
            ],
            "type": "surface"
           }
          ],
          "table": [
           {
            "cells": {
             "fill": {
              "color": "#EBF0F8"
             },
             "line": {
              "color": "white"
             }
            },
            "header": {
             "fill": {
              "color": "#C8D4E3"
             },
             "line": {
              "color": "white"
             }
            },
            "type": "table"
           }
          ]
         },
         "layout": {
          "annotationdefaults": {
           "arrowcolor": "#2a3f5f",
           "arrowhead": 0,
           "arrowwidth": 1
          },
          "autotypenumbers": "strict",
          "coloraxis": {
           "colorbar": {
            "outlinewidth": 0,
            "ticks": ""
           }
          },
          "colorscale": {
           "diverging": [
            [
             0,
             "#8e0152"
            ],
            [
             0.1,
             "#c51b7d"
            ],
            [
             0.2,
             "#de77ae"
            ],
            [
             0.3,
             "#f1b6da"
            ],
            [
             0.4,
             "#fde0ef"
            ],
            [
             0.5,
             "#f7f7f7"
            ],
            [
             0.6,
             "#e6f5d0"
            ],
            [
             0.7,
             "#b8e186"
            ],
            [
             0.8,
             "#7fbc41"
            ],
            [
             0.9,
             "#4d9221"
            ],
            [
             1,
             "#276419"
            ]
           ],
           "sequential": [
            [
             0,
             "#0d0887"
            ],
            [
             0.1111111111111111,
             "#46039f"
            ],
            [
             0.2222222222222222,
             "#7201a8"
            ],
            [
             0.3333333333333333,
             "#9c179e"
            ],
            [
             0.4444444444444444,
             "#bd3786"
            ],
            [
             0.5555555555555556,
             "#d8576b"
            ],
            [
             0.6666666666666666,
             "#ed7953"
            ],
            [
             0.7777777777777778,
             "#fb9f3a"
            ],
            [
             0.8888888888888888,
             "#fdca26"
            ],
            [
             1,
             "#f0f921"
            ]
           ],
           "sequentialminus": [
            [
             0,
             "#0d0887"
            ],
            [
             0.1111111111111111,
             "#46039f"
            ],
            [
             0.2222222222222222,
             "#7201a8"
            ],
            [
             0.3333333333333333,
             "#9c179e"
            ],
            [
             0.4444444444444444,
             "#bd3786"
            ],
            [
             0.5555555555555556,
             "#d8576b"
            ],
            [
             0.6666666666666666,
             "#ed7953"
            ],
            [
             0.7777777777777778,
             "#fb9f3a"
            ],
            [
             0.8888888888888888,
             "#fdca26"
            ],
            [
             1,
             "#f0f921"
            ]
           ]
          },
          "colorway": [
           "#636efa",
           "#EF553B",
           "#00cc96",
           "#ab63fa",
           "#FFA15A",
           "#19d3f3",
           "#FF6692",
           "#B6E880",
           "#FF97FF",
           "#FECB52"
          ],
          "font": {
           "color": "#2a3f5f"
          },
          "geo": {
           "bgcolor": "white",
           "lakecolor": "white",
           "landcolor": "white",
           "showlakes": true,
           "showland": true,
           "subunitcolor": "#C8D4E3"
          },
          "hoverlabel": {
           "align": "left"
          },
          "hovermode": "closest",
          "mapbox": {
           "style": "light"
          },
          "paper_bgcolor": "white",
          "plot_bgcolor": "white",
          "polar": {
           "angularaxis": {
            "gridcolor": "#EBF0F8",
            "linecolor": "#EBF0F8",
            "ticks": ""
           },
           "bgcolor": "white",
           "radialaxis": {
            "gridcolor": "#EBF0F8",
            "linecolor": "#EBF0F8",
            "ticks": ""
           }
          },
          "scene": {
           "xaxis": {
            "backgroundcolor": "white",
            "gridcolor": "#DFE8F3",
            "gridwidth": 2,
            "linecolor": "#EBF0F8",
            "showbackground": true,
            "ticks": "",
            "zerolinecolor": "#EBF0F8"
           },
           "yaxis": {
            "backgroundcolor": "white",
            "gridcolor": "#DFE8F3",
            "gridwidth": 2,
            "linecolor": "#EBF0F8",
            "showbackground": true,
            "ticks": "",
            "zerolinecolor": "#EBF0F8"
           },
           "zaxis": {
            "backgroundcolor": "white",
            "gridcolor": "#DFE8F3",
            "gridwidth": 2,
            "linecolor": "#EBF0F8",
            "showbackground": true,
            "ticks": "",
            "zerolinecolor": "#EBF0F8"
           }
          },
          "shapedefaults": {
           "line": {
            "color": "#2a3f5f"
           }
          },
          "ternary": {
           "aaxis": {
            "gridcolor": "#DFE8F3",
            "linecolor": "#A2B1C6",
            "ticks": ""
           },
           "baxis": {
            "gridcolor": "#DFE8F3",
            "linecolor": "#A2B1C6",
            "ticks": ""
           },
           "bgcolor": "white",
           "caxis": {
            "gridcolor": "#DFE8F3",
            "linecolor": "#A2B1C6",
            "ticks": ""
           }
          },
          "title": {
           "x": 0.05
          },
          "xaxis": {
           "automargin": true,
           "gridcolor": "#EBF0F8",
           "linecolor": "#EBF0F8",
           "ticks": "",
           "title": {
            "standoff": 15
           },
           "zerolinecolor": "#EBF0F8",
           "zerolinewidth": 2
          },
          "yaxis": {
           "automargin": true,
           "gridcolor": "#EBF0F8",
           "linecolor": "#EBF0F8",
           "ticks": "",
           "title": {
            "standoff": 15
           },
           "zerolinecolor": "#EBF0F8",
           "zerolinewidth": 2
          }
         }
        },
        "title": {
         "font": {
          "color": "Black",
          "size": 22
         },
         "text": "Topic Word Scores",
         "x": 0.5,
         "xanchor": "center",
         "yanchor": "top"
        },
        "width": 1000,
        "xaxis": {
         "anchor": "y",
         "domain": [
          0,
          0.175
         ],
         "showgrid": true
        },
        "xaxis10": {
         "anchor": "y10",
         "domain": [
          0.275,
          0.45
         ],
         "showgrid": true
        },
        "xaxis11": {
         "anchor": "y11",
         "domain": [
          0.55,
          0.7250000000000001
         ],
         "showgrid": true
        },
        "xaxis12": {
         "anchor": "y12",
         "domain": [
          0.825,
          1
         ],
         "showgrid": true
        },
        "xaxis13": {
         "anchor": "y13",
         "domain": [
          0,
          0.175
         ],
         "showgrid": true
        },
        "xaxis14": {
         "anchor": "y14",
         "domain": [
          0.275,
          0.45
         ],
         "showgrid": true
        },
        "xaxis15": {
         "anchor": "y15",
         "domain": [
          0.55,
          0.7250000000000001
         ],
         "showgrid": true
        },
        "xaxis16": {
         "anchor": "y16",
         "domain": [
          0.825,
          1
         ],
         "showgrid": true
        },
        "xaxis17": {
         "anchor": "y17",
         "domain": [
          0,
          0.175
         ],
         "showgrid": true
        },
        "xaxis18": {
         "anchor": "y18",
         "domain": [
          0.275,
          0.45
         ],
         "showgrid": true
        },
        "xaxis19": {
         "anchor": "y19",
         "domain": [
          0.55,
          0.7250000000000001
         ],
         "showgrid": true
        },
        "xaxis2": {
         "anchor": "y2",
         "domain": [
          0.275,
          0.45
         ],
         "showgrid": true
        },
        "xaxis20": {
         "anchor": "y20",
         "domain": [
          0.825,
          1
         ],
         "showgrid": true
        },
        "xaxis21": {
         "anchor": "y21",
         "domain": [
          0,
          0.175
         ],
         "showgrid": true
        },
        "xaxis22": {
         "anchor": "y22",
         "domain": [
          0.275,
          0.45
         ],
         "showgrid": true
        },
        "xaxis23": {
         "anchor": "y23",
         "domain": [
          0.55,
          0.7250000000000001
         ],
         "showgrid": true
        },
        "xaxis24": {
         "anchor": "y24",
         "domain": [
          0.825,
          1
         ],
         "showgrid": true
        },
        "xaxis25": {
         "anchor": "y25",
         "domain": [
          0,
          0.175
         ],
         "showgrid": true
        },
        "xaxis26": {
         "anchor": "y26",
         "domain": [
          0.275,
          0.45
         ],
         "showgrid": true
        },
        "xaxis27": {
         "anchor": "y27",
         "domain": [
          0.55,
          0.7250000000000001
         ],
         "showgrid": true
        },
        "xaxis28": {
         "anchor": "y28",
         "domain": [
          0.825,
          1
         ],
         "showgrid": true
        },
        "xaxis29": {
         "anchor": "y29",
         "domain": [
          0,
          0.175
         ],
         "showgrid": true
        },
        "xaxis3": {
         "anchor": "y3",
         "domain": [
          0.55,
          0.7250000000000001
         ],
         "showgrid": true
        },
        "xaxis30": {
         "anchor": "y30",
         "domain": [
          0.275,
          0.45
         ],
         "showgrid": true
        },
        "xaxis31": {
         "anchor": "y31",
         "domain": [
          0.55,
          0.7250000000000001
         ],
         "showgrid": true
        },
        "xaxis32": {
         "anchor": "y32",
         "domain": [
          0.825,
          1
         ],
         "showgrid": true
        },
        "xaxis4": {
         "anchor": "y4",
         "domain": [
          0.825,
          1
         ],
         "showgrid": true
        },
        "xaxis5": {
         "anchor": "y5",
         "domain": [
          0,
          0.175
         ],
         "showgrid": true
        },
        "xaxis6": {
         "anchor": "y6",
         "domain": [
          0.275,
          0.45
         ],
         "showgrid": true
        },
        "xaxis7": {
         "anchor": "y7",
         "domain": [
          0.55,
          0.7250000000000001
         ],
         "showgrid": true
        },
        "xaxis8": {
         "anchor": "y8",
         "domain": [
          0.825,
          1
         ],
         "showgrid": true
        },
        "xaxis9": {
         "anchor": "y9",
         "domain": [
          0,
          0.175
         ],
         "showgrid": true
        },
        "yaxis": {
         "anchor": "x",
         "domain": [
          0.91875,
          1
         ],
         "showgrid": true
        },
        "yaxis10": {
         "anchor": "x10",
         "domain": [
          0.65625,
          0.7375
         ],
         "showgrid": true
        },
        "yaxis11": {
         "anchor": "x11",
         "domain": [
          0.65625,
          0.7375
         ],
         "showgrid": true
        },
        "yaxis12": {
         "anchor": "x12",
         "domain": [
          0.65625,
          0.7375
         ],
         "showgrid": true
        },
        "yaxis13": {
         "anchor": "x13",
         "domain": [
          0.5249999999999999,
          0.60625
         ],
         "showgrid": true
        },
        "yaxis14": {
         "anchor": "x14",
         "domain": [
          0.5249999999999999,
          0.60625
         ],
         "showgrid": true
        },
        "yaxis15": {
         "anchor": "x15",
         "domain": [
          0.5249999999999999,
          0.60625
         ],
         "showgrid": true
        },
        "yaxis16": {
         "anchor": "x16",
         "domain": [
          0.5249999999999999,
          0.60625
         ],
         "showgrid": true
        },
        "yaxis17": {
         "anchor": "x17",
         "domain": [
          0.39375,
          0.475
         ],
         "showgrid": true
        },
        "yaxis18": {
         "anchor": "x18",
         "domain": [
          0.39375,
          0.475
         ],
         "showgrid": true
        },
        "yaxis19": {
         "anchor": "x19",
         "domain": [
          0.39375,
          0.475
         ],
         "showgrid": true
        },
        "yaxis2": {
         "anchor": "x2",
         "domain": [
          0.91875,
          1
         ],
         "showgrid": true
        },
        "yaxis20": {
         "anchor": "x20",
         "domain": [
          0.39375,
          0.475
         ],
         "showgrid": true
        },
        "yaxis21": {
         "anchor": "x21",
         "domain": [
          0.26249999999999996,
          0.34374999999999994
         ],
         "showgrid": true
        },
        "yaxis22": {
         "anchor": "x22",
         "domain": [
          0.26249999999999996,
          0.34374999999999994
         ],
         "showgrid": true
        },
        "yaxis23": {
         "anchor": "x23",
         "domain": [
          0.26249999999999996,
          0.34374999999999994
         ],
         "showgrid": true
        },
        "yaxis24": {
         "anchor": "x24",
         "domain": [
          0.26249999999999996,
          0.34374999999999994
         ],
         "showgrid": true
        },
        "yaxis25": {
         "anchor": "x25",
         "domain": [
          0.13124999999999998,
          0.21249999999999997
         ],
         "showgrid": true
        },
        "yaxis26": {
         "anchor": "x26",
         "domain": [
          0.13124999999999998,
          0.21249999999999997
         ],
         "showgrid": true
        },
        "yaxis27": {
         "anchor": "x27",
         "domain": [
          0.13124999999999998,
          0.21249999999999997
         ],
         "showgrid": true
        },
        "yaxis28": {
         "anchor": "x28",
         "domain": [
          0.13124999999999998,
          0.21249999999999997
         ],
         "showgrid": true
        },
        "yaxis29": {
         "anchor": "x29",
         "domain": [
          0,
          0.08124999999999999
         ],
         "showgrid": true
        },
        "yaxis3": {
         "anchor": "x3",
         "domain": [
          0.91875,
          1
         ],
         "showgrid": true
        },
        "yaxis30": {
         "anchor": "x30",
         "domain": [
          0,
          0.08124999999999999
         ],
         "showgrid": true
        },
        "yaxis31": {
         "anchor": "x31",
         "domain": [
          0,
          0.08124999999999999
         ],
         "showgrid": true
        },
        "yaxis32": {
         "anchor": "x32",
         "domain": [
          0,
          0.08124999999999999
         ],
         "showgrid": true
        },
        "yaxis4": {
         "anchor": "x4",
         "domain": [
          0.91875,
          1
         ],
         "showgrid": true
        },
        "yaxis5": {
         "anchor": "x5",
         "domain": [
          0.7875,
          0.8687499999999999
         ],
         "showgrid": true
        },
        "yaxis6": {
         "anchor": "x6",
         "domain": [
          0.7875,
          0.8687499999999999
         ],
         "showgrid": true
        },
        "yaxis7": {
         "anchor": "x7",
         "domain": [
          0.7875,
          0.8687499999999999
         ],
         "showgrid": true
        },
        "yaxis8": {
         "anchor": "x8",
         "domain": [
          0.7875,
          0.8687499999999999
         ],
         "showgrid": true
        },
        "yaxis9": {
         "anchor": "x9",
         "domain": [
          0.65625,
          0.7375
         ],
         "showgrid": true
        }
       }
      },
      "text/html": [
       "<div>                            <div id=\"24f0a373-ad4f-462a-88bd-2277a04c352a\" class=\"plotly-graph-div\" style=\"height:8000px; width:1000px;\"></div>            <script type=\"text/javascript\">                require([\"plotly\"], function(Plotly) {                    window.PLOTLYENV=window.PLOTLYENV || {};                                    if (document.getElementById(\"24f0a373-ad4f-462a-88bd-2277a04c352a\")) {                    Plotly.newPlot(                        \"24f0a373-ad4f-462a-88bd-2277a04c352a\",                        [{\"marker\":{\"color\":\"#D55E00\"},\"orientation\":\"h\",\"x\":[0.11733166175511833,0.11757074063241953,0.11805338139438645,0.11864417372478801,0.11904992255077566,0.11925859546692565,0.11958766085041711,0.11986881039648052,0.12010880446860944,0.12038511845716382,0.12056014289794224,0.12085321453410272,0.1214568484772958,0.12247159756278736,0.12416602155176898,0.1242923765576265,0.12438876766783112,0.12456818238951237,0.126726401824935,0.12713691676419156,0.12754917360962262,0.12819137155572144,0.12901759086151995,0.12957238263525342,0.13159623481319419,0.13242819477120604,0.1333714517687454,0.1336301530134855,0.1560364127243271,0.18529778127335284],\"y\":[\"user  \",\"systems  \",\"human  \",\"questions  \",\"based  \",\"using chatgpt  \",\"like  \",\"users  \",\"detection  \",\"content  \",\"chatbots  \",\"information  \",\"paper  \",\"like chatgpt  \",\"intelligence  \",\"analysis  \",\"artificial  \",\"artificial intelligence  \",\"responses  \",\"education  \",\"generative ai  \",\"generative  \",\"study  \",\"tools  \",\"research  \",\"students  \",\"generated  \",\"potential  \",\"ai  \",\"chatgpt  \"],\"type\":\"bar\",\"xaxis\":\"x\",\"yaxis\":\"y\"},{\"marker\":{\"color\":\"#0072B2\"},\"orientation\":\"h\",\"x\":[0.11360830406496811,0.11374345521930307,0.1140822043633952,0.11414755635790998,0.11458960905744522,0.11468400547761338,0.11494717129958172,0.11498945180533889,0.11511678530784394,0.11549029143294261,0.11567896220188266,0.11573183520918162,0.11576378470203659,0.11581435598396488,0.11641650066738306,0.11756520226231901,0.11827436006285462,0.11939307134398935,0.12069315271150274,0.12100294602224011,0.12116968860632456,0.12144482590288225,0.12211776976013182,0.12309528490437179,0.1231396373279957,0.12449109374890235,0.12490682406787716,0.12838247098541186,0.14023148259104026,0.15059313447018946],\"y\":[\"approach  \",\"information  \",\"language models  \",\"new  \",\"cot  \",\"models gpt  \",\"model  \",\"explanations  \",\"natural language  \",\"reasoning  \",\"natural  \",\"classification  \",\"fine  \",\"methods  \",\"text  \",\"examples  \",\"using  \",\"shot learning  \",\"zero shot  \",\"prompting  \",\"zero  \",\"training  \",\"task  \",\"context  \",\"prompt  \",\"knowledge  \",\"human  \",\"learning  \",\"shot  \",\"gpt  \"],\"type\":\"bar\",\"xaxis\":\"x2\",\"yaxis\":\"y2\"},{\"marker\":{\"color\":\"#CC79A7\"},\"orientation\":\"h\",\"x\":[0.11144167561573023,0.1115215534821769,0.11178695317460434,0.11199392124326672,0.11201321163598338,0.1120371262810727,0.11204412152375445,0.1128412703643642,0.11337604131733076,0.11338220050007443,0.1141444537594991,0.11427168773004194,0.11455843106255169,0.11573154553214171,0.11588919380401394,0.1161918595919339,0.11749521893084708,0.11809183302432012,0.11971286988783986,0.12037494722560216,0.12279983789572901,0.12367795439360979,0.127368834680494,0.12811919730851867,0.12834647157292653,0.12943174588119985,0.13509178719098996,0.14543819478676145,0.15000733516260734,0.17415014986110536],\"y\":[\"language models  \",\"research  \",\"accuracy  \",\"ability  \",\"performance  \",\"ai  \",\"gpt models  \",\"high  \",\"potential  \",\"data  \",\"agent  \",\"feedback  \",\"legal  \",\"benchmark  \",\"visual  \",\"abilities  \",\"capabilities  \",\"large  \",\"evaluation  \",\"agents  \",\"human  \",\"multimodal  \",\"large language  \",\"models llms  \",\"llm  \",\"reasoning  \",\"llms  \",\"gpt gpt  \",\"chatgpt gpt  \",\"gpt  \"],\"type\":\"bar\",\"xaxis\":\"x3\",\"yaxis\":\"y3\"},{\"marker\":{\"color\":\"#E69F00\"},\"orientation\":\"h\",\"x\":[0.1351154836001673,0.1352762396541597,0.13814752034399627,0.14008360537690473,0.14081215703512864,0.14336344131882842,0.1438159435200886,0.1442149996825373,0.1442623399146604,0.14520177396633535,0.14590330524455364,0.1463475807578764,0.1464549882938444,0.14804390311409477,0.1533545333638678,0.15632362635624503,0.1571605345044183,0.1595269358377984,0.15993525385321322,0.16468290131053528,0.16492580941532597,0.16508634507795938,0.16710584567797004,0.16929032853357603,0.16943829904127336,0.17069016920680033,0.1725395322331859,0.17418419667526258,0.18528006630700103,0.2905632218411079],\"y\":[\"architectures  \",\"tuning  \",\"model  \",\"models t5  \",\"pretrained  \",\"gpt t5  \",\"prompt tuning  \",\"table  \",\"t5 base  \",\"task  \",\"text text  \",\"sequence sequence  \",\"seq2seq  \",\"text  \",\"encoder decoder  \",\"training  \",\"pre training  \",\"encoder  \",\"t5 model  \",\"plms  \",\"trained  \",\"decoder  \",\"bert  \",\"trained language  \",\"transformer  \",\"bart  \",\"sequence  \",\"pre trained  \",\"pre  \",\"t5  \"],\"type\":\"bar\",\"xaxis\":\"x4\",\"yaxis\":\"y4\"},{\"marker\":{\"color\":\"#56B4E9\"},\"orientation\":\"h\",\"x\":[0.13408190261958636,0.1350381582182703,0.13550449186849498,0.13577150165177135,0.13593036568408975,0.13631632614112918,0.13702357302284515,0.1376159646729932,0.13846842501779244,0.1385533429342588,0.13920690449107373,0.14041396126995537,0.14079017169371397,0.14132806119108388,0.1426876114736385,0.14415203298000173,0.14478911705468228,0.14531904128101114,0.1464349745907388,0.1467264241736574,0.1556043418269373,0.15564166293215856,0.15576727644203894,0.1560285313430318,0.15740453518504352,0.16182030819169624,0.16416050757152056,0.17149353895573627,0.17478546743741388,0.31042807119768984],\"y\":[\"models llms  \",\"window  \",\"13b  \",\"model  \",\"llms llama  \",\"instruction following  \",\"tuning llama  \",\"parameter  \",\"memory  \",\"gpt llama  \",\"domain  \",\"llms  \",\"knowledge editing  \",\"weights  \",\"context  \",\"safety  \",\"llm  \",\"music  \",\"llama models  \",\"audio  \",\"llama 7b  \",\"llama model  \",\"fine tuning  \",\"fine  \",\"7b  \",\"instruction  \",\"lora  \",\"tuning  \",\"quantization  \",\"llama  \"],\"type\":\"bar\",\"xaxis\":\"x5\",\"yaxis\":\"y5\"},{\"marker\":{\"color\":\"#009E73\"},\"orientation\":\"h\",\"x\":[0.1515391621307346,0.15203955763895327,0.1525165832194888,0.1527369568367622,0.1543805214956758,0.15749177054323701,0.15924848618806486,0.16090312413313626,0.1612441897764445,0.1614232452472265,0.1672002495768815,0.16731495324837511,0.16776198149735833,0.16968960331240407,0.1739414938950209,0.17569528797186912,0.18470868190108283,0.18536088979918974,0.1867354023361308,0.2007448758078417,0.2035907326205921,0.20720260573049376,0.2152060638595553,0.21932080617316752,0.22223503043741527,0.22823487406329176,0.2403695682802473,0.24446972438769615,0.2665987543273567,0.3844407335140913],\"y\":[\"genetic programming  \",\"execution  \",\"sql  \",\"pangu  \",\"generation  \",\"generate  \",\"nl  \",\"natural language  \",\"problems  \",\"natural  \",\"bug  \",\"fixes  \",\"documentation  \",\"python  \",\"codex gpt  \",\"fixing  \",\"synthesis  \",\"program repair  \",\"copilot  \",\"program synthesis  \",\"code generation  \",\"gpt codex  \",\"bugs  \",\"programs  \",\"programming  \",\"openai codex  \",\"repair  \",\"program  \",\"code  \",\"codex  \"],\"type\":\"bar\",\"xaxis\":\"x6\",\"yaxis\":\"y6\"},{\"marker\":{\"color\":\"#F0E442\"},\"orientation\":\"h\",\"x\":[0.14654040800848203,0.14673524795307835,0.1476431927539342,0.1476431927539342,0.1476431927539342,0.14798571136391242,0.14829621882853278,0.14834402021567616,0.14931851790213171,0.15022773437382106,0.1510344881147847,0.15452346003807943,0.15511027761309823,0.15740898619322724,0.15740898619322724,0.15744276393461232,0.15861070416151102,0.1641555381834136,0.1645690750242452,0.1678000242256703,0.17177961252473595,0.17260150202060587,0.18027638931707826,0.18195858977986298,0.18930954075725115,0.1903119390183687,0.19808500206965812,0.2185799287698858,0.2315422433627989,0.40299277526435856],\"y\":[\"multimodal  \",\"incidental  \",\"contrastive decoding  \",\"stereotype  \",\"backward reasoning  \",\"radiation  \",\"capabilities  \",\"prompting  \",\"palm 540b  \",\"reasoning  \",\"math word  \",\"models palm  \",\"bench  \",\"model palm  \",\"rater  \",\"gpt code  \",\"actions  \",\"palm gpt  \",\"540b  \",\"generalist  \",\"gsm8k  \",\"big bench  \",\"interpreter  \",\"assurance  \",\"attribution  \",\"math  \",\"med  \",\"med palm  \",\"gpt palm  \",\"palm  \"],\"type\":\"bar\",\"xaxis\":\"x7\",\"yaxis\":\"y7\"},{\"marker\":{\"color\":\"#D55E00\"},\"orientation\":\"h\",\"x\":[0.16653508680067863,0.16719618779590087,0.1676032631606931,0.1693993492526414,0.16951605306873085,0.17100602381505747,0.17221802865211788,0.1733904571087447,0.17448955963557136,0.17507238196164057,0.17543397803573393,0.1770209826295954,0.17840104466292087,0.178721726381172,0.1795917796796774,0.18021282376998346,0.18021282376998346,0.180992057700851,0.18111047863403693,0.1814046573038456,0.18240616362526887,0.18295308150172285,0.19409409392772217,0.1944216604818963,0.19667813440336518,0.21594620536557393,0.2228004991792336,0.22476393671162312,0.24568569967266934,0.3762984394214045],\"y\":[\"scaling  \",\"softmax  \",\"context  \",\"matrix  \",\"linear  \",\"activations  \",\"attention matrix  \",\"outliers  \",\"icl  \",\"quantized  \",\"opt models  \",\"larger  \",\"tokens  \",\"attention  \",\"fol  \",\"gemm  \",\"kv  \",\"memory  \",\"context learning  \",\"gpu  \",\"175b  \",\"gpt opt  \",\"inference  \",\"watermark  \",\"compression  \",\"opt 175b  \",\"perplexity  \",\"125m  \",\"quantization  \",\"opt  \"],\"type\":\"bar\",\"xaxis\":\"x8\",\"yaxis\":\"y8\"},{\"marker\":{\"color\":\"#0072B2\"},\"orientation\":\"h\",\"x\":[0.1635898666288693,0.16409058190851117,0.16409058190851117,0.16447825600341914,0.16447825600341914,0.1667720133122517,0.16930789444077748,0.17382030844564103,0.1748859968678239,0.1790565148598895,0.18017690206436437,0.1839848468572546,0.188676013148594,0.18985703287700284,0.1920946232628273,0.19480286119978618,0.1960549961473001,0.19761650630743863,0.2003278022840495,0.20296570557006305,0.20368240122732,0.2192522843182902,0.21985834703092988,0.22067073674655488,0.22504187015187743,0.22964625768859212,0.2506770842875843,0.255399751054154,0.3008905215099629,0.45127178297025083],\"y\":[\"bit  \",\"weight space  \",\"summaries factually  \",\"open access  \",\"int8  \",\"formality  \",\"polyglot  \",\"scientific research  \",\"korean  \",\"lyrics  \",\"emissions  \",\"open  \",\"english  \",\"english centric  \",\"factually inconsistent  \",\"open world  \",\"languages  \",\"music  \",\"factually consistent  \",\"governance  \",\"goat  \",\"factually  \",\"inpars  \",\"los  \",\"multilingual language  \",\"bigscience  \",\"bloom 176b  \",\"176b  \",\"multilingual  \",\"bloom  \"],\"type\":\"bar\",\"xaxis\":\"x9\",\"yaxis\":\"y9\"},{\"marker\":{\"color\":\"#CC79A7\"},\"orientation\":\"h\",\"x\":[0.1596270186446766,0.15968894251141166,0.15968894251141166,0.16245753714669386,0.16423226836699054,0.16616704070741437,0.16629416991741744,0.16683289423819236,0.17045730200268974,0.17398700969450576,0.17493047199529171,0.1764775792039401,0.1770382851241101,0.18021257377786717,0.18021257377786717,0.18021257377786717,0.18021257377786717,0.18021257377786717,0.18351361823247436,0.1866715730334227,0.18697012625296522,0.18977764941269176,0.19065130901623437,0.1933215020478052,0.19674469377834408,0.19987947257156108,0.20199231019189992,0.2153803403280341,0.2535809202668641,0.4393688473213582],\"y\":[\"fact checking  \",\"self instruct  \",\"clinical trials  \",\"checking  \",\"emergent  \",\"series  \",\"rlhf  \",\"acceptability  \",\"instructions  \",\"clinical  \",\"deepspeed  \",\"models instructgpt  \",\"instruction  \",\"self knowledge  \",\"gpt instructgpt  \",\"instructgpt chatgpt  \",\"lexical matching  \",\"video game  \",\"truth  \",\"intervention  \",\"analogies  \",\"personalities  \",\"lms  \",\"rrhf  \",\"gpt series  \",\"series models  \",\"negated  \",\"emergent abilities  \",\"negation  \",\"instructgpt  \"],\"type\":\"bar\",\"xaxis\":\"x10\",\"yaxis\":\"y10\"},{\"marker\":{\"color\":\"#E69F00\"},\"orientation\":\"h\",\"x\":[0.1607149410842563,0.16141560084325804,0.16329691253571377,0.16371608515589034,0.16562720180483587,0.1664755048544834,0.1671809938002638,0.16748828784623604,0.16793467543353569,0.17127951583004516,0.17127951583004516,0.17127951583004516,0.1714285819671374,0.171684174223619,0.1730368114855497,0.17609528775066755,0.1777001847449451,0.18105344206422766,0.18271181979957196,0.18691403334168036,0.18691403334168036,0.19817481472661724,0.1989388263336846,0.2070406282610996,0.20714023705185142,0.22019372300861195,0.23033849053495753,0.28357315271646644,0.3951730487909757,0.40340903343310414],\"y\":[\"supervised pre  \",\"track  \",\"fine tuning  \",\"table based  \",\"factual consistency  \",\"tuning  \",\"tutorials  \",\"xxl  \",\"collection  \",\"derivations  \",\"discharge summaries  \",\"dynamic evaluation  \",\"peft  \",\"t5 xxl  \",\"socratic  \",\"11b  \",\"tuned models  \",\"instruction  \",\"cot  \",\"mvp  \",\"peft techniques  \",\"sdoh  \",\"fine  \",\"fine tuned  \",\"tuned  \",\"spam  \",\"discharge  \",\"t5  \",\"flan  \",\"flan t5  \"],\"type\":\"bar\",\"xaxis\":\"x11\",\"yaxis\":\"y11\"},{\"marker\":{\"color\":\"#56B4E9\"},\"orientation\":\"h\",\"x\":[0.15361939721910664,0.15389048268072392,0.15404045582180032,0.1552577831403841,0.1562976435299757,0.1570701629927085,0.1585436791743452,0.1585436791743452,0.15925947211583602,0.1597233343550709,0.16243045330463285,0.16243045330463285,0.16431495601599388,0.16491655645260436,0.17040145142023563,0.17358347856890982,0.17381609811196438,0.1783540257883694,0.1808412898204204,0.1808412898204204,0.1810592755150622,0.18240574151806171,0.1862351332903073,0.18737431734867768,0.19684015987436299,0.20162171635161746,0.2046474888864685,0.2221883331596838,0.24333205018273785,0.4046877468895873],\"y\":[\"templates  \",\"simulator  \",\"llm  \",\"reasoning planning  \",\"vl  \",\"judgement  \",\"detection tool  \",\"safely  \",\"human preferences  \",\"llama  \",\"radiographs  \",\"complex structured  \",\"emotional  \",\"ner  \",\"arena  \",\"llama vicuna  \",\"harmful  \",\"wizardlm  \",\"orca  \",\"qlora  \",\"reward  \",\"red  \",\"arabic  \",\"bench  \",\"instruction  \",\"models vicuna  \",\"13b  \",\"pathology  \",\"vicuna 13b  \",\"vicuna  \"],\"type\":\"bar\",\"xaxis\":\"x12\",\"yaxis\":\"y12\"},{\"marker\":{\"color\":\"#009E73\"},\"orientation\":\"h\",\"x\":[0.1668938961666924,0.1670518129008321,0.16759171921554789,0.16812427781234804,0.169074033369859,0.16929758190260735,0.16936325725624937,0.16985640873164562,0.1715956505507317,0.17212105121440333,0.17514307061971274,0.17514307061971274,0.1752954992440536,0.1754979447166025,0.18286131960093838,0.18593514456755322,0.18716898726122583,0.1895594454686364,0.19024689714237336,0.19113025619397928,0.20503335277674095,0.2073168935290125,0.2103100719535722,0.2116589200924671,0.21567866570028182,0.2322269008042995,0.23709346316791408,0.26094144158369903,0.27638062703598326,0.40971873702034856],\"y\":[\"finetuning  \",\"source models  \",\"quality instruction  \",\"closed source  \",\"lora  \",\"llama 7b  \",\"llama adapter  \",\"practices  \",\"instruction following  \",\"mental  \",\"adapter based  \",\"52k  \",\"peft  \",\"title  \",\"efficient  \",\"costs  \",\"alpaca 7b  \",\"imitation  \",\"instruction data  \",\"das  \",\"coronavirus  \",\"adapter  \",\"tuning  \",\"adapters  \",\"tuning data  \",\"llama  \",\"7b  \",\"instruction tuning  \",\"instruction  \",\"alpaca  \"],\"type\":\"bar\",\"xaxis\":\"x13\",\"yaxis\":\"y13\"},{\"marker\":{\"color\":\"#F0E442\"},\"orientation\":\"h\",\"x\":[0.18696080134395465,0.18770109712413863,0.19035462310346635,0.19066321873832423,0.19066321873832423,0.19684939994062794,0.19720067477231756,0.1975409604777426,0.20047874492596213,0.20472170331117923,0.2097405537912624,0.2097405537912624,0.21023607875321218,0.21640932177960284,0.22134415542824923,0.22414205084914618,0.22414205084914618,0.22414205084914618,0.22414205084914618,0.22523062747239286,0.22884404678438688,0.23706453438616504,0.23706453438616504,0.24467232894662705,0.25605896269092154,0.25654800381100484,0.26254461880326174,0.3003220730979343,0.3460189259337311,0.43189839401272057],\"y\":[\"jailbreaking attacks  \",\"playing  \",\"corrections  \",\"dangerous  \",\"competitions  \",\"negotiation  \",\"financial  \",\"commercial  \",\"task aware  \",\"ai developers  \",\"frontier ai  \",\"incident response  \",\"bangla  \",\"tool learning  \",\"energy  \",\"triad  \",\"avoidance  \",\"book length  \",\"tikz  \",\"ai chatbots  \",\"phishing  \",\"making tasks  \",\"ai feedback  \",\"latin  \",\"graphics  \",\"layout  \",\"phishing emails  \",\"emails  \",\"gpt claude  \",\"claude  \"],\"type\":\"bar\",\"xaxis\":\"x14\",\"yaxis\":\"y14\"},{\"marker\":{\"color\":\"#D55E00\"},\"orientation\":\"h\",\"x\":[0.20806792050460646,0.20963242187929498,0.20963242187929498,0.2113715599670853,0.21452196386950925,0.21716060759326133,0.21778156069978052,0.21781371365537383,0.2211333257843711,0.2212033914650907,0.22836071721781792,0.22889398714284043,0.23277045694304033,0.23626571290646384,0.23916747495482107,0.24067767011987493,0.24080212079626176,0.24560109188903367,0.2514685138578781,0.25519613687854453,0.25519613687854453,0.26012279786632225,0.2655645196329527,0.26832293121625483,0.26832293121625483,0.2822659308887002,0.30835338296727094,0.34890336005540457,0.40749152298107016,0.4590171139850325],\"y\":[\"repository  \",\"program synthesis  \",\"apr  \",\"mbpp  \",\"names  \",\"robustness  \",\"pragmatic  \",\"generated code  \",\"python  \",\"functional  \",\"test  \",\"neural code  \",\"radar  \",\"vulnerability repair  \",\"bugs  \",\"incoder  \",\"humaneval  \",\"codex  \",\"java  \",\"level code  \",\"pie  \",\"program  \",\"generation  \",\"class level  \",\"multipl  \",\"generation models  \",\"verilog  \",\"code  \",\"code generation  \",\"codegen  \"],\"type\":\"bar\",\"xaxis\":\"x15\",\"yaxis\":\"y15\"},{\"marker\":{\"color\":\"#0072B2\"},\"orientation\":\"h\",\"x\":[0.2319111166139135,0.2319111166139135,0.2319111166139135,0.23843163389852365,0.23843163389852365,0.23911922846612782,0.2392848047379294,0.24023715998890863,0.2421530347361261,0.24309262683581778,0.24574768198539562,0.24809650121640128,0.24842265922780982,0.25140442041511346,0.2530801302946906,0.2559029935706531,0.2714895520405284,0.2753171360292699,0.27642119204926996,0.27792387974845767,0.28284143918906934,0.28786669261473835,0.2962751440174303,0.30191214633295965,0.31056946311689787,0.31464538019616717,0.34863696297558094,0.37874733936448784,0.3920417838575868,0.4910733311310975],\"y\":[\"slam  \",\"multilingual sequence  \",\"xnli  \",\"polish  \",\"transformations  \",\"resource  \",\"multilingual pre  \",\"character  \",\"pre training  \",\"denoising  \",\"parallel  \",\"syntactic  \",\"seq2seq models  \",\"xlm  \",\"mt5 model  \",\"languages  \",\"mbart  \",\"multilingual models  \",\"sequence sequence  \",\"parallel data  \",\"sequence  \",\"hebrew  \",\"monolingual  \",\"transfer  \",\"cross  \",\"lingual transfer  \",\"multilingual  \",\"cross lingual  \",\"lingual  \",\"mt5  \"],\"type\":\"bar\",\"xaxis\":\"x16\",\"yaxis\":\"y16\"},{\"marker\":{\"color\":\"#CC79A7\"},\"orientation\":\"h\",\"x\":[0.21511192240282376,0.2167720783154292,0.21757852645510053,0.21926595034647905,0.2224090809262318,0.22282978149333638,0.22476006908544702,0.22504976150231554,0.22504976150231554,0.22771664393844723,0.22849429366447002,0.2316413438585996,0.2323829526942371,0.2323829526942371,0.2362285778380873,0.24079770122694144,0.24079770122694144,0.24383652034059797,0.24514574666757336,0.24838985261033641,0.24838985261033641,0.25052507455861855,0.26812757412358107,0.2688639813724107,0.27513301803091045,0.2937190412732476,0.2942195587266242,0.30850314911985205,0.31725282411281236,0.491599082299079],\"y\":[\"model bias  \",\"multi task  \",\"shot learning  \",\"unseen  \",\"structured knowledge  \",\"prompt  \",\"fact verification  \",\"restructured  \",\"context learners  \",\"continual  \",\"faithfulness  \",\"faithfulness metrics  \",\"shot zero  \",\"unseen tasks  \",\"strong zero  \",\"semi  \",\"unlabeled  \",\"shot task  \",\"zero  \",\"prompt model  \",\"calm  \",\"zero shot  \",\"parametric language  \",\"shot  \",\"parametric  \",\"semi parametric  \",\"task generalization  \",\"flipped  \",\"unifiedskg  \",\"t0  \"],\"type\":\"bar\",\"xaxis\":\"x17\",\"yaxis\":\"y17\"},{\"marker\":{\"color\":\"#E69F00\"},\"orientation\":\"h\",\"x\":[0.23071150495240533,0.23071150495240533,0.23071150495240533,0.23071150495240533,0.23071150495240533,0.23071150495240533,0.23071150495240533,0.23160746623781042,0.23160746623781042,0.24159852430897102,0.24438080591966221,0.25311301092096966,0.2584699277975757,0.26061358092112014,0.2648064417100363,0.2648064417100363,0.2648064417100363,0.277607825927317,0.2779600774066255,0.2869120183879256,0.292269729981237,0.2984553647827069,0.3048390904094467,0.3057721408088728,0.32051483347470106,0.3336832419518147,0.34516733138716976,0.34560665011525343,0.34619558762381886,0.3579558528575246],\"y\":[\"focus llm  \",\"encryption  \",\"llm attacks  \",\"free guidance  \",\"com eleutherai  \",\"adversarial learning  \",\"affirmative  \",\"scaling laws  \",\"bits  \",\"adversarial  \",\"attacker  \",\"aligned language  \",\"warmup  \",\"scaling  \",\"paraphraser  \",\"suffix  \",\"inverse scaling  \",\"attacks  \",\"passwords  \",\"cfg  \",\"bit precision  \",\"averaging  \",\"bit  \",\"objectionable content  \",\"ai text  \",\"streaming  \",\"memorization  \",\"poisoning  \",\"radar  \",\"objectionable  \"],\"type\":\"bar\",\"xaxis\":\"x18\",\"yaxis\":\"y18\"},{\"marker\":{\"color\":\"#56B4E9\"},\"orientation\":\"h\",\"x\":[0.21930108034069146,0.22146411611570554,0.22231126685061423,0.22431973597530833,0.22947225581567865,0.230906522857958,0.23391355689814858,0.24252901393520707,0.24281055209056543,0.25020596218900276,0.25020596218900276,0.25193221685430695,0.25317095038327114,0.2540981277231161,0.2567985519734424,0.2575343556731485,0.2575343556731485,0.2791527226404752,0.28507885746805883,0.2889129592453401,0.3018620360649992,0.30208983252681926,0.3031846041155843,0.30875070191048604,0.3152851421579874,0.32166007748419956,0.32166007748419956,0.3382194481638532,0.35011706198326564,0.4730691744383998],\"y\":[\"tuned  \",\"translation performance  \",\"forgetting  \",\"bangla  \",\"kb  \",\"asymmetric  \",\"instruction data  \",\"idioms  \",\"adaptation  \",\"new language  \",\"impressions  \",\"mixed  \",\"vietnamese  \",\"bloom  \",\"translation  \",\"gptj  \",\"task tasks  \",\"commerce  \",\"tuned llms  \",\"mixed data  \",\"languages  \",\"instruction tuned  \",\"video  \",\"video language  \",\"language adaptation  \",\"code mixed  \",\"new languages  \",\"parrot  \",\"instruction  \",\"bloomz  \"],\"type\":\"bar\",\"xaxis\":\"x19\",\"yaxis\":\"y19\"},{\"marker\":{\"color\":\"#009E73\"},\"orientation\":\"h\",\"x\":[0.2447617906084708,0.2447617906084708,0.2447617906084708,0.24906134015561723,0.2519307273347188,0.2519307273347188,0.25618114150404453,0.2611740103823775,0.2611740103823775,0.2611740103823775,0.2611740103823775,0.2611740103823775,0.2611740103823775,0.2611740103823775,0.2611740103823775,0.2621882719039469,0.2687565652009762,0.2725045520212745,0.2754279486961481,0.2812807931620533,0.28653334889313653,0.29196993770055396,0.2997707477603466,0.2997707477603466,0.3085508662491496,0.3141518619459217,0.3428131185300345,0.5020523177132564,0.5080783385263596,0.675145155239966],\"y\":[\"factually correct  \",\"com thudm  \",\"thudm  \",\"lora  \",\"rtx  \",\"ptq methods  \",\"dialog  \",\"float  \",\"generate factually  \",\"trained weights  \",\"dollars  \",\"gradients pre  \",\"multi digit  \",\"unconditional  \",\"times rtx  \",\"bit quantization  \",\"100k  \",\"arithmetic operations  \",\"weights  \",\"blank  \",\"100b  \",\"quantization  \",\"knowledge assessment  \",\"knowledge grounded  \",\"tweaking  \",\"bilingual  \",\"pruning  \",\"130b  \",\"glm 130b  \",\"glm  \"],\"type\":\"bar\",\"xaxis\":\"x20\",\"yaxis\":\"y20\"},{\"marker\":{\"color\":\"#F0E442\"},\"orientation\":\"h\",\"x\":[0.23245742667142671,0.23996919150184962,0.24291940859385827,0.2431966013203174,0.2431966013203174,0.2461669161393634,0.2500344263699357,0.2503196945227724,0.2503196945227724,0.2503196945227724,0.25083323443693334,0.2514422096938559,0.25436976766173514,0.2595038691304348,0.2595038691304348,0.2595038691304348,0.2618379427087512,0.28256811102033325,0.28470104113271627,0.295884323869537,0.2978537902069237,0.3034569973746886,0.30657776207507476,0.30657776207507476,0.3227930564364286,0.3357020359250198,0.3359037529733936,0.3363190871490589,0.34393193191023547,0.34393193191023547],\"y\":[\"graph completion  \",\"dialogs  \",\"interfaces  \",\"companion  \",\"benchmark results  \",\"term  \",\"report generation  \",\"task solving  \",\"types models  \",\"customizing  \",\"medical  \",\"multimodal  \",\"memory  \",\"foreign languages  \",\"aligned llm  \",\"lingual summarization  \",\"llm  \",\"recommendation  \",\"multimodal capabilities  \",\"long term  \",\"medical report  \",\"chinese  \",\"multi modalities  \",\"memory mechanism  \",\"6b  \",\"single modal  \",\"character  \",\"cc  \",\"pruner  \",\"llm pruner  \"],\"type\":\"bar\",\"xaxis\":\"x21\",\"yaxis\":\"y21\"},{\"marker\":{\"color\":\"#D55E00\"},\"orientation\":\"h\",\"x\":[0.24977939152733283,0.24977939152733283,0.24977939152733283,0.24977939152733283,0.24977939152733283,0.24977939152733283,0.2558026061933828,0.2570952909940292,0.25849571629128526,0.25931364401738927,0.2614328383796488,0.2631146942095113,0.26652806074791746,0.26652806074791746,0.26652806074791746,0.26652806074791746,0.2732005322634441,0.2750264359685547,0.2956694113099792,0.3132506410747781,0.3136821239923068,0.3148761391038655,0.3148761391038655,0.32857112892642093,0.33801128319862356,0.34158425117804114,0.3540759576461249,0.3705761239054332,0.39271876324395666,0.4041679365239261],\"y\":[\"set human  \",\"similar models  \",\"consult  \",\"predatory  \",\"sources information  \",\"physics questions  \",\"commonsense reasoning  \",\"models dialog  \",\"particular  \",\"brain  \",\"dialog  \",\"real time  \",\"majority vote  \",\"reasoning conversational  \",\"answer chatgpt  \",\"intelligence llms  \",\"chatgpt gpt  \",\"fact  \",\"children  \",\"conversational  \",\"oncology  \",\"workshops  \",\"sentient  \",\"radiation  \",\"radiation oncology  \",\"crs  \",\"conscious  \",\"developmental  \",\"conversational ai  \",\"consciousness  \"],\"type\":\"bar\",\"xaxis\":\"x22\",\"yaxis\":\"y22\"},{\"marker\":{\"color\":\"#0072B2\"},\"orientation\":\"h\",\"x\":[0.2602859905599586,0.2666670261197064,0.27405479849804265,0.27416475619162833,0.2744775550118035,0.27699813991893335,0.2845480762143745,0.29689265759555683,0.3014071110259702,0.3064543384433023,0.30837985911780785,0.3121769776381452,0.3228015363994257,0.3245836724485993,0.32659907260935733,0.3283851777649895,0.33328764007111866,0.33616497781280913,0.33616497781280913,0.338106987557214,0.3538629895891384,0.37712412497618913,0.3795258245585891,0.38099334765115395,0.3879265952992536,0.38911490714402414,0.3971129709418854,0.45504991884995677,0.4681167343213493,0.4947657002535983],\"y\":[\"neural model  \",\"questions code  \",\"control  \",\"idioms  \",\"convolution  \",\"attention  \",\"techniques software  \",\"nlp techniques  \",\"problems require  \",\"smells  \",\"software  \",\"naturalness  \",\"completion  \",\"codes  \",\"generated codes  \",\"ai assisted  \",\"code  \",\"code smells  \",\"attention weights  \",\"deepmind  \",\"competitive programming  \",\"completion tools  \",\"supported  \",\"code completion  \",\"copilot  \",\"llm assisted  \",\"assisted  \",\"programming  \",\"ai supported  \",\"assisted programming  \"],\"type\":\"bar\",\"xaxis\":\"x23\",\"yaxis\":\"y23\"},{\"marker\":{\"color\":\"#CC79A7\"},\"orientation\":\"h\",\"x\":[0.28110503226689454,0.2830201411958829,0.2834431919198483,0.2914187141541856,0.2914187141541856,0.29547990930358675,0.29606184696069504,0.29719435102334035,0.3049936671360193,0.3086848236708581,0.32327553169842427,0.3243886939034614,0.33410382277323963,0.3344850650547478,0.3344850650547478,0.34186277407907023,0.3442819465912463,0.3478992265761352,0.3491812628199654,0.3663447254814862,0.3691747791896805,0.3691747791896805,0.37685835430297754,0.38110450826870007,0.40187135809322244,0.4049013816600838,0.41274995092330014,0.4623024988661713,0.5194062715411063,0.5405325066567167],\"y\":[\"deliberative  \",\"code  \",\"infrastructure  \",\"assessment techniques  \",\"mismatched  \",\"industries  \",\"code llms  \",\"modes  \",\"humaneval  \",\"risk assessment  \",\"opinions  \",\"practices  \",\"claude  \",\"agreed  \",\"including openai  \",\"failure modes  \",\"catastrophic risks  \",\"best practices  \",\"risks  \",\"safety  \",\"labs  \",\"safety training  \",\"companies  \",\"compiler  \",\"coverage  \",\"risk  \",\"anthropic claude  \",\"agi  \",\"code coverage  \",\"anthropic  \"],\"type\":\"bar\",\"xaxis\":\"x24\",\"yaxis\":\"y24\"},{\"marker\":{\"color\":\"#E69F00\"},\"orientation\":\"h\",\"x\":[0.28592644637454817,0.28592644637454817,0.2883047093150375,0.291625350196851,0.2964170248863935,0.2964170248863935,0.2964170248863935,0.2964170248863935,0.300277797976382,0.30113979506487204,0.31069186735170884,0.3165076148357052,0.3192370318344914,0.3192370318344914,0.3361200344848975,0.34531689687411893,0.3465102038825615,0.35018694879245005,0.3571217620857731,0.35935215857103436,0.3625520397389161,0.3686231725298815,0.3686231725298815,0.3747054754327687,0.3798901594005338,0.3928545665306429,0.3992742681341479,0.45989994719417154,0.47222526794817377,0.5139885028344899],\"y\":[\"unseen languages  \",\"ontology concepts  \",\"parallel data  \",\"meta  \",\"clinical cases  \",\"opposite  \",\"totally  \",\"sized plms  \",\"clinical  \",\"translation task  \",\"directions  \",\"language pairs  \",\"translation large  \",\"wmt22  \",\"machine  \",\"gender  \",\"nmt  \",\"specific translations  \",\"translation models  \",\"ambiguous  \",\"clinical domain  \",\"comet  \",\"translation directions  \",\"sized  \",\"en  \",\"multilingual machine  \",\"meta ai  \",\"smaller sized  \",\"machine translation  \",\"translation  \"],\"type\":\"bar\",\"xaxis\":\"x25\",\"yaxis\":\"y25\"},{\"marker\":{\"color\":\"#56B4E9\"},\"orientation\":\"h\",\"x\":[0.30026579331560355,0.30445319701713447,0.31049114328257477,0.3142583714748984,0.32012674091305043,0.3214944655989214,0.3236017593875159,0.3269019451382708,0.32762248422700957,0.33491610268855015,0.3407993264305682,0.34472560907762745,0.3449041303947593,0.3515964603616835,0.35737351595342337,0.35737351595342337,0.35737351595342337,0.35737351595342337,0.36774899041761233,0.36888861421653846,0.37287749162550843,0.37854734579039606,0.37854734579039606,0.3829758697240789,0.3833339521517532,0.39069555870481826,0.422200921755166,0.4305618403294795,0.4687181234140314,0.6409521683494755],\"y\":[\"pareto  \",\"accelerating  \",\"choice  \",\"letter  \",\"foundation language  \",\"emph  \",\"70b  \",\"models scaled  \",\"compression  \",\"target model  \",\"sampling  \",\"efficient pre  \",\"scientific  \",\"multiple choice  \",\"subspaces  \",\"parameters train  \",\"query key  \",\"improve large  \",\"scientific knowledge  \",\"heads  \",\"choice question  \",\"speculative  \",\"compute optimal  \",\"scaling  \",\"compute  \",\"hyperparameter  \",\"compressors  \",\"circuit  \",\"galactica  \",\"chinchilla  \"],\"type\":\"bar\",\"xaxis\":\"x26\",\"yaxis\":\"y26\"},{\"marker\":{\"color\":\"#009E73\"},\"orientation\":\"h\",\"x\":[0.3056456441897298,0.30818973943294237,0.3117951685882956,0.31335054568370246,0.31335054568370246,0.31335054568370246,0.3192019626470383,0.3274270695138798,0.32792950939807186,0.34372976989810894,0.34372976989810894,0.3465888260772661,0.3537500334985082,0.3537500334985082,0.35383678241968153,0.356341139653151,0.356341139653151,0.356341139653151,0.3595102539907422,0.3837744737738705,0.39094096669008976,0.39094096669008976,0.39921489245391667,0.4089806645441818,0.42232906086189986,0.4234132624395689,0.43199933529830203,0.5047026177803154,0.5153842100106681,0.5510047754803017],\"y\":[\"capacity  \",\"matters  \",\"scaling  \",\"model quality  \",\"tpu  \",\"scale multilingual  \",\"gated  \",\"ml  \",\"transformer  \",\"500m  \",\"sharding  \",\"activated  \",\"carbon footprint  \",\"switch  \",\"mixture  \",\"cost method  \",\"expressiveness  \",\"number experts  \",\"computation  \",\"switch transformer  \",\"routing  \",\"sparsely activated  \",\"mlp  \",\"experts  \",\"carbon  \",\"sparsely  \",\"mixture experts  \",\"mlps  \",\"co2e  \",\"energy  \"],\"type\":\"bar\",\"xaxis\":\"x27\",\"yaxis\":\"y27\"},{\"marker\":{\"color\":\"#F0E442\"},\"orientation\":\"h\",\"x\":[0.31874841174114693,0.32101170733173473,0.32511112912721724,0.32964501735498913,0.33465749254204535,0.3448755242867753,0.3529117715034873,0.3539512753824695,0.3539512753824695,0.3554401224199418,0.3605235569467297,0.36262856020204315,0.36336331654925574,0.3732497490598145,0.3732497490598145,0.3763543448640553,0.3839341934568723,0.38422476553435386,0.38422476553435386,0.38694420036604066,0.38694420036604066,0.38694420036604066,0.38694420036604066,0.3931093271192168,0.398178188030888,0.4042177009018997,0.40987004766363905,0.4134007109874356,0.419575817246696,0.5128342279415579],\"y\":[\"computation  \",\"diffusion  \",\"sparsely  \",\"scaling language  \",\"model lm  \",\"weights  \",\"forward  \",\"baseline model  \",\"progress natural  \",\"simulation  \",\"feed  \",\"forward layers  \",\"mixture experts  \",\"proportions  \",\"generalist language  \",\"activated  \",\"fusion  \",\"layers  \",\"mixture  \",\"online learning  \",\"online reinforcement  \",\"convolutions  \",\"knowledge downstream  \",\"geometry  \",\"feed forward  \",\"dense  \",\"wer  \",\"grounding  \",\"shallow  \",\"shallow fusion  \"],\"type\":\"bar\",\"xaxis\":\"x28\",\"yaxis\":\"y28\"},{\"marker\":{\"color\":\"#D55E00\"},\"orientation\":\"h\",\"x\":[0.2740119318062379,0.27626347893964387,0.27626347893964387,0.27719291202169477,0.27791897574504854,0.2786370228116362,0.2811465167510887,0.2885865244774046,0.30445319701713447,0.309082613557124,0.309082613557124,0.3142583714748984,0.32012674091305043,0.32012674091305043,0.3225973631629631,0.33047150308349105,0.33389412075598707,0.33491610268855015,0.33491610268855015,0.3385153409078688,0.34338701983231285,0.34472560907762745,0.35737351595342337,0.37619601341879616,0.39000547821320597,0.4003714807560318,0.4101867791142606,0.42463995722364317,0.44746998141386995,0.45272757867753394],\"y\":[\"rewriting  \",\"task learning  \",\"model generated  \",\"points  \",\"previous  \",\"69  \",\"outperforms previous  \",\"joint  \",\"based sentiment  \",\"human labor  \",\"aspect based  \",\"sample efficiency  \",\"naturalinstructions  \",\"super naturalinstructions  \",\"aspect  \",\"super  \",\"instruction tuned  \",\"clinical biomedical  \",\"instruction learning  \",\"instruction  \",\"sota  \",\"examples instructions  \",\"000 examples  \",\"subtasks  \",\"instructions  \",\"ate  \",\"unnatural  \",\"invariant  \",\"instruct  \",\"absa  \"],\"type\":\"bar\",\"xaxis\":\"x29\",\"yaxis\":\"y29\"},{\"marker\":{\"color\":\"#0072B2\"},\"orientation\":\"h\",\"x\":[0.3104184556009339,0.31134919938269645,0.31134919938269645,0.31134919938269645,0.3224743162910039,0.3224743162910039,0.3285322457278354,0.32929920490864456,0.32929920490864456,0.3373721324288627,0.3373721324288627,0.34376181051927235,0.3468578390778911,0.34725357456314887,0.3599942319373242,0.3621419284883571,0.3657299686874974,0.3657299686874974,0.3813233351558348,0.39415185904031097,0.3986448619919168,0.4131947889426936,0.4208316804777241,0.42529703451861334,0.4403142604010142,0.4523244768120917,0.45604755161572885,0.4771162452476295,0.49517548150129903,0.5048293104438633],\"y\":[\"correctly  \",\"believe work  \",\"variety language  \",\"justify  \",\"robust models  \",\"tasks open  \",\"reason  \",\"semantic textual  \",\"textual similarity  \",\"mturk  \",\"query document  \",\"assumption  \",\"don  \",\"interesting findings  \",\"document pairs  \",\"contexts  \",\"text annotation  \",\"v2  \",\"annotation tasks  \",\"similarity  \",\"flan  \",\"models correctly  \",\"break  \",\"ball  \",\"definitive  \",\"assumptions  \",\"gpt flan  \",\"correctly reason  \",\"inpars  \",\"sts  \"],\"type\":\"bar\",\"xaxis\":\"x30\",\"yaxis\":\"y30\"}],                        {\"template\":{\"data\":{\"barpolar\":[{\"marker\":{\"line\":{\"color\":\"white\",\"width\":0.5},\"pattern\":{\"fillmode\":\"overlay\",\"size\":10,\"solidity\":0.2}},\"type\":\"barpolar\"}],\"bar\":[{\"error_x\":{\"color\":\"#2a3f5f\"},\"error_y\":{\"color\":\"#2a3f5f\"},\"marker\":{\"line\":{\"color\":\"white\",\"width\":0.5},\"pattern\":{\"fillmode\":\"overlay\",\"size\":10,\"solidity\":0.2}},\"type\":\"bar\"}],\"carpet\":[{\"aaxis\":{\"endlinecolor\":\"#2a3f5f\",\"gridcolor\":\"#C8D4E3\",\"linecolor\":\"#C8D4E3\",\"minorgridcolor\":\"#C8D4E3\",\"startlinecolor\":\"#2a3f5f\"},\"baxis\":{\"endlinecolor\":\"#2a3f5f\",\"gridcolor\":\"#C8D4E3\",\"linecolor\":\"#C8D4E3\",\"minorgridcolor\":\"#C8D4E3\",\"startlinecolor\":\"#2a3f5f\"},\"type\":\"carpet\"}],\"choropleth\":[{\"colorbar\":{\"outlinewidth\":0,\"ticks\":\"\"},\"type\":\"choropleth\"}],\"contourcarpet\":[{\"colorbar\":{\"outlinewidth\":0,\"ticks\":\"\"},\"type\":\"contourcarpet\"}],\"contour\":[{\"colorbar\":{\"outlinewidth\":0,\"ticks\":\"\"},\"colorscale\":[[0.0,\"#0d0887\"],[0.1111111111111111,\"#46039f\"],[0.2222222222222222,\"#7201a8\"],[0.3333333333333333,\"#9c179e\"],[0.4444444444444444,\"#bd3786\"],[0.5555555555555556,\"#d8576b\"],[0.6666666666666666,\"#ed7953\"],[0.7777777777777778,\"#fb9f3a\"],[0.8888888888888888,\"#fdca26\"],[1.0,\"#f0f921\"]],\"type\":\"contour\"}],\"heatmapgl\":[{\"colorbar\":{\"outlinewidth\":0,\"ticks\":\"\"},\"colorscale\":[[0.0,\"#0d0887\"],[0.1111111111111111,\"#46039f\"],[0.2222222222222222,\"#7201a8\"],[0.3333333333333333,\"#9c179e\"],[0.4444444444444444,\"#bd3786\"],[0.5555555555555556,\"#d8576b\"],[0.6666666666666666,\"#ed7953\"],[0.7777777777777778,\"#fb9f3a\"],[0.8888888888888888,\"#fdca26\"],[1.0,\"#f0f921\"]],\"type\":\"heatmapgl\"}],\"heatmap\":[{\"colorbar\":{\"outlinewidth\":0,\"ticks\":\"\"},\"colorscale\":[[0.0,\"#0d0887\"],[0.1111111111111111,\"#46039f\"],[0.2222222222222222,\"#7201a8\"],[0.3333333333333333,\"#9c179e\"],[0.4444444444444444,\"#bd3786\"],[0.5555555555555556,\"#d8576b\"],[0.6666666666666666,\"#ed7953\"],[0.7777777777777778,\"#fb9f3a\"],[0.8888888888888888,\"#fdca26\"],[1.0,\"#f0f921\"]],\"type\":\"heatmap\"}],\"histogram2dcontour\":[{\"colorbar\":{\"outlinewidth\":0,\"ticks\":\"\"},\"colorscale\":[[0.0,\"#0d0887\"],[0.1111111111111111,\"#46039f\"],[0.2222222222222222,\"#7201a8\"],[0.3333333333333333,\"#9c179e\"],[0.4444444444444444,\"#bd3786\"],[0.5555555555555556,\"#d8576b\"],[0.6666666666666666,\"#ed7953\"],[0.7777777777777778,\"#fb9f3a\"],[0.8888888888888888,\"#fdca26\"],[1.0,\"#f0f921\"]],\"type\":\"histogram2dcontour\"}],\"histogram2d\":[{\"colorbar\":{\"outlinewidth\":0,\"ticks\":\"\"},\"colorscale\":[[0.0,\"#0d0887\"],[0.1111111111111111,\"#46039f\"],[0.2222222222222222,\"#7201a8\"],[0.3333333333333333,\"#9c179e\"],[0.4444444444444444,\"#bd3786\"],[0.5555555555555556,\"#d8576b\"],[0.6666666666666666,\"#ed7953\"],[0.7777777777777778,\"#fb9f3a\"],[0.8888888888888888,\"#fdca26\"],[1.0,\"#f0f921\"]],\"type\":\"histogram2d\"}],\"histogram\":[{\"marker\":{\"pattern\":{\"fillmode\":\"overlay\",\"size\":10,\"solidity\":0.2}},\"type\":\"histogram\"}],\"mesh3d\":[{\"colorbar\":{\"outlinewidth\":0,\"ticks\":\"\"},\"type\":\"mesh3d\"}],\"parcoords\":[{\"line\":{\"colorbar\":{\"outlinewidth\":0,\"ticks\":\"\"}},\"type\":\"parcoords\"}],\"pie\":[{\"automargin\":true,\"type\":\"pie\"}],\"scatter3d\":[{\"line\":{\"colorbar\":{\"outlinewidth\":0,\"ticks\":\"\"}},\"marker\":{\"colorbar\":{\"outlinewidth\":0,\"ticks\":\"\"}},\"type\":\"scatter3d\"}],\"scattercarpet\":[{\"marker\":{\"colorbar\":{\"outlinewidth\":0,\"ticks\":\"\"}},\"type\":\"scattercarpet\"}],\"scattergeo\":[{\"marker\":{\"colorbar\":{\"outlinewidth\":0,\"ticks\":\"\"}},\"type\":\"scattergeo\"}],\"scattergl\":[{\"marker\":{\"colorbar\":{\"outlinewidth\":0,\"ticks\":\"\"}},\"type\":\"scattergl\"}],\"scattermapbox\":[{\"marker\":{\"colorbar\":{\"outlinewidth\":0,\"ticks\":\"\"}},\"type\":\"scattermapbox\"}],\"scatterpolargl\":[{\"marker\":{\"colorbar\":{\"outlinewidth\":0,\"ticks\":\"\"}},\"type\":\"scatterpolargl\"}],\"scatterpolar\":[{\"marker\":{\"colorbar\":{\"outlinewidth\":0,\"ticks\":\"\"}},\"type\":\"scatterpolar\"}],\"scatter\":[{\"fillpattern\":{\"fillmode\":\"overlay\",\"size\":10,\"solidity\":0.2},\"type\":\"scatter\"}],\"scatterternary\":[{\"marker\":{\"colorbar\":{\"outlinewidth\":0,\"ticks\":\"\"}},\"type\":\"scatterternary\"}],\"surface\":[{\"colorbar\":{\"outlinewidth\":0,\"ticks\":\"\"},\"colorscale\":[[0.0,\"#0d0887\"],[0.1111111111111111,\"#46039f\"],[0.2222222222222222,\"#7201a8\"],[0.3333333333333333,\"#9c179e\"],[0.4444444444444444,\"#bd3786\"],[0.5555555555555556,\"#d8576b\"],[0.6666666666666666,\"#ed7953\"],[0.7777777777777778,\"#fb9f3a\"],[0.8888888888888888,\"#fdca26\"],[1.0,\"#f0f921\"]],\"type\":\"surface\"}],\"table\":[{\"cells\":{\"fill\":{\"color\":\"#EBF0F8\"},\"line\":{\"color\":\"white\"}},\"header\":{\"fill\":{\"color\":\"#C8D4E3\"},\"line\":{\"color\":\"white\"}},\"type\":\"table\"}]},\"layout\":{\"annotationdefaults\":{\"arrowcolor\":\"#2a3f5f\",\"arrowhead\":0,\"arrowwidth\":1},\"autotypenumbers\":\"strict\",\"coloraxis\":{\"colorbar\":{\"outlinewidth\":0,\"ticks\":\"\"}},\"colorscale\":{\"diverging\":[[0,\"#8e0152\"],[0.1,\"#c51b7d\"],[0.2,\"#de77ae\"],[0.3,\"#f1b6da\"],[0.4,\"#fde0ef\"],[0.5,\"#f7f7f7\"],[0.6,\"#e6f5d0\"],[0.7,\"#b8e186\"],[0.8,\"#7fbc41\"],[0.9,\"#4d9221\"],[1,\"#276419\"]],\"sequential\":[[0.0,\"#0d0887\"],[0.1111111111111111,\"#46039f\"],[0.2222222222222222,\"#7201a8\"],[0.3333333333333333,\"#9c179e\"],[0.4444444444444444,\"#bd3786\"],[0.5555555555555556,\"#d8576b\"],[0.6666666666666666,\"#ed7953\"],[0.7777777777777778,\"#fb9f3a\"],[0.8888888888888888,\"#fdca26\"],[1.0,\"#f0f921\"]],\"sequentialminus\":[[0.0,\"#0d0887\"],[0.1111111111111111,\"#46039f\"],[0.2222222222222222,\"#7201a8\"],[0.3333333333333333,\"#9c179e\"],[0.4444444444444444,\"#bd3786\"],[0.5555555555555556,\"#d8576b\"],[0.6666666666666666,\"#ed7953\"],[0.7777777777777778,\"#fb9f3a\"],[0.8888888888888888,\"#fdca26\"],[1.0,\"#f0f921\"]]},\"colorway\":[\"#636efa\",\"#EF553B\",\"#00cc96\",\"#ab63fa\",\"#FFA15A\",\"#19d3f3\",\"#FF6692\",\"#B6E880\",\"#FF97FF\",\"#FECB52\"],\"font\":{\"color\":\"#2a3f5f\"},\"geo\":{\"bgcolor\":\"white\",\"lakecolor\":\"white\",\"landcolor\":\"white\",\"showlakes\":true,\"showland\":true,\"subunitcolor\":\"#C8D4E3\"},\"hoverlabel\":{\"align\":\"left\"},\"hovermode\":\"closest\",\"mapbox\":{\"style\":\"light\"},\"paper_bgcolor\":\"white\",\"plot_bgcolor\":\"white\",\"polar\":{\"angularaxis\":{\"gridcolor\":\"#EBF0F8\",\"linecolor\":\"#EBF0F8\",\"ticks\":\"\"},\"bgcolor\":\"white\",\"radialaxis\":{\"gridcolor\":\"#EBF0F8\",\"linecolor\":\"#EBF0F8\",\"ticks\":\"\"}},\"scene\":{\"xaxis\":{\"backgroundcolor\":\"white\",\"gridcolor\":\"#DFE8F3\",\"gridwidth\":2,\"linecolor\":\"#EBF0F8\",\"showbackground\":true,\"ticks\":\"\",\"zerolinecolor\":\"#EBF0F8\"},\"yaxis\":{\"backgroundcolor\":\"white\",\"gridcolor\":\"#DFE8F3\",\"gridwidth\":2,\"linecolor\":\"#EBF0F8\",\"showbackground\":true,\"ticks\":\"\",\"zerolinecolor\":\"#EBF0F8\"},\"zaxis\":{\"backgroundcolor\":\"white\",\"gridcolor\":\"#DFE8F3\",\"gridwidth\":2,\"linecolor\":\"#EBF0F8\",\"showbackground\":true,\"ticks\":\"\",\"zerolinecolor\":\"#EBF0F8\"}},\"shapedefaults\":{\"line\":{\"color\":\"#2a3f5f\"}},\"ternary\":{\"aaxis\":{\"gridcolor\":\"#DFE8F3\",\"linecolor\":\"#A2B1C6\",\"ticks\":\"\"},\"baxis\":{\"gridcolor\":\"#DFE8F3\",\"linecolor\":\"#A2B1C6\",\"ticks\":\"\"},\"bgcolor\":\"white\",\"caxis\":{\"gridcolor\":\"#DFE8F3\",\"linecolor\":\"#A2B1C6\",\"ticks\":\"\"}},\"title\":{\"x\":0.05},\"xaxis\":{\"automargin\":true,\"gridcolor\":\"#EBF0F8\",\"linecolor\":\"#EBF0F8\",\"ticks\":\"\",\"title\":{\"standoff\":15},\"zerolinecolor\":\"#EBF0F8\",\"zerolinewidth\":2},\"yaxis\":{\"automargin\":true,\"gridcolor\":\"#EBF0F8\",\"linecolor\":\"#EBF0F8\",\"ticks\":\"\",\"title\":{\"standoff\":15},\"zerolinecolor\":\"#EBF0F8\",\"zerolinewidth\":2}}},\"xaxis\":{\"anchor\":\"y\",\"domain\":[0.0,0.175],\"showgrid\":true},\"yaxis\":{\"anchor\":\"x\",\"domain\":[0.91875,1.0],\"showgrid\":true},\"xaxis2\":{\"anchor\":\"y2\",\"domain\":[0.275,0.45],\"showgrid\":true},\"yaxis2\":{\"anchor\":\"x2\",\"domain\":[0.91875,1.0],\"showgrid\":true},\"xaxis3\":{\"anchor\":\"y3\",\"domain\":[0.55,0.7250000000000001],\"showgrid\":true},\"yaxis3\":{\"anchor\":\"x3\",\"domain\":[0.91875,1.0],\"showgrid\":true},\"xaxis4\":{\"anchor\":\"y4\",\"domain\":[0.825,1.0],\"showgrid\":true},\"yaxis4\":{\"anchor\":\"x4\",\"domain\":[0.91875,1.0],\"showgrid\":true},\"xaxis5\":{\"anchor\":\"y5\",\"domain\":[0.0,0.175],\"showgrid\":true},\"yaxis5\":{\"anchor\":\"x5\",\"domain\":[0.7875,0.8687499999999999],\"showgrid\":true},\"xaxis6\":{\"anchor\":\"y6\",\"domain\":[0.275,0.45],\"showgrid\":true},\"yaxis6\":{\"anchor\":\"x6\",\"domain\":[0.7875,0.8687499999999999],\"showgrid\":true},\"xaxis7\":{\"anchor\":\"y7\",\"domain\":[0.55,0.7250000000000001],\"showgrid\":true},\"yaxis7\":{\"anchor\":\"x7\",\"domain\":[0.7875,0.8687499999999999],\"showgrid\":true},\"xaxis8\":{\"anchor\":\"y8\",\"domain\":[0.825,1.0],\"showgrid\":true},\"yaxis8\":{\"anchor\":\"x8\",\"domain\":[0.7875,0.8687499999999999],\"showgrid\":true},\"xaxis9\":{\"anchor\":\"y9\",\"domain\":[0.0,0.175],\"showgrid\":true},\"yaxis9\":{\"anchor\":\"x9\",\"domain\":[0.65625,0.7375],\"showgrid\":true},\"xaxis10\":{\"anchor\":\"y10\",\"domain\":[0.275,0.45],\"showgrid\":true},\"yaxis10\":{\"anchor\":\"x10\",\"domain\":[0.65625,0.7375],\"showgrid\":true},\"xaxis11\":{\"anchor\":\"y11\",\"domain\":[0.55,0.7250000000000001],\"showgrid\":true},\"yaxis11\":{\"anchor\":\"x11\",\"domain\":[0.65625,0.7375],\"showgrid\":true},\"xaxis12\":{\"anchor\":\"y12\",\"domain\":[0.825,1.0],\"showgrid\":true},\"yaxis12\":{\"anchor\":\"x12\",\"domain\":[0.65625,0.7375],\"showgrid\":true},\"xaxis13\":{\"anchor\":\"y13\",\"domain\":[0.0,0.175],\"showgrid\":true},\"yaxis13\":{\"anchor\":\"x13\",\"domain\":[0.5249999999999999,0.60625],\"showgrid\":true},\"xaxis14\":{\"anchor\":\"y14\",\"domain\":[0.275,0.45],\"showgrid\":true},\"yaxis14\":{\"anchor\":\"x14\",\"domain\":[0.5249999999999999,0.60625],\"showgrid\":true},\"xaxis15\":{\"anchor\":\"y15\",\"domain\":[0.55,0.7250000000000001],\"showgrid\":true},\"yaxis15\":{\"anchor\":\"x15\",\"domain\":[0.5249999999999999,0.60625],\"showgrid\":true},\"xaxis16\":{\"anchor\":\"y16\",\"domain\":[0.825,1.0],\"showgrid\":true},\"yaxis16\":{\"anchor\":\"x16\",\"domain\":[0.5249999999999999,0.60625],\"showgrid\":true},\"xaxis17\":{\"anchor\":\"y17\",\"domain\":[0.0,0.175],\"showgrid\":true},\"yaxis17\":{\"anchor\":\"x17\",\"domain\":[0.39375,0.475],\"showgrid\":true},\"xaxis18\":{\"anchor\":\"y18\",\"domain\":[0.275,0.45],\"showgrid\":true},\"yaxis18\":{\"anchor\":\"x18\",\"domain\":[0.39375,0.475],\"showgrid\":true},\"xaxis19\":{\"anchor\":\"y19\",\"domain\":[0.55,0.7250000000000001],\"showgrid\":true},\"yaxis19\":{\"anchor\":\"x19\",\"domain\":[0.39375,0.475],\"showgrid\":true},\"xaxis20\":{\"anchor\":\"y20\",\"domain\":[0.825,1.0],\"showgrid\":true},\"yaxis20\":{\"anchor\":\"x20\",\"domain\":[0.39375,0.475],\"showgrid\":true},\"xaxis21\":{\"anchor\":\"y21\",\"domain\":[0.0,0.175],\"showgrid\":true},\"yaxis21\":{\"anchor\":\"x21\",\"domain\":[0.26249999999999996,0.34374999999999994],\"showgrid\":true},\"xaxis22\":{\"anchor\":\"y22\",\"domain\":[0.275,0.45],\"showgrid\":true},\"yaxis22\":{\"anchor\":\"x22\",\"domain\":[0.26249999999999996,0.34374999999999994],\"showgrid\":true},\"xaxis23\":{\"anchor\":\"y23\",\"domain\":[0.55,0.7250000000000001],\"showgrid\":true},\"yaxis23\":{\"anchor\":\"x23\",\"domain\":[0.26249999999999996,0.34374999999999994],\"showgrid\":true},\"xaxis24\":{\"anchor\":\"y24\",\"domain\":[0.825,1.0],\"showgrid\":true},\"yaxis24\":{\"anchor\":\"x24\",\"domain\":[0.26249999999999996,0.34374999999999994],\"showgrid\":true},\"xaxis25\":{\"anchor\":\"y25\",\"domain\":[0.0,0.175],\"showgrid\":true},\"yaxis25\":{\"anchor\":\"x25\",\"domain\":[0.13124999999999998,0.21249999999999997],\"showgrid\":true},\"xaxis26\":{\"anchor\":\"y26\",\"domain\":[0.275,0.45],\"showgrid\":true},\"yaxis26\":{\"anchor\":\"x26\",\"domain\":[0.13124999999999998,0.21249999999999997],\"showgrid\":true},\"xaxis27\":{\"anchor\":\"y27\",\"domain\":[0.55,0.7250000000000001],\"showgrid\":true},\"yaxis27\":{\"anchor\":\"x27\",\"domain\":[0.13124999999999998,0.21249999999999997],\"showgrid\":true},\"xaxis28\":{\"anchor\":\"y28\",\"domain\":[0.825,1.0],\"showgrid\":true},\"yaxis28\":{\"anchor\":\"x28\",\"domain\":[0.13124999999999998,0.21249999999999997],\"showgrid\":true},\"xaxis29\":{\"anchor\":\"y29\",\"domain\":[0.0,0.175],\"showgrid\":true},\"yaxis29\":{\"anchor\":\"x29\",\"domain\":[0.0,0.08124999999999999],\"showgrid\":true},\"xaxis30\":{\"anchor\":\"y30\",\"domain\":[0.275,0.45],\"showgrid\":true},\"yaxis30\":{\"anchor\":\"x30\",\"domain\":[0.0,0.08124999999999999],\"showgrid\":true},\"xaxis31\":{\"anchor\":\"y31\",\"domain\":[0.55,0.7250000000000001],\"showgrid\":true},\"yaxis31\":{\"anchor\":\"x31\",\"domain\":[0.0,0.08124999999999999],\"showgrid\":true},\"xaxis32\":{\"anchor\":\"y32\",\"domain\":[0.825,1.0],\"showgrid\":true},\"yaxis32\":{\"anchor\":\"x32\",\"domain\":[0.0,0.08124999999999999],\"showgrid\":true},\"annotations\":[{\"font\":{\"size\":16},\"showarrow\":false,\"text\":\"ChatGPT\",\"x\":0.0875,\"xanchor\":\"center\",\"xref\":\"paper\",\"y\":1.0,\"yanchor\":\"bottom\",\"yref\":\"paper\"},{\"font\":{\"size\":16},\"showarrow\":false,\"text\":\"GPT-3\",\"x\":0.36250000000000004,\"xanchor\":\"center\",\"xref\":\"paper\",\"y\":1.0,\"yanchor\":\"bottom\",\"yref\":\"paper\"},{\"font\":{\"size\":16},\"showarrow\":false,\"text\":\"GPT-4\",\"x\":0.6375000000000001,\"xanchor\":\"center\",\"xref\":\"paper\",\"y\":1.0,\"yanchor\":\"bottom\",\"yref\":\"paper\"},{\"font\":{\"size\":16},\"showarrow\":false,\"text\":\"T5\",\"x\":0.9125,\"xanchor\":\"center\",\"xref\":\"paper\",\"y\":1.0,\"yanchor\":\"bottom\",\"yref\":\"paper\"},{\"font\":{\"size\":16},\"showarrow\":false,\"text\":\"LLaMA\",\"x\":0.0875,\"xanchor\":\"center\",\"xref\":\"paper\",\"y\":0.8687499999999999,\"yanchor\":\"bottom\",\"yref\":\"paper\"},{\"font\":{\"size\":16},\"showarrow\":false,\"text\":\"Codex\",\"x\":0.36250000000000004,\"xanchor\":\"center\",\"xref\":\"paper\",\"y\":0.8687499999999999,\"yanchor\":\"bottom\",\"yref\":\"paper\"},{\"font\":{\"size\":16},\"showarrow\":false,\"text\":\"OPT\",\"x\":0.6375000000000001,\"xanchor\":\"center\",\"xref\":\"paper\",\"y\":0.8687499999999999,\"yanchor\":\"bottom\",\"yref\":\"paper\"},{\"font\":{\"size\":16},\"showarrow\":false,\"text\":\"PaLM\",\"x\":0.9125,\"xanchor\":\"center\",\"xref\":\"paper\",\"y\":0.8687499999999999,\"yanchor\":\"bottom\",\"yref\":\"paper\"},{\"font\":{\"size\":16},\"showarrow\":false,\"text\":\"FLAN\",\"x\":0.0875,\"xanchor\":\"center\",\"xref\":\"paper\",\"y\":0.7375,\"yanchor\":\"bottom\",\"yref\":\"paper\"},{\"font\":{\"size\":16},\"showarrow\":false,\"text\":\"BLOOM\",\"x\":0.36250000000000004,\"xanchor\":\"center\",\"xref\":\"paper\",\"y\":0.7375,\"yanchor\":\"bottom\",\"yref\":\"paper\"},{\"font\":{\"size\":16},\"showarrow\":false,\"text\":\"Flan-T5\",\"x\":0.6375000000000001,\"xanchor\":\"center\",\"xref\":\"paper\",\"y\":0.7375,\"yanchor\":\"bottom\",\"yref\":\"paper\"},{\"font\":{\"size\":16},\"showarrow\":false,\"text\":\"Alpaca\",\"x\":0.9125,\"xanchor\":\"center\",\"xref\":\"paper\",\"y\":0.7375,\"yanchor\":\"bottom\",\"yref\":\"paper\"},{\"font\":{\"size\":16},\"showarrow\":false,\"text\":\"Vicuna\",\"x\":0.0875,\"xanchor\":\"center\",\"xref\":\"paper\",\"y\":0.60625,\"yanchor\":\"bottom\",\"yref\":\"paper\"},{\"font\":{\"size\":16},\"showarrow\":false,\"text\":\"InstructGPT\",\"x\":0.36250000000000004,\"xanchor\":\"center\",\"xref\":\"paper\",\"y\":0.60625,\"yanchor\":\"bottom\",\"yref\":\"paper\"},{\"font\":{\"size\":16},\"showarrow\":false,\"text\":\"Claude\",\"x\":0.6375000000000001,\"xanchor\":\"center\",\"xref\":\"paper\",\"y\":0.60625,\"yanchor\":\"bottom\",\"yref\":\"paper\"},{\"font\":{\"size\":16},\"showarrow\":false,\"text\":\"CodeGen\",\"x\":0.9125,\"xanchor\":\"center\",\"xref\":\"paper\",\"y\":0.60625,\"yanchor\":\"bottom\",\"yref\":\"paper\"},{\"font\":{\"size\":16},\"showarrow\":false,\"text\":\"mT5\",\"x\":0.0875,\"xanchor\":\"center\",\"xref\":\"paper\",\"y\":0.475,\"yanchor\":\"bottom\",\"yref\":\"paper\"},{\"font\":{\"size\":16},\"showarrow\":false,\"text\":\"T0\",\"x\":0.36250000000000004,\"xanchor\":\"center\",\"xref\":\"paper\",\"y\":0.475,\"yanchor\":\"bottom\",\"yref\":\"paper\"},{\"font\":{\"size\":16},\"showarrow\":false,\"text\":\"BLOOMZ\",\"x\":0.6375000000000001,\"xanchor\":\"center\",\"xref\":\"paper\",\"y\":0.475,\"yanchor\":\"bottom\",\"yref\":\"paper\"},{\"font\":{\"size\":16},\"showarrow\":false,\"text\":\"Pythia\",\"x\":0.9125,\"xanchor\":\"center\",\"xref\":\"paper\",\"y\":0.475,\"yanchor\":\"bottom\",\"yref\":\"paper\"},{\"font\":{\"size\":16},\"showarrow\":false,\"text\":\"GLM\",\"x\":0.0875,\"xanchor\":\"center\",\"xref\":\"paper\",\"y\":0.34374999999999994,\"yanchor\":\"bottom\",\"yref\":\"paper\"},{\"font\":{\"size\":16},\"showarrow\":false,\"text\":\"Anthropic\",\"x\":0.36250000000000004,\"xanchor\":\"center\",\"xref\":\"paper\",\"y\":0.34374999999999994,\"yanchor\":\"bottom\",\"yref\":\"paper\"},{\"font\":{\"size\":16},\"showarrow\":false,\"text\":\"ChatGLM\",\"x\":0.6375000000000001,\"xanchor\":\"center\",\"xref\":\"paper\",\"y\":0.34374999999999994,\"yanchor\":\"bottom\",\"yref\":\"paper\"},{\"font\":{\"size\":16},\"showarrow\":false,\"text\":\"LaMDA\",\"x\":0.9125,\"xanchor\":\"center\",\"xref\":\"paper\",\"y\":0.34374999999999994,\"yanchor\":\"bottom\",\"yref\":\"paper\"},{\"font\":{\"size\":16},\"showarrow\":false,\"text\":\"AlphaCode\",\"x\":0.0875,\"xanchor\":\"center\",\"xref\":\"paper\",\"y\":0.21249999999999997,\"yanchor\":\"bottom\",\"yref\":\"paper\"},{\"font\":{\"size\":16},\"showarrow\":false,\"text\":\"Chinchilla\",\"x\":0.36250000000000004,\"xanchor\":\"center\",\"xref\":\"paper\",\"y\":0.21249999999999997,\"yanchor\":\"bottom\",\"yref\":\"paper\"},{\"font\":{\"size\":16},\"showarrow\":false,\"text\":\"UL2\",\"x\":0.6375000000000001,\"xanchor\":\"center\",\"xref\":\"paper\",\"y\":0.21249999999999997,\"yanchor\":\"bottom\",\"yref\":\"paper\"},{\"font\":{\"size\":16},\"showarrow\":false,\"text\":\"NLLB\",\"x\":0.9125,\"xanchor\":\"center\",\"xref\":\"paper\",\"y\":0.21249999999999997,\"yanchor\":\"bottom\",\"yref\":\"paper\"},{\"font\":{\"size\":16},\"showarrow\":false,\"text\":\"Flan-PaLM\",\"x\":0.0875,\"xanchor\":\"center\",\"xref\":\"paper\",\"y\":0.08124999999999999,\"yanchor\":\"bottom\",\"yref\":\"paper\"},{\"font\":{\"size\":16},\"showarrow\":false,\"text\":\"Tk-Instruct\",\"x\":0.36250000000000004,\"xanchor\":\"center\",\"xref\":\"paper\",\"y\":0.08124999999999999,\"yanchor\":\"bottom\",\"yref\":\"paper\"}],\"title\":{\"font\":{\"size\":22,\"color\":\"Black\"},\"text\":\"Topic Word Scores\",\"x\":0.5,\"xanchor\":\"center\",\"yanchor\":\"top\"},\"hoverlabel\":{\"font\":{\"size\":16,\"family\":\"Rockwell\"},\"bgcolor\":\"white\"},\"showlegend\":false,\"width\":1000,\"height\":8000},                        {\"responsive\": true}                    ).then(function(){\n",
       "                            \n",
       "var gd = document.getElementById('24f0a373-ad4f-462a-88bd-2277a04c352a');\n",
       "var x = new MutationObserver(function (mutations, observer) {{\n",
       "        var display = window.getComputedStyle(gd).display;\n",
       "        if (!display || display === 'none') {{\n",
       "            console.log([gd, 'removed!']);\n",
       "            Plotly.purge(gd);\n",
       "            observer.disconnect();\n",
       "        }}\n",
       "}});\n",
       "\n",
       "// Listen for the removal of the full notebook cells\n",
       "var notebookContainer = gd.closest('#notebook-container');\n",
       "if (notebookContainer) {{\n",
       "    x.observe(notebookContainer, {childList: true});\n",
       "}}\n",
       "\n",
       "// Listen for the clearing of the current output cell\n",
       "var outputEl = gd.closest('.output');\n",
       "if (outputEl) {{\n",
       "    x.observe(outputEl, {childList: true});\n",
       "}}\n",
       "\n",
       "                        })                };                });            </script>        </div>"
      ]
     },
     "metadata": {},
     "output_type": "display_data"
    }
   ],
   "source": [
    "topic_model.visualize_barchart(custom_labels=True, top_n_topics = 30, n_words = 30 , height= 1000)"
   ]
  },
  {
   "cell_type": "code",
   "execution_count": 41,
   "metadata": {},
   "outputs": [
    {
     "data": {
      "application/vnd.plotly.v1+json": {
       "config": {
        "plotlyServerURL": "https://plot.ly"
       },
       "data": [
        {
         "customdata": [
          [
           0,
           "chatgpt | ai | potential | generated | students",
           901
          ],
          [
           1,
           "gpt | shot | learning | human | knowledge",
           592
          ],
          [
           2,
           "gpt | chatgpt gpt | gpt gpt | llms | reasoning",
           486
          ],
          [
           3,
           "t5 | pre | pre trained | sequence | bart",
           222
          ],
          [
           4,
           "llama | quantization | tuning | lora | instruction",
           165
          ],
          [
           5,
           "codex | code | program | repair | openai codex",
           98
          ],
          [
           6,
           "palm | gpt palm | med palm | med | math",
           69
          ],
          [
           7,
           "opt | quantization | 125m | perplexity | opt 175b",
           58
          ],
          [
           8,
           "bloom | multilingual | 176b | bloom 176b | bigscience",
           52
          ],
          [
           9,
           "instructgpt | negation | emergent abilities | negated | series models",
           48
          ],
          [
           10,
           "flan t5 | flan | t5 | discharge | spam",
           44
          ],
          [
           11,
           "vicuna | vicuna 13b | pathology | 13b | models vicuna",
           43
          ],
          [
           12,
           "alpaca | instruction | instruction tuning | 7b | llama",
           39
          ],
          [
           13,
           "claude | gpt claude | emails | phishing emails | layout",
           29
          ],
          [
           14,
           "codegen | code generation | code | verilog | generation models",
           27
          ],
          [
           15,
           "mt5 | lingual | cross lingual | multilingual | lingual transfer",
           23
          ],
          [
           16,
           "t0 | unifiedskg | flipped | task generalization | semi parametric",
           18
          ],
          [
           17,
           "objectionable | radar | poisoning | memorization | streaming",
           15
          ],
          [
           18,
           "bloomz | instruction | parrot | new languages | code mixed",
           14
          ],
          [
           19,
           "glm | glm 130b | 130b | pruning | bilingual",
           11
          ],
          [
           20,
           "llm pruner | pruner | cc | character | single modal",
           10
          ],
          [
           21,
           "consciousness | conversational ai | developmental | conscious | crs",
           10
          ],
          [
           22,
           "assisted programming | ai supported | programming | assisted | llm assisted",
           9
          ],
          [
           23,
           "anthropic | code coverage | agi | anthropic claude | risk",
           9
          ],
          [
           24,
           "translation | machine translation | smaller sized | meta ai | multilingual machine",
           8
          ],
          [
           25,
           "chinchilla | galactica | circuit | compressors | hyperparameter",
           7
          ],
          [
           26,
           "energy | co2e | mlps | mixture experts | sparsely",
           6
          ],
          [
           27,
           "shallow fusion | shallow | grounding | wer | dense",
           6
          ],
          [
           28,
           "absa | instruct | invariant | unnatural | ate",
           6
          ],
          [
           29,
           "sts | inpars | correctly reason | gpt flan | assumptions",
           6
          ],
          [
           30,
           "flan palm | symbol | priors | ul2 | input label",
           6
          ],
          [
           31,
           "index | reviewing | training corpora | test taking | secondary school",
           5
          ],
          [
           32,
           "korean | sensitive questions | acceptable | learning performance | pretraining corpus",
           5
          ],
          [
           33,
           "ul2 | oncology | referential | notes | schema",
           5
          ],
          [
           34,
           "web search | web | retrieval based | lfqa | input instance",
           5
          ],
          [
           35,
           "gopher | rms | clue | compute optimal | data set",
           5
          ],
          [
           36,
           "african languages | reasoning strategies | african | topic classification | conceptual structure",
           4
          ],
          [
           37,
           "jurassic | human lm | retro | dialogue acts | size number",
           4
          ],
          [
           38,
           "forgetting | mtf | intent detection | continual | slot",
           3
          ],
          [
           39,
           "ic | linguist | st | 20b | slot",
           3
          ],
          [
           40,
           "530b | nlg 530b | nlg | megatron | efficient learning",
           3
          ],
          [
           41,
           "neox 20b | gpt neox | neox | 20b | dna",
           3
          ],
          [
           42,
           "palm | 540b | palm 540b | 62b | instruction finetuning",
           2
          ],
          [
           43,
           "html | websites | read write | models computationally | computationally",
           2
          ],
          [
           44,
           "task agnostic | agnostic | agnostic distillation | scale knowledge | ernie",
           2
          ],
          [
           45,
           "rlhf | social impacts | harmless | human judgements | judgements",
           2
          ],
          [
           46,
           "yuan | excellent performance | shot shot | training performance | designed efficiently",
           1
          ],
          [
           47,
           "model chinese | types tasks | capabilities multi | curated high | qq",
           1
          ],
          [
           48,
           "opt | held | meta learning | decisions | 30b",
           1
          ],
          [
           49,
           "humaneval | billion tokens | extensions | studio | pursuit artificial",
           1
          ],
          [
           50,
           "cpm | scale plms | cost effective | plms | tsinghuaai cpm",
           1
          ],
          [
           51,
           "titan | ernie titan | ernie | scale knowledge | knowledge enhanced",
           1
          ]
         ],
         "hovertemplate": "<b>Topic %{customdata[0]}</b><br>%{customdata[1]}<br>Size: %{customdata[2]}",
         "legendgroup": "",
         "marker": {
          "color": "#B0BEC5",
          "line": {
           "color": "DarkSlateGrey",
           "width": 2
          },
          "size": [
           901,
           592,
           486,
           222,
           165,
           98,
           69,
           58,
           52,
           48,
           44,
           43,
           39,
           29,
           27,
           23,
           18,
           15,
           14,
           11,
           10,
           10,
           9,
           9,
           8,
           7,
           6,
           6,
           6,
           6,
           6,
           5,
           5,
           5,
           5,
           5,
           4,
           4,
           3,
           3,
           3,
           3,
           2,
           2,
           2,
           2,
           1,
           1,
           1,
           1,
           1,
           1
          ],
          "sizemode": "area",
          "sizeref": 0.563125,
          "symbol": "circle"
         },
         "mode": "markers",
         "name": "",
         "orientation": "v",
         "showlegend": false,
         "type": "scatter",
         "x": [
          12.824703216552734,
          10.774165153503418,
          12.616767883300781,
          9.955061912536621,
          13.531131744384766,
          12.938114166259766,
          10.926255226135254,
          13.623567581176758,
          15.434916496276855,
          9.622819900512695,
          9.2954740524292,
          13.900596618652344,
          14.614742279052734,
          14.2390775680542,
          12.849945068359375,
          9.552180290222168,
          8.846681594848633,
          13.669984817504883,
          14.93967342376709,
          15.6700439453125,
          15.067813873291016,
          9.792655944824219,
          12.911314964294434,
          14.414689064025879,
          9.296927452087402,
          16.325511932373047,
          3.5444064140319824,
          3.527294874191284,
          6.426131725311279,
          6.125852108001709,
          8.582090377807617,
          5.961180210113525,
          9.240474700927734,
          6.206758975982666,
          5.980027198791504,
          15.554779052734375,
          8.580004692077637,
          16.41807746887207,
          2.567017078399658,
          6.553247928619385,
          16.248111724853516,
          15.79166316986084,
          2.9624781608581543,
          16.365676879882812,
          -5.56353759765625,
          9.938941955566406,
          -5.319526195526123,
          2.6156351566314697,
          2.8571958541870117,
          16.299686431884766,
          16.268312454223633,
          -5.43233060836792
         ],
         "xaxis": "x",
         "y": [
          14.236316680908203,
          14.92344856262207,
          14.007813453674316,
          15.061012268066406,
          13.555649757385254,
          14.570660591125488,
          14.831043243408203,
          13.08206844329834,
          12.184135437011719,
          15.955587387084961,
          15.702508926391602,
          13.663915634155273,
          14.168758392333984,
          13.666450500488281,
          14.770831108093262,
          14.714689254760742,
          16.02545928955078,
          12.956116676330566,
          14.260848045349121,
          11.588902473449707,
          14.328930854797363,
          16.115489959716797,
          14.713094711303711,
          13.565079689025879,
          14.602243423461914,
          11.696362495422363,
          19.930105209350586,
          19.94660186767578,
          2.1449224948883057,
          1.845899224281311,
          16.305728912353516,
          1.6813451051712036,
          14.63742446899414,
          1.926800012588501,
          1.7001971006393433,
          11.724708557128906,
          16.3127384185791,
          11.622085571289062,
          -3.1290249824523926,
          2.27174711227417,
          9.710433006286621,
          11.759933471679688,
          -3.522559404373169,
          9.73629379272461,
          9.516422271728516,
          16.29202651977539,
          9.272719383239746,
          -3.1782333850860596,
          -3.4178290367126465,
          9.19364070892334,
          9.30482006072998,
          9.38537311553955
         ],
         "yaxis": "y"
        }
       ],
       "layout": {
        "annotations": [
         {
          "showarrow": false,
          "text": "D1",
          "x": -6.398068237304687,
          "y": 9.443824416399002,
          "yshift": 10
         },
         {
          "showarrow": false,
          "text": "D2",
          "x": 6.241360425949097,
          "xshift": 10,
          "y": 22.938592147827148
         }
        ],
        "font": {
         "color": "LightSeaGreen",
         "family": "sans serif",
         "size": 18
        },
        "height": 650,
        "hoverlabel": {
         "bgcolor": "white",
         "font": {
          "family": "Rockwell",
          "size": 16
         }
        },
        "legend": {
         "itemsizing": "constant",
         "tracegroupgap": 0
        },
        "margin": {
         "t": 60
        },
        "shapes": [
         {
          "line": {
           "color": "#CFD8DC",
           "width": 2
          },
          "type": "line",
          "x0": 6.241360425949097,
          "x1": 6.241360425949097,
          "y0": -4.050943315029144,
          "y1": 22.938592147827148
         },
         {
          "line": {
           "color": "#9E9E9E",
           "width": 2
          },
          "type": "line",
          "x0": -6.398068237304687,
          "x1": 18.88078908920288,
          "y0": 9.443824416399002,
          "y1": 9.443824416399002
         }
        ],
        "sliders": [
         {
          "active": 0,
          "pad": {
           "t": 50
          },
          "steps": [
           {
            "args": [
             {
              "marker.color": [
               [
                "red",
                "#B0BEC5",
                "#B0BEC5",
                "#B0BEC5",
                "#B0BEC5",
                "#B0BEC5",
                "#B0BEC5",
                "#B0BEC5",
                "#B0BEC5",
                "#B0BEC5",
                "#B0BEC5",
                "#B0BEC5",
                "#B0BEC5",
                "#B0BEC5",
                "#B0BEC5",
                "#B0BEC5",
                "#B0BEC5",
                "#B0BEC5",
                "#B0BEC5",
                "#B0BEC5",
                "#B0BEC5",
                "#B0BEC5",
                "#B0BEC5",
                "#B0BEC5",
                "#B0BEC5",
                "#B0BEC5",
                "#B0BEC5",
                "#B0BEC5",
                "#B0BEC5",
                "#B0BEC5",
                "#B0BEC5",
                "#B0BEC5",
                "#B0BEC5",
                "#B0BEC5",
                "#B0BEC5",
                "#B0BEC5",
                "#B0BEC5",
                "#B0BEC5",
                "#B0BEC5",
                "#B0BEC5",
                "#B0BEC5",
                "#B0BEC5",
                "#B0BEC5",
                "#B0BEC5",
                "#B0BEC5",
                "#B0BEC5",
                "#B0BEC5",
                "#B0BEC5",
                "#B0BEC5",
                "#B0BEC5",
                "#B0BEC5",
                "#B0BEC5"
               ]
              ]
             }
            ],
            "label": "Topic 0",
            "method": "update"
           },
           {
            "args": [
             {
              "marker.color": [
               [
                "#B0BEC5",
                "red",
                "#B0BEC5",
                "#B0BEC5",
                "#B0BEC5",
                "#B0BEC5",
                "#B0BEC5",
                "#B0BEC5",
                "#B0BEC5",
                "#B0BEC5",
                "#B0BEC5",
                "#B0BEC5",
                "#B0BEC5",
                "#B0BEC5",
                "#B0BEC5",
                "#B0BEC5",
                "#B0BEC5",
                "#B0BEC5",
                "#B0BEC5",
                "#B0BEC5",
                "#B0BEC5",
                "#B0BEC5",
                "#B0BEC5",
                "#B0BEC5",
                "#B0BEC5",
                "#B0BEC5",
                "#B0BEC5",
                "#B0BEC5",
                "#B0BEC5",
                "#B0BEC5",
                "#B0BEC5",
                "#B0BEC5",
                "#B0BEC5",
                "#B0BEC5",
                "#B0BEC5",
                "#B0BEC5",
                "#B0BEC5",
                "#B0BEC5",
                "#B0BEC5",
                "#B0BEC5",
                "#B0BEC5",
                "#B0BEC5",
                "#B0BEC5",
                "#B0BEC5",
                "#B0BEC5",
                "#B0BEC5",
                "#B0BEC5",
                "#B0BEC5",
                "#B0BEC5",
                "#B0BEC5",
                "#B0BEC5",
                "#B0BEC5"
               ]
              ]
             }
            ],
            "label": "Topic 1",
            "method": "update"
           },
           {
            "args": [
             {
              "marker.color": [
               [
                "#B0BEC5",
                "#B0BEC5",
                "red",
                "#B0BEC5",
                "#B0BEC5",
                "#B0BEC5",
                "#B0BEC5",
                "#B0BEC5",
                "#B0BEC5",
                "#B0BEC5",
                "#B0BEC5",
                "#B0BEC5",
                "#B0BEC5",
                "#B0BEC5",
                "#B0BEC5",
                "#B0BEC5",
                "#B0BEC5",
                "#B0BEC5",
                "#B0BEC5",
                "#B0BEC5",
                "#B0BEC5",
                "#B0BEC5",
                "#B0BEC5",
                "#B0BEC5",
                "#B0BEC5",
                "#B0BEC5",
                "#B0BEC5",
                "#B0BEC5",
                "#B0BEC5",
                "#B0BEC5",
                "#B0BEC5",
                "#B0BEC5",
                "#B0BEC5",
                "#B0BEC5",
                "#B0BEC5",
                "#B0BEC5",
                "#B0BEC5",
                "#B0BEC5",
                "#B0BEC5",
                "#B0BEC5",
                "#B0BEC5",
                "#B0BEC5",
                "#B0BEC5",
                "#B0BEC5",
                "#B0BEC5",
                "#B0BEC5",
                "#B0BEC5",
                "#B0BEC5",
                "#B0BEC5",
                "#B0BEC5",
                "#B0BEC5",
                "#B0BEC5"
               ]
              ]
             }
            ],
            "label": "Topic 2",
            "method": "update"
           },
           {
            "args": [
             {
              "marker.color": [
               [
                "#B0BEC5",
                "#B0BEC5",
                "#B0BEC5",
                "red",
                "#B0BEC5",
                "#B0BEC5",
                "#B0BEC5",
                "#B0BEC5",
                "#B0BEC5",
                "#B0BEC5",
                "#B0BEC5",
                "#B0BEC5",
                "#B0BEC5",
                "#B0BEC5",
                "#B0BEC5",
                "#B0BEC5",
                "#B0BEC5",
                "#B0BEC5",
                "#B0BEC5",
                "#B0BEC5",
                "#B0BEC5",
                "#B0BEC5",
                "#B0BEC5",
                "#B0BEC5",
                "#B0BEC5",
                "#B0BEC5",
                "#B0BEC5",
                "#B0BEC5",
                "#B0BEC5",
                "#B0BEC5",
                "#B0BEC5",
                "#B0BEC5",
                "#B0BEC5",
                "#B0BEC5",
                "#B0BEC5",
                "#B0BEC5",
                "#B0BEC5",
                "#B0BEC5",
                "#B0BEC5",
                "#B0BEC5",
                "#B0BEC5",
                "#B0BEC5",
                "#B0BEC5",
                "#B0BEC5",
                "#B0BEC5",
                "#B0BEC5",
                "#B0BEC5",
                "#B0BEC5",
                "#B0BEC5",
                "#B0BEC5",
                "#B0BEC5",
                "#B0BEC5"
               ]
              ]
             }
            ],
            "label": "Topic 3",
            "method": "update"
           },
           {
            "args": [
             {
              "marker.color": [
               [
                "#B0BEC5",
                "#B0BEC5",
                "#B0BEC5",
                "#B0BEC5",
                "red",
                "#B0BEC5",
                "#B0BEC5",
                "#B0BEC5",
                "#B0BEC5",
                "#B0BEC5",
                "#B0BEC5",
                "#B0BEC5",
                "#B0BEC5",
                "#B0BEC5",
                "#B0BEC5",
                "#B0BEC5",
                "#B0BEC5",
                "#B0BEC5",
                "#B0BEC5",
                "#B0BEC5",
                "#B0BEC5",
                "#B0BEC5",
                "#B0BEC5",
                "#B0BEC5",
                "#B0BEC5",
                "#B0BEC5",
                "#B0BEC5",
                "#B0BEC5",
                "#B0BEC5",
                "#B0BEC5",
                "#B0BEC5",
                "#B0BEC5",
                "#B0BEC5",
                "#B0BEC5",
                "#B0BEC5",
                "#B0BEC5",
                "#B0BEC5",
                "#B0BEC5",
                "#B0BEC5",
                "#B0BEC5",
                "#B0BEC5",
                "#B0BEC5",
                "#B0BEC5",
                "#B0BEC5",
                "#B0BEC5",
                "#B0BEC5",
                "#B0BEC5",
                "#B0BEC5",
                "#B0BEC5",
                "#B0BEC5",
                "#B0BEC5",
                "#B0BEC5"
               ]
              ]
             }
            ],
            "label": "Topic 4",
            "method": "update"
           },
           {
            "args": [
             {
              "marker.color": [
               [
                "#B0BEC5",
                "#B0BEC5",
                "#B0BEC5",
                "#B0BEC5",
                "#B0BEC5",
                "red",
                "#B0BEC5",
                "#B0BEC5",
                "#B0BEC5",
                "#B0BEC5",
                "#B0BEC5",
                "#B0BEC5",
                "#B0BEC5",
                "#B0BEC5",
                "#B0BEC5",
                "#B0BEC5",
                "#B0BEC5",
                "#B0BEC5",
                "#B0BEC5",
                "#B0BEC5",
                "#B0BEC5",
                "#B0BEC5",
                "#B0BEC5",
                "#B0BEC5",
                "#B0BEC5",
                "#B0BEC5",
                "#B0BEC5",
                "#B0BEC5",
                "#B0BEC5",
                "#B0BEC5",
                "#B0BEC5",
                "#B0BEC5",
                "#B0BEC5",
                "#B0BEC5",
                "#B0BEC5",
                "#B0BEC5",
                "#B0BEC5",
                "#B0BEC5",
                "#B0BEC5",
                "#B0BEC5",
                "#B0BEC5",
                "#B0BEC5",
                "#B0BEC5",
                "#B0BEC5",
                "#B0BEC5",
                "#B0BEC5",
                "#B0BEC5",
                "#B0BEC5",
                "#B0BEC5",
                "#B0BEC5",
                "#B0BEC5",
                "#B0BEC5"
               ]
              ]
             }
            ],
            "label": "Topic 5",
            "method": "update"
           },
           {
            "args": [
             {
              "marker.color": [
               [
                "#B0BEC5",
                "#B0BEC5",
                "#B0BEC5",
                "#B0BEC5",
                "#B0BEC5",
                "#B0BEC5",
                "red",
                "#B0BEC5",
                "#B0BEC5",
                "#B0BEC5",
                "#B0BEC5",
                "#B0BEC5",
                "#B0BEC5",
                "#B0BEC5",
                "#B0BEC5",
                "#B0BEC5",
                "#B0BEC5",
                "#B0BEC5",
                "#B0BEC5",
                "#B0BEC5",
                "#B0BEC5",
                "#B0BEC5",
                "#B0BEC5",
                "#B0BEC5",
                "#B0BEC5",
                "#B0BEC5",
                "#B0BEC5",
                "#B0BEC5",
                "#B0BEC5",
                "#B0BEC5",
                "#B0BEC5",
                "#B0BEC5",
                "#B0BEC5",
                "#B0BEC5",
                "#B0BEC5",
                "#B0BEC5",
                "#B0BEC5",
                "#B0BEC5",
                "#B0BEC5",
                "#B0BEC5",
                "#B0BEC5",
                "#B0BEC5",
                "#B0BEC5",
                "#B0BEC5",
                "#B0BEC5",
                "#B0BEC5",
                "#B0BEC5",
                "#B0BEC5",
                "#B0BEC5",
                "#B0BEC5",
                "#B0BEC5",
                "#B0BEC5"
               ]
              ]
             }
            ],
            "label": "Topic 6",
            "method": "update"
           },
           {
            "args": [
             {
              "marker.color": [
               [
                "#B0BEC5",
                "#B0BEC5",
                "#B0BEC5",
                "#B0BEC5",
                "#B0BEC5",
                "#B0BEC5",
                "#B0BEC5",
                "red",
                "#B0BEC5",
                "#B0BEC5",
                "#B0BEC5",
                "#B0BEC5",
                "#B0BEC5",
                "#B0BEC5",
                "#B0BEC5",
                "#B0BEC5",
                "#B0BEC5",
                "#B0BEC5",
                "#B0BEC5",
                "#B0BEC5",
                "#B0BEC5",
                "#B0BEC5",
                "#B0BEC5",
                "#B0BEC5",
                "#B0BEC5",
                "#B0BEC5",
                "#B0BEC5",
                "#B0BEC5",
                "#B0BEC5",
                "#B0BEC5",
                "#B0BEC5",
                "#B0BEC5",
                "#B0BEC5",
                "#B0BEC5",
                "#B0BEC5",
                "#B0BEC5",
                "#B0BEC5",
                "#B0BEC5",
                "#B0BEC5",
                "#B0BEC5",
                "#B0BEC5",
                "#B0BEC5",
                "#B0BEC5",
                "#B0BEC5",
                "#B0BEC5",
                "#B0BEC5",
                "#B0BEC5",
                "#B0BEC5",
                "#B0BEC5",
                "#B0BEC5",
                "#B0BEC5",
                "#B0BEC5"
               ]
              ]
             }
            ],
            "label": "Topic 7",
            "method": "update"
           },
           {
            "args": [
             {
              "marker.color": [
               [
                "#B0BEC5",
                "#B0BEC5",
                "#B0BEC5",
                "#B0BEC5",
                "#B0BEC5",
                "#B0BEC5",
                "#B0BEC5",
                "#B0BEC5",
                "red",
                "#B0BEC5",
                "#B0BEC5",
                "#B0BEC5",
                "#B0BEC5",
                "#B0BEC5",
                "#B0BEC5",
                "#B0BEC5",
                "#B0BEC5",
                "#B0BEC5",
                "#B0BEC5",
                "#B0BEC5",
                "#B0BEC5",
                "#B0BEC5",
                "#B0BEC5",
                "#B0BEC5",
                "#B0BEC5",
                "#B0BEC5",
                "#B0BEC5",
                "#B0BEC5",
                "#B0BEC5",
                "#B0BEC5",
                "#B0BEC5",
                "#B0BEC5",
                "#B0BEC5",
                "#B0BEC5",
                "#B0BEC5",
                "#B0BEC5",
                "#B0BEC5",
                "#B0BEC5",
                "#B0BEC5",
                "#B0BEC5",
                "#B0BEC5",
                "#B0BEC5",
                "#B0BEC5",
                "#B0BEC5",
                "#B0BEC5",
                "#B0BEC5",
                "#B0BEC5",
                "#B0BEC5",
                "#B0BEC5",
                "#B0BEC5",
                "#B0BEC5",
                "#B0BEC5"
               ]
              ]
             }
            ],
            "label": "Topic 8",
            "method": "update"
           },
           {
            "args": [
             {
              "marker.color": [
               [
                "#B0BEC5",
                "#B0BEC5",
                "#B0BEC5",
                "#B0BEC5",
                "#B0BEC5",
                "#B0BEC5",
                "#B0BEC5",
                "#B0BEC5",
                "#B0BEC5",
                "red",
                "#B0BEC5",
                "#B0BEC5",
                "#B0BEC5",
                "#B0BEC5",
                "#B0BEC5",
                "#B0BEC5",
                "#B0BEC5",
                "#B0BEC5",
                "#B0BEC5",
                "#B0BEC5",
                "#B0BEC5",
                "#B0BEC5",
                "#B0BEC5",
                "#B0BEC5",
                "#B0BEC5",
                "#B0BEC5",
                "#B0BEC5",
                "#B0BEC5",
                "#B0BEC5",
                "#B0BEC5",
                "#B0BEC5",
                "#B0BEC5",
                "#B0BEC5",
                "#B0BEC5",
                "#B0BEC5",
                "#B0BEC5",
                "#B0BEC5",
                "#B0BEC5",
                "#B0BEC5",
                "#B0BEC5",
                "#B0BEC5",
                "#B0BEC5",
                "#B0BEC5",
                "#B0BEC5",
                "#B0BEC5",
                "#B0BEC5",
                "#B0BEC5",
                "#B0BEC5",
                "#B0BEC5",
                "#B0BEC5",
                "#B0BEC5",
                "#B0BEC5"
               ]
              ]
             }
            ],
            "label": "Topic 9",
            "method": "update"
           },
           {
            "args": [
             {
              "marker.color": [
               [
                "#B0BEC5",
                "#B0BEC5",
                "#B0BEC5",
                "#B0BEC5",
                "#B0BEC5",
                "#B0BEC5",
                "#B0BEC5",
                "#B0BEC5",
                "#B0BEC5",
                "#B0BEC5",
                "red",
                "#B0BEC5",
                "#B0BEC5",
                "#B0BEC5",
                "#B0BEC5",
                "#B0BEC5",
                "#B0BEC5",
                "#B0BEC5",
                "#B0BEC5",
                "#B0BEC5",
                "#B0BEC5",
                "#B0BEC5",
                "#B0BEC5",
                "#B0BEC5",
                "#B0BEC5",
                "#B0BEC5",
                "#B0BEC5",
                "#B0BEC5",
                "#B0BEC5",
                "#B0BEC5",
                "#B0BEC5",
                "#B0BEC5",
                "#B0BEC5",
                "#B0BEC5",
                "#B0BEC5",
                "#B0BEC5",
                "#B0BEC5",
                "#B0BEC5",
                "#B0BEC5",
                "#B0BEC5",
                "#B0BEC5",
                "#B0BEC5",
                "#B0BEC5",
                "#B0BEC5",
                "#B0BEC5",
                "#B0BEC5",
                "#B0BEC5",
                "#B0BEC5",
                "#B0BEC5",
                "#B0BEC5",
                "#B0BEC5",
                "#B0BEC5"
               ]
              ]
             }
            ],
            "label": "Topic 10",
            "method": "update"
           },
           {
            "args": [
             {
              "marker.color": [
               [
                "#B0BEC5",
                "#B0BEC5",
                "#B0BEC5",
                "#B0BEC5",
                "#B0BEC5",
                "#B0BEC5",
                "#B0BEC5",
                "#B0BEC5",
                "#B0BEC5",
                "#B0BEC5",
                "#B0BEC5",
                "red",
                "#B0BEC5",
                "#B0BEC5",
                "#B0BEC5",
                "#B0BEC5",
                "#B0BEC5",
                "#B0BEC5",
                "#B0BEC5",
                "#B0BEC5",
                "#B0BEC5",
                "#B0BEC5",
                "#B0BEC5",
                "#B0BEC5",
                "#B0BEC5",
                "#B0BEC5",
                "#B0BEC5",
                "#B0BEC5",
                "#B0BEC5",
                "#B0BEC5",
                "#B0BEC5",
                "#B0BEC5",
                "#B0BEC5",
                "#B0BEC5",
                "#B0BEC5",
                "#B0BEC5",
                "#B0BEC5",
                "#B0BEC5",
                "#B0BEC5",
                "#B0BEC5",
                "#B0BEC5",
                "#B0BEC5",
                "#B0BEC5",
                "#B0BEC5",
                "#B0BEC5",
                "#B0BEC5",
                "#B0BEC5",
                "#B0BEC5",
                "#B0BEC5",
                "#B0BEC5",
                "#B0BEC5",
                "#B0BEC5"
               ]
              ]
             }
            ],
            "label": "Topic 11",
            "method": "update"
           },
           {
            "args": [
             {
              "marker.color": [
               [
                "#B0BEC5",
                "#B0BEC5",
                "#B0BEC5",
                "#B0BEC5",
                "#B0BEC5",
                "#B0BEC5",
                "#B0BEC5",
                "#B0BEC5",
                "#B0BEC5",
                "#B0BEC5",
                "#B0BEC5",
                "#B0BEC5",
                "red",
                "#B0BEC5",
                "#B0BEC5",
                "#B0BEC5",
                "#B0BEC5",
                "#B0BEC5",
                "#B0BEC5",
                "#B0BEC5",
                "#B0BEC5",
                "#B0BEC5",
                "#B0BEC5",
                "#B0BEC5",
                "#B0BEC5",
                "#B0BEC5",
                "#B0BEC5",
                "#B0BEC5",
                "#B0BEC5",
                "#B0BEC5",
                "#B0BEC5",
                "#B0BEC5",
                "#B0BEC5",
                "#B0BEC5",
                "#B0BEC5",
                "#B0BEC5",
                "#B0BEC5",
                "#B0BEC5",
                "#B0BEC5",
                "#B0BEC5",
                "#B0BEC5",
                "#B0BEC5",
                "#B0BEC5",
                "#B0BEC5",
                "#B0BEC5",
                "#B0BEC5",
                "#B0BEC5",
                "#B0BEC5",
                "#B0BEC5",
                "#B0BEC5",
                "#B0BEC5",
                "#B0BEC5"
               ]
              ]
             }
            ],
            "label": "Topic 12",
            "method": "update"
           },
           {
            "args": [
             {
              "marker.color": [
               [
                "#B0BEC5",
                "#B0BEC5",
                "#B0BEC5",
                "#B0BEC5",
                "#B0BEC5",
                "#B0BEC5",
                "#B0BEC5",
                "#B0BEC5",
                "#B0BEC5",
                "#B0BEC5",
                "#B0BEC5",
                "#B0BEC5",
                "#B0BEC5",
                "red",
                "#B0BEC5",
                "#B0BEC5",
                "#B0BEC5",
                "#B0BEC5",
                "#B0BEC5",
                "#B0BEC5",
                "#B0BEC5",
                "#B0BEC5",
                "#B0BEC5",
                "#B0BEC5",
                "#B0BEC5",
                "#B0BEC5",
                "#B0BEC5",
                "#B0BEC5",
                "#B0BEC5",
                "#B0BEC5",
                "#B0BEC5",
                "#B0BEC5",
                "#B0BEC5",
                "#B0BEC5",
                "#B0BEC5",
                "#B0BEC5",
                "#B0BEC5",
                "#B0BEC5",
                "#B0BEC5",
                "#B0BEC5",
                "#B0BEC5",
                "#B0BEC5",
                "#B0BEC5",
                "#B0BEC5",
                "#B0BEC5",
                "#B0BEC5",
                "#B0BEC5",
                "#B0BEC5",
                "#B0BEC5",
                "#B0BEC5",
                "#B0BEC5",
                "#B0BEC5"
               ]
              ]
             }
            ],
            "label": "Topic 13",
            "method": "update"
           },
           {
            "args": [
             {
              "marker.color": [
               [
                "#B0BEC5",
                "#B0BEC5",
                "#B0BEC5",
                "#B0BEC5",
                "#B0BEC5",
                "#B0BEC5",
                "#B0BEC5",
                "#B0BEC5",
                "#B0BEC5",
                "#B0BEC5",
                "#B0BEC5",
                "#B0BEC5",
                "#B0BEC5",
                "#B0BEC5",
                "red",
                "#B0BEC5",
                "#B0BEC5",
                "#B0BEC5",
                "#B0BEC5",
                "#B0BEC5",
                "#B0BEC5",
                "#B0BEC5",
                "#B0BEC5",
                "#B0BEC5",
                "#B0BEC5",
                "#B0BEC5",
                "#B0BEC5",
                "#B0BEC5",
                "#B0BEC5",
                "#B0BEC5",
                "#B0BEC5",
                "#B0BEC5",
                "#B0BEC5",
                "#B0BEC5",
                "#B0BEC5",
                "#B0BEC5",
                "#B0BEC5",
                "#B0BEC5",
                "#B0BEC5",
                "#B0BEC5",
                "#B0BEC5",
                "#B0BEC5",
                "#B0BEC5",
                "#B0BEC5",
                "#B0BEC5",
                "#B0BEC5",
                "#B0BEC5",
                "#B0BEC5",
                "#B0BEC5",
                "#B0BEC5",
                "#B0BEC5",
                "#B0BEC5"
               ]
              ]
             }
            ],
            "label": "Topic 14",
            "method": "update"
           },
           {
            "args": [
             {
              "marker.color": [
               [
                "#B0BEC5",
                "#B0BEC5",
                "#B0BEC5",
                "#B0BEC5",
                "#B0BEC5",
                "#B0BEC5",
                "#B0BEC5",
                "#B0BEC5",
                "#B0BEC5",
                "#B0BEC5",
                "#B0BEC5",
                "#B0BEC5",
                "#B0BEC5",
                "#B0BEC5",
                "#B0BEC5",
                "red",
                "#B0BEC5",
                "#B0BEC5",
                "#B0BEC5",
                "#B0BEC5",
                "#B0BEC5",
                "#B0BEC5",
                "#B0BEC5",
                "#B0BEC5",
                "#B0BEC5",
                "#B0BEC5",
                "#B0BEC5",
                "#B0BEC5",
                "#B0BEC5",
                "#B0BEC5",
                "#B0BEC5",
                "#B0BEC5",
                "#B0BEC5",
                "#B0BEC5",
                "#B0BEC5",
                "#B0BEC5",
                "#B0BEC5",
                "#B0BEC5",
                "#B0BEC5",
                "#B0BEC5",
                "#B0BEC5",
                "#B0BEC5",
                "#B0BEC5",
                "#B0BEC5",
                "#B0BEC5",
                "#B0BEC5",
                "#B0BEC5",
                "#B0BEC5",
                "#B0BEC5",
                "#B0BEC5",
                "#B0BEC5",
                "#B0BEC5"
               ]
              ]
             }
            ],
            "label": "Topic 15",
            "method": "update"
           },
           {
            "args": [
             {
              "marker.color": [
               [
                "#B0BEC5",
                "#B0BEC5",
                "#B0BEC5",
                "#B0BEC5",
                "#B0BEC5",
                "#B0BEC5",
                "#B0BEC5",
                "#B0BEC5",
                "#B0BEC5",
                "#B0BEC5",
                "#B0BEC5",
                "#B0BEC5",
                "#B0BEC5",
                "#B0BEC5",
                "#B0BEC5",
                "#B0BEC5",
                "red",
                "#B0BEC5",
                "#B0BEC5",
                "#B0BEC5",
                "#B0BEC5",
                "#B0BEC5",
                "#B0BEC5",
                "#B0BEC5",
                "#B0BEC5",
                "#B0BEC5",
                "#B0BEC5",
                "#B0BEC5",
                "#B0BEC5",
                "#B0BEC5",
                "#B0BEC5",
                "#B0BEC5",
                "#B0BEC5",
                "#B0BEC5",
                "#B0BEC5",
                "#B0BEC5",
                "#B0BEC5",
                "#B0BEC5",
                "#B0BEC5",
                "#B0BEC5",
                "#B0BEC5",
                "#B0BEC5",
                "#B0BEC5",
                "#B0BEC5",
                "#B0BEC5",
                "#B0BEC5",
                "#B0BEC5",
                "#B0BEC5",
                "#B0BEC5",
                "#B0BEC5",
                "#B0BEC5",
                "#B0BEC5"
               ]
              ]
             }
            ],
            "label": "Topic 16",
            "method": "update"
           },
           {
            "args": [
             {
              "marker.color": [
               [
                "#B0BEC5",
                "#B0BEC5",
                "#B0BEC5",
                "#B0BEC5",
                "#B0BEC5",
                "#B0BEC5",
                "#B0BEC5",
                "#B0BEC5",
                "#B0BEC5",
                "#B0BEC5",
                "#B0BEC5",
                "#B0BEC5",
                "#B0BEC5",
                "#B0BEC5",
                "#B0BEC5",
                "#B0BEC5",
                "#B0BEC5",
                "red",
                "#B0BEC5",
                "#B0BEC5",
                "#B0BEC5",
                "#B0BEC5",
                "#B0BEC5",
                "#B0BEC5",
                "#B0BEC5",
                "#B0BEC5",
                "#B0BEC5",
                "#B0BEC5",
                "#B0BEC5",
                "#B0BEC5",
                "#B0BEC5",
                "#B0BEC5",
                "#B0BEC5",
                "#B0BEC5",
                "#B0BEC5",
                "#B0BEC5",
                "#B0BEC5",
                "#B0BEC5",
                "#B0BEC5",
                "#B0BEC5",
                "#B0BEC5",
                "#B0BEC5",
                "#B0BEC5",
                "#B0BEC5",
                "#B0BEC5",
                "#B0BEC5",
                "#B0BEC5",
                "#B0BEC5",
                "#B0BEC5",
                "#B0BEC5",
                "#B0BEC5",
                "#B0BEC5"
               ]
              ]
             }
            ],
            "label": "Topic 17",
            "method": "update"
           },
           {
            "args": [
             {
              "marker.color": [
               [
                "#B0BEC5",
                "#B0BEC5",
                "#B0BEC5",
                "#B0BEC5",
                "#B0BEC5",
                "#B0BEC5",
                "#B0BEC5",
                "#B0BEC5",
                "#B0BEC5",
                "#B0BEC5",
                "#B0BEC5",
                "#B0BEC5",
                "#B0BEC5",
                "#B0BEC5",
                "#B0BEC5",
                "#B0BEC5",
                "#B0BEC5",
                "#B0BEC5",
                "red",
                "#B0BEC5",
                "#B0BEC5",
                "#B0BEC5",
                "#B0BEC5",
                "#B0BEC5",
                "#B0BEC5",
                "#B0BEC5",
                "#B0BEC5",
                "#B0BEC5",
                "#B0BEC5",
                "#B0BEC5",
                "#B0BEC5",
                "#B0BEC5",
                "#B0BEC5",
                "#B0BEC5",
                "#B0BEC5",
                "#B0BEC5",
                "#B0BEC5",
                "#B0BEC5",
                "#B0BEC5",
                "#B0BEC5",
                "#B0BEC5",
                "#B0BEC5",
                "#B0BEC5",
                "#B0BEC5",
                "#B0BEC5",
                "#B0BEC5",
                "#B0BEC5",
                "#B0BEC5",
                "#B0BEC5",
                "#B0BEC5",
                "#B0BEC5",
                "#B0BEC5"
               ]
              ]
             }
            ],
            "label": "Topic 18",
            "method": "update"
           },
           {
            "args": [
             {
              "marker.color": [
               [
                "#B0BEC5",
                "#B0BEC5",
                "#B0BEC5",
                "#B0BEC5",
                "#B0BEC5",
                "#B0BEC5",
                "#B0BEC5",
                "#B0BEC5",
                "#B0BEC5",
                "#B0BEC5",
                "#B0BEC5",
                "#B0BEC5",
                "#B0BEC5",
                "#B0BEC5",
                "#B0BEC5",
                "#B0BEC5",
                "#B0BEC5",
                "#B0BEC5",
                "#B0BEC5",
                "red",
                "#B0BEC5",
                "#B0BEC5",
                "#B0BEC5",
                "#B0BEC5",
                "#B0BEC5",
                "#B0BEC5",
                "#B0BEC5",
                "#B0BEC5",
                "#B0BEC5",
                "#B0BEC5",
                "#B0BEC5",
                "#B0BEC5",
                "#B0BEC5",
                "#B0BEC5",
                "#B0BEC5",
                "#B0BEC5",
                "#B0BEC5",
                "#B0BEC5",
                "#B0BEC5",
                "#B0BEC5",
                "#B0BEC5",
                "#B0BEC5",
                "#B0BEC5",
                "#B0BEC5",
                "#B0BEC5",
                "#B0BEC5",
                "#B0BEC5",
                "#B0BEC5",
                "#B0BEC5",
                "#B0BEC5",
                "#B0BEC5",
                "#B0BEC5"
               ]
              ]
             }
            ],
            "label": "Topic 19",
            "method": "update"
           },
           {
            "args": [
             {
              "marker.color": [
               [
                "#B0BEC5",
                "#B0BEC5",
                "#B0BEC5",
                "#B0BEC5",
                "#B0BEC5",
                "#B0BEC5",
                "#B0BEC5",
                "#B0BEC5",
                "#B0BEC5",
                "#B0BEC5",
                "#B0BEC5",
                "#B0BEC5",
                "#B0BEC5",
                "#B0BEC5",
                "#B0BEC5",
                "#B0BEC5",
                "#B0BEC5",
                "#B0BEC5",
                "#B0BEC5",
                "#B0BEC5",
                "red",
                "#B0BEC5",
                "#B0BEC5",
                "#B0BEC5",
                "#B0BEC5",
                "#B0BEC5",
                "#B0BEC5",
                "#B0BEC5",
                "#B0BEC5",
                "#B0BEC5",
                "#B0BEC5",
                "#B0BEC5",
                "#B0BEC5",
                "#B0BEC5",
                "#B0BEC5",
                "#B0BEC5",
                "#B0BEC5",
                "#B0BEC5",
                "#B0BEC5",
                "#B0BEC5",
                "#B0BEC5",
                "#B0BEC5",
                "#B0BEC5",
                "#B0BEC5",
                "#B0BEC5",
                "#B0BEC5",
                "#B0BEC5",
                "#B0BEC5",
                "#B0BEC5",
                "#B0BEC5",
                "#B0BEC5",
                "#B0BEC5"
               ]
              ]
             }
            ],
            "label": "Topic 20",
            "method": "update"
           },
           {
            "args": [
             {
              "marker.color": [
               [
                "#B0BEC5",
                "#B0BEC5",
                "#B0BEC5",
                "#B0BEC5",
                "#B0BEC5",
                "#B0BEC5",
                "#B0BEC5",
                "#B0BEC5",
                "#B0BEC5",
                "#B0BEC5",
                "#B0BEC5",
                "#B0BEC5",
                "#B0BEC5",
                "#B0BEC5",
                "#B0BEC5",
                "#B0BEC5",
                "#B0BEC5",
                "#B0BEC5",
                "#B0BEC5",
                "#B0BEC5",
                "#B0BEC5",
                "red",
                "#B0BEC5",
                "#B0BEC5",
                "#B0BEC5",
                "#B0BEC5",
                "#B0BEC5",
                "#B0BEC5",
                "#B0BEC5",
                "#B0BEC5",
                "#B0BEC5",
                "#B0BEC5",
                "#B0BEC5",
                "#B0BEC5",
                "#B0BEC5",
                "#B0BEC5",
                "#B0BEC5",
                "#B0BEC5",
                "#B0BEC5",
                "#B0BEC5",
                "#B0BEC5",
                "#B0BEC5",
                "#B0BEC5",
                "#B0BEC5",
                "#B0BEC5",
                "#B0BEC5",
                "#B0BEC5",
                "#B0BEC5",
                "#B0BEC5",
                "#B0BEC5",
                "#B0BEC5",
                "#B0BEC5"
               ]
              ]
             }
            ],
            "label": "Topic 21",
            "method": "update"
           },
           {
            "args": [
             {
              "marker.color": [
               [
                "#B0BEC5",
                "#B0BEC5",
                "#B0BEC5",
                "#B0BEC5",
                "#B0BEC5",
                "#B0BEC5",
                "#B0BEC5",
                "#B0BEC5",
                "#B0BEC5",
                "#B0BEC5",
                "#B0BEC5",
                "#B0BEC5",
                "#B0BEC5",
                "#B0BEC5",
                "#B0BEC5",
                "#B0BEC5",
                "#B0BEC5",
                "#B0BEC5",
                "#B0BEC5",
                "#B0BEC5",
                "#B0BEC5",
                "#B0BEC5",
                "red",
                "#B0BEC5",
                "#B0BEC5",
                "#B0BEC5",
                "#B0BEC5",
                "#B0BEC5",
                "#B0BEC5",
                "#B0BEC5",
                "#B0BEC5",
                "#B0BEC5",
                "#B0BEC5",
                "#B0BEC5",
                "#B0BEC5",
                "#B0BEC5",
                "#B0BEC5",
                "#B0BEC5",
                "#B0BEC5",
                "#B0BEC5",
                "#B0BEC5",
                "#B0BEC5",
                "#B0BEC5",
                "#B0BEC5",
                "#B0BEC5",
                "#B0BEC5",
                "#B0BEC5",
                "#B0BEC5",
                "#B0BEC5",
                "#B0BEC5",
                "#B0BEC5",
                "#B0BEC5"
               ]
              ]
             }
            ],
            "label": "Topic 22",
            "method": "update"
           },
           {
            "args": [
             {
              "marker.color": [
               [
                "#B0BEC5",
                "#B0BEC5",
                "#B0BEC5",
                "#B0BEC5",
                "#B0BEC5",
                "#B0BEC5",
                "#B0BEC5",
                "#B0BEC5",
                "#B0BEC5",
                "#B0BEC5",
                "#B0BEC5",
                "#B0BEC5",
                "#B0BEC5",
                "#B0BEC5",
                "#B0BEC5",
                "#B0BEC5",
                "#B0BEC5",
                "#B0BEC5",
                "#B0BEC5",
                "#B0BEC5",
                "#B0BEC5",
                "#B0BEC5",
                "#B0BEC5",
                "red",
                "#B0BEC5",
                "#B0BEC5",
                "#B0BEC5",
                "#B0BEC5",
                "#B0BEC5",
                "#B0BEC5",
                "#B0BEC5",
                "#B0BEC5",
                "#B0BEC5",
                "#B0BEC5",
                "#B0BEC5",
                "#B0BEC5",
                "#B0BEC5",
                "#B0BEC5",
                "#B0BEC5",
                "#B0BEC5",
                "#B0BEC5",
                "#B0BEC5",
                "#B0BEC5",
                "#B0BEC5",
                "#B0BEC5",
                "#B0BEC5",
                "#B0BEC5",
                "#B0BEC5",
                "#B0BEC5",
                "#B0BEC5",
                "#B0BEC5",
                "#B0BEC5"
               ]
              ]
             }
            ],
            "label": "Topic 23",
            "method": "update"
           },
           {
            "args": [
             {
              "marker.color": [
               [
                "#B0BEC5",
                "#B0BEC5",
                "#B0BEC5",
                "#B0BEC5",
                "#B0BEC5",
                "#B0BEC5",
                "#B0BEC5",
                "#B0BEC5",
                "#B0BEC5",
                "#B0BEC5",
                "#B0BEC5",
                "#B0BEC5",
                "#B0BEC5",
                "#B0BEC5",
                "#B0BEC5",
                "#B0BEC5",
                "#B0BEC5",
                "#B0BEC5",
                "#B0BEC5",
                "#B0BEC5",
                "#B0BEC5",
                "#B0BEC5",
                "#B0BEC5",
                "#B0BEC5",
                "red",
                "#B0BEC5",
                "#B0BEC5",
                "#B0BEC5",
                "#B0BEC5",
                "#B0BEC5",
                "#B0BEC5",
                "#B0BEC5",
                "#B0BEC5",
                "#B0BEC5",
                "#B0BEC5",
                "#B0BEC5",
                "#B0BEC5",
                "#B0BEC5",
                "#B0BEC5",
                "#B0BEC5",
                "#B0BEC5",
                "#B0BEC5",
                "#B0BEC5",
                "#B0BEC5",
                "#B0BEC5",
                "#B0BEC5",
                "#B0BEC5",
                "#B0BEC5",
                "#B0BEC5",
                "#B0BEC5",
                "#B0BEC5",
                "#B0BEC5"
               ]
              ]
             }
            ],
            "label": "Topic 24",
            "method": "update"
           },
           {
            "args": [
             {
              "marker.color": [
               [
                "#B0BEC5",
                "#B0BEC5",
                "#B0BEC5",
                "#B0BEC5",
                "#B0BEC5",
                "#B0BEC5",
                "#B0BEC5",
                "#B0BEC5",
                "#B0BEC5",
                "#B0BEC5",
                "#B0BEC5",
                "#B0BEC5",
                "#B0BEC5",
                "#B0BEC5",
                "#B0BEC5",
                "#B0BEC5",
                "#B0BEC5",
                "#B0BEC5",
                "#B0BEC5",
                "#B0BEC5",
                "#B0BEC5",
                "#B0BEC5",
                "#B0BEC5",
                "#B0BEC5",
                "#B0BEC5",
                "red",
                "#B0BEC5",
                "#B0BEC5",
                "#B0BEC5",
                "#B0BEC5",
                "#B0BEC5",
                "#B0BEC5",
                "#B0BEC5",
                "#B0BEC5",
                "#B0BEC5",
                "#B0BEC5",
                "#B0BEC5",
                "#B0BEC5",
                "#B0BEC5",
                "#B0BEC5",
                "#B0BEC5",
                "#B0BEC5",
                "#B0BEC5",
                "#B0BEC5",
                "#B0BEC5",
                "#B0BEC5",
                "#B0BEC5",
                "#B0BEC5",
                "#B0BEC5",
                "#B0BEC5",
                "#B0BEC5",
                "#B0BEC5"
               ]
              ]
             }
            ],
            "label": "Topic 25",
            "method": "update"
           },
           {
            "args": [
             {
              "marker.color": [
               [
                "#B0BEC5",
                "#B0BEC5",
                "#B0BEC5",
                "#B0BEC5",
                "#B0BEC5",
                "#B0BEC5",
                "#B0BEC5",
                "#B0BEC5",
                "#B0BEC5",
                "#B0BEC5",
                "#B0BEC5",
                "#B0BEC5",
                "#B0BEC5",
                "#B0BEC5",
                "#B0BEC5",
                "#B0BEC5",
                "#B0BEC5",
                "#B0BEC5",
                "#B0BEC5",
                "#B0BEC5",
                "#B0BEC5",
                "#B0BEC5",
                "#B0BEC5",
                "#B0BEC5",
                "#B0BEC5",
                "#B0BEC5",
                "red",
                "#B0BEC5",
                "#B0BEC5",
                "#B0BEC5",
                "#B0BEC5",
                "#B0BEC5",
                "#B0BEC5",
                "#B0BEC5",
                "#B0BEC5",
                "#B0BEC5",
                "#B0BEC5",
                "#B0BEC5",
                "#B0BEC5",
                "#B0BEC5",
                "#B0BEC5",
                "#B0BEC5",
                "#B0BEC5",
                "#B0BEC5",
                "#B0BEC5",
                "#B0BEC5",
                "#B0BEC5",
                "#B0BEC5",
                "#B0BEC5",
                "#B0BEC5",
                "#B0BEC5",
                "#B0BEC5"
               ]
              ]
             }
            ],
            "label": "Topic 26",
            "method": "update"
           },
           {
            "args": [
             {
              "marker.color": [
               [
                "#B0BEC5",
                "#B0BEC5",
                "#B0BEC5",
                "#B0BEC5",
                "#B0BEC5",
                "#B0BEC5",
                "#B0BEC5",
                "#B0BEC5",
                "#B0BEC5",
                "#B0BEC5",
                "#B0BEC5",
                "#B0BEC5",
                "#B0BEC5",
                "#B0BEC5",
                "#B0BEC5",
                "#B0BEC5",
                "#B0BEC5",
                "#B0BEC5",
                "#B0BEC5",
                "#B0BEC5",
                "#B0BEC5",
                "#B0BEC5",
                "#B0BEC5",
                "#B0BEC5",
                "#B0BEC5",
                "#B0BEC5",
                "#B0BEC5",
                "red",
                "#B0BEC5",
                "#B0BEC5",
                "#B0BEC5",
                "#B0BEC5",
                "#B0BEC5",
                "#B0BEC5",
                "#B0BEC5",
                "#B0BEC5",
                "#B0BEC5",
                "#B0BEC5",
                "#B0BEC5",
                "#B0BEC5",
                "#B0BEC5",
                "#B0BEC5",
                "#B0BEC5",
                "#B0BEC5",
                "#B0BEC5",
                "#B0BEC5",
                "#B0BEC5",
                "#B0BEC5",
                "#B0BEC5",
                "#B0BEC5",
                "#B0BEC5",
                "#B0BEC5"
               ]
              ]
             }
            ],
            "label": "Topic 27",
            "method": "update"
           },
           {
            "args": [
             {
              "marker.color": [
               [
                "#B0BEC5",
                "#B0BEC5",
                "#B0BEC5",
                "#B0BEC5",
                "#B0BEC5",
                "#B0BEC5",
                "#B0BEC5",
                "#B0BEC5",
                "#B0BEC5",
                "#B0BEC5",
                "#B0BEC5",
                "#B0BEC5",
                "#B0BEC5",
                "#B0BEC5",
                "#B0BEC5",
                "#B0BEC5",
                "#B0BEC5",
                "#B0BEC5",
                "#B0BEC5",
                "#B0BEC5",
                "#B0BEC5",
                "#B0BEC5",
                "#B0BEC5",
                "#B0BEC5",
                "#B0BEC5",
                "#B0BEC5",
                "#B0BEC5",
                "#B0BEC5",
                "red",
                "#B0BEC5",
                "#B0BEC5",
                "#B0BEC5",
                "#B0BEC5",
                "#B0BEC5",
                "#B0BEC5",
                "#B0BEC5",
                "#B0BEC5",
                "#B0BEC5",
                "#B0BEC5",
                "#B0BEC5",
                "#B0BEC5",
                "#B0BEC5",
                "#B0BEC5",
                "#B0BEC5",
                "#B0BEC5",
                "#B0BEC5",
                "#B0BEC5",
                "#B0BEC5",
                "#B0BEC5",
                "#B0BEC5",
                "#B0BEC5",
                "#B0BEC5"
               ]
              ]
             }
            ],
            "label": "Topic 28",
            "method": "update"
           },
           {
            "args": [
             {
              "marker.color": [
               [
                "#B0BEC5",
                "#B0BEC5",
                "#B0BEC5",
                "#B0BEC5",
                "#B0BEC5",
                "#B0BEC5",
                "#B0BEC5",
                "#B0BEC5",
                "#B0BEC5",
                "#B0BEC5",
                "#B0BEC5",
                "#B0BEC5",
                "#B0BEC5",
                "#B0BEC5",
                "#B0BEC5",
                "#B0BEC5",
                "#B0BEC5",
                "#B0BEC5",
                "#B0BEC5",
                "#B0BEC5",
                "#B0BEC5",
                "#B0BEC5",
                "#B0BEC5",
                "#B0BEC5",
                "#B0BEC5",
                "#B0BEC5",
                "#B0BEC5",
                "#B0BEC5",
                "#B0BEC5",
                "red",
                "#B0BEC5",
                "#B0BEC5",
                "#B0BEC5",
                "#B0BEC5",
                "#B0BEC5",
                "#B0BEC5",
                "#B0BEC5",
                "#B0BEC5",
                "#B0BEC5",
                "#B0BEC5",
                "#B0BEC5",
                "#B0BEC5",
                "#B0BEC5",
                "#B0BEC5",
                "#B0BEC5",
                "#B0BEC5",
                "#B0BEC5",
                "#B0BEC5",
                "#B0BEC5",
                "#B0BEC5",
                "#B0BEC5",
                "#B0BEC5"
               ]
              ]
             }
            ],
            "label": "Topic 29",
            "method": "update"
           },
           {
            "args": [
             {
              "marker.color": [
               [
                "#B0BEC5",
                "#B0BEC5",
                "#B0BEC5",
                "#B0BEC5",
                "#B0BEC5",
                "#B0BEC5",
                "#B0BEC5",
                "#B0BEC5",
                "#B0BEC5",
                "#B0BEC5",
                "#B0BEC5",
                "#B0BEC5",
                "#B0BEC5",
                "#B0BEC5",
                "#B0BEC5",
                "#B0BEC5",
                "#B0BEC5",
                "#B0BEC5",
                "#B0BEC5",
                "#B0BEC5",
                "#B0BEC5",
                "#B0BEC5",
                "#B0BEC5",
                "#B0BEC5",
                "#B0BEC5",
                "#B0BEC5",
                "#B0BEC5",
                "#B0BEC5",
                "#B0BEC5",
                "#B0BEC5",
                "red",
                "#B0BEC5",
                "#B0BEC5",
                "#B0BEC5",
                "#B0BEC5",
                "#B0BEC5",
                "#B0BEC5",
                "#B0BEC5",
                "#B0BEC5",
                "#B0BEC5",
                "#B0BEC5",
                "#B0BEC5",
                "#B0BEC5",
                "#B0BEC5",
                "#B0BEC5",
                "#B0BEC5",
                "#B0BEC5",
                "#B0BEC5",
                "#B0BEC5",
                "#B0BEC5",
                "#B0BEC5",
                "#B0BEC5"
               ]
              ]
             }
            ],
            "label": "Topic 30",
            "method": "update"
           },
           {
            "args": [
             {
              "marker.color": [
               [
                "#B0BEC5",
                "#B0BEC5",
                "#B0BEC5",
                "#B0BEC5",
                "#B0BEC5",
                "#B0BEC5",
                "#B0BEC5",
                "#B0BEC5",
                "#B0BEC5",
                "#B0BEC5",
                "#B0BEC5",
                "#B0BEC5",
                "#B0BEC5",
                "#B0BEC5",
                "#B0BEC5",
                "#B0BEC5",
                "#B0BEC5",
                "#B0BEC5",
                "#B0BEC5",
                "#B0BEC5",
                "#B0BEC5",
                "#B0BEC5",
                "#B0BEC5",
                "#B0BEC5",
                "#B0BEC5",
                "#B0BEC5",
                "#B0BEC5",
                "#B0BEC5",
                "#B0BEC5",
                "#B0BEC5",
                "#B0BEC5",
                "red",
                "#B0BEC5",
                "#B0BEC5",
                "#B0BEC5",
                "#B0BEC5",
                "#B0BEC5",
                "#B0BEC5",
                "#B0BEC5",
                "#B0BEC5",
                "#B0BEC5",
                "#B0BEC5",
                "#B0BEC5",
                "#B0BEC5",
                "#B0BEC5",
                "#B0BEC5",
                "#B0BEC5",
                "#B0BEC5",
                "#B0BEC5",
                "#B0BEC5",
                "#B0BEC5",
                "#B0BEC5"
               ]
              ]
             }
            ],
            "label": "Topic 31",
            "method": "update"
           },
           {
            "args": [
             {
              "marker.color": [
               [
                "#B0BEC5",
                "#B0BEC5",
                "#B0BEC5",
                "#B0BEC5",
                "#B0BEC5",
                "#B0BEC5",
                "#B0BEC5",
                "#B0BEC5",
                "#B0BEC5",
                "#B0BEC5",
                "#B0BEC5",
                "#B0BEC5",
                "#B0BEC5",
                "#B0BEC5",
                "#B0BEC5",
                "#B0BEC5",
                "#B0BEC5",
                "#B0BEC5",
                "#B0BEC5",
                "#B0BEC5",
                "#B0BEC5",
                "#B0BEC5",
                "#B0BEC5",
                "#B0BEC5",
                "#B0BEC5",
                "#B0BEC5",
                "#B0BEC5",
                "#B0BEC5",
                "#B0BEC5",
                "#B0BEC5",
                "#B0BEC5",
                "#B0BEC5",
                "red",
                "#B0BEC5",
                "#B0BEC5",
                "#B0BEC5",
                "#B0BEC5",
                "#B0BEC5",
                "#B0BEC5",
                "#B0BEC5",
                "#B0BEC5",
                "#B0BEC5",
                "#B0BEC5",
                "#B0BEC5",
                "#B0BEC5",
                "#B0BEC5",
                "#B0BEC5",
                "#B0BEC5",
                "#B0BEC5",
                "#B0BEC5",
                "#B0BEC5",
                "#B0BEC5"
               ]
              ]
             }
            ],
            "label": "Topic 32",
            "method": "update"
           },
           {
            "args": [
             {
              "marker.color": [
               [
                "#B0BEC5",
                "#B0BEC5",
                "#B0BEC5",
                "#B0BEC5",
                "#B0BEC5",
                "#B0BEC5",
                "#B0BEC5",
                "#B0BEC5",
                "#B0BEC5",
                "#B0BEC5",
                "#B0BEC5",
                "#B0BEC5",
                "#B0BEC5",
                "#B0BEC5",
                "#B0BEC5",
                "#B0BEC5",
                "#B0BEC5",
                "#B0BEC5",
                "#B0BEC5",
                "#B0BEC5",
                "#B0BEC5",
                "#B0BEC5",
                "#B0BEC5",
                "#B0BEC5",
                "#B0BEC5",
                "#B0BEC5",
                "#B0BEC5",
                "#B0BEC5",
                "#B0BEC5",
                "#B0BEC5",
                "#B0BEC5",
                "#B0BEC5",
                "#B0BEC5",
                "red",
                "#B0BEC5",
                "#B0BEC5",
                "#B0BEC5",
                "#B0BEC5",
                "#B0BEC5",
                "#B0BEC5",
                "#B0BEC5",
                "#B0BEC5",
                "#B0BEC5",
                "#B0BEC5",
                "#B0BEC5",
                "#B0BEC5",
                "#B0BEC5",
                "#B0BEC5",
                "#B0BEC5",
                "#B0BEC5",
                "#B0BEC5",
                "#B0BEC5"
               ]
              ]
             }
            ],
            "label": "Topic 33",
            "method": "update"
           },
           {
            "args": [
             {
              "marker.color": [
               [
                "#B0BEC5",
                "#B0BEC5",
                "#B0BEC5",
                "#B0BEC5",
                "#B0BEC5",
                "#B0BEC5",
                "#B0BEC5",
                "#B0BEC5",
                "#B0BEC5",
                "#B0BEC5",
                "#B0BEC5",
                "#B0BEC5",
                "#B0BEC5",
                "#B0BEC5",
                "#B0BEC5",
                "#B0BEC5",
                "#B0BEC5",
                "#B0BEC5",
                "#B0BEC5",
                "#B0BEC5",
                "#B0BEC5",
                "#B0BEC5",
                "#B0BEC5",
                "#B0BEC5",
                "#B0BEC5",
                "#B0BEC5",
                "#B0BEC5",
                "#B0BEC5",
                "#B0BEC5",
                "#B0BEC5",
                "#B0BEC5",
                "#B0BEC5",
                "#B0BEC5",
                "#B0BEC5",
                "red",
                "#B0BEC5",
                "#B0BEC5",
                "#B0BEC5",
                "#B0BEC5",
                "#B0BEC5",
                "#B0BEC5",
                "#B0BEC5",
                "#B0BEC5",
                "#B0BEC5",
                "#B0BEC5",
                "#B0BEC5",
                "#B0BEC5",
                "#B0BEC5",
                "#B0BEC5",
                "#B0BEC5",
                "#B0BEC5",
                "#B0BEC5"
               ]
              ]
             }
            ],
            "label": "Topic 34",
            "method": "update"
           },
           {
            "args": [
             {
              "marker.color": [
               [
                "#B0BEC5",
                "#B0BEC5",
                "#B0BEC5",
                "#B0BEC5",
                "#B0BEC5",
                "#B0BEC5",
                "#B0BEC5",
                "#B0BEC5",
                "#B0BEC5",
                "#B0BEC5",
                "#B0BEC5",
                "#B0BEC5",
                "#B0BEC5",
                "#B0BEC5",
                "#B0BEC5",
                "#B0BEC5",
                "#B0BEC5",
                "#B0BEC5",
                "#B0BEC5",
                "#B0BEC5",
                "#B0BEC5",
                "#B0BEC5",
                "#B0BEC5",
                "#B0BEC5",
                "#B0BEC5",
                "#B0BEC5",
                "#B0BEC5",
                "#B0BEC5",
                "#B0BEC5",
                "#B0BEC5",
                "#B0BEC5",
                "#B0BEC5",
                "#B0BEC5",
                "#B0BEC5",
                "#B0BEC5",
                "red",
                "#B0BEC5",
                "#B0BEC5",
                "#B0BEC5",
                "#B0BEC5",
                "#B0BEC5",
                "#B0BEC5",
                "#B0BEC5",
                "#B0BEC5",
                "#B0BEC5",
                "#B0BEC5",
                "#B0BEC5",
                "#B0BEC5",
                "#B0BEC5",
                "#B0BEC5",
                "#B0BEC5",
                "#B0BEC5"
               ]
              ]
             }
            ],
            "label": "Topic 35",
            "method": "update"
           },
           {
            "args": [
             {
              "marker.color": [
               [
                "#B0BEC5",
                "#B0BEC5",
                "#B0BEC5",
                "#B0BEC5",
                "#B0BEC5",
                "#B0BEC5",
                "#B0BEC5",
                "#B0BEC5",
                "#B0BEC5",
                "#B0BEC5",
                "#B0BEC5",
                "#B0BEC5",
                "#B0BEC5",
                "#B0BEC5",
                "#B0BEC5",
                "#B0BEC5",
                "#B0BEC5",
                "#B0BEC5",
                "#B0BEC5",
                "#B0BEC5",
                "#B0BEC5",
                "#B0BEC5",
                "#B0BEC5",
                "#B0BEC5",
                "#B0BEC5",
                "#B0BEC5",
                "#B0BEC5",
                "#B0BEC5",
                "#B0BEC5",
                "#B0BEC5",
                "#B0BEC5",
                "#B0BEC5",
                "#B0BEC5",
                "#B0BEC5",
                "#B0BEC5",
                "#B0BEC5",
                "red",
                "#B0BEC5",
                "#B0BEC5",
                "#B0BEC5",
                "#B0BEC5",
                "#B0BEC5",
                "#B0BEC5",
                "#B0BEC5",
                "#B0BEC5",
                "#B0BEC5",
                "#B0BEC5",
                "#B0BEC5",
                "#B0BEC5",
                "#B0BEC5",
                "#B0BEC5",
                "#B0BEC5"
               ]
              ]
             }
            ],
            "label": "Topic 36",
            "method": "update"
           },
           {
            "args": [
             {
              "marker.color": [
               [
                "#B0BEC5",
                "#B0BEC5",
                "#B0BEC5",
                "#B0BEC5",
                "#B0BEC5",
                "#B0BEC5",
                "#B0BEC5",
                "#B0BEC5",
                "#B0BEC5",
                "#B0BEC5",
                "#B0BEC5",
                "#B0BEC5",
                "#B0BEC5",
                "#B0BEC5",
                "#B0BEC5",
                "#B0BEC5",
                "#B0BEC5",
                "#B0BEC5",
                "#B0BEC5",
                "#B0BEC5",
                "#B0BEC5",
                "#B0BEC5",
                "#B0BEC5",
                "#B0BEC5",
                "#B0BEC5",
                "#B0BEC5",
                "#B0BEC5",
                "#B0BEC5",
                "#B0BEC5",
                "#B0BEC5",
                "#B0BEC5",
                "#B0BEC5",
                "#B0BEC5",
                "#B0BEC5",
                "#B0BEC5",
                "#B0BEC5",
                "#B0BEC5",
                "red",
                "#B0BEC5",
                "#B0BEC5",
                "#B0BEC5",
                "#B0BEC5",
                "#B0BEC5",
                "#B0BEC5",
                "#B0BEC5",
                "#B0BEC5",
                "#B0BEC5",
                "#B0BEC5",
                "#B0BEC5",
                "#B0BEC5",
                "#B0BEC5",
                "#B0BEC5"
               ]
              ]
             }
            ],
            "label": "Topic 37",
            "method": "update"
           },
           {
            "args": [
             {
              "marker.color": [
               [
                "#B0BEC5",
                "#B0BEC5",
                "#B0BEC5",
                "#B0BEC5",
                "#B0BEC5",
                "#B0BEC5",
                "#B0BEC5",
                "#B0BEC5",
                "#B0BEC5",
                "#B0BEC5",
                "#B0BEC5",
                "#B0BEC5",
                "#B0BEC5",
                "#B0BEC5",
                "#B0BEC5",
                "#B0BEC5",
                "#B0BEC5",
                "#B0BEC5",
                "#B0BEC5",
                "#B0BEC5",
                "#B0BEC5",
                "#B0BEC5",
                "#B0BEC5",
                "#B0BEC5",
                "#B0BEC5",
                "#B0BEC5",
                "#B0BEC5",
                "#B0BEC5",
                "#B0BEC5",
                "#B0BEC5",
                "#B0BEC5",
                "#B0BEC5",
                "#B0BEC5",
                "#B0BEC5",
                "#B0BEC5",
                "#B0BEC5",
                "#B0BEC5",
                "#B0BEC5",
                "red",
                "#B0BEC5",
                "#B0BEC5",
                "#B0BEC5",
                "#B0BEC5",
                "#B0BEC5",
                "#B0BEC5",
                "#B0BEC5",
                "#B0BEC5",
                "#B0BEC5",
                "#B0BEC5",
                "#B0BEC5",
                "#B0BEC5",
                "#B0BEC5"
               ]
              ]
             }
            ],
            "label": "Topic 38",
            "method": "update"
           },
           {
            "args": [
             {
              "marker.color": [
               [
                "#B0BEC5",
                "#B0BEC5",
                "#B0BEC5",
                "#B0BEC5",
                "#B0BEC5",
                "#B0BEC5",
                "#B0BEC5",
                "#B0BEC5",
                "#B0BEC5",
                "#B0BEC5",
                "#B0BEC5",
                "#B0BEC5",
                "#B0BEC5",
                "#B0BEC5",
                "#B0BEC5",
                "#B0BEC5",
                "#B0BEC5",
                "#B0BEC5",
                "#B0BEC5",
                "#B0BEC5",
                "#B0BEC5",
                "#B0BEC5",
                "#B0BEC5",
                "#B0BEC5",
                "#B0BEC5",
                "#B0BEC5",
                "#B0BEC5",
                "#B0BEC5",
                "#B0BEC5",
                "#B0BEC5",
                "#B0BEC5",
                "#B0BEC5",
                "#B0BEC5",
                "#B0BEC5",
                "#B0BEC5",
                "#B0BEC5",
                "#B0BEC5",
                "#B0BEC5",
                "#B0BEC5",
                "red",
                "#B0BEC5",
                "#B0BEC5",
                "#B0BEC5",
                "#B0BEC5",
                "#B0BEC5",
                "#B0BEC5",
                "#B0BEC5",
                "#B0BEC5",
                "#B0BEC5",
                "#B0BEC5",
                "#B0BEC5",
                "#B0BEC5"
               ]
              ]
             }
            ],
            "label": "Topic 39",
            "method": "update"
           },
           {
            "args": [
             {
              "marker.color": [
               [
                "#B0BEC5",
                "#B0BEC5",
                "#B0BEC5",
                "#B0BEC5",
                "#B0BEC5",
                "#B0BEC5",
                "#B0BEC5",
                "#B0BEC5",
                "#B0BEC5",
                "#B0BEC5",
                "#B0BEC5",
                "#B0BEC5",
                "#B0BEC5",
                "#B0BEC5",
                "#B0BEC5",
                "#B0BEC5",
                "#B0BEC5",
                "#B0BEC5",
                "#B0BEC5",
                "#B0BEC5",
                "#B0BEC5",
                "#B0BEC5",
                "#B0BEC5",
                "#B0BEC5",
                "#B0BEC5",
                "#B0BEC5",
                "#B0BEC5",
                "#B0BEC5",
                "#B0BEC5",
                "#B0BEC5",
                "#B0BEC5",
                "#B0BEC5",
                "#B0BEC5",
                "#B0BEC5",
                "#B0BEC5",
                "#B0BEC5",
                "#B0BEC5",
                "#B0BEC5",
                "#B0BEC5",
                "#B0BEC5",
                "red",
                "#B0BEC5",
                "#B0BEC5",
                "#B0BEC5",
                "#B0BEC5",
                "#B0BEC5",
                "#B0BEC5",
                "#B0BEC5",
                "#B0BEC5",
                "#B0BEC5",
                "#B0BEC5",
                "#B0BEC5"
               ]
              ]
             }
            ],
            "label": "Topic 40",
            "method": "update"
           },
           {
            "args": [
             {
              "marker.color": [
               [
                "#B0BEC5",
                "#B0BEC5",
                "#B0BEC5",
                "#B0BEC5",
                "#B0BEC5",
                "#B0BEC5",
                "#B0BEC5",
                "#B0BEC5",
                "#B0BEC5",
                "#B0BEC5",
                "#B0BEC5",
                "#B0BEC5",
                "#B0BEC5",
                "#B0BEC5",
                "#B0BEC5",
                "#B0BEC5",
                "#B0BEC5",
                "#B0BEC5",
                "#B0BEC5",
                "#B0BEC5",
                "#B0BEC5",
                "#B0BEC5",
                "#B0BEC5",
                "#B0BEC5",
                "#B0BEC5",
                "#B0BEC5",
                "#B0BEC5",
                "#B0BEC5",
                "#B0BEC5",
                "#B0BEC5",
                "#B0BEC5",
                "#B0BEC5",
                "#B0BEC5",
                "#B0BEC5",
                "#B0BEC5",
                "#B0BEC5",
                "#B0BEC5",
                "#B0BEC5",
                "#B0BEC5",
                "#B0BEC5",
                "#B0BEC5",
                "red",
                "#B0BEC5",
                "#B0BEC5",
                "#B0BEC5",
                "#B0BEC5",
                "#B0BEC5",
                "#B0BEC5",
                "#B0BEC5",
                "#B0BEC5",
                "#B0BEC5",
                "#B0BEC5"
               ]
              ]
             }
            ],
            "label": "Topic 41",
            "method": "update"
           },
           {
            "args": [
             {
              "marker.color": [
               [
                "#B0BEC5",
                "#B0BEC5",
                "#B0BEC5",
                "#B0BEC5",
                "#B0BEC5",
                "#B0BEC5",
                "#B0BEC5",
                "#B0BEC5",
                "#B0BEC5",
                "#B0BEC5",
                "#B0BEC5",
                "#B0BEC5",
                "#B0BEC5",
                "#B0BEC5",
                "#B0BEC5",
                "#B0BEC5",
                "#B0BEC5",
                "#B0BEC5",
                "#B0BEC5",
                "#B0BEC5",
                "#B0BEC5",
                "#B0BEC5",
                "#B0BEC5",
                "#B0BEC5",
                "#B0BEC5",
                "#B0BEC5",
                "#B0BEC5",
                "#B0BEC5",
                "#B0BEC5",
                "#B0BEC5",
                "#B0BEC5",
                "#B0BEC5",
                "#B0BEC5",
                "#B0BEC5",
                "#B0BEC5",
                "#B0BEC5",
                "#B0BEC5",
                "#B0BEC5",
                "#B0BEC5",
                "#B0BEC5",
                "#B0BEC5",
                "#B0BEC5",
                "red",
                "#B0BEC5",
                "#B0BEC5",
                "#B0BEC5",
                "#B0BEC5",
                "#B0BEC5",
                "#B0BEC5",
                "#B0BEC5",
                "#B0BEC5",
                "#B0BEC5"
               ]
              ]
             }
            ],
            "label": "Topic 42",
            "method": "update"
           },
           {
            "args": [
             {
              "marker.color": [
               [
                "#B0BEC5",
                "#B0BEC5",
                "#B0BEC5",
                "#B0BEC5",
                "#B0BEC5",
                "#B0BEC5",
                "#B0BEC5",
                "#B0BEC5",
                "#B0BEC5",
                "#B0BEC5",
                "#B0BEC5",
                "#B0BEC5",
                "#B0BEC5",
                "#B0BEC5",
                "#B0BEC5",
                "#B0BEC5",
                "#B0BEC5",
                "#B0BEC5",
                "#B0BEC5",
                "#B0BEC5",
                "#B0BEC5",
                "#B0BEC5",
                "#B0BEC5",
                "#B0BEC5",
                "#B0BEC5",
                "#B0BEC5",
                "#B0BEC5",
                "#B0BEC5",
                "#B0BEC5",
                "#B0BEC5",
                "#B0BEC5",
                "#B0BEC5",
                "#B0BEC5",
                "#B0BEC5",
                "#B0BEC5",
                "#B0BEC5",
                "#B0BEC5",
                "#B0BEC5",
                "#B0BEC5",
                "#B0BEC5",
                "#B0BEC5",
                "#B0BEC5",
                "#B0BEC5",
                "red",
                "#B0BEC5",
                "#B0BEC5",
                "#B0BEC5",
                "#B0BEC5",
                "#B0BEC5",
                "#B0BEC5",
                "#B0BEC5",
                "#B0BEC5"
               ]
              ]
             }
            ],
            "label": "Topic 43",
            "method": "update"
           },
           {
            "args": [
             {
              "marker.color": [
               [
                "#B0BEC5",
                "#B0BEC5",
                "#B0BEC5",
                "#B0BEC5",
                "#B0BEC5",
                "#B0BEC5",
                "#B0BEC5",
                "#B0BEC5",
                "#B0BEC5",
                "#B0BEC5",
                "#B0BEC5",
                "#B0BEC5",
                "#B0BEC5",
                "#B0BEC5",
                "#B0BEC5",
                "#B0BEC5",
                "#B0BEC5",
                "#B0BEC5",
                "#B0BEC5",
                "#B0BEC5",
                "#B0BEC5",
                "#B0BEC5",
                "#B0BEC5",
                "#B0BEC5",
                "#B0BEC5",
                "#B0BEC5",
                "#B0BEC5",
                "#B0BEC5",
                "#B0BEC5",
                "#B0BEC5",
                "#B0BEC5",
                "#B0BEC5",
                "#B0BEC5",
                "#B0BEC5",
                "#B0BEC5",
                "#B0BEC5",
                "#B0BEC5",
                "#B0BEC5",
                "#B0BEC5",
                "#B0BEC5",
                "#B0BEC5",
                "#B0BEC5",
                "#B0BEC5",
                "#B0BEC5",
                "red",
                "#B0BEC5",
                "#B0BEC5",
                "#B0BEC5",
                "#B0BEC5",
                "#B0BEC5",
                "#B0BEC5",
                "#B0BEC5"
               ]
              ]
             }
            ],
            "label": "Topic 44",
            "method": "update"
           },
           {
            "args": [
             {
              "marker.color": [
               [
                "#B0BEC5",
                "#B0BEC5",
                "#B0BEC5",
                "#B0BEC5",
                "#B0BEC5",
                "#B0BEC5",
                "#B0BEC5",
                "#B0BEC5",
                "#B0BEC5",
                "#B0BEC5",
                "#B0BEC5",
                "#B0BEC5",
                "#B0BEC5",
                "#B0BEC5",
                "#B0BEC5",
                "#B0BEC5",
                "#B0BEC5",
                "#B0BEC5",
                "#B0BEC5",
                "#B0BEC5",
                "#B0BEC5",
                "#B0BEC5",
                "#B0BEC5",
                "#B0BEC5",
                "#B0BEC5",
                "#B0BEC5",
                "#B0BEC5",
                "#B0BEC5",
                "#B0BEC5",
                "#B0BEC5",
                "#B0BEC5",
                "#B0BEC5",
                "#B0BEC5",
                "#B0BEC5",
                "#B0BEC5",
                "#B0BEC5",
                "#B0BEC5",
                "#B0BEC5",
                "#B0BEC5",
                "#B0BEC5",
                "#B0BEC5",
                "#B0BEC5",
                "#B0BEC5",
                "#B0BEC5",
                "#B0BEC5",
                "red",
                "#B0BEC5",
                "#B0BEC5",
                "#B0BEC5",
                "#B0BEC5",
                "#B0BEC5",
                "#B0BEC5"
               ]
              ]
             }
            ],
            "label": "Topic 45",
            "method": "update"
           },
           {
            "args": [
             {
              "marker.color": [
               [
                "#B0BEC5",
                "#B0BEC5",
                "#B0BEC5",
                "#B0BEC5",
                "#B0BEC5",
                "#B0BEC5",
                "#B0BEC5",
                "#B0BEC5",
                "#B0BEC5",
                "#B0BEC5",
                "#B0BEC5",
                "#B0BEC5",
                "#B0BEC5",
                "#B0BEC5",
                "#B0BEC5",
                "#B0BEC5",
                "#B0BEC5",
                "#B0BEC5",
                "#B0BEC5",
                "#B0BEC5",
                "#B0BEC5",
                "#B0BEC5",
                "#B0BEC5",
                "#B0BEC5",
                "#B0BEC5",
                "#B0BEC5",
                "#B0BEC5",
                "#B0BEC5",
                "#B0BEC5",
                "#B0BEC5",
                "#B0BEC5",
                "#B0BEC5",
                "#B0BEC5",
                "#B0BEC5",
                "#B0BEC5",
                "#B0BEC5",
                "#B0BEC5",
                "#B0BEC5",
                "#B0BEC5",
                "#B0BEC5",
                "#B0BEC5",
                "#B0BEC5",
                "#B0BEC5",
                "#B0BEC5",
                "#B0BEC5",
                "#B0BEC5",
                "red",
                "#B0BEC5",
                "#B0BEC5",
                "#B0BEC5",
                "#B0BEC5",
                "#B0BEC5"
               ]
              ]
             }
            ],
            "label": "Topic 46",
            "method": "update"
           },
           {
            "args": [
             {
              "marker.color": [
               [
                "#B0BEC5",
                "#B0BEC5",
                "#B0BEC5",
                "#B0BEC5",
                "#B0BEC5",
                "#B0BEC5",
                "#B0BEC5",
                "#B0BEC5",
                "#B0BEC5",
                "#B0BEC5",
                "#B0BEC5",
                "#B0BEC5",
                "#B0BEC5",
                "#B0BEC5",
                "#B0BEC5",
                "#B0BEC5",
                "#B0BEC5",
                "#B0BEC5",
                "#B0BEC5",
                "#B0BEC5",
                "#B0BEC5",
                "#B0BEC5",
                "#B0BEC5",
                "#B0BEC5",
                "#B0BEC5",
                "#B0BEC5",
                "#B0BEC5",
                "#B0BEC5",
                "#B0BEC5",
                "#B0BEC5",
                "#B0BEC5",
                "#B0BEC5",
                "#B0BEC5",
                "#B0BEC5",
                "#B0BEC5",
                "#B0BEC5",
                "#B0BEC5",
                "#B0BEC5",
                "#B0BEC5",
                "#B0BEC5",
                "#B0BEC5",
                "#B0BEC5",
                "#B0BEC5",
                "#B0BEC5",
                "#B0BEC5",
                "#B0BEC5",
                "#B0BEC5",
                "red",
                "#B0BEC5",
                "#B0BEC5",
                "#B0BEC5",
                "#B0BEC5"
               ]
              ]
             }
            ],
            "label": "Topic 47",
            "method": "update"
           },
           {
            "args": [
             {
              "marker.color": [
               [
                "#B0BEC5",
                "#B0BEC5",
                "#B0BEC5",
                "#B0BEC5",
                "#B0BEC5",
                "#B0BEC5",
                "#B0BEC5",
                "#B0BEC5",
                "#B0BEC5",
                "#B0BEC5",
                "#B0BEC5",
                "#B0BEC5",
                "#B0BEC5",
                "#B0BEC5",
                "#B0BEC5",
                "#B0BEC5",
                "#B0BEC5",
                "#B0BEC5",
                "#B0BEC5",
                "#B0BEC5",
                "#B0BEC5",
                "#B0BEC5",
                "#B0BEC5",
                "#B0BEC5",
                "#B0BEC5",
                "#B0BEC5",
                "#B0BEC5",
                "#B0BEC5",
                "#B0BEC5",
                "#B0BEC5",
                "#B0BEC5",
                "#B0BEC5",
                "#B0BEC5",
                "#B0BEC5",
                "#B0BEC5",
                "#B0BEC5",
                "#B0BEC5",
                "#B0BEC5",
                "#B0BEC5",
                "#B0BEC5",
                "#B0BEC5",
                "#B0BEC5",
                "#B0BEC5",
                "#B0BEC5",
                "#B0BEC5",
                "#B0BEC5",
                "#B0BEC5",
                "#B0BEC5",
                "red",
                "#B0BEC5",
                "#B0BEC5",
                "#B0BEC5"
               ]
              ]
             }
            ],
            "label": "Topic 48",
            "method": "update"
           },
           {
            "args": [
             {
              "marker.color": [
               [
                "#B0BEC5",
                "#B0BEC5",
                "#B0BEC5",
                "#B0BEC5",
                "#B0BEC5",
                "#B0BEC5",
                "#B0BEC5",
                "#B0BEC5",
                "#B0BEC5",
                "#B0BEC5",
                "#B0BEC5",
                "#B0BEC5",
                "#B0BEC5",
                "#B0BEC5",
                "#B0BEC5",
                "#B0BEC5",
                "#B0BEC5",
                "#B0BEC5",
                "#B0BEC5",
                "#B0BEC5",
                "#B0BEC5",
                "#B0BEC5",
                "#B0BEC5",
                "#B0BEC5",
                "#B0BEC5",
                "#B0BEC5",
                "#B0BEC5",
                "#B0BEC5",
                "#B0BEC5",
                "#B0BEC5",
                "#B0BEC5",
                "#B0BEC5",
                "#B0BEC5",
                "#B0BEC5",
                "#B0BEC5",
                "#B0BEC5",
                "#B0BEC5",
                "#B0BEC5",
                "#B0BEC5",
                "#B0BEC5",
                "#B0BEC5",
                "#B0BEC5",
                "#B0BEC5",
                "#B0BEC5",
                "#B0BEC5",
                "#B0BEC5",
                "#B0BEC5",
                "#B0BEC5",
                "#B0BEC5",
                "red",
                "#B0BEC5",
                "#B0BEC5"
               ]
              ]
             }
            ],
            "label": "Topic 49",
            "method": "update"
           },
           {
            "args": [
             {
              "marker.color": [
               [
                "#B0BEC5",
                "#B0BEC5",
                "#B0BEC5",
                "#B0BEC5",
                "#B0BEC5",
                "#B0BEC5",
                "#B0BEC5",
                "#B0BEC5",
                "#B0BEC5",
                "#B0BEC5",
                "#B0BEC5",
                "#B0BEC5",
                "#B0BEC5",
                "#B0BEC5",
                "#B0BEC5",
                "#B0BEC5",
                "#B0BEC5",
                "#B0BEC5",
                "#B0BEC5",
                "#B0BEC5",
                "#B0BEC5",
                "#B0BEC5",
                "#B0BEC5",
                "#B0BEC5",
                "#B0BEC5",
                "#B0BEC5",
                "#B0BEC5",
                "#B0BEC5",
                "#B0BEC5",
                "#B0BEC5",
                "#B0BEC5",
                "#B0BEC5",
                "#B0BEC5",
                "#B0BEC5",
                "#B0BEC5",
                "#B0BEC5",
                "#B0BEC5",
                "#B0BEC5",
                "#B0BEC5",
                "#B0BEC5",
                "#B0BEC5",
                "#B0BEC5",
                "#B0BEC5",
                "#B0BEC5",
                "#B0BEC5",
                "#B0BEC5",
                "#B0BEC5",
                "#B0BEC5",
                "#B0BEC5",
                "#B0BEC5",
                "red",
                "#B0BEC5"
               ]
              ]
             }
            ],
            "label": "Topic 50",
            "method": "update"
           },
           {
            "args": [
             {
              "marker.color": [
               [
                "#B0BEC5",
                "#B0BEC5",
                "#B0BEC5",
                "#B0BEC5",
                "#B0BEC5",
                "#B0BEC5",
                "#B0BEC5",
                "#B0BEC5",
                "#B0BEC5",
                "#B0BEC5",
                "#B0BEC5",
                "#B0BEC5",
                "#B0BEC5",
                "#B0BEC5",
                "#B0BEC5",
                "#B0BEC5",
                "#B0BEC5",
                "#B0BEC5",
                "#B0BEC5",
                "#B0BEC5",
                "#B0BEC5",
                "#B0BEC5",
                "#B0BEC5",
                "#B0BEC5",
                "#B0BEC5",
                "#B0BEC5",
                "#B0BEC5",
                "#B0BEC5",
                "#B0BEC5",
                "#B0BEC5",
                "#B0BEC5",
                "#B0BEC5",
                "#B0BEC5",
                "#B0BEC5",
                "#B0BEC5",
                "#B0BEC5",
                "#B0BEC5",
                "#B0BEC5",
                "#B0BEC5",
                "#B0BEC5",
                "#B0BEC5",
                "#B0BEC5",
                "#B0BEC5",
                "#B0BEC5",
                "#B0BEC5",
                "#B0BEC5",
                "#B0BEC5",
                "#B0BEC5",
                "#B0BEC5",
                "#B0BEC5",
                "#B0BEC5",
                "red"
               ]
              ]
             }
            ],
            "label": "Topic 51",
            "method": "update"
           }
          ]
         }
        ],
        "template": {
         "data": {
          "bar": [
           {
            "error_x": {
             "color": "rgb(36,36,36)"
            },
            "error_y": {
             "color": "rgb(36,36,36)"
            },
            "marker": {
             "line": {
              "color": "white",
              "width": 0.5
             },
             "pattern": {
              "fillmode": "overlay",
              "size": 10,
              "solidity": 0.2
             }
            },
            "type": "bar"
           }
          ],
          "barpolar": [
           {
            "marker": {
             "line": {
              "color": "white",
              "width": 0.5
             },
             "pattern": {
              "fillmode": "overlay",
              "size": 10,
              "solidity": 0.2
             }
            },
            "type": "barpolar"
           }
          ],
          "carpet": [
           {
            "aaxis": {
             "endlinecolor": "rgb(36,36,36)",
             "gridcolor": "white",
             "linecolor": "white",
             "minorgridcolor": "white",
             "startlinecolor": "rgb(36,36,36)"
            },
            "baxis": {
             "endlinecolor": "rgb(36,36,36)",
             "gridcolor": "white",
             "linecolor": "white",
             "minorgridcolor": "white",
             "startlinecolor": "rgb(36,36,36)"
            },
            "type": "carpet"
           }
          ],
          "choropleth": [
           {
            "colorbar": {
             "outlinewidth": 1,
             "tickcolor": "rgb(36,36,36)",
             "ticks": "outside"
            },
            "type": "choropleth"
           }
          ],
          "contour": [
           {
            "colorbar": {
             "outlinewidth": 1,
             "tickcolor": "rgb(36,36,36)",
             "ticks": "outside"
            },
            "colorscale": [
             [
              0,
              "#440154"
             ],
             [
              0.1111111111111111,
              "#482878"
             ],
             [
              0.2222222222222222,
              "#3e4989"
             ],
             [
              0.3333333333333333,
              "#31688e"
             ],
             [
              0.4444444444444444,
              "#26828e"
             ],
             [
              0.5555555555555556,
              "#1f9e89"
             ],
             [
              0.6666666666666666,
              "#35b779"
             ],
             [
              0.7777777777777778,
              "#6ece58"
             ],
             [
              0.8888888888888888,
              "#b5de2b"
             ],
             [
              1,
              "#fde725"
             ]
            ],
            "type": "contour"
           }
          ],
          "contourcarpet": [
           {
            "colorbar": {
             "outlinewidth": 1,
             "tickcolor": "rgb(36,36,36)",
             "ticks": "outside"
            },
            "type": "contourcarpet"
           }
          ],
          "heatmap": [
           {
            "colorbar": {
             "outlinewidth": 1,
             "tickcolor": "rgb(36,36,36)",
             "ticks": "outside"
            },
            "colorscale": [
             [
              0,
              "#440154"
             ],
             [
              0.1111111111111111,
              "#482878"
             ],
             [
              0.2222222222222222,
              "#3e4989"
             ],
             [
              0.3333333333333333,
              "#31688e"
             ],
             [
              0.4444444444444444,
              "#26828e"
             ],
             [
              0.5555555555555556,
              "#1f9e89"
             ],
             [
              0.6666666666666666,
              "#35b779"
             ],
             [
              0.7777777777777778,
              "#6ece58"
             ],
             [
              0.8888888888888888,
              "#b5de2b"
             ],
             [
              1,
              "#fde725"
             ]
            ],
            "type": "heatmap"
           }
          ],
          "heatmapgl": [
           {
            "colorbar": {
             "outlinewidth": 1,
             "tickcolor": "rgb(36,36,36)",
             "ticks": "outside"
            },
            "colorscale": [
             [
              0,
              "#440154"
             ],
             [
              0.1111111111111111,
              "#482878"
             ],
             [
              0.2222222222222222,
              "#3e4989"
             ],
             [
              0.3333333333333333,
              "#31688e"
             ],
             [
              0.4444444444444444,
              "#26828e"
             ],
             [
              0.5555555555555556,
              "#1f9e89"
             ],
             [
              0.6666666666666666,
              "#35b779"
             ],
             [
              0.7777777777777778,
              "#6ece58"
             ],
             [
              0.8888888888888888,
              "#b5de2b"
             ],
             [
              1,
              "#fde725"
             ]
            ],
            "type": "heatmapgl"
           }
          ],
          "histogram": [
           {
            "marker": {
             "line": {
              "color": "white",
              "width": 0.6
             }
            },
            "type": "histogram"
           }
          ],
          "histogram2d": [
           {
            "colorbar": {
             "outlinewidth": 1,
             "tickcolor": "rgb(36,36,36)",
             "ticks": "outside"
            },
            "colorscale": [
             [
              0,
              "#440154"
             ],
             [
              0.1111111111111111,
              "#482878"
             ],
             [
              0.2222222222222222,
              "#3e4989"
             ],
             [
              0.3333333333333333,
              "#31688e"
             ],
             [
              0.4444444444444444,
              "#26828e"
             ],
             [
              0.5555555555555556,
              "#1f9e89"
             ],
             [
              0.6666666666666666,
              "#35b779"
             ],
             [
              0.7777777777777778,
              "#6ece58"
             ],
             [
              0.8888888888888888,
              "#b5de2b"
             ],
             [
              1,
              "#fde725"
             ]
            ],
            "type": "histogram2d"
           }
          ],
          "histogram2dcontour": [
           {
            "colorbar": {
             "outlinewidth": 1,
             "tickcolor": "rgb(36,36,36)",
             "ticks": "outside"
            },
            "colorscale": [
             [
              0,
              "#440154"
             ],
             [
              0.1111111111111111,
              "#482878"
             ],
             [
              0.2222222222222222,
              "#3e4989"
             ],
             [
              0.3333333333333333,
              "#31688e"
             ],
             [
              0.4444444444444444,
              "#26828e"
             ],
             [
              0.5555555555555556,
              "#1f9e89"
             ],
             [
              0.6666666666666666,
              "#35b779"
             ],
             [
              0.7777777777777778,
              "#6ece58"
             ],
             [
              0.8888888888888888,
              "#b5de2b"
             ],
             [
              1,
              "#fde725"
             ]
            ],
            "type": "histogram2dcontour"
           }
          ],
          "mesh3d": [
           {
            "colorbar": {
             "outlinewidth": 1,
             "tickcolor": "rgb(36,36,36)",
             "ticks": "outside"
            },
            "type": "mesh3d"
           }
          ],
          "parcoords": [
           {
            "line": {
             "colorbar": {
              "outlinewidth": 1,
              "tickcolor": "rgb(36,36,36)",
              "ticks": "outside"
             }
            },
            "type": "parcoords"
           }
          ],
          "pie": [
           {
            "automargin": true,
            "type": "pie"
           }
          ],
          "scatter": [
           {
            "fillpattern": {
             "fillmode": "overlay",
             "size": 10,
             "solidity": 0.2
            },
            "type": "scatter"
           }
          ],
          "scatter3d": [
           {
            "line": {
             "colorbar": {
              "outlinewidth": 1,
              "tickcolor": "rgb(36,36,36)",
              "ticks": "outside"
             }
            },
            "marker": {
             "colorbar": {
              "outlinewidth": 1,
              "tickcolor": "rgb(36,36,36)",
              "ticks": "outside"
             }
            },
            "type": "scatter3d"
           }
          ],
          "scattercarpet": [
           {
            "marker": {
             "colorbar": {
              "outlinewidth": 1,
              "tickcolor": "rgb(36,36,36)",
              "ticks": "outside"
             }
            },
            "type": "scattercarpet"
           }
          ],
          "scattergeo": [
           {
            "marker": {
             "colorbar": {
              "outlinewidth": 1,
              "tickcolor": "rgb(36,36,36)",
              "ticks": "outside"
             }
            },
            "type": "scattergeo"
           }
          ],
          "scattergl": [
           {
            "marker": {
             "colorbar": {
              "outlinewidth": 1,
              "tickcolor": "rgb(36,36,36)",
              "ticks": "outside"
             }
            },
            "type": "scattergl"
           }
          ],
          "scattermapbox": [
           {
            "marker": {
             "colorbar": {
              "outlinewidth": 1,
              "tickcolor": "rgb(36,36,36)",
              "ticks": "outside"
             }
            },
            "type": "scattermapbox"
           }
          ],
          "scatterpolar": [
           {
            "marker": {
             "colorbar": {
              "outlinewidth": 1,
              "tickcolor": "rgb(36,36,36)",
              "ticks": "outside"
             }
            },
            "type": "scatterpolar"
           }
          ],
          "scatterpolargl": [
           {
            "marker": {
             "colorbar": {
              "outlinewidth": 1,
              "tickcolor": "rgb(36,36,36)",
              "ticks": "outside"
             }
            },
            "type": "scatterpolargl"
           }
          ],
          "scatterternary": [
           {
            "marker": {
             "colorbar": {
              "outlinewidth": 1,
              "tickcolor": "rgb(36,36,36)",
              "ticks": "outside"
             }
            },
            "type": "scatterternary"
           }
          ],
          "surface": [
           {
            "colorbar": {
             "outlinewidth": 1,
             "tickcolor": "rgb(36,36,36)",
             "ticks": "outside"
            },
            "colorscale": [
             [
              0,
              "#440154"
             ],
             [
              0.1111111111111111,
              "#482878"
             ],
             [
              0.2222222222222222,
              "#3e4989"
             ],
             [
              0.3333333333333333,
              "#31688e"
             ],
             [
              0.4444444444444444,
              "#26828e"
             ],
             [
              0.5555555555555556,
              "#1f9e89"
             ],
             [
              0.6666666666666666,
              "#35b779"
             ],
             [
              0.7777777777777778,
              "#6ece58"
             ],
             [
              0.8888888888888888,
              "#b5de2b"
             ],
             [
              1,
              "#fde725"
             ]
            ],
            "type": "surface"
           }
          ],
          "table": [
           {
            "cells": {
             "fill": {
              "color": "rgb(237,237,237)"
             },
             "line": {
              "color": "white"
             }
            },
            "header": {
             "fill": {
              "color": "rgb(217,217,217)"
             },
             "line": {
              "color": "white"
             }
            },
            "type": "table"
           }
          ]
         },
         "layout": {
          "annotationdefaults": {
           "arrowhead": 0,
           "arrowwidth": 1
          },
          "autotypenumbers": "strict",
          "coloraxis": {
           "colorbar": {
            "outlinewidth": 1,
            "tickcolor": "rgb(36,36,36)",
            "ticks": "outside"
           }
          },
          "colorscale": {
           "diverging": [
            [
             0,
             "rgb(103,0,31)"
            ],
            [
             0.1,
             "rgb(178,24,43)"
            ],
            [
             0.2,
             "rgb(214,96,77)"
            ],
            [
             0.3,
             "rgb(244,165,130)"
            ],
            [
             0.4,
             "rgb(253,219,199)"
            ],
            [
             0.5,
             "rgb(247,247,247)"
            ],
            [
             0.6,
             "rgb(209,229,240)"
            ],
            [
             0.7,
             "rgb(146,197,222)"
            ],
            [
             0.8,
             "rgb(67,147,195)"
            ],
            [
             0.9,
             "rgb(33,102,172)"
            ],
            [
             1,
             "rgb(5,48,97)"
            ]
           ],
           "sequential": [
            [
             0,
             "#440154"
            ],
            [
             0.1111111111111111,
             "#482878"
            ],
            [
             0.2222222222222222,
             "#3e4989"
            ],
            [
             0.3333333333333333,
             "#31688e"
            ],
            [
             0.4444444444444444,
             "#26828e"
            ],
            [
             0.5555555555555556,
             "#1f9e89"
            ],
            [
             0.6666666666666666,
             "#35b779"
            ],
            [
             0.7777777777777778,
             "#6ece58"
            ],
            [
             0.8888888888888888,
             "#b5de2b"
            ],
            [
             1,
             "#fde725"
            ]
           ],
           "sequentialminus": [
            [
             0,
             "#440154"
            ],
            [
             0.1111111111111111,
             "#482878"
            ],
            [
             0.2222222222222222,
             "#3e4989"
            ],
            [
             0.3333333333333333,
             "#31688e"
            ],
            [
             0.4444444444444444,
             "#26828e"
            ],
            [
             0.5555555555555556,
             "#1f9e89"
            ],
            [
             0.6666666666666666,
             "#35b779"
            ],
            [
             0.7777777777777778,
             "#6ece58"
            ],
            [
             0.8888888888888888,
             "#b5de2b"
            ],
            [
             1,
             "#fde725"
            ]
           ]
          },
          "colorway": [
           "#1F77B4",
           "#FF7F0E",
           "#2CA02C",
           "#D62728",
           "#9467BD",
           "#8C564B",
           "#E377C2",
           "#7F7F7F",
           "#BCBD22",
           "#17BECF"
          ],
          "font": {
           "color": "rgb(36,36,36)"
          },
          "geo": {
           "bgcolor": "white",
           "lakecolor": "white",
           "landcolor": "white",
           "showlakes": true,
           "showland": true,
           "subunitcolor": "white"
          },
          "hoverlabel": {
           "align": "left"
          },
          "hovermode": "closest",
          "mapbox": {
           "style": "light"
          },
          "paper_bgcolor": "white",
          "plot_bgcolor": "white",
          "polar": {
           "angularaxis": {
            "gridcolor": "rgb(232,232,232)",
            "linecolor": "rgb(36,36,36)",
            "showgrid": false,
            "showline": true,
            "ticks": "outside"
           },
           "bgcolor": "white",
           "radialaxis": {
            "gridcolor": "rgb(232,232,232)",
            "linecolor": "rgb(36,36,36)",
            "showgrid": false,
            "showline": true,
            "ticks": "outside"
           }
          },
          "scene": {
           "xaxis": {
            "backgroundcolor": "white",
            "gridcolor": "rgb(232,232,232)",
            "gridwidth": 2,
            "linecolor": "rgb(36,36,36)",
            "showbackground": true,
            "showgrid": false,
            "showline": true,
            "ticks": "outside",
            "zeroline": false,
            "zerolinecolor": "rgb(36,36,36)"
           },
           "yaxis": {
            "backgroundcolor": "white",
            "gridcolor": "rgb(232,232,232)",
            "gridwidth": 2,
            "linecolor": "rgb(36,36,36)",
            "showbackground": true,
            "showgrid": false,
            "showline": true,
            "ticks": "outside",
            "zeroline": false,
            "zerolinecolor": "rgb(36,36,36)"
           },
           "zaxis": {
            "backgroundcolor": "white",
            "gridcolor": "rgb(232,232,232)",
            "gridwidth": 2,
            "linecolor": "rgb(36,36,36)",
            "showbackground": true,
            "showgrid": false,
            "showline": true,
            "ticks": "outside",
            "zeroline": false,
            "zerolinecolor": "rgb(36,36,36)"
           }
          },
          "shapedefaults": {
           "fillcolor": "black",
           "line": {
            "width": 0
           },
           "opacity": 0.3
          },
          "ternary": {
           "aaxis": {
            "gridcolor": "rgb(232,232,232)",
            "linecolor": "rgb(36,36,36)",
            "showgrid": false,
            "showline": true,
            "ticks": "outside"
           },
           "baxis": {
            "gridcolor": "rgb(232,232,232)",
            "linecolor": "rgb(36,36,36)",
            "showgrid": false,
            "showline": true,
            "ticks": "outside"
           },
           "bgcolor": "white",
           "caxis": {
            "gridcolor": "rgb(232,232,232)",
            "linecolor": "rgb(36,36,36)",
            "showgrid": false,
            "showline": true,
            "ticks": "outside"
           }
          },
          "title": {
           "x": 0.05
          },
          "xaxis": {
           "automargin": true,
           "gridcolor": "rgb(232,232,232)",
           "linecolor": "rgb(36,36,36)",
           "showgrid": false,
           "showline": true,
           "ticks": "outside",
           "title": {
            "standoff": 15
           },
           "zeroline": false,
           "zerolinecolor": "rgb(36,36,36)"
          },
          "yaxis": {
           "automargin": true,
           "gridcolor": "rgb(232,232,232)",
           "linecolor": "rgb(36,36,36)",
           "showgrid": false,
           "showline": true,
           "ticks": "outside",
           "title": {
            "standoff": 15
           },
           "zeroline": false,
           "zerolinecolor": "rgb(36,36,36)"
          }
         }
        },
        "title": {
         "font": {
          "color": "Black",
          "size": 22
         },
         "text": "<b>Intertopic Distance Map</b>",
         "x": 0.5,
         "xanchor": "center",
         "y": 0.95,
         "yanchor": "top"
        },
        "width": 650,
        "xaxis": {
         "anchor": "y",
         "domain": [
          0,
          1
         ],
         "range": [
          -6.398068237304687,
          18.88078908920288
         ],
         "title": {
          "text": ""
         },
         "visible": false
        },
        "yaxis": {
         "anchor": "x",
         "domain": [
          0,
          1
         ],
         "range": [
          -4.050943315029144,
          22.938592147827148
         ],
         "title": {
          "text": ""
         },
         "visible": false
        }
       }
      },
      "text/html": [
       "<div>                            <div id=\"e221435e-9a59-4fba-a085-34f3bbc7ab72\" class=\"plotly-graph-div\" style=\"height:650px; width:650px;\"></div>            <script type=\"text/javascript\">                require([\"plotly\"], function(Plotly) {                    window.PLOTLYENV=window.PLOTLYENV || {};                                    if (document.getElementById(\"e221435e-9a59-4fba-a085-34f3bbc7ab72\")) {                    Plotly.newPlot(                        \"e221435e-9a59-4fba-a085-34f3bbc7ab72\",                        [{\"customdata\":[[0,\"chatgpt | ai | potential | generated | students\",901],[1,\"gpt | shot | learning | human | knowledge\",592],[2,\"gpt | chatgpt gpt | gpt gpt | llms | reasoning\",486],[3,\"t5 | pre | pre trained | sequence | bart\",222],[4,\"llama | quantization | tuning | lora | instruction\",165],[5,\"codex | code | program | repair | openai codex\",98],[6,\"palm | gpt palm | med palm | med | math\",69],[7,\"opt | quantization | 125m | perplexity | opt 175b\",58],[8,\"bloom | multilingual | 176b | bloom 176b | bigscience\",52],[9,\"instructgpt | negation | emergent abilities | negated | series models\",48],[10,\"flan t5 | flan | t5 | discharge | spam\",44],[11,\"vicuna | vicuna 13b | pathology | 13b | models vicuna\",43],[12,\"alpaca | instruction | instruction tuning | 7b | llama\",39],[13,\"claude | gpt claude | emails | phishing emails | layout\",29],[14,\"codegen | code generation | code | verilog | generation models\",27],[15,\"mt5 | lingual | cross lingual | multilingual | lingual transfer\",23],[16,\"t0 | unifiedskg | flipped | task generalization | semi parametric\",18],[17,\"objectionable | radar | poisoning | memorization | streaming\",15],[18,\"bloomz | instruction | parrot | new languages | code mixed\",14],[19,\"glm | glm 130b | 130b | pruning | bilingual\",11],[20,\"llm pruner | pruner | cc | character | single modal\",10],[21,\"consciousness | conversational ai | developmental | conscious | crs\",10],[22,\"assisted programming | ai supported | programming | assisted | llm assisted\",9],[23,\"anthropic | code coverage | agi | anthropic claude | risk\",9],[24,\"translation | machine translation | smaller sized | meta ai | multilingual machine\",8],[25,\"chinchilla | galactica | circuit | compressors | hyperparameter\",7],[26,\"energy | co2e | mlps | mixture experts | sparsely\",6],[27,\"shallow fusion | shallow | grounding | wer | dense\",6],[28,\"absa | instruct | invariant | unnatural | ate\",6],[29,\"sts | inpars | correctly reason | gpt flan | assumptions\",6],[30,\"flan palm | symbol | priors | ul2 | input label\",6],[31,\"index | reviewing | training corpora | test taking | secondary school\",5],[32,\"korean | sensitive questions | acceptable | learning performance | pretraining corpus\",5],[33,\"ul2 | oncology | referential | notes | schema\",5],[34,\"web search | web | retrieval based | lfqa | input instance\",5],[35,\"gopher | rms | clue | compute optimal | data set\",5],[36,\"african languages | reasoning strategies | african | topic classification | conceptual structure\",4],[37,\"jurassic | human lm | retro | dialogue acts | size number\",4],[38,\"forgetting | mtf | intent detection | continual | slot\",3],[39,\"ic | linguist | st | 20b | slot\",3],[40,\"530b | nlg 530b | nlg | megatron | efficient learning\",3],[41,\"neox 20b | gpt neox | neox | 20b | dna\",3],[42,\"palm | 540b | palm 540b | 62b | instruction finetuning\",2],[43,\"html | websites | read write | models computationally | computationally\",2],[44,\"task agnostic | agnostic | agnostic distillation | scale knowledge | ernie\",2],[45,\"rlhf | social impacts | harmless | human judgements | judgements\",2],[46,\"yuan | excellent performance | shot shot | training performance | designed efficiently\",1],[47,\"model chinese | types tasks | capabilities multi | curated high | qq\",1],[48,\"opt | held | meta learning | decisions | 30b\",1],[49,\"humaneval | billion tokens | extensions | studio | pursuit artificial\",1],[50,\"cpm | scale plms | cost effective | plms | tsinghuaai cpm\",1],[51,\"titan | ernie titan | ernie | scale knowledge | knowledge enhanced\",1]],\"hovertemplate\":\"<b>Topic %{customdata[0]}</b><br>%{customdata[1]}<br>Size: %{customdata[2]}\",\"legendgroup\":\"\",\"marker\":{\"color\":\"#B0BEC5\",\"size\":[901,592,486,222,165,98,69,58,52,48,44,43,39,29,27,23,18,15,14,11,10,10,9,9,8,7,6,6,6,6,6,5,5,5,5,5,4,4,3,3,3,3,2,2,2,2,1,1,1,1,1,1],\"sizemode\":\"area\",\"sizeref\":0.563125,\"symbol\":\"circle\",\"line\":{\"color\":\"DarkSlateGrey\",\"width\":2}},\"mode\":\"markers\",\"name\":\"\",\"orientation\":\"v\",\"showlegend\":false,\"x\":[12.824703216552734,10.774165153503418,12.616767883300781,9.955061912536621,13.531131744384766,12.938114166259766,10.926255226135254,13.623567581176758,15.434916496276855,9.622819900512695,9.2954740524292,13.900596618652344,14.614742279052734,14.2390775680542,12.849945068359375,9.552180290222168,8.846681594848633,13.669984817504883,14.93967342376709,15.6700439453125,15.067813873291016,9.792655944824219,12.911314964294434,14.414689064025879,9.296927452087402,16.325511932373047,3.5444064140319824,3.527294874191284,6.426131725311279,6.125852108001709,8.582090377807617,5.961180210113525,9.240474700927734,6.206758975982666,5.980027198791504,15.554779052734375,8.580004692077637,16.41807746887207,2.567017078399658,6.553247928619385,16.248111724853516,15.79166316986084,2.9624781608581543,16.365676879882812,-5.56353759765625,9.938941955566406,-5.319526195526123,2.6156351566314697,2.8571958541870117,16.299686431884766,16.268312454223633,-5.43233060836792],\"xaxis\":\"x\",\"y\":[14.236316680908203,14.92344856262207,14.007813453674316,15.061012268066406,13.555649757385254,14.570660591125488,14.831043243408203,13.08206844329834,12.184135437011719,15.955587387084961,15.702508926391602,13.663915634155273,14.168758392333984,13.666450500488281,14.770831108093262,14.714689254760742,16.02545928955078,12.956116676330566,14.260848045349121,11.588902473449707,14.328930854797363,16.115489959716797,14.713094711303711,13.565079689025879,14.602243423461914,11.696362495422363,19.930105209350586,19.94660186767578,2.1449224948883057,1.845899224281311,16.305728912353516,1.6813451051712036,14.63742446899414,1.926800012588501,1.7001971006393433,11.724708557128906,16.3127384185791,11.622085571289062,-3.1290249824523926,2.27174711227417,9.710433006286621,11.759933471679688,-3.522559404373169,9.73629379272461,9.516422271728516,16.29202651977539,9.272719383239746,-3.1782333850860596,-3.4178290367126465,9.19364070892334,9.30482006072998,9.38537311553955],\"yaxis\":\"y\",\"type\":\"scatter\"}],                        {\"template\":{\"data\":{\"barpolar\":[{\"marker\":{\"line\":{\"color\":\"white\",\"width\":0.5},\"pattern\":{\"fillmode\":\"overlay\",\"size\":10,\"solidity\":0.2}},\"type\":\"barpolar\"}],\"bar\":[{\"error_x\":{\"color\":\"rgb(36,36,36)\"},\"error_y\":{\"color\":\"rgb(36,36,36)\"},\"marker\":{\"line\":{\"color\":\"white\",\"width\":0.5},\"pattern\":{\"fillmode\":\"overlay\",\"size\":10,\"solidity\":0.2}},\"type\":\"bar\"}],\"carpet\":[{\"aaxis\":{\"endlinecolor\":\"rgb(36,36,36)\",\"gridcolor\":\"white\",\"linecolor\":\"white\",\"minorgridcolor\":\"white\",\"startlinecolor\":\"rgb(36,36,36)\"},\"baxis\":{\"endlinecolor\":\"rgb(36,36,36)\",\"gridcolor\":\"white\",\"linecolor\":\"white\",\"minorgridcolor\":\"white\",\"startlinecolor\":\"rgb(36,36,36)\"},\"type\":\"carpet\"}],\"choropleth\":[{\"colorbar\":{\"outlinewidth\":1,\"tickcolor\":\"rgb(36,36,36)\",\"ticks\":\"outside\"},\"type\":\"choropleth\"}],\"contourcarpet\":[{\"colorbar\":{\"outlinewidth\":1,\"tickcolor\":\"rgb(36,36,36)\",\"ticks\":\"outside\"},\"type\":\"contourcarpet\"}],\"contour\":[{\"colorbar\":{\"outlinewidth\":1,\"tickcolor\":\"rgb(36,36,36)\",\"ticks\":\"outside\"},\"colorscale\":[[0.0,\"#440154\"],[0.1111111111111111,\"#482878\"],[0.2222222222222222,\"#3e4989\"],[0.3333333333333333,\"#31688e\"],[0.4444444444444444,\"#26828e\"],[0.5555555555555556,\"#1f9e89\"],[0.6666666666666666,\"#35b779\"],[0.7777777777777778,\"#6ece58\"],[0.8888888888888888,\"#b5de2b\"],[1.0,\"#fde725\"]],\"type\":\"contour\"}],\"heatmapgl\":[{\"colorbar\":{\"outlinewidth\":1,\"tickcolor\":\"rgb(36,36,36)\",\"ticks\":\"outside\"},\"colorscale\":[[0.0,\"#440154\"],[0.1111111111111111,\"#482878\"],[0.2222222222222222,\"#3e4989\"],[0.3333333333333333,\"#31688e\"],[0.4444444444444444,\"#26828e\"],[0.5555555555555556,\"#1f9e89\"],[0.6666666666666666,\"#35b779\"],[0.7777777777777778,\"#6ece58\"],[0.8888888888888888,\"#b5de2b\"],[1.0,\"#fde725\"]],\"type\":\"heatmapgl\"}],\"heatmap\":[{\"colorbar\":{\"outlinewidth\":1,\"tickcolor\":\"rgb(36,36,36)\",\"ticks\":\"outside\"},\"colorscale\":[[0.0,\"#440154\"],[0.1111111111111111,\"#482878\"],[0.2222222222222222,\"#3e4989\"],[0.3333333333333333,\"#31688e\"],[0.4444444444444444,\"#26828e\"],[0.5555555555555556,\"#1f9e89\"],[0.6666666666666666,\"#35b779\"],[0.7777777777777778,\"#6ece58\"],[0.8888888888888888,\"#b5de2b\"],[1.0,\"#fde725\"]],\"type\":\"heatmap\"}],\"histogram2dcontour\":[{\"colorbar\":{\"outlinewidth\":1,\"tickcolor\":\"rgb(36,36,36)\",\"ticks\":\"outside\"},\"colorscale\":[[0.0,\"#440154\"],[0.1111111111111111,\"#482878\"],[0.2222222222222222,\"#3e4989\"],[0.3333333333333333,\"#31688e\"],[0.4444444444444444,\"#26828e\"],[0.5555555555555556,\"#1f9e89\"],[0.6666666666666666,\"#35b779\"],[0.7777777777777778,\"#6ece58\"],[0.8888888888888888,\"#b5de2b\"],[1.0,\"#fde725\"]],\"type\":\"histogram2dcontour\"}],\"histogram2d\":[{\"colorbar\":{\"outlinewidth\":1,\"tickcolor\":\"rgb(36,36,36)\",\"ticks\":\"outside\"},\"colorscale\":[[0.0,\"#440154\"],[0.1111111111111111,\"#482878\"],[0.2222222222222222,\"#3e4989\"],[0.3333333333333333,\"#31688e\"],[0.4444444444444444,\"#26828e\"],[0.5555555555555556,\"#1f9e89\"],[0.6666666666666666,\"#35b779\"],[0.7777777777777778,\"#6ece58\"],[0.8888888888888888,\"#b5de2b\"],[1.0,\"#fde725\"]],\"type\":\"histogram2d\"}],\"histogram\":[{\"marker\":{\"line\":{\"color\":\"white\",\"width\":0.6}},\"type\":\"histogram\"}],\"mesh3d\":[{\"colorbar\":{\"outlinewidth\":1,\"tickcolor\":\"rgb(36,36,36)\",\"ticks\":\"outside\"},\"type\":\"mesh3d\"}],\"parcoords\":[{\"line\":{\"colorbar\":{\"outlinewidth\":1,\"tickcolor\":\"rgb(36,36,36)\",\"ticks\":\"outside\"}},\"type\":\"parcoords\"}],\"pie\":[{\"automargin\":true,\"type\":\"pie\"}],\"scatter3d\":[{\"line\":{\"colorbar\":{\"outlinewidth\":1,\"tickcolor\":\"rgb(36,36,36)\",\"ticks\":\"outside\"}},\"marker\":{\"colorbar\":{\"outlinewidth\":1,\"tickcolor\":\"rgb(36,36,36)\",\"ticks\":\"outside\"}},\"type\":\"scatter3d\"}],\"scattercarpet\":[{\"marker\":{\"colorbar\":{\"outlinewidth\":1,\"tickcolor\":\"rgb(36,36,36)\",\"ticks\":\"outside\"}},\"type\":\"scattercarpet\"}],\"scattergeo\":[{\"marker\":{\"colorbar\":{\"outlinewidth\":1,\"tickcolor\":\"rgb(36,36,36)\",\"ticks\":\"outside\"}},\"type\":\"scattergeo\"}],\"scattergl\":[{\"marker\":{\"colorbar\":{\"outlinewidth\":1,\"tickcolor\":\"rgb(36,36,36)\",\"ticks\":\"outside\"}},\"type\":\"scattergl\"}],\"scattermapbox\":[{\"marker\":{\"colorbar\":{\"outlinewidth\":1,\"tickcolor\":\"rgb(36,36,36)\",\"ticks\":\"outside\"}},\"type\":\"scattermapbox\"}],\"scatterpolargl\":[{\"marker\":{\"colorbar\":{\"outlinewidth\":1,\"tickcolor\":\"rgb(36,36,36)\",\"ticks\":\"outside\"}},\"type\":\"scatterpolargl\"}],\"scatterpolar\":[{\"marker\":{\"colorbar\":{\"outlinewidth\":1,\"tickcolor\":\"rgb(36,36,36)\",\"ticks\":\"outside\"}},\"type\":\"scatterpolar\"}],\"scatter\":[{\"fillpattern\":{\"fillmode\":\"overlay\",\"size\":10,\"solidity\":0.2},\"type\":\"scatter\"}],\"scatterternary\":[{\"marker\":{\"colorbar\":{\"outlinewidth\":1,\"tickcolor\":\"rgb(36,36,36)\",\"ticks\":\"outside\"}},\"type\":\"scatterternary\"}],\"surface\":[{\"colorbar\":{\"outlinewidth\":1,\"tickcolor\":\"rgb(36,36,36)\",\"ticks\":\"outside\"},\"colorscale\":[[0.0,\"#440154\"],[0.1111111111111111,\"#482878\"],[0.2222222222222222,\"#3e4989\"],[0.3333333333333333,\"#31688e\"],[0.4444444444444444,\"#26828e\"],[0.5555555555555556,\"#1f9e89\"],[0.6666666666666666,\"#35b779\"],[0.7777777777777778,\"#6ece58\"],[0.8888888888888888,\"#b5de2b\"],[1.0,\"#fde725\"]],\"type\":\"surface\"}],\"table\":[{\"cells\":{\"fill\":{\"color\":\"rgb(237,237,237)\"},\"line\":{\"color\":\"white\"}},\"header\":{\"fill\":{\"color\":\"rgb(217,217,217)\"},\"line\":{\"color\":\"white\"}},\"type\":\"table\"}]},\"layout\":{\"annotationdefaults\":{\"arrowhead\":0,\"arrowwidth\":1},\"autotypenumbers\":\"strict\",\"coloraxis\":{\"colorbar\":{\"outlinewidth\":1,\"tickcolor\":\"rgb(36,36,36)\",\"ticks\":\"outside\"}},\"colorscale\":{\"diverging\":[[0.0,\"rgb(103,0,31)\"],[0.1,\"rgb(178,24,43)\"],[0.2,\"rgb(214,96,77)\"],[0.3,\"rgb(244,165,130)\"],[0.4,\"rgb(253,219,199)\"],[0.5,\"rgb(247,247,247)\"],[0.6,\"rgb(209,229,240)\"],[0.7,\"rgb(146,197,222)\"],[0.8,\"rgb(67,147,195)\"],[0.9,\"rgb(33,102,172)\"],[1.0,\"rgb(5,48,97)\"]],\"sequential\":[[0.0,\"#440154\"],[0.1111111111111111,\"#482878\"],[0.2222222222222222,\"#3e4989\"],[0.3333333333333333,\"#31688e\"],[0.4444444444444444,\"#26828e\"],[0.5555555555555556,\"#1f9e89\"],[0.6666666666666666,\"#35b779\"],[0.7777777777777778,\"#6ece58\"],[0.8888888888888888,\"#b5de2b\"],[1.0,\"#fde725\"]],\"sequentialminus\":[[0.0,\"#440154\"],[0.1111111111111111,\"#482878\"],[0.2222222222222222,\"#3e4989\"],[0.3333333333333333,\"#31688e\"],[0.4444444444444444,\"#26828e\"],[0.5555555555555556,\"#1f9e89\"],[0.6666666666666666,\"#35b779\"],[0.7777777777777778,\"#6ece58\"],[0.8888888888888888,\"#b5de2b\"],[1.0,\"#fde725\"]]},\"colorway\":[\"#1F77B4\",\"#FF7F0E\",\"#2CA02C\",\"#D62728\",\"#9467BD\",\"#8C564B\",\"#E377C2\",\"#7F7F7F\",\"#BCBD22\",\"#17BECF\"],\"font\":{\"color\":\"rgb(36,36,36)\"},\"geo\":{\"bgcolor\":\"white\",\"lakecolor\":\"white\",\"landcolor\":\"white\",\"showlakes\":true,\"showland\":true,\"subunitcolor\":\"white\"},\"hoverlabel\":{\"align\":\"left\"},\"hovermode\":\"closest\",\"mapbox\":{\"style\":\"light\"},\"paper_bgcolor\":\"white\",\"plot_bgcolor\":\"white\",\"polar\":{\"angularaxis\":{\"gridcolor\":\"rgb(232,232,232)\",\"linecolor\":\"rgb(36,36,36)\",\"showgrid\":false,\"showline\":true,\"ticks\":\"outside\"},\"bgcolor\":\"white\",\"radialaxis\":{\"gridcolor\":\"rgb(232,232,232)\",\"linecolor\":\"rgb(36,36,36)\",\"showgrid\":false,\"showline\":true,\"ticks\":\"outside\"}},\"scene\":{\"xaxis\":{\"backgroundcolor\":\"white\",\"gridcolor\":\"rgb(232,232,232)\",\"gridwidth\":2,\"linecolor\":\"rgb(36,36,36)\",\"showbackground\":true,\"showgrid\":false,\"showline\":true,\"ticks\":\"outside\",\"zeroline\":false,\"zerolinecolor\":\"rgb(36,36,36)\"},\"yaxis\":{\"backgroundcolor\":\"white\",\"gridcolor\":\"rgb(232,232,232)\",\"gridwidth\":2,\"linecolor\":\"rgb(36,36,36)\",\"showbackground\":true,\"showgrid\":false,\"showline\":true,\"ticks\":\"outside\",\"zeroline\":false,\"zerolinecolor\":\"rgb(36,36,36)\"},\"zaxis\":{\"backgroundcolor\":\"white\",\"gridcolor\":\"rgb(232,232,232)\",\"gridwidth\":2,\"linecolor\":\"rgb(36,36,36)\",\"showbackground\":true,\"showgrid\":false,\"showline\":true,\"ticks\":\"outside\",\"zeroline\":false,\"zerolinecolor\":\"rgb(36,36,36)\"}},\"shapedefaults\":{\"fillcolor\":\"black\",\"line\":{\"width\":0},\"opacity\":0.3},\"ternary\":{\"aaxis\":{\"gridcolor\":\"rgb(232,232,232)\",\"linecolor\":\"rgb(36,36,36)\",\"showgrid\":false,\"showline\":true,\"ticks\":\"outside\"},\"baxis\":{\"gridcolor\":\"rgb(232,232,232)\",\"linecolor\":\"rgb(36,36,36)\",\"showgrid\":false,\"showline\":true,\"ticks\":\"outside\"},\"bgcolor\":\"white\",\"caxis\":{\"gridcolor\":\"rgb(232,232,232)\",\"linecolor\":\"rgb(36,36,36)\",\"showgrid\":false,\"showline\":true,\"ticks\":\"outside\"}},\"title\":{\"x\":0.05},\"xaxis\":{\"automargin\":true,\"gridcolor\":\"rgb(232,232,232)\",\"linecolor\":\"rgb(36,36,36)\",\"showgrid\":false,\"showline\":true,\"ticks\":\"outside\",\"title\":{\"standoff\":15},\"zeroline\":false,\"zerolinecolor\":\"rgb(36,36,36)\"},\"yaxis\":{\"automargin\":true,\"gridcolor\":\"rgb(232,232,232)\",\"linecolor\":\"rgb(36,36,36)\",\"showgrid\":false,\"showline\":true,\"ticks\":\"outside\",\"title\":{\"standoff\":15},\"zeroline\":false,\"zerolinecolor\":\"rgb(36,36,36)\"}}},\"xaxis\":{\"anchor\":\"y\",\"domain\":[0.0,1.0],\"title\":{\"text\":\"\"},\"visible\":false,\"range\":[-6.398068237304687,18.88078908920288]},\"yaxis\":{\"anchor\":\"x\",\"domain\":[0.0,1.0],\"title\":{\"text\":\"\"},\"visible\":false,\"range\":[-4.050943315029144,22.938592147827148]},\"legend\":{\"tracegroupgap\":0,\"itemsizing\":\"constant\"},\"margin\":{\"t\":60},\"title\":{\"font\":{\"size\":22,\"color\":\"Black\"},\"text\":\"<b>Intertopic Distance Map</b>\",\"y\":0.95,\"x\":0.5,\"xanchor\":\"center\",\"yanchor\":\"top\"},\"hoverlabel\":{\"font\":{\"size\":16,\"family\":\"Rockwell\"},\"bgcolor\":\"white\"},\"font\":{\"family\":\"sans serif\",\"size\":18,\"color\":\"LightSeaGreen\"},\"width\":650,\"height\":650,\"sliders\":[{\"active\":0,\"pad\":{\"t\":50},\"steps\":[{\"args\":[{\"marker.color\":[[\"red\",\"#B0BEC5\",\"#B0BEC5\",\"#B0BEC5\",\"#B0BEC5\",\"#B0BEC5\",\"#B0BEC5\",\"#B0BEC5\",\"#B0BEC5\",\"#B0BEC5\",\"#B0BEC5\",\"#B0BEC5\",\"#B0BEC5\",\"#B0BEC5\",\"#B0BEC5\",\"#B0BEC5\",\"#B0BEC5\",\"#B0BEC5\",\"#B0BEC5\",\"#B0BEC5\",\"#B0BEC5\",\"#B0BEC5\",\"#B0BEC5\",\"#B0BEC5\",\"#B0BEC5\",\"#B0BEC5\",\"#B0BEC5\",\"#B0BEC5\",\"#B0BEC5\",\"#B0BEC5\",\"#B0BEC5\",\"#B0BEC5\",\"#B0BEC5\",\"#B0BEC5\",\"#B0BEC5\",\"#B0BEC5\",\"#B0BEC5\",\"#B0BEC5\",\"#B0BEC5\",\"#B0BEC5\",\"#B0BEC5\",\"#B0BEC5\",\"#B0BEC5\",\"#B0BEC5\",\"#B0BEC5\",\"#B0BEC5\",\"#B0BEC5\",\"#B0BEC5\",\"#B0BEC5\",\"#B0BEC5\",\"#B0BEC5\",\"#B0BEC5\"]]}],\"label\":\"Topic 0\",\"method\":\"update\"},{\"args\":[{\"marker.color\":[[\"#B0BEC5\",\"red\",\"#B0BEC5\",\"#B0BEC5\",\"#B0BEC5\",\"#B0BEC5\",\"#B0BEC5\",\"#B0BEC5\",\"#B0BEC5\",\"#B0BEC5\",\"#B0BEC5\",\"#B0BEC5\",\"#B0BEC5\",\"#B0BEC5\",\"#B0BEC5\",\"#B0BEC5\",\"#B0BEC5\",\"#B0BEC5\",\"#B0BEC5\",\"#B0BEC5\",\"#B0BEC5\",\"#B0BEC5\",\"#B0BEC5\",\"#B0BEC5\",\"#B0BEC5\",\"#B0BEC5\",\"#B0BEC5\",\"#B0BEC5\",\"#B0BEC5\",\"#B0BEC5\",\"#B0BEC5\",\"#B0BEC5\",\"#B0BEC5\",\"#B0BEC5\",\"#B0BEC5\",\"#B0BEC5\",\"#B0BEC5\",\"#B0BEC5\",\"#B0BEC5\",\"#B0BEC5\",\"#B0BEC5\",\"#B0BEC5\",\"#B0BEC5\",\"#B0BEC5\",\"#B0BEC5\",\"#B0BEC5\",\"#B0BEC5\",\"#B0BEC5\",\"#B0BEC5\",\"#B0BEC5\",\"#B0BEC5\",\"#B0BEC5\"]]}],\"label\":\"Topic 1\",\"method\":\"update\"},{\"args\":[{\"marker.color\":[[\"#B0BEC5\",\"#B0BEC5\",\"red\",\"#B0BEC5\",\"#B0BEC5\",\"#B0BEC5\",\"#B0BEC5\",\"#B0BEC5\",\"#B0BEC5\",\"#B0BEC5\",\"#B0BEC5\",\"#B0BEC5\",\"#B0BEC5\",\"#B0BEC5\",\"#B0BEC5\",\"#B0BEC5\",\"#B0BEC5\",\"#B0BEC5\",\"#B0BEC5\",\"#B0BEC5\",\"#B0BEC5\",\"#B0BEC5\",\"#B0BEC5\",\"#B0BEC5\",\"#B0BEC5\",\"#B0BEC5\",\"#B0BEC5\",\"#B0BEC5\",\"#B0BEC5\",\"#B0BEC5\",\"#B0BEC5\",\"#B0BEC5\",\"#B0BEC5\",\"#B0BEC5\",\"#B0BEC5\",\"#B0BEC5\",\"#B0BEC5\",\"#B0BEC5\",\"#B0BEC5\",\"#B0BEC5\",\"#B0BEC5\",\"#B0BEC5\",\"#B0BEC5\",\"#B0BEC5\",\"#B0BEC5\",\"#B0BEC5\",\"#B0BEC5\",\"#B0BEC5\",\"#B0BEC5\",\"#B0BEC5\",\"#B0BEC5\",\"#B0BEC5\"]]}],\"label\":\"Topic 2\",\"method\":\"update\"},{\"args\":[{\"marker.color\":[[\"#B0BEC5\",\"#B0BEC5\",\"#B0BEC5\",\"red\",\"#B0BEC5\",\"#B0BEC5\",\"#B0BEC5\",\"#B0BEC5\",\"#B0BEC5\",\"#B0BEC5\",\"#B0BEC5\",\"#B0BEC5\",\"#B0BEC5\",\"#B0BEC5\",\"#B0BEC5\",\"#B0BEC5\",\"#B0BEC5\",\"#B0BEC5\",\"#B0BEC5\",\"#B0BEC5\",\"#B0BEC5\",\"#B0BEC5\",\"#B0BEC5\",\"#B0BEC5\",\"#B0BEC5\",\"#B0BEC5\",\"#B0BEC5\",\"#B0BEC5\",\"#B0BEC5\",\"#B0BEC5\",\"#B0BEC5\",\"#B0BEC5\",\"#B0BEC5\",\"#B0BEC5\",\"#B0BEC5\",\"#B0BEC5\",\"#B0BEC5\",\"#B0BEC5\",\"#B0BEC5\",\"#B0BEC5\",\"#B0BEC5\",\"#B0BEC5\",\"#B0BEC5\",\"#B0BEC5\",\"#B0BEC5\",\"#B0BEC5\",\"#B0BEC5\",\"#B0BEC5\",\"#B0BEC5\",\"#B0BEC5\",\"#B0BEC5\",\"#B0BEC5\"]]}],\"label\":\"Topic 3\",\"method\":\"update\"},{\"args\":[{\"marker.color\":[[\"#B0BEC5\",\"#B0BEC5\",\"#B0BEC5\",\"#B0BEC5\",\"red\",\"#B0BEC5\",\"#B0BEC5\",\"#B0BEC5\",\"#B0BEC5\",\"#B0BEC5\",\"#B0BEC5\",\"#B0BEC5\",\"#B0BEC5\",\"#B0BEC5\",\"#B0BEC5\",\"#B0BEC5\",\"#B0BEC5\",\"#B0BEC5\",\"#B0BEC5\",\"#B0BEC5\",\"#B0BEC5\",\"#B0BEC5\",\"#B0BEC5\",\"#B0BEC5\",\"#B0BEC5\",\"#B0BEC5\",\"#B0BEC5\",\"#B0BEC5\",\"#B0BEC5\",\"#B0BEC5\",\"#B0BEC5\",\"#B0BEC5\",\"#B0BEC5\",\"#B0BEC5\",\"#B0BEC5\",\"#B0BEC5\",\"#B0BEC5\",\"#B0BEC5\",\"#B0BEC5\",\"#B0BEC5\",\"#B0BEC5\",\"#B0BEC5\",\"#B0BEC5\",\"#B0BEC5\",\"#B0BEC5\",\"#B0BEC5\",\"#B0BEC5\",\"#B0BEC5\",\"#B0BEC5\",\"#B0BEC5\",\"#B0BEC5\",\"#B0BEC5\"]]}],\"label\":\"Topic 4\",\"method\":\"update\"},{\"args\":[{\"marker.color\":[[\"#B0BEC5\",\"#B0BEC5\",\"#B0BEC5\",\"#B0BEC5\",\"#B0BEC5\",\"red\",\"#B0BEC5\",\"#B0BEC5\",\"#B0BEC5\",\"#B0BEC5\",\"#B0BEC5\",\"#B0BEC5\",\"#B0BEC5\",\"#B0BEC5\",\"#B0BEC5\",\"#B0BEC5\",\"#B0BEC5\",\"#B0BEC5\",\"#B0BEC5\",\"#B0BEC5\",\"#B0BEC5\",\"#B0BEC5\",\"#B0BEC5\",\"#B0BEC5\",\"#B0BEC5\",\"#B0BEC5\",\"#B0BEC5\",\"#B0BEC5\",\"#B0BEC5\",\"#B0BEC5\",\"#B0BEC5\",\"#B0BEC5\",\"#B0BEC5\",\"#B0BEC5\",\"#B0BEC5\",\"#B0BEC5\",\"#B0BEC5\",\"#B0BEC5\",\"#B0BEC5\",\"#B0BEC5\",\"#B0BEC5\",\"#B0BEC5\",\"#B0BEC5\",\"#B0BEC5\",\"#B0BEC5\",\"#B0BEC5\",\"#B0BEC5\",\"#B0BEC5\",\"#B0BEC5\",\"#B0BEC5\",\"#B0BEC5\",\"#B0BEC5\"]]}],\"label\":\"Topic 5\",\"method\":\"update\"},{\"args\":[{\"marker.color\":[[\"#B0BEC5\",\"#B0BEC5\",\"#B0BEC5\",\"#B0BEC5\",\"#B0BEC5\",\"#B0BEC5\",\"red\",\"#B0BEC5\",\"#B0BEC5\",\"#B0BEC5\",\"#B0BEC5\",\"#B0BEC5\",\"#B0BEC5\",\"#B0BEC5\",\"#B0BEC5\",\"#B0BEC5\",\"#B0BEC5\",\"#B0BEC5\",\"#B0BEC5\",\"#B0BEC5\",\"#B0BEC5\",\"#B0BEC5\",\"#B0BEC5\",\"#B0BEC5\",\"#B0BEC5\",\"#B0BEC5\",\"#B0BEC5\",\"#B0BEC5\",\"#B0BEC5\",\"#B0BEC5\",\"#B0BEC5\",\"#B0BEC5\",\"#B0BEC5\",\"#B0BEC5\",\"#B0BEC5\",\"#B0BEC5\",\"#B0BEC5\",\"#B0BEC5\",\"#B0BEC5\",\"#B0BEC5\",\"#B0BEC5\",\"#B0BEC5\",\"#B0BEC5\",\"#B0BEC5\",\"#B0BEC5\",\"#B0BEC5\",\"#B0BEC5\",\"#B0BEC5\",\"#B0BEC5\",\"#B0BEC5\",\"#B0BEC5\",\"#B0BEC5\"]]}],\"label\":\"Topic 6\",\"method\":\"update\"},{\"args\":[{\"marker.color\":[[\"#B0BEC5\",\"#B0BEC5\",\"#B0BEC5\",\"#B0BEC5\",\"#B0BEC5\",\"#B0BEC5\",\"#B0BEC5\",\"red\",\"#B0BEC5\",\"#B0BEC5\",\"#B0BEC5\",\"#B0BEC5\",\"#B0BEC5\",\"#B0BEC5\",\"#B0BEC5\",\"#B0BEC5\",\"#B0BEC5\",\"#B0BEC5\",\"#B0BEC5\",\"#B0BEC5\",\"#B0BEC5\",\"#B0BEC5\",\"#B0BEC5\",\"#B0BEC5\",\"#B0BEC5\",\"#B0BEC5\",\"#B0BEC5\",\"#B0BEC5\",\"#B0BEC5\",\"#B0BEC5\",\"#B0BEC5\",\"#B0BEC5\",\"#B0BEC5\",\"#B0BEC5\",\"#B0BEC5\",\"#B0BEC5\",\"#B0BEC5\",\"#B0BEC5\",\"#B0BEC5\",\"#B0BEC5\",\"#B0BEC5\",\"#B0BEC5\",\"#B0BEC5\",\"#B0BEC5\",\"#B0BEC5\",\"#B0BEC5\",\"#B0BEC5\",\"#B0BEC5\",\"#B0BEC5\",\"#B0BEC5\",\"#B0BEC5\",\"#B0BEC5\"]]}],\"label\":\"Topic 7\",\"method\":\"update\"},{\"args\":[{\"marker.color\":[[\"#B0BEC5\",\"#B0BEC5\",\"#B0BEC5\",\"#B0BEC5\",\"#B0BEC5\",\"#B0BEC5\",\"#B0BEC5\",\"#B0BEC5\",\"red\",\"#B0BEC5\",\"#B0BEC5\",\"#B0BEC5\",\"#B0BEC5\",\"#B0BEC5\",\"#B0BEC5\",\"#B0BEC5\",\"#B0BEC5\",\"#B0BEC5\",\"#B0BEC5\",\"#B0BEC5\",\"#B0BEC5\",\"#B0BEC5\",\"#B0BEC5\",\"#B0BEC5\",\"#B0BEC5\",\"#B0BEC5\",\"#B0BEC5\",\"#B0BEC5\",\"#B0BEC5\",\"#B0BEC5\",\"#B0BEC5\",\"#B0BEC5\",\"#B0BEC5\",\"#B0BEC5\",\"#B0BEC5\",\"#B0BEC5\",\"#B0BEC5\",\"#B0BEC5\",\"#B0BEC5\",\"#B0BEC5\",\"#B0BEC5\",\"#B0BEC5\",\"#B0BEC5\",\"#B0BEC5\",\"#B0BEC5\",\"#B0BEC5\",\"#B0BEC5\",\"#B0BEC5\",\"#B0BEC5\",\"#B0BEC5\",\"#B0BEC5\",\"#B0BEC5\"]]}],\"label\":\"Topic 8\",\"method\":\"update\"},{\"args\":[{\"marker.color\":[[\"#B0BEC5\",\"#B0BEC5\",\"#B0BEC5\",\"#B0BEC5\",\"#B0BEC5\",\"#B0BEC5\",\"#B0BEC5\",\"#B0BEC5\",\"#B0BEC5\",\"red\",\"#B0BEC5\",\"#B0BEC5\",\"#B0BEC5\",\"#B0BEC5\",\"#B0BEC5\",\"#B0BEC5\",\"#B0BEC5\",\"#B0BEC5\",\"#B0BEC5\",\"#B0BEC5\",\"#B0BEC5\",\"#B0BEC5\",\"#B0BEC5\",\"#B0BEC5\",\"#B0BEC5\",\"#B0BEC5\",\"#B0BEC5\",\"#B0BEC5\",\"#B0BEC5\",\"#B0BEC5\",\"#B0BEC5\",\"#B0BEC5\",\"#B0BEC5\",\"#B0BEC5\",\"#B0BEC5\",\"#B0BEC5\",\"#B0BEC5\",\"#B0BEC5\",\"#B0BEC5\",\"#B0BEC5\",\"#B0BEC5\",\"#B0BEC5\",\"#B0BEC5\",\"#B0BEC5\",\"#B0BEC5\",\"#B0BEC5\",\"#B0BEC5\",\"#B0BEC5\",\"#B0BEC5\",\"#B0BEC5\",\"#B0BEC5\",\"#B0BEC5\"]]}],\"label\":\"Topic 9\",\"method\":\"update\"},{\"args\":[{\"marker.color\":[[\"#B0BEC5\",\"#B0BEC5\",\"#B0BEC5\",\"#B0BEC5\",\"#B0BEC5\",\"#B0BEC5\",\"#B0BEC5\",\"#B0BEC5\",\"#B0BEC5\",\"#B0BEC5\",\"red\",\"#B0BEC5\",\"#B0BEC5\",\"#B0BEC5\",\"#B0BEC5\",\"#B0BEC5\",\"#B0BEC5\",\"#B0BEC5\",\"#B0BEC5\",\"#B0BEC5\",\"#B0BEC5\",\"#B0BEC5\",\"#B0BEC5\",\"#B0BEC5\",\"#B0BEC5\",\"#B0BEC5\",\"#B0BEC5\",\"#B0BEC5\",\"#B0BEC5\",\"#B0BEC5\",\"#B0BEC5\",\"#B0BEC5\",\"#B0BEC5\",\"#B0BEC5\",\"#B0BEC5\",\"#B0BEC5\",\"#B0BEC5\",\"#B0BEC5\",\"#B0BEC5\",\"#B0BEC5\",\"#B0BEC5\",\"#B0BEC5\",\"#B0BEC5\",\"#B0BEC5\",\"#B0BEC5\",\"#B0BEC5\",\"#B0BEC5\",\"#B0BEC5\",\"#B0BEC5\",\"#B0BEC5\",\"#B0BEC5\",\"#B0BEC5\"]]}],\"label\":\"Topic 10\",\"method\":\"update\"},{\"args\":[{\"marker.color\":[[\"#B0BEC5\",\"#B0BEC5\",\"#B0BEC5\",\"#B0BEC5\",\"#B0BEC5\",\"#B0BEC5\",\"#B0BEC5\",\"#B0BEC5\",\"#B0BEC5\",\"#B0BEC5\",\"#B0BEC5\",\"red\",\"#B0BEC5\",\"#B0BEC5\",\"#B0BEC5\",\"#B0BEC5\",\"#B0BEC5\",\"#B0BEC5\",\"#B0BEC5\",\"#B0BEC5\",\"#B0BEC5\",\"#B0BEC5\",\"#B0BEC5\",\"#B0BEC5\",\"#B0BEC5\",\"#B0BEC5\",\"#B0BEC5\",\"#B0BEC5\",\"#B0BEC5\",\"#B0BEC5\",\"#B0BEC5\",\"#B0BEC5\",\"#B0BEC5\",\"#B0BEC5\",\"#B0BEC5\",\"#B0BEC5\",\"#B0BEC5\",\"#B0BEC5\",\"#B0BEC5\",\"#B0BEC5\",\"#B0BEC5\",\"#B0BEC5\",\"#B0BEC5\",\"#B0BEC5\",\"#B0BEC5\",\"#B0BEC5\",\"#B0BEC5\",\"#B0BEC5\",\"#B0BEC5\",\"#B0BEC5\",\"#B0BEC5\",\"#B0BEC5\"]]}],\"label\":\"Topic 11\",\"method\":\"update\"},{\"args\":[{\"marker.color\":[[\"#B0BEC5\",\"#B0BEC5\",\"#B0BEC5\",\"#B0BEC5\",\"#B0BEC5\",\"#B0BEC5\",\"#B0BEC5\",\"#B0BEC5\",\"#B0BEC5\",\"#B0BEC5\",\"#B0BEC5\",\"#B0BEC5\",\"red\",\"#B0BEC5\",\"#B0BEC5\",\"#B0BEC5\",\"#B0BEC5\",\"#B0BEC5\",\"#B0BEC5\",\"#B0BEC5\",\"#B0BEC5\",\"#B0BEC5\",\"#B0BEC5\",\"#B0BEC5\",\"#B0BEC5\",\"#B0BEC5\",\"#B0BEC5\",\"#B0BEC5\",\"#B0BEC5\",\"#B0BEC5\",\"#B0BEC5\",\"#B0BEC5\",\"#B0BEC5\",\"#B0BEC5\",\"#B0BEC5\",\"#B0BEC5\",\"#B0BEC5\",\"#B0BEC5\",\"#B0BEC5\",\"#B0BEC5\",\"#B0BEC5\",\"#B0BEC5\",\"#B0BEC5\",\"#B0BEC5\",\"#B0BEC5\",\"#B0BEC5\",\"#B0BEC5\",\"#B0BEC5\",\"#B0BEC5\",\"#B0BEC5\",\"#B0BEC5\",\"#B0BEC5\"]]}],\"label\":\"Topic 12\",\"method\":\"update\"},{\"args\":[{\"marker.color\":[[\"#B0BEC5\",\"#B0BEC5\",\"#B0BEC5\",\"#B0BEC5\",\"#B0BEC5\",\"#B0BEC5\",\"#B0BEC5\",\"#B0BEC5\",\"#B0BEC5\",\"#B0BEC5\",\"#B0BEC5\",\"#B0BEC5\",\"#B0BEC5\",\"red\",\"#B0BEC5\",\"#B0BEC5\",\"#B0BEC5\",\"#B0BEC5\",\"#B0BEC5\",\"#B0BEC5\",\"#B0BEC5\",\"#B0BEC5\",\"#B0BEC5\",\"#B0BEC5\",\"#B0BEC5\",\"#B0BEC5\",\"#B0BEC5\",\"#B0BEC5\",\"#B0BEC5\",\"#B0BEC5\",\"#B0BEC5\",\"#B0BEC5\",\"#B0BEC5\",\"#B0BEC5\",\"#B0BEC5\",\"#B0BEC5\",\"#B0BEC5\",\"#B0BEC5\",\"#B0BEC5\",\"#B0BEC5\",\"#B0BEC5\",\"#B0BEC5\",\"#B0BEC5\",\"#B0BEC5\",\"#B0BEC5\",\"#B0BEC5\",\"#B0BEC5\",\"#B0BEC5\",\"#B0BEC5\",\"#B0BEC5\",\"#B0BEC5\",\"#B0BEC5\"]]}],\"label\":\"Topic 13\",\"method\":\"update\"},{\"args\":[{\"marker.color\":[[\"#B0BEC5\",\"#B0BEC5\",\"#B0BEC5\",\"#B0BEC5\",\"#B0BEC5\",\"#B0BEC5\",\"#B0BEC5\",\"#B0BEC5\",\"#B0BEC5\",\"#B0BEC5\",\"#B0BEC5\",\"#B0BEC5\",\"#B0BEC5\",\"#B0BEC5\",\"red\",\"#B0BEC5\",\"#B0BEC5\",\"#B0BEC5\",\"#B0BEC5\",\"#B0BEC5\",\"#B0BEC5\",\"#B0BEC5\",\"#B0BEC5\",\"#B0BEC5\",\"#B0BEC5\",\"#B0BEC5\",\"#B0BEC5\",\"#B0BEC5\",\"#B0BEC5\",\"#B0BEC5\",\"#B0BEC5\",\"#B0BEC5\",\"#B0BEC5\",\"#B0BEC5\",\"#B0BEC5\",\"#B0BEC5\",\"#B0BEC5\",\"#B0BEC5\",\"#B0BEC5\",\"#B0BEC5\",\"#B0BEC5\",\"#B0BEC5\",\"#B0BEC5\",\"#B0BEC5\",\"#B0BEC5\",\"#B0BEC5\",\"#B0BEC5\",\"#B0BEC5\",\"#B0BEC5\",\"#B0BEC5\",\"#B0BEC5\",\"#B0BEC5\"]]}],\"label\":\"Topic 14\",\"method\":\"update\"},{\"args\":[{\"marker.color\":[[\"#B0BEC5\",\"#B0BEC5\",\"#B0BEC5\",\"#B0BEC5\",\"#B0BEC5\",\"#B0BEC5\",\"#B0BEC5\",\"#B0BEC5\",\"#B0BEC5\",\"#B0BEC5\",\"#B0BEC5\",\"#B0BEC5\",\"#B0BEC5\",\"#B0BEC5\",\"#B0BEC5\",\"red\",\"#B0BEC5\",\"#B0BEC5\",\"#B0BEC5\",\"#B0BEC5\",\"#B0BEC5\",\"#B0BEC5\",\"#B0BEC5\",\"#B0BEC5\",\"#B0BEC5\",\"#B0BEC5\",\"#B0BEC5\",\"#B0BEC5\",\"#B0BEC5\",\"#B0BEC5\",\"#B0BEC5\",\"#B0BEC5\",\"#B0BEC5\",\"#B0BEC5\",\"#B0BEC5\",\"#B0BEC5\",\"#B0BEC5\",\"#B0BEC5\",\"#B0BEC5\",\"#B0BEC5\",\"#B0BEC5\",\"#B0BEC5\",\"#B0BEC5\",\"#B0BEC5\",\"#B0BEC5\",\"#B0BEC5\",\"#B0BEC5\",\"#B0BEC5\",\"#B0BEC5\",\"#B0BEC5\",\"#B0BEC5\",\"#B0BEC5\"]]}],\"label\":\"Topic 15\",\"method\":\"update\"},{\"args\":[{\"marker.color\":[[\"#B0BEC5\",\"#B0BEC5\",\"#B0BEC5\",\"#B0BEC5\",\"#B0BEC5\",\"#B0BEC5\",\"#B0BEC5\",\"#B0BEC5\",\"#B0BEC5\",\"#B0BEC5\",\"#B0BEC5\",\"#B0BEC5\",\"#B0BEC5\",\"#B0BEC5\",\"#B0BEC5\",\"#B0BEC5\",\"red\",\"#B0BEC5\",\"#B0BEC5\",\"#B0BEC5\",\"#B0BEC5\",\"#B0BEC5\",\"#B0BEC5\",\"#B0BEC5\",\"#B0BEC5\",\"#B0BEC5\",\"#B0BEC5\",\"#B0BEC5\",\"#B0BEC5\",\"#B0BEC5\",\"#B0BEC5\",\"#B0BEC5\",\"#B0BEC5\",\"#B0BEC5\",\"#B0BEC5\",\"#B0BEC5\",\"#B0BEC5\",\"#B0BEC5\",\"#B0BEC5\",\"#B0BEC5\",\"#B0BEC5\",\"#B0BEC5\",\"#B0BEC5\",\"#B0BEC5\",\"#B0BEC5\",\"#B0BEC5\",\"#B0BEC5\",\"#B0BEC5\",\"#B0BEC5\",\"#B0BEC5\",\"#B0BEC5\",\"#B0BEC5\"]]}],\"label\":\"Topic 16\",\"method\":\"update\"},{\"args\":[{\"marker.color\":[[\"#B0BEC5\",\"#B0BEC5\",\"#B0BEC5\",\"#B0BEC5\",\"#B0BEC5\",\"#B0BEC5\",\"#B0BEC5\",\"#B0BEC5\",\"#B0BEC5\",\"#B0BEC5\",\"#B0BEC5\",\"#B0BEC5\",\"#B0BEC5\",\"#B0BEC5\",\"#B0BEC5\",\"#B0BEC5\",\"#B0BEC5\",\"red\",\"#B0BEC5\",\"#B0BEC5\",\"#B0BEC5\",\"#B0BEC5\",\"#B0BEC5\",\"#B0BEC5\",\"#B0BEC5\",\"#B0BEC5\",\"#B0BEC5\",\"#B0BEC5\",\"#B0BEC5\",\"#B0BEC5\",\"#B0BEC5\",\"#B0BEC5\",\"#B0BEC5\",\"#B0BEC5\",\"#B0BEC5\",\"#B0BEC5\",\"#B0BEC5\",\"#B0BEC5\",\"#B0BEC5\",\"#B0BEC5\",\"#B0BEC5\",\"#B0BEC5\",\"#B0BEC5\",\"#B0BEC5\",\"#B0BEC5\",\"#B0BEC5\",\"#B0BEC5\",\"#B0BEC5\",\"#B0BEC5\",\"#B0BEC5\",\"#B0BEC5\",\"#B0BEC5\"]]}],\"label\":\"Topic 17\",\"method\":\"update\"},{\"args\":[{\"marker.color\":[[\"#B0BEC5\",\"#B0BEC5\",\"#B0BEC5\",\"#B0BEC5\",\"#B0BEC5\",\"#B0BEC5\",\"#B0BEC5\",\"#B0BEC5\",\"#B0BEC5\",\"#B0BEC5\",\"#B0BEC5\",\"#B0BEC5\",\"#B0BEC5\",\"#B0BEC5\",\"#B0BEC5\",\"#B0BEC5\",\"#B0BEC5\",\"#B0BEC5\",\"red\",\"#B0BEC5\",\"#B0BEC5\",\"#B0BEC5\",\"#B0BEC5\",\"#B0BEC5\",\"#B0BEC5\",\"#B0BEC5\",\"#B0BEC5\",\"#B0BEC5\",\"#B0BEC5\",\"#B0BEC5\",\"#B0BEC5\",\"#B0BEC5\",\"#B0BEC5\",\"#B0BEC5\",\"#B0BEC5\",\"#B0BEC5\",\"#B0BEC5\",\"#B0BEC5\",\"#B0BEC5\",\"#B0BEC5\",\"#B0BEC5\",\"#B0BEC5\",\"#B0BEC5\",\"#B0BEC5\",\"#B0BEC5\",\"#B0BEC5\",\"#B0BEC5\",\"#B0BEC5\",\"#B0BEC5\",\"#B0BEC5\",\"#B0BEC5\",\"#B0BEC5\"]]}],\"label\":\"Topic 18\",\"method\":\"update\"},{\"args\":[{\"marker.color\":[[\"#B0BEC5\",\"#B0BEC5\",\"#B0BEC5\",\"#B0BEC5\",\"#B0BEC5\",\"#B0BEC5\",\"#B0BEC5\",\"#B0BEC5\",\"#B0BEC5\",\"#B0BEC5\",\"#B0BEC5\",\"#B0BEC5\",\"#B0BEC5\",\"#B0BEC5\",\"#B0BEC5\",\"#B0BEC5\",\"#B0BEC5\",\"#B0BEC5\",\"#B0BEC5\",\"red\",\"#B0BEC5\",\"#B0BEC5\",\"#B0BEC5\",\"#B0BEC5\",\"#B0BEC5\",\"#B0BEC5\",\"#B0BEC5\",\"#B0BEC5\",\"#B0BEC5\",\"#B0BEC5\",\"#B0BEC5\",\"#B0BEC5\",\"#B0BEC5\",\"#B0BEC5\",\"#B0BEC5\",\"#B0BEC5\",\"#B0BEC5\",\"#B0BEC5\",\"#B0BEC5\",\"#B0BEC5\",\"#B0BEC5\",\"#B0BEC5\",\"#B0BEC5\",\"#B0BEC5\",\"#B0BEC5\",\"#B0BEC5\",\"#B0BEC5\",\"#B0BEC5\",\"#B0BEC5\",\"#B0BEC5\",\"#B0BEC5\",\"#B0BEC5\"]]}],\"label\":\"Topic 19\",\"method\":\"update\"},{\"args\":[{\"marker.color\":[[\"#B0BEC5\",\"#B0BEC5\",\"#B0BEC5\",\"#B0BEC5\",\"#B0BEC5\",\"#B0BEC5\",\"#B0BEC5\",\"#B0BEC5\",\"#B0BEC5\",\"#B0BEC5\",\"#B0BEC5\",\"#B0BEC5\",\"#B0BEC5\",\"#B0BEC5\",\"#B0BEC5\",\"#B0BEC5\",\"#B0BEC5\",\"#B0BEC5\",\"#B0BEC5\",\"#B0BEC5\",\"red\",\"#B0BEC5\",\"#B0BEC5\",\"#B0BEC5\",\"#B0BEC5\",\"#B0BEC5\",\"#B0BEC5\",\"#B0BEC5\",\"#B0BEC5\",\"#B0BEC5\",\"#B0BEC5\",\"#B0BEC5\",\"#B0BEC5\",\"#B0BEC5\",\"#B0BEC5\",\"#B0BEC5\",\"#B0BEC5\",\"#B0BEC5\",\"#B0BEC5\",\"#B0BEC5\",\"#B0BEC5\",\"#B0BEC5\",\"#B0BEC5\",\"#B0BEC5\",\"#B0BEC5\",\"#B0BEC5\",\"#B0BEC5\",\"#B0BEC5\",\"#B0BEC5\",\"#B0BEC5\",\"#B0BEC5\",\"#B0BEC5\"]]}],\"label\":\"Topic 20\",\"method\":\"update\"},{\"args\":[{\"marker.color\":[[\"#B0BEC5\",\"#B0BEC5\",\"#B0BEC5\",\"#B0BEC5\",\"#B0BEC5\",\"#B0BEC5\",\"#B0BEC5\",\"#B0BEC5\",\"#B0BEC5\",\"#B0BEC5\",\"#B0BEC5\",\"#B0BEC5\",\"#B0BEC5\",\"#B0BEC5\",\"#B0BEC5\",\"#B0BEC5\",\"#B0BEC5\",\"#B0BEC5\",\"#B0BEC5\",\"#B0BEC5\",\"#B0BEC5\",\"red\",\"#B0BEC5\",\"#B0BEC5\",\"#B0BEC5\",\"#B0BEC5\",\"#B0BEC5\",\"#B0BEC5\",\"#B0BEC5\",\"#B0BEC5\",\"#B0BEC5\",\"#B0BEC5\",\"#B0BEC5\",\"#B0BEC5\",\"#B0BEC5\",\"#B0BEC5\",\"#B0BEC5\",\"#B0BEC5\",\"#B0BEC5\",\"#B0BEC5\",\"#B0BEC5\",\"#B0BEC5\",\"#B0BEC5\",\"#B0BEC5\",\"#B0BEC5\",\"#B0BEC5\",\"#B0BEC5\",\"#B0BEC5\",\"#B0BEC5\",\"#B0BEC5\",\"#B0BEC5\",\"#B0BEC5\"]]}],\"label\":\"Topic 21\",\"method\":\"update\"},{\"args\":[{\"marker.color\":[[\"#B0BEC5\",\"#B0BEC5\",\"#B0BEC5\",\"#B0BEC5\",\"#B0BEC5\",\"#B0BEC5\",\"#B0BEC5\",\"#B0BEC5\",\"#B0BEC5\",\"#B0BEC5\",\"#B0BEC5\",\"#B0BEC5\",\"#B0BEC5\",\"#B0BEC5\",\"#B0BEC5\",\"#B0BEC5\",\"#B0BEC5\",\"#B0BEC5\",\"#B0BEC5\",\"#B0BEC5\",\"#B0BEC5\",\"#B0BEC5\",\"red\",\"#B0BEC5\",\"#B0BEC5\",\"#B0BEC5\",\"#B0BEC5\",\"#B0BEC5\",\"#B0BEC5\",\"#B0BEC5\",\"#B0BEC5\",\"#B0BEC5\",\"#B0BEC5\",\"#B0BEC5\",\"#B0BEC5\",\"#B0BEC5\",\"#B0BEC5\",\"#B0BEC5\",\"#B0BEC5\",\"#B0BEC5\",\"#B0BEC5\",\"#B0BEC5\",\"#B0BEC5\",\"#B0BEC5\",\"#B0BEC5\",\"#B0BEC5\",\"#B0BEC5\",\"#B0BEC5\",\"#B0BEC5\",\"#B0BEC5\",\"#B0BEC5\",\"#B0BEC5\"]]}],\"label\":\"Topic 22\",\"method\":\"update\"},{\"args\":[{\"marker.color\":[[\"#B0BEC5\",\"#B0BEC5\",\"#B0BEC5\",\"#B0BEC5\",\"#B0BEC5\",\"#B0BEC5\",\"#B0BEC5\",\"#B0BEC5\",\"#B0BEC5\",\"#B0BEC5\",\"#B0BEC5\",\"#B0BEC5\",\"#B0BEC5\",\"#B0BEC5\",\"#B0BEC5\",\"#B0BEC5\",\"#B0BEC5\",\"#B0BEC5\",\"#B0BEC5\",\"#B0BEC5\",\"#B0BEC5\",\"#B0BEC5\",\"#B0BEC5\",\"red\",\"#B0BEC5\",\"#B0BEC5\",\"#B0BEC5\",\"#B0BEC5\",\"#B0BEC5\",\"#B0BEC5\",\"#B0BEC5\",\"#B0BEC5\",\"#B0BEC5\",\"#B0BEC5\",\"#B0BEC5\",\"#B0BEC5\",\"#B0BEC5\",\"#B0BEC5\",\"#B0BEC5\",\"#B0BEC5\",\"#B0BEC5\",\"#B0BEC5\",\"#B0BEC5\",\"#B0BEC5\",\"#B0BEC5\",\"#B0BEC5\",\"#B0BEC5\",\"#B0BEC5\",\"#B0BEC5\",\"#B0BEC5\",\"#B0BEC5\",\"#B0BEC5\"]]}],\"label\":\"Topic 23\",\"method\":\"update\"},{\"args\":[{\"marker.color\":[[\"#B0BEC5\",\"#B0BEC5\",\"#B0BEC5\",\"#B0BEC5\",\"#B0BEC5\",\"#B0BEC5\",\"#B0BEC5\",\"#B0BEC5\",\"#B0BEC5\",\"#B0BEC5\",\"#B0BEC5\",\"#B0BEC5\",\"#B0BEC5\",\"#B0BEC5\",\"#B0BEC5\",\"#B0BEC5\",\"#B0BEC5\",\"#B0BEC5\",\"#B0BEC5\",\"#B0BEC5\",\"#B0BEC5\",\"#B0BEC5\",\"#B0BEC5\",\"#B0BEC5\",\"red\",\"#B0BEC5\",\"#B0BEC5\",\"#B0BEC5\",\"#B0BEC5\",\"#B0BEC5\",\"#B0BEC5\",\"#B0BEC5\",\"#B0BEC5\",\"#B0BEC5\",\"#B0BEC5\",\"#B0BEC5\",\"#B0BEC5\",\"#B0BEC5\",\"#B0BEC5\",\"#B0BEC5\",\"#B0BEC5\",\"#B0BEC5\",\"#B0BEC5\",\"#B0BEC5\",\"#B0BEC5\",\"#B0BEC5\",\"#B0BEC5\",\"#B0BEC5\",\"#B0BEC5\",\"#B0BEC5\",\"#B0BEC5\",\"#B0BEC5\"]]}],\"label\":\"Topic 24\",\"method\":\"update\"},{\"args\":[{\"marker.color\":[[\"#B0BEC5\",\"#B0BEC5\",\"#B0BEC5\",\"#B0BEC5\",\"#B0BEC5\",\"#B0BEC5\",\"#B0BEC5\",\"#B0BEC5\",\"#B0BEC5\",\"#B0BEC5\",\"#B0BEC5\",\"#B0BEC5\",\"#B0BEC5\",\"#B0BEC5\",\"#B0BEC5\",\"#B0BEC5\",\"#B0BEC5\",\"#B0BEC5\",\"#B0BEC5\",\"#B0BEC5\",\"#B0BEC5\",\"#B0BEC5\",\"#B0BEC5\",\"#B0BEC5\",\"#B0BEC5\",\"red\",\"#B0BEC5\",\"#B0BEC5\",\"#B0BEC5\",\"#B0BEC5\",\"#B0BEC5\",\"#B0BEC5\",\"#B0BEC5\",\"#B0BEC5\",\"#B0BEC5\",\"#B0BEC5\",\"#B0BEC5\",\"#B0BEC5\",\"#B0BEC5\",\"#B0BEC5\",\"#B0BEC5\",\"#B0BEC5\",\"#B0BEC5\",\"#B0BEC5\",\"#B0BEC5\",\"#B0BEC5\",\"#B0BEC5\",\"#B0BEC5\",\"#B0BEC5\",\"#B0BEC5\",\"#B0BEC5\",\"#B0BEC5\"]]}],\"label\":\"Topic 25\",\"method\":\"update\"},{\"args\":[{\"marker.color\":[[\"#B0BEC5\",\"#B0BEC5\",\"#B0BEC5\",\"#B0BEC5\",\"#B0BEC5\",\"#B0BEC5\",\"#B0BEC5\",\"#B0BEC5\",\"#B0BEC5\",\"#B0BEC5\",\"#B0BEC5\",\"#B0BEC5\",\"#B0BEC5\",\"#B0BEC5\",\"#B0BEC5\",\"#B0BEC5\",\"#B0BEC5\",\"#B0BEC5\",\"#B0BEC5\",\"#B0BEC5\",\"#B0BEC5\",\"#B0BEC5\",\"#B0BEC5\",\"#B0BEC5\",\"#B0BEC5\",\"#B0BEC5\",\"red\",\"#B0BEC5\",\"#B0BEC5\",\"#B0BEC5\",\"#B0BEC5\",\"#B0BEC5\",\"#B0BEC5\",\"#B0BEC5\",\"#B0BEC5\",\"#B0BEC5\",\"#B0BEC5\",\"#B0BEC5\",\"#B0BEC5\",\"#B0BEC5\",\"#B0BEC5\",\"#B0BEC5\",\"#B0BEC5\",\"#B0BEC5\",\"#B0BEC5\",\"#B0BEC5\",\"#B0BEC5\",\"#B0BEC5\",\"#B0BEC5\",\"#B0BEC5\",\"#B0BEC5\",\"#B0BEC5\"]]}],\"label\":\"Topic 26\",\"method\":\"update\"},{\"args\":[{\"marker.color\":[[\"#B0BEC5\",\"#B0BEC5\",\"#B0BEC5\",\"#B0BEC5\",\"#B0BEC5\",\"#B0BEC5\",\"#B0BEC5\",\"#B0BEC5\",\"#B0BEC5\",\"#B0BEC5\",\"#B0BEC5\",\"#B0BEC5\",\"#B0BEC5\",\"#B0BEC5\",\"#B0BEC5\",\"#B0BEC5\",\"#B0BEC5\",\"#B0BEC5\",\"#B0BEC5\",\"#B0BEC5\",\"#B0BEC5\",\"#B0BEC5\",\"#B0BEC5\",\"#B0BEC5\",\"#B0BEC5\",\"#B0BEC5\",\"#B0BEC5\",\"red\",\"#B0BEC5\",\"#B0BEC5\",\"#B0BEC5\",\"#B0BEC5\",\"#B0BEC5\",\"#B0BEC5\",\"#B0BEC5\",\"#B0BEC5\",\"#B0BEC5\",\"#B0BEC5\",\"#B0BEC5\",\"#B0BEC5\",\"#B0BEC5\",\"#B0BEC5\",\"#B0BEC5\",\"#B0BEC5\",\"#B0BEC5\",\"#B0BEC5\",\"#B0BEC5\",\"#B0BEC5\",\"#B0BEC5\",\"#B0BEC5\",\"#B0BEC5\",\"#B0BEC5\"]]}],\"label\":\"Topic 27\",\"method\":\"update\"},{\"args\":[{\"marker.color\":[[\"#B0BEC5\",\"#B0BEC5\",\"#B0BEC5\",\"#B0BEC5\",\"#B0BEC5\",\"#B0BEC5\",\"#B0BEC5\",\"#B0BEC5\",\"#B0BEC5\",\"#B0BEC5\",\"#B0BEC5\",\"#B0BEC5\",\"#B0BEC5\",\"#B0BEC5\",\"#B0BEC5\",\"#B0BEC5\",\"#B0BEC5\",\"#B0BEC5\",\"#B0BEC5\",\"#B0BEC5\",\"#B0BEC5\",\"#B0BEC5\",\"#B0BEC5\",\"#B0BEC5\",\"#B0BEC5\",\"#B0BEC5\",\"#B0BEC5\",\"#B0BEC5\",\"red\",\"#B0BEC5\",\"#B0BEC5\",\"#B0BEC5\",\"#B0BEC5\",\"#B0BEC5\",\"#B0BEC5\",\"#B0BEC5\",\"#B0BEC5\",\"#B0BEC5\",\"#B0BEC5\",\"#B0BEC5\",\"#B0BEC5\",\"#B0BEC5\",\"#B0BEC5\",\"#B0BEC5\",\"#B0BEC5\",\"#B0BEC5\",\"#B0BEC5\",\"#B0BEC5\",\"#B0BEC5\",\"#B0BEC5\",\"#B0BEC5\",\"#B0BEC5\"]]}],\"label\":\"Topic 28\",\"method\":\"update\"},{\"args\":[{\"marker.color\":[[\"#B0BEC5\",\"#B0BEC5\",\"#B0BEC5\",\"#B0BEC5\",\"#B0BEC5\",\"#B0BEC5\",\"#B0BEC5\",\"#B0BEC5\",\"#B0BEC5\",\"#B0BEC5\",\"#B0BEC5\",\"#B0BEC5\",\"#B0BEC5\",\"#B0BEC5\",\"#B0BEC5\",\"#B0BEC5\",\"#B0BEC5\",\"#B0BEC5\",\"#B0BEC5\",\"#B0BEC5\",\"#B0BEC5\",\"#B0BEC5\",\"#B0BEC5\",\"#B0BEC5\",\"#B0BEC5\",\"#B0BEC5\",\"#B0BEC5\",\"#B0BEC5\",\"#B0BEC5\",\"red\",\"#B0BEC5\",\"#B0BEC5\",\"#B0BEC5\",\"#B0BEC5\",\"#B0BEC5\",\"#B0BEC5\",\"#B0BEC5\",\"#B0BEC5\",\"#B0BEC5\",\"#B0BEC5\",\"#B0BEC5\",\"#B0BEC5\",\"#B0BEC5\",\"#B0BEC5\",\"#B0BEC5\",\"#B0BEC5\",\"#B0BEC5\",\"#B0BEC5\",\"#B0BEC5\",\"#B0BEC5\",\"#B0BEC5\",\"#B0BEC5\"]]}],\"label\":\"Topic 29\",\"method\":\"update\"},{\"args\":[{\"marker.color\":[[\"#B0BEC5\",\"#B0BEC5\",\"#B0BEC5\",\"#B0BEC5\",\"#B0BEC5\",\"#B0BEC5\",\"#B0BEC5\",\"#B0BEC5\",\"#B0BEC5\",\"#B0BEC5\",\"#B0BEC5\",\"#B0BEC5\",\"#B0BEC5\",\"#B0BEC5\",\"#B0BEC5\",\"#B0BEC5\",\"#B0BEC5\",\"#B0BEC5\",\"#B0BEC5\",\"#B0BEC5\",\"#B0BEC5\",\"#B0BEC5\",\"#B0BEC5\",\"#B0BEC5\",\"#B0BEC5\",\"#B0BEC5\",\"#B0BEC5\",\"#B0BEC5\",\"#B0BEC5\",\"#B0BEC5\",\"red\",\"#B0BEC5\",\"#B0BEC5\",\"#B0BEC5\",\"#B0BEC5\",\"#B0BEC5\",\"#B0BEC5\",\"#B0BEC5\",\"#B0BEC5\",\"#B0BEC5\",\"#B0BEC5\",\"#B0BEC5\",\"#B0BEC5\",\"#B0BEC5\",\"#B0BEC5\",\"#B0BEC5\",\"#B0BEC5\",\"#B0BEC5\",\"#B0BEC5\",\"#B0BEC5\",\"#B0BEC5\",\"#B0BEC5\"]]}],\"label\":\"Topic 30\",\"method\":\"update\"},{\"args\":[{\"marker.color\":[[\"#B0BEC5\",\"#B0BEC5\",\"#B0BEC5\",\"#B0BEC5\",\"#B0BEC5\",\"#B0BEC5\",\"#B0BEC5\",\"#B0BEC5\",\"#B0BEC5\",\"#B0BEC5\",\"#B0BEC5\",\"#B0BEC5\",\"#B0BEC5\",\"#B0BEC5\",\"#B0BEC5\",\"#B0BEC5\",\"#B0BEC5\",\"#B0BEC5\",\"#B0BEC5\",\"#B0BEC5\",\"#B0BEC5\",\"#B0BEC5\",\"#B0BEC5\",\"#B0BEC5\",\"#B0BEC5\",\"#B0BEC5\",\"#B0BEC5\",\"#B0BEC5\",\"#B0BEC5\",\"#B0BEC5\",\"#B0BEC5\",\"red\",\"#B0BEC5\",\"#B0BEC5\",\"#B0BEC5\",\"#B0BEC5\",\"#B0BEC5\",\"#B0BEC5\",\"#B0BEC5\",\"#B0BEC5\",\"#B0BEC5\",\"#B0BEC5\",\"#B0BEC5\",\"#B0BEC5\",\"#B0BEC5\",\"#B0BEC5\",\"#B0BEC5\",\"#B0BEC5\",\"#B0BEC5\",\"#B0BEC5\",\"#B0BEC5\",\"#B0BEC5\"]]}],\"label\":\"Topic 31\",\"method\":\"update\"},{\"args\":[{\"marker.color\":[[\"#B0BEC5\",\"#B0BEC5\",\"#B0BEC5\",\"#B0BEC5\",\"#B0BEC5\",\"#B0BEC5\",\"#B0BEC5\",\"#B0BEC5\",\"#B0BEC5\",\"#B0BEC5\",\"#B0BEC5\",\"#B0BEC5\",\"#B0BEC5\",\"#B0BEC5\",\"#B0BEC5\",\"#B0BEC5\",\"#B0BEC5\",\"#B0BEC5\",\"#B0BEC5\",\"#B0BEC5\",\"#B0BEC5\",\"#B0BEC5\",\"#B0BEC5\",\"#B0BEC5\",\"#B0BEC5\",\"#B0BEC5\",\"#B0BEC5\",\"#B0BEC5\",\"#B0BEC5\",\"#B0BEC5\",\"#B0BEC5\",\"#B0BEC5\",\"red\",\"#B0BEC5\",\"#B0BEC5\",\"#B0BEC5\",\"#B0BEC5\",\"#B0BEC5\",\"#B0BEC5\",\"#B0BEC5\",\"#B0BEC5\",\"#B0BEC5\",\"#B0BEC5\",\"#B0BEC5\",\"#B0BEC5\",\"#B0BEC5\",\"#B0BEC5\",\"#B0BEC5\",\"#B0BEC5\",\"#B0BEC5\",\"#B0BEC5\",\"#B0BEC5\"]]}],\"label\":\"Topic 32\",\"method\":\"update\"},{\"args\":[{\"marker.color\":[[\"#B0BEC5\",\"#B0BEC5\",\"#B0BEC5\",\"#B0BEC5\",\"#B0BEC5\",\"#B0BEC5\",\"#B0BEC5\",\"#B0BEC5\",\"#B0BEC5\",\"#B0BEC5\",\"#B0BEC5\",\"#B0BEC5\",\"#B0BEC5\",\"#B0BEC5\",\"#B0BEC5\",\"#B0BEC5\",\"#B0BEC5\",\"#B0BEC5\",\"#B0BEC5\",\"#B0BEC5\",\"#B0BEC5\",\"#B0BEC5\",\"#B0BEC5\",\"#B0BEC5\",\"#B0BEC5\",\"#B0BEC5\",\"#B0BEC5\",\"#B0BEC5\",\"#B0BEC5\",\"#B0BEC5\",\"#B0BEC5\",\"#B0BEC5\",\"#B0BEC5\",\"red\",\"#B0BEC5\",\"#B0BEC5\",\"#B0BEC5\",\"#B0BEC5\",\"#B0BEC5\",\"#B0BEC5\",\"#B0BEC5\",\"#B0BEC5\",\"#B0BEC5\",\"#B0BEC5\",\"#B0BEC5\",\"#B0BEC5\",\"#B0BEC5\",\"#B0BEC5\",\"#B0BEC5\",\"#B0BEC5\",\"#B0BEC5\",\"#B0BEC5\"]]}],\"label\":\"Topic 33\",\"method\":\"update\"},{\"args\":[{\"marker.color\":[[\"#B0BEC5\",\"#B0BEC5\",\"#B0BEC5\",\"#B0BEC5\",\"#B0BEC5\",\"#B0BEC5\",\"#B0BEC5\",\"#B0BEC5\",\"#B0BEC5\",\"#B0BEC5\",\"#B0BEC5\",\"#B0BEC5\",\"#B0BEC5\",\"#B0BEC5\",\"#B0BEC5\",\"#B0BEC5\",\"#B0BEC5\",\"#B0BEC5\",\"#B0BEC5\",\"#B0BEC5\",\"#B0BEC5\",\"#B0BEC5\",\"#B0BEC5\",\"#B0BEC5\",\"#B0BEC5\",\"#B0BEC5\",\"#B0BEC5\",\"#B0BEC5\",\"#B0BEC5\",\"#B0BEC5\",\"#B0BEC5\",\"#B0BEC5\",\"#B0BEC5\",\"#B0BEC5\",\"red\",\"#B0BEC5\",\"#B0BEC5\",\"#B0BEC5\",\"#B0BEC5\",\"#B0BEC5\",\"#B0BEC5\",\"#B0BEC5\",\"#B0BEC5\",\"#B0BEC5\",\"#B0BEC5\",\"#B0BEC5\",\"#B0BEC5\",\"#B0BEC5\",\"#B0BEC5\",\"#B0BEC5\",\"#B0BEC5\",\"#B0BEC5\"]]}],\"label\":\"Topic 34\",\"method\":\"update\"},{\"args\":[{\"marker.color\":[[\"#B0BEC5\",\"#B0BEC5\",\"#B0BEC5\",\"#B0BEC5\",\"#B0BEC5\",\"#B0BEC5\",\"#B0BEC5\",\"#B0BEC5\",\"#B0BEC5\",\"#B0BEC5\",\"#B0BEC5\",\"#B0BEC5\",\"#B0BEC5\",\"#B0BEC5\",\"#B0BEC5\",\"#B0BEC5\",\"#B0BEC5\",\"#B0BEC5\",\"#B0BEC5\",\"#B0BEC5\",\"#B0BEC5\",\"#B0BEC5\",\"#B0BEC5\",\"#B0BEC5\",\"#B0BEC5\",\"#B0BEC5\",\"#B0BEC5\",\"#B0BEC5\",\"#B0BEC5\",\"#B0BEC5\",\"#B0BEC5\",\"#B0BEC5\",\"#B0BEC5\",\"#B0BEC5\",\"#B0BEC5\",\"red\",\"#B0BEC5\",\"#B0BEC5\",\"#B0BEC5\",\"#B0BEC5\",\"#B0BEC5\",\"#B0BEC5\",\"#B0BEC5\",\"#B0BEC5\",\"#B0BEC5\",\"#B0BEC5\",\"#B0BEC5\",\"#B0BEC5\",\"#B0BEC5\",\"#B0BEC5\",\"#B0BEC5\",\"#B0BEC5\"]]}],\"label\":\"Topic 35\",\"method\":\"update\"},{\"args\":[{\"marker.color\":[[\"#B0BEC5\",\"#B0BEC5\",\"#B0BEC5\",\"#B0BEC5\",\"#B0BEC5\",\"#B0BEC5\",\"#B0BEC5\",\"#B0BEC5\",\"#B0BEC5\",\"#B0BEC5\",\"#B0BEC5\",\"#B0BEC5\",\"#B0BEC5\",\"#B0BEC5\",\"#B0BEC5\",\"#B0BEC5\",\"#B0BEC5\",\"#B0BEC5\",\"#B0BEC5\",\"#B0BEC5\",\"#B0BEC5\",\"#B0BEC5\",\"#B0BEC5\",\"#B0BEC5\",\"#B0BEC5\",\"#B0BEC5\",\"#B0BEC5\",\"#B0BEC5\",\"#B0BEC5\",\"#B0BEC5\",\"#B0BEC5\",\"#B0BEC5\",\"#B0BEC5\",\"#B0BEC5\",\"#B0BEC5\",\"#B0BEC5\",\"red\",\"#B0BEC5\",\"#B0BEC5\",\"#B0BEC5\",\"#B0BEC5\",\"#B0BEC5\",\"#B0BEC5\",\"#B0BEC5\",\"#B0BEC5\",\"#B0BEC5\",\"#B0BEC5\",\"#B0BEC5\",\"#B0BEC5\",\"#B0BEC5\",\"#B0BEC5\",\"#B0BEC5\"]]}],\"label\":\"Topic 36\",\"method\":\"update\"},{\"args\":[{\"marker.color\":[[\"#B0BEC5\",\"#B0BEC5\",\"#B0BEC5\",\"#B0BEC5\",\"#B0BEC5\",\"#B0BEC5\",\"#B0BEC5\",\"#B0BEC5\",\"#B0BEC5\",\"#B0BEC5\",\"#B0BEC5\",\"#B0BEC5\",\"#B0BEC5\",\"#B0BEC5\",\"#B0BEC5\",\"#B0BEC5\",\"#B0BEC5\",\"#B0BEC5\",\"#B0BEC5\",\"#B0BEC5\",\"#B0BEC5\",\"#B0BEC5\",\"#B0BEC5\",\"#B0BEC5\",\"#B0BEC5\",\"#B0BEC5\",\"#B0BEC5\",\"#B0BEC5\",\"#B0BEC5\",\"#B0BEC5\",\"#B0BEC5\",\"#B0BEC5\",\"#B0BEC5\",\"#B0BEC5\",\"#B0BEC5\",\"#B0BEC5\",\"#B0BEC5\",\"red\",\"#B0BEC5\",\"#B0BEC5\",\"#B0BEC5\",\"#B0BEC5\",\"#B0BEC5\",\"#B0BEC5\",\"#B0BEC5\",\"#B0BEC5\",\"#B0BEC5\",\"#B0BEC5\",\"#B0BEC5\",\"#B0BEC5\",\"#B0BEC5\",\"#B0BEC5\"]]}],\"label\":\"Topic 37\",\"method\":\"update\"},{\"args\":[{\"marker.color\":[[\"#B0BEC5\",\"#B0BEC5\",\"#B0BEC5\",\"#B0BEC5\",\"#B0BEC5\",\"#B0BEC5\",\"#B0BEC5\",\"#B0BEC5\",\"#B0BEC5\",\"#B0BEC5\",\"#B0BEC5\",\"#B0BEC5\",\"#B0BEC5\",\"#B0BEC5\",\"#B0BEC5\",\"#B0BEC5\",\"#B0BEC5\",\"#B0BEC5\",\"#B0BEC5\",\"#B0BEC5\",\"#B0BEC5\",\"#B0BEC5\",\"#B0BEC5\",\"#B0BEC5\",\"#B0BEC5\",\"#B0BEC5\",\"#B0BEC5\",\"#B0BEC5\",\"#B0BEC5\",\"#B0BEC5\",\"#B0BEC5\",\"#B0BEC5\",\"#B0BEC5\",\"#B0BEC5\",\"#B0BEC5\",\"#B0BEC5\",\"#B0BEC5\",\"#B0BEC5\",\"red\",\"#B0BEC5\",\"#B0BEC5\",\"#B0BEC5\",\"#B0BEC5\",\"#B0BEC5\",\"#B0BEC5\",\"#B0BEC5\",\"#B0BEC5\",\"#B0BEC5\",\"#B0BEC5\",\"#B0BEC5\",\"#B0BEC5\",\"#B0BEC5\"]]}],\"label\":\"Topic 38\",\"method\":\"update\"},{\"args\":[{\"marker.color\":[[\"#B0BEC5\",\"#B0BEC5\",\"#B0BEC5\",\"#B0BEC5\",\"#B0BEC5\",\"#B0BEC5\",\"#B0BEC5\",\"#B0BEC5\",\"#B0BEC5\",\"#B0BEC5\",\"#B0BEC5\",\"#B0BEC5\",\"#B0BEC5\",\"#B0BEC5\",\"#B0BEC5\",\"#B0BEC5\",\"#B0BEC5\",\"#B0BEC5\",\"#B0BEC5\",\"#B0BEC5\",\"#B0BEC5\",\"#B0BEC5\",\"#B0BEC5\",\"#B0BEC5\",\"#B0BEC5\",\"#B0BEC5\",\"#B0BEC5\",\"#B0BEC5\",\"#B0BEC5\",\"#B0BEC5\",\"#B0BEC5\",\"#B0BEC5\",\"#B0BEC5\",\"#B0BEC5\",\"#B0BEC5\",\"#B0BEC5\",\"#B0BEC5\",\"#B0BEC5\",\"#B0BEC5\",\"red\",\"#B0BEC5\",\"#B0BEC5\",\"#B0BEC5\",\"#B0BEC5\",\"#B0BEC5\",\"#B0BEC5\",\"#B0BEC5\",\"#B0BEC5\",\"#B0BEC5\",\"#B0BEC5\",\"#B0BEC5\",\"#B0BEC5\"]]}],\"label\":\"Topic 39\",\"method\":\"update\"},{\"args\":[{\"marker.color\":[[\"#B0BEC5\",\"#B0BEC5\",\"#B0BEC5\",\"#B0BEC5\",\"#B0BEC5\",\"#B0BEC5\",\"#B0BEC5\",\"#B0BEC5\",\"#B0BEC5\",\"#B0BEC5\",\"#B0BEC5\",\"#B0BEC5\",\"#B0BEC5\",\"#B0BEC5\",\"#B0BEC5\",\"#B0BEC5\",\"#B0BEC5\",\"#B0BEC5\",\"#B0BEC5\",\"#B0BEC5\",\"#B0BEC5\",\"#B0BEC5\",\"#B0BEC5\",\"#B0BEC5\",\"#B0BEC5\",\"#B0BEC5\",\"#B0BEC5\",\"#B0BEC5\",\"#B0BEC5\",\"#B0BEC5\",\"#B0BEC5\",\"#B0BEC5\",\"#B0BEC5\",\"#B0BEC5\",\"#B0BEC5\",\"#B0BEC5\",\"#B0BEC5\",\"#B0BEC5\",\"#B0BEC5\",\"#B0BEC5\",\"red\",\"#B0BEC5\",\"#B0BEC5\",\"#B0BEC5\",\"#B0BEC5\",\"#B0BEC5\",\"#B0BEC5\",\"#B0BEC5\",\"#B0BEC5\",\"#B0BEC5\",\"#B0BEC5\",\"#B0BEC5\"]]}],\"label\":\"Topic 40\",\"method\":\"update\"},{\"args\":[{\"marker.color\":[[\"#B0BEC5\",\"#B0BEC5\",\"#B0BEC5\",\"#B0BEC5\",\"#B0BEC5\",\"#B0BEC5\",\"#B0BEC5\",\"#B0BEC5\",\"#B0BEC5\",\"#B0BEC5\",\"#B0BEC5\",\"#B0BEC5\",\"#B0BEC5\",\"#B0BEC5\",\"#B0BEC5\",\"#B0BEC5\",\"#B0BEC5\",\"#B0BEC5\",\"#B0BEC5\",\"#B0BEC5\",\"#B0BEC5\",\"#B0BEC5\",\"#B0BEC5\",\"#B0BEC5\",\"#B0BEC5\",\"#B0BEC5\",\"#B0BEC5\",\"#B0BEC5\",\"#B0BEC5\",\"#B0BEC5\",\"#B0BEC5\",\"#B0BEC5\",\"#B0BEC5\",\"#B0BEC5\",\"#B0BEC5\",\"#B0BEC5\",\"#B0BEC5\",\"#B0BEC5\",\"#B0BEC5\",\"#B0BEC5\",\"#B0BEC5\",\"red\",\"#B0BEC5\",\"#B0BEC5\",\"#B0BEC5\",\"#B0BEC5\",\"#B0BEC5\",\"#B0BEC5\",\"#B0BEC5\",\"#B0BEC5\",\"#B0BEC5\",\"#B0BEC5\"]]}],\"label\":\"Topic 41\",\"method\":\"update\"},{\"args\":[{\"marker.color\":[[\"#B0BEC5\",\"#B0BEC5\",\"#B0BEC5\",\"#B0BEC5\",\"#B0BEC5\",\"#B0BEC5\",\"#B0BEC5\",\"#B0BEC5\",\"#B0BEC5\",\"#B0BEC5\",\"#B0BEC5\",\"#B0BEC5\",\"#B0BEC5\",\"#B0BEC5\",\"#B0BEC5\",\"#B0BEC5\",\"#B0BEC5\",\"#B0BEC5\",\"#B0BEC5\",\"#B0BEC5\",\"#B0BEC5\",\"#B0BEC5\",\"#B0BEC5\",\"#B0BEC5\",\"#B0BEC5\",\"#B0BEC5\",\"#B0BEC5\",\"#B0BEC5\",\"#B0BEC5\",\"#B0BEC5\",\"#B0BEC5\",\"#B0BEC5\",\"#B0BEC5\",\"#B0BEC5\",\"#B0BEC5\",\"#B0BEC5\",\"#B0BEC5\",\"#B0BEC5\",\"#B0BEC5\",\"#B0BEC5\",\"#B0BEC5\",\"#B0BEC5\",\"red\",\"#B0BEC5\",\"#B0BEC5\",\"#B0BEC5\",\"#B0BEC5\",\"#B0BEC5\",\"#B0BEC5\",\"#B0BEC5\",\"#B0BEC5\",\"#B0BEC5\"]]}],\"label\":\"Topic 42\",\"method\":\"update\"},{\"args\":[{\"marker.color\":[[\"#B0BEC5\",\"#B0BEC5\",\"#B0BEC5\",\"#B0BEC5\",\"#B0BEC5\",\"#B0BEC5\",\"#B0BEC5\",\"#B0BEC5\",\"#B0BEC5\",\"#B0BEC5\",\"#B0BEC5\",\"#B0BEC5\",\"#B0BEC5\",\"#B0BEC5\",\"#B0BEC5\",\"#B0BEC5\",\"#B0BEC5\",\"#B0BEC5\",\"#B0BEC5\",\"#B0BEC5\",\"#B0BEC5\",\"#B0BEC5\",\"#B0BEC5\",\"#B0BEC5\",\"#B0BEC5\",\"#B0BEC5\",\"#B0BEC5\",\"#B0BEC5\",\"#B0BEC5\",\"#B0BEC5\",\"#B0BEC5\",\"#B0BEC5\",\"#B0BEC5\",\"#B0BEC5\",\"#B0BEC5\",\"#B0BEC5\",\"#B0BEC5\",\"#B0BEC5\",\"#B0BEC5\",\"#B0BEC5\",\"#B0BEC5\",\"#B0BEC5\",\"#B0BEC5\",\"red\",\"#B0BEC5\",\"#B0BEC5\",\"#B0BEC5\",\"#B0BEC5\",\"#B0BEC5\",\"#B0BEC5\",\"#B0BEC5\",\"#B0BEC5\"]]}],\"label\":\"Topic 43\",\"method\":\"update\"},{\"args\":[{\"marker.color\":[[\"#B0BEC5\",\"#B0BEC5\",\"#B0BEC5\",\"#B0BEC5\",\"#B0BEC5\",\"#B0BEC5\",\"#B0BEC5\",\"#B0BEC5\",\"#B0BEC5\",\"#B0BEC5\",\"#B0BEC5\",\"#B0BEC5\",\"#B0BEC5\",\"#B0BEC5\",\"#B0BEC5\",\"#B0BEC5\",\"#B0BEC5\",\"#B0BEC5\",\"#B0BEC5\",\"#B0BEC5\",\"#B0BEC5\",\"#B0BEC5\",\"#B0BEC5\",\"#B0BEC5\",\"#B0BEC5\",\"#B0BEC5\",\"#B0BEC5\",\"#B0BEC5\",\"#B0BEC5\",\"#B0BEC5\",\"#B0BEC5\",\"#B0BEC5\",\"#B0BEC5\",\"#B0BEC5\",\"#B0BEC5\",\"#B0BEC5\",\"#B0BEC5\",\"#B0BEC5\",\"#B0BEC5\",\"#B0BEC5\",\"#B0BEC5\",\"#B0BEC5\",\"#B0BEC5\",\"#B0BEC5\",\"red\",\"#B0BEC5\",\"#B0BEC5\",\"#B0BEC5\",\"#B0BEC5\",\"#B0BEC5\",\"#B0BEC5\",\"#B0BEC5\"]]}],\"label\":\"Topic 44\",\"method\":\"update\"},{\"args\":[{\"marker.color\":[[\"#B0BEC5\",\"#B0BEC5\",\"#B0BEC5\",\"#B0BEC5\",\"#B0BEC5\",\"#B0BEC5\",\"#B0BEC5\",\"#B0BEC5\",\"#B0BEC5\",\"#B0BEC5\",\"#B0BEC5\",\"#B0BEC5\",\"#B0BEC5\",\"#B0BEC5\",\"#B0BEC5\",\"#B0BEC5\",\"#B0BEC5\",\"#B0BEC5\",\"#B0BEC5\",\"#B0BEC5\",\"#B0BEC5\",\"#B0BEC5\",\"#B0BEC5\",\"#B0BEC5\",\"#B0BEC5\",\"#B0BEC5\",\"#B0BEC5\",\"#B0BEC5\",\"#B0BEC5\",\"#B0BEC5\",\"#B0BEC5\",\"#B0BEC5\",\"#B0BEC5\",\"#B0BEC5\",\"#B0BEC5\",\"#B0BEC5\",\"#B0BEC5\",\"#B0BEC5\",\"#B0BEC5\",\"#B0BEC5\",\"#B0BEC5\",\"#B0BEC5\",\"#B0BEC5\",\"#B0BEC5\",\"#B0BEC5\",\"red\",\"#B0BEC5\",\"#B0BEC5\",\"#B0BEC5\",\"#B0BEC5\",\"#B0BEC5\",\"#B0BEC5\"]]}],\"label\":\"Topic 45\",\"method\":\"update\"},{\"args\":[{\"marker.color\":[[\"#B0BEC5\",\"#B0BEC5\",\"#B0BEC5\",\"#B0BEC5\",\"#B0BEC5\",\"#B0BEC5\",\"#B0BEC5\",\"#B0BEC5\",\"#B0BEC5\",\"#B0BEC5\",\"#B0BEC5\",\"#B0BEC5\",\"#B0BEC5\",\"#B0BEC5\",\"#B0BEC5\",\"#B0BEC5\",\"#B0BEC5\",\"#B0BEC5\",\"#B0BEC5\",\"#B0BEC5\",\"#B0BEC5\",\"#B0BEC5\",\"#B0BEC5\",\"#B0BEC5\",\"#B0BEC5\",\"#B0BEC5\",\"#B0BEC5\",\"#B0BEC5\",\"#B0BEC5\",\"#B0BEC5\",\"#B0BEC5\",\"#B0BEC5\",\"#B0BEC5\",\"#B0BEC5\",\"#B0BEC5\",\"#B0BEC5\",\"#B0BEC5\",\"#B0BEC5\",\"#B0BEC5\",\"#B0BEC5\",\"#B0BEC5\",\"#B0BEC5\",\"#B0BEC5\",\"#B0BEC5\",\"#B0BEC5\",\"#B0BEC5\",\"red\",\"#B0BEC5\",\"#B0BEC5\",\"#B0BEC5\",\"#B0BEC5\",\"#B0BEC5\"]]}],\"label\":\"Topic 46\",\"method\":\"update\"},{\"args\":[{\"marker.color\":[[\"#B0BEC5\",\"#B0BEC5\",\"#B0BEC5\",\"#B0BEC5\",\"#B0BEC5\",\"#B0BEC5\",\"#B0BEC5\",\"#B0BEC5\",\"#B0BEC5\",\"#B0BEC5\",\"#B0BEC5\",\"#B0BEC5\",\"#B0BEC5\",\"#B0BEC5\",\"#B0BEC5\",\"#B0BEC5\",\"#B0BEC5\",\"#B0BEC5\",\"#B0BEC5\",\"#B0BEC5\",\"#B0BEC5\",\"#B0BEC5\",\"#B0BEC5\",\"#B0BEC5\",\"#B0BEC5\",\"#B0BEC5\",\"#B0BEC5\",\"#B0BEC5\",\"#B0BEC5\",\"#B0BEC5\",\"#B0BEC5\",\"#B0BEC5\",\"#B0BEC5\",\"#B0BEC5\",\"#B0BEC5\",\"#B0BEC5\",\"#B0BEC5\",\"#B0BEC5\",\"#B0BEC5\",\"#B0BEC5\",\"#B0BEC5\",\"#B0BEC5\",\"#B0BEC5\",\"#B0BEC5\",\"#B0BEC5\",\"#B0BEC5\",\"#B0BEC5\",\"red\",\"#B0BEC5\",\"#B0BEC5\",\"#B0BEC5\",\"#B0BEC5\"]]}],\"label\":\"Topic 47\",\"method\":\"update\"},{\"args\":[{\"marker.color\":[[\"#B0BEC5\",\"#B0BEC5\",\"#B0BEC5\",\"#B0BEC5\",\"#B0BEC5\",\"#B0BEC5\",\"#B0BEC5\",\"#B0BEC5\",\"#B0BEC5\",\"#B0BEC5\",\"#B0BEC5\",\"#B0BEC5\",\"#B0BEC5\",\"#B0BEC5\",\"#B0BEC5\",\"#B0BEC5\",\"#B0BEC5\",\"#B0BEC5\",\"#B0BEC5\",\"#B0BEC5\",\"#B0BEC5\",\"#B0BEC5\",\"#B0BEC5\",\"#B0BEC5\",\"#B0BEC5\",\"#B0BEC5\",\"#B0BEC5\",\"#B0BEC5\",\"#B0BEC5\",\"#B0BEC5\",\"#B0BEC5\",\"#B0BEC5\",\"#B0BEC5\",\"#B0BEC5\",\"#B0BEC5\",\"#B0BEC5\",\"#B0BEC5\",\"#B0BEC5\",\"#B0BEC5\",\"#B0BEC5\",\"#B0BEC5\",\"#B0BEC5\",\"#B0BEC5\",\"#B0BEC5\",\"#B0BEC5\",\"#B0BEC5\",\"#B0BEC5\",\"#B0BEC5\",\"red\",\"#B0BEC5\",\"#B0BEC5\",\"#B0BEC5\"]]}],\"label\":\"Topic 48\",\"method\":\"update\"},{\"args\":[{\"marker.color\":[[\"#B0BEC5\",\"#B0BEC5\",\"#B0BEC5\",\"#B0BEC5\",\"#B0BEC5\",\"#B0BEC5\",\"#B0BEC5\",\"#B0BEC5\",\"#B0BEC5\",\"#B0BEC5\",\"#B0BEC5\",\"#B0BEC5\",\"#B0BEC5\",\"#B0BEC5\",\"#B0BEC5\",\"#B0BEC5\",\"#B0BEC5\",\"#B0BEC5\",\"#B0BEC5\",\"#B0BEC5\",\"#B0BEC5\",\"#B0BEC5\",\"#B0BEC5\",\"#B0BEC5\",\"#B0BEC5\",\"#B0BEC5\",\"#B0BEC5\",\"#B0BEC5\",\"#B0BEC5\",\"#B0BEC5\",\"#B0BEC5\",\"#B0BEC5\",\"#B0BEC5\",\"#B0BEC5\",\"#B0BEC5\",\"#B0BEC5\",\"#B0BEC5\",\"#B0BEC5\",\"#B0BEC5\",\"#B0BEC5\",\"#B0BEC5\",\"#B0BEC5\",\"#B0BEC5\",\"#B0BEC5\",\"#B0BEC5\",\"#B0BEC5\",\"#B0BEC5\",\"#B0BEC5\",\"#B0BEC5\",\"red\",\"#B0BEC5\",\"#B0BEC5\"]]}],\"label\":\"Topic 49\",\"method\":\"update\"},{\"args\":[{\"marker.color\":[[\"#B0BEC5\",\"#B0BEC5\",\"#B0BEC5\",\"#B0BEC5\",\"#B0BEC5\",\"#B0BEC5\",\"#B0BEC5\",\"#B0BEC5\",\"#B0BEC5\",\"#B0BEC5\",\"#B0BEC5\",\"#B0BEC5\",\"#B0BEC5\",\"#B0BEC5\",\"#B0BEC5\",\"#B0BEC5\",\"#B0BEC5\",\"#B0BEC5\",\"#B0BEC5\",\"#B0BEC5\",\"#B0BEC5\",\"#B0BEC5\",\"#B0BEC5\",\"#B0BEC5\",\"#B0BEC5\",\"#B0BEC5\",\"#B0BEC5\",\"#B0BEC5\",\"#B0BEC5\",\"#B0BEC5\",\"#B0BEC5\",\"#B0BEC5\",\"#B0BEC5\",\"#B0BEC5\",\"#B0BEC5\",\"#B0BEC5\",\"#B0BEC5\",\"#B0BEC5\",\"#B0BEC5\",\"#B0BEC5\",\"#B0BEC5\",\"#B0BEC5\",\"#B0BEC5\",\"#B0BEC5\",\"#B0BEC5\",\"#B0BEC5\",\"#B0BEC5\",\"#B0BEC5\",\"#B0BEC5\",\"#B0BEC5\",\"red\",\"#B0BEC5\"]]}],\"label\":\"Topic 50\",\"method\":\"update\"},{\"args\":[{\"marker.color\":[[\"#B0BEC5\",\"#B0BEC5\",\"#B0BEC5\",\"#B0BEC5\",\"#B0BEC5\",\"#B0BEC5\",\"#B0BEC5\",\"#B0BEC5\",\"#B0BEC5\",\"#B0BEC5\",\"#B0BEC5\",\"#B0BEC5\",\"#B0BEC5\",\"#B0BEC5\",\"#B0BEC5\",\"#B0BEC5\",\"#B0BEC5\",\"#B0BEC5\",\"#B0BEC5\",\"#B0BEC5\",\"#B0BEC5\",\"#B0BEC5\",\"#B0BEC5\",\"#B0BEC5\",\"#B0BEC5\",\"#B0BEC5\",\"#B0BEC5\",\"#B0BEC5\",\"#B0BEC5\",\"#B0BEC5\",\"#B0BEC5\",\"#B0BEC5\",\"#B0BEC5\",\"#B0BEC5\",\"#B0BEC5\",\"#B0BEC5\",\"#B0BEC5\",\"#B0BEC5\",\"#B0BEC5\",\"#B0BEC5\",\"#B0BEC5\",\"#B0BEC5\",\"#B0BEC5\",\"#B0BEC5\",\"#B0BEC5\",\"#B0BEC5\",\"#B0BEC5\",\"#B0BEC5\",\"#B0BEC5\",\"#B0BEC5\",\"#B0BEC5\",\"red\"]]}],\"label\":\"Topic 51\",\"method\":\"update\"}]}],\"shapes\":[{\"line\":{\"color\":\"#CFD8DC\",\"width\":2},\"type\":\"line\",\"x0\":6.241360425949097,\"x1\":6.241360425949097,\"y0\":-4.050943315029144,\"y1\":22.938592147827148},{\"line\":{\"color\":\"#9E9E9E\",\"width\":2},\"type\":\"line\",\"x0\":-6.398068237304687,\"x1\":18.88078908920288,\"y0\":9.443824416399002,\"y1\":9.443824416399002}],\"annotations\":[{\"showarrow\":false,\"text\":\"D1\",\"x\":-6.398068237304687,\"y\":9.443824416399002,\"yshift\":10},{\"showarrow\":false,\"text\":\"D2\",\"x\":6.241360425949097,\"xshift\":10,\"y\":22.938592147827148}]},                        {\"responsive\": true}                    ).then(function(){\n",
       "                            \n",
       "var gd = document.getElementById('e221435e-9a59-4fba-a085-34f3bbc7ab72');\n",
       "var x = new MutationObserver(function (mutations, observer) {{\n",
       "        var display = window.getComputedStyle(gd).display;\n",
       "        if (!display || display === 'none') {{\n",
       "            console.log([gd, 'removed!']);\n",
       "            Plotly.purge(gd);\n",
       "            observer.disconnect();\n",
       "        }}\n",
       "}});\n",
       "\n",
       "// Listen for the removal of the full notebook cells\n",
       "var notebookContainer = gd.closest('#notebook-container');\n",
       "if (notebookContainer) {{\n",
       "    x.observe(notebookContainer, {childList: true});\n",
       "}}\n",
       "\n",
       "// Listen for the clearing of the current output cell\n",
       "var outputEl = gd.closest('.output');\n",
       "if (outputEl) {{\n",
       "    x.observe(outputEl, {childList: true});\n",
       "}}\n",
       "\n",
       "                        })                };                });            </script>        </div>"
      ]
     },
     "metadata": {},
     "output_type": "display_data"
    }
   ],
   "source": [
    "topic_model.visualize_topics()"
   ]
  },
  {
   "cell_type": "code",
   "execution_count": 42,
   "metadata": {},
   "outputs": [
    {
     "data": {
      "application/vnd.plotly.v1+json": {
       "config": {
        "plotlyServerURL": "https://plot.ly"
       },
       "data": [
        {
         "coloraxis": "coloraxis",
         "hovertemplate": "x: %{x}<br>y: %{y}<br>Similarity Score: %{z}<extra></extra>",
         "name": "0",
         "type": "heatmap",
         "x": [
          "ChatGPT",
          "GPT-3",
          "GPT-4",
          "T5",
          "LLaMA",
          "Codex",
          "OPT",
          "PaLM",
          "FLAN",
          "BLOOM",
          "Flan-T5",
          "Alpaca",
          "Vicuna",
          "InstructGPT",
          "Claude",
          "CodeGen",
          "mT5",
          "T0",
          "BLOOMZ",
          "Pythia",
          "GLM",
          "Anthropic",
          "ChatGLM",
          "LaMDA",
          "AlphaCode",
          "Chinchilla",
          "UL2",
          "NLLB",
          "Flan-PaLM",
          "Tk-Instruct",
          "GShard",
          "Gopher",
          "GLaM",
          "Koala",
          "HyperCLOVA",
          "WebGPT",
          "Jurassic-1",
          "Cohere",
          "U-PaLM",
          "GPT-NeoX-20B",
          "mT0",
          "ERNIE 3",
          "MT-NLG",
          "AlexaTM",
          "Sparrow",
          "Flan-U-PaLM",
          "CPM-2",
          "OPT-IML",
          "CodeGeeX",
          "Yuan 1.0",
          "ERNIE 3.0 Titan",
          "WeLM"
         ],
         "xaxis": "x",
         "y": [
          "ChatGPT",
          "GPT-3",
          "GPT-4",
          "T5",
          "LLaMA",
          "Codex",
          "OPT",
          "PaLM",
          "FLAN",
          "BLOOM",
          "Flan-T5",
          "Alpaca",
          "Vicuna",
          "InstructGPT",
          "Claude",
          "CodeGen",
          "mT5",
          "T0",
          "BLOOMZ",
          "Pythia",
          "GLM",
          "Anthropic",
          "ChatGLM",
          "LaMDA",
          "AlphaCode",
          "Chinchilla",
          "UL2",
          "NLLB",
          "Flan-PaLM",
          "Tk-Instruct",
          "GShard",
          "Gopher",
          "GLaM",
          "Koala",
          "HyperCLOVA",
          "WebGPT",
          "Jurassic-1",
          "Cohere",
          "U-PaLM",
          "GPT-NeoX-20B",
          "mT0",
          "ERNIE 3",
          "MT-NLG",
          "AlexaTM",
          "Sparrow",
          "Flan-U-PaLM",
          "CPM-2",
          "OPT-IML",
          "CodeGeeX",
          "Yuan 1.0",
          "ERNIE 3.0 Titan",
          "WeLM"
         ],
         "yaxis": "y",
         "z": [
          [
           1.00000000000002,
           0.6671892578758327,
           0.6908311697296214,
           0.5071599905764004,
           0.5039075707582373,
           0.4451217234153271,
           0.42246481738627617,
           0.36628483289746244,
           0.36904735559561735,
           0.36824110475936844,
           0.353287249500398,
           0.38403954574586463,
           0.3481087811358583,
           0.3356255538788049,
           0.30088694372406205,
           0.26589510969859237,
           0.2364495490773802,
           0.2357886364553944,
           0.250714718166793,
           0.212879959759283,
           0.2435446194672572,
           0.26248971412445116,
           0.23496623131534505,
           0.21953245141413327,
           0.19206156743398345,
           0.15468917170608174,
           0.15890982816612997,
           0.14569784597296342,
           0.17522462731706914,
           0.168923935049352,
           0.1737255450052302,
           0.1730355060571744,
           0.1536733389097165,
           0.17202802655060936,
           0.1686117772182171,
           0.18078594572057635,
           0.1529934645281964,
           0.13440939779886563,
           0.1085213445285444,
           0.11595216078406405,
           0.12516110456324725,
           0.13047211034819486,
           0.08221939750967736,
           0.10038712768101292,
           0.11612249067857326,
           0.13394471434529925,
           0.08654125625828296,
           0.09413792385530359,
           0.08076653039159543,
           0.0858257350523538,
           0.08622506384838458,
           0.08041648584649616
          ],
          [
           0.6671892578758327,
           1.0000000000000857,
           0.636478598968852,
           0.5462942090634075,
           0.4951842904554031,
           0.43657402461218087,
           0.4300711888285334,
           0.39966233695762293,
           0.3719638652480487,
           0.3868237395309572,
           0.3770016961145706,
           0.3668658345558152,
           0.35428667894855304,
           0.3170978551375599,
           0.3042391268494004,
           0.2924538584398279,
           0.28430823280630524,
           0.24897227539500444,
           0.24554268796955606,
           0.23178271411071424,
           0.22123510180696498,
           0.23291206728001757,
           0.2066711439666455,
           0.20421226014249674,
           0.19656938184927503,
           0.17613628222396827,
           0.18454862383537507,
           0.17239127330999485,
           0.1868039393422941,
           0.17531296956312445,
           0.19445571989474653,
           0.1613156536948921,
           0.15788959996944057,
           0.1843727327632404,
           0.17863742555756948,
           0.1847978198120825,
           0.16959928416039916,
           0.15544547634923295,
           0.11948190391675598,
           0.1347870503197784,
           0.1488045883972129,
           0.1449226403688481,
           0.10189497497312766,
           0.11202198487635914,
           0.14752155795448496,
           0.1195381177237527,
           0.10811579953860467,
           0.10776138638548055,
           0.0921518676961539,
           0.08469090479546107,
           0.1089447458276339,
           0.09187880208301202
          ],
          [
           0.6908311697296214,
           0.636478598968852,
           0.9999999999999208,
           0.47217484789386055,
           0.49289557376864246,
           0.41595042014002115,
           0.41889986480891855,
           0.3520560672575311,
           0.35299978037027263,
           0.36572136271231226,
           0.3521518219574102,
           0.38726942606703707,
           0.344886536443216,
           0.33612374007365314,
           0.2885282738657384,
           0.2506743177481165,
           0.23824745344641415,
           0.23050426966123921,
           0.24695599293236994,
           0.21282176077296922,
           0.23769959515287772,
           0.23541158726390488,
           0.21037948058447606,
           0.20754664246328666,
           0.18756434101301048,
           0.15883170565206733,
           0.1531385232889188,
           0.1475880612412641,
           0.16826217646775576,
           0.16818674384307505,
           0.18328698966980597,
           0.17236857221398724,
           0.1519872168880087,
           0.17230738700927734,
           0.17656635594653394,
           0.17445293372451376,
           0.1627840088601564,
           0.1334204979526248,
           0.10673246886221474,
           0.10761636859953383,
           0.12229837525428451,
           0.13045322403216383,
           0.0889594630807845,
           0.10741644498501667,
           0.1158803919971029,
           0.1271701818359351,
           0.08855651542865578,
           0.09381797702247437,
           0.08191835007470184,
           0.08681947181555491,
           0.08462292953200269,
           0.07585331017930741
          ],
          [
           0.5071599905764004,
           0.5462942090634075,
           0.47217484789386055,
           1.0000000000000555,
           0.4337186432525412,
           0.3676140134814249,
           0.3739820587790724,
           0.367295213294402,
           0.33541696053941034,
           0.3245265289164552,
           0.3584297211631471,
           0.31195169993704586,
           0.31580759803635056,
           0.26281477235915934,
           0.2737634798153714,
           0.3083830871714314,
           0.2812001891988597,
           0.22880979067003612,
           0.2303445920105311,
           0.23941250128200386,
           0.20903895943680204,
           0.18984765566742676,
           0.17432766409302078,
           0.16287205040602046,
           0.1865861241733034,
           0.17630441001635905,
           0.19864492215139815,
           0.1762550840184421,
           0.1870133111528514,
           0.17160116957021035,
           0.17613303428587562,
           0.13858017502133882,
           0.14027106298414874,
           0.16629962840790538,
           0.16451948270687544,
           0.16110168383049656,
           0.14581725308937937,
           0.15066734722109493,
           0.13089257881431812,
           0.14978564718743081,
           0.1522759962307707,
           0.12546401636618115,
           0.10916417638658905,
           0.11160088066563305,
           0.16529572420263872,
           0.09409048214394845,
           0.10212772576280268,
           0.10632240154120667,
           0.09409675116858192,
           0.07176876351296542,
           0.12214553141679094,
           0.1060399090575511
          ],
          [
           0.5039075707582373,
           0.4951842904554031,
           0.49289557376864246,
           0.4337186432525412,
           0.9999999999999549,
           0.3393993186228233,
           0.36540691165105044,
           0.37121674952166334,
           0.3349243524794741,
           0.3222512832209101,
           0.3265740591283692,
           0.3540195743263884,
           0.3556274670198574,
           0.28906777767132025,
           0.25059335562299345,
           0.2349975504311241,
           0.2338022359109943,
           0.2368514923420061,
           0.25698626265407654,
           0.23387544939488628,
           0.23050255860301616,
           0.18812169121511804,
           0.1678574873061557,
           0.17104500503585485,
           0.18069105618829617,
           0.1752920572441894,
           0.16069645829657006,
           0.15474773626005253,
           0.16892509046490561,
           0.15614105848688153,
           0.16670495220555778,
           0.15463752053249585,
           0.13517183514915898,
           0.15587570110291252,
           0.15719061098146322,
           0.16569093542477034,
           0.13481442214709452,
           0.1297070457768122,
           0.11232196057602835,
           0.11466295113919898,
           0.1562722230486285,
           0.12910468018242865,
           0.09539013778480987,
           0.10075606613620287,
           0.12841993344271477,
           0.0979101867656823,
           0.08747123162122127,
           0.0906925179129277,
           0.09421516891051879,
           0.07694655063622544,
           0.09628560475902115,
           0.08063065735403746
          ],
          [
           0.4451217234153271,
           0.43657402461218087,
           0.41595042014002115,
           0.3676140134814249,
           0.3393993186228233,
           0.9999999999999675,
           0.317520950838262,
           0.2796076649519411,
           0.26532073306159226,
           0.2821788591232448,
           0.2680111858375484,
           0.26511500997116977,
           0.25011308081865263,
           0.23789513420842487,
           0.33704916681244285,
           0.21775078278779786,
           0.20992538062965047,
           0.20088604398695303,
           0.1842843473708688,
           0.17437430422650785,
           0.16665150411139876,
           0.1625403182719006,
           0.24231712727494448,
           0.1770435793555013,
           0.1450875332021393,
           0.137691014123923,
           0.13368336598209637,
           0.12492392509325592,
           0.13950994418592172,
           0.13105425500533963,
           0.1488927071053663,
           0.1222195809642807,
           0.11910751094129629,
           0.14250563883647402,
           0.14388788577809133,
           0.14573867125230783,
           0.11963501770127147,
           0.11665392314053034,
           0.09468930771289231,
           0.10691439203425572,
           0.11420943935971398,
           0.13275046248313674,
           0.08099411560943802,
           0.10462288428735173,
           0.10864088614555935,
           0.08389995962829973,
           0.08052581473319984,
           0.08163313135180025,
           0.07723465065157703,
           0.12608771316293615,
           0.08129257768205919,
           0.07094736916401016
          ],
          [
           0.42246481738627617,
           0.4300711888285334,
           0.41889986480891855,
           0.3739820587790724,
           0.36540691165105044,
           0.317520950838262,
           0.9999999999999836,
           0.2921938052366933,
           0.28758087383260494,
           0.29018947229020314,
           0.2915651945199095,
           0.28976846886226254,
           0.2696868891864569,
           0.24819658216648519,
           0.21984694570392949,
           0.2398405353748886,
           0.21475485409435405,
           0.19531170448426052,
           0.20640112377125774,
           0.18605000660004328,
           0.19754864914939924,
           0.17965085572752143,
           0.17025095312174554,
           0.17255939365493458,
           0.15866351421956537,
           0.1570327805777418,
           0.14078866389909608,
           0.13903434057899916,
           0.1470971124453874,
           0.14098286039955132,
           0.18942837319167816,
           0.13283472930041923,
           0.11605654599920459,
           0.15182542344373137,
           0.15157547753776043,
           0.1471790490848575,
           0.12612746953840484,
           0.12214095810796566,
           0.11149504080213615,
           0.11812828209014396,
           0.13324998739962973,
           0.10521905107702338,
           0.14643223034937963,
           0.11287554125685868,
           0.12144785973513643,
           0.08953080686096308,
           0.08649984531797923,
           0.10313835709385791,
           0.08460912142005443,
           0.083866196705015,
           0.08881186377146463,
           0.07805257966364021
          ],
          [
           0.36628483289746244,
           0.39966233695762293,
           0.3520560672575311,
           0.367295213294402,
           0.37121674952166334,
           0.2796076649519411,
           0.2921938052366933,
           1.000000000000007,
           0.2847167045100175,
           0.2609954417492249,
           0.2688908220897925,
           0.266845126657071,
           0.27710624285355073,
           0.2223399930849149,
           0.21868824442698612,
           0.20749276702578523,
           0.23224811262772085,
           0.22379186355811156,
           0.20446604248566494,
           0.21817818554221055,
           0.1663901687260877,
           0.1444773792571899,
           0.14418556677807573,
           0.1313965770303504,
           0.14588999248483234,
           0.17464959277572462,
           0.1746985366082467,
           0.15773867601843233,
           0.13748214451029456,
           0.13773381301959092,
           0.1619917460143689,
           0.12213259248949365,
           0.1357046141455108,
           0.13917901282584974,
           0.12739007773871175,
           0.15632403358671737,
           0.11261308968716999,
           0.12451881235106116,
           0.09660263449533946,
           0.1001427271443892,
           0.16722166315154277,
           0.12753516811498047,
           0.0938389401583752,
           0.09195399417063989,
           0.12072714458845621,
           0.07955509369410617,
           0.0895085796139567,
           0.08334679222441073,
           0.09940863696688448,
           0.07358369887277279,
           0.11477625260279849,
           0.08791885092489334
          ],
          [
           0.36904735559561735,
           0.3719638652480487,
           0.35299978037027263,
           0.33541696053941034,
           0.3349243524794741,
           0.26532073306159226,
           0.28758087383260494,
           0.2847167045100175,
           0.9999999999999717,
           0.2526128873975639,
           0.2650282080895713,
           0.2516285620070869,
           0.27191502025631376,
           0.22520124575866096,
           0.19817888559333852,
           0.23449225155129616,
           0.2043105687146954,
           0.19142500667735063,
           0.22107612418209038,
           0.21596602175969132,
           0.17636906209845454,
           0.14982250133583283,
           0.1412218833407793,
           0.14378950526571305,
           0.16159646012858206,
           0.15181805995556455,
           0.15432586204090046,
           0.13239583243912414,
           0.14814712412356232,
           0.138959005051839,
           0.13534799314923232,
           0.13020609175628803,
           0.11561644586216858,
           0.12859623954818153,
           0.13059524582376103,
           0.12314342621428342,
           0.12527930394844194,
           0.11534340767074679,
           0.13246777496929182,
           0.11687988562486555,
           0.13409952852106094,
           0.1168563175135379,
           0.09832120675427986,
           0.07079194592199754,
           0.10502387281720345,
           0.08115654475956433,
           0.08662213378546109,
           0.10510989857416991,
           0.0799528397171973,
           0.08532544722090919,
           0.08437613046596874,
           0.08714948366129283
          ],
          [
           0.36824110475936844,
           0.3868237395309572,
           0.36572136271231226,
           0.3245265289164552,
           0.3222512832209101,
           0.2821788591232448,
           0.29018947229020314,
           0.2609954417492249,
           0.2526128873975639,
           1.0000000000000318,
           0.2762031921749748,
           0.26801575089644974,
           0.2635638527696671,
           0.23470748257186572,
           0.20987539419470674,
           0.1971301095102972,
           0.2216368009736345,
           0.1812366166539272,
           0.1930769177402658,
           0.17472725786549284,
           0.16522799013642694,
           0.1653886593392872,
           0.1448503428919997,
           0.14370313122127482,
           0.14067923129050122,
           0.12666826719063604,
           0.11608252767688339,
           0.11966085882311031,
           0.17134443692702808,
           0.15540204598105048,
           0.15916308291931774,
           0.12515194541162322,
           0.11186932001588941,
           0.1502126847657032,
           0.1428608508522214,
           0.14500219519204466,
           0.13334460257925168,
           0.11775894357556702,
           0.09839858088331098,
           0.0973613823705601,
           0.11111790879360992,
           0.10542154104851637,
           0.0965591208412266,
           0.08275083700381215,
           0.10845567470713502,
           0.10323205007694192,
           0.07669460611387025,
           0.08834605649917159,
           0.09783319223639177,
           0.061133388202095365,
           0.07937000905785024,
           0.07250048090820634
          ],
          [
           0.353287249500398,
           0.3770016961145706,
           0.3521518219574102,
           0.3584297211631471,
           0.3265740591283692,
           0.2680111858375484,
           0.2915651945199095,
           0.2688908220897925,
           0.2650282080895713,
           0.2762031921749748,
           1.0000000000000084,
           0.25510608583256966,
           0.2663417926723961,
           0.2169914690723341,
           0.20578877094716697,
           0.21083243978203078,
           0.23956599829098246,
           0.18138643983095928,
           0.19765564768450739,
           0.18391531317797732,
           0.1669956135193769,
           0.14899299333911623,
           0.1334776782047571,
           0.13207068292649532,
           0.1454227687282585,
           0.13152598063617413,
           0.1293810630422641,
           0.1228676490917058,
           0.1715396089189867,
           0.16561095826912797,
           0.16453454742130597,
           0.11894304782712034,
           0.11148490743252464,
           0.14548854065489134,
           0.1269602215659701,
           0.122907813710173,
           0.13813683408193023,
           0.1105998583914126,
           0.11313091710970477,
           0.11588976166886937,
           0.12460796434279578,
           0.10402960505110463,
           0.11698384318382687,
           0.0887907615758965,
           0.1137060398707926,
           0.08068402768321582,
           0.07697724315677473,
           0.08071405237953748,
           0.10045674244164567,
           0.06484799645583596,
           0.09316973619105198,
           0.0794992046124121
          ],
          [
           0.38403954574586463,
           0.3668658345558152,
           0.38726942606703707,
           0.31195169993704586,
           0.3540195743263884,
           0.26511500997116977,
           0.28976846886226254,
           0.266845126657071,
           0.2516285620070869,
           0.26801575089644974,
           0.25510608583256966,
           1.0000000000000182,
           0.2805400210535045,
           0.24366267033963113,
           0.19794499234371404,
           0.1881227257827263,
           0.1928783686319061,
           0.18997026829941033,
           0.2019273731587181,
           0.1774998318940662,
           0.18887179891488148,
           0.15452203420256003,
           0.13570929458242456,
           0.15896208115021823,
           0.1526111984197112,
           0.12814389234140808,
           0.1155276460664712,
           0.12376057314680884,
           0.14797608123620143,
           0.14154919224895657,
           0.1396697639871308,
           0.13816745845363562,
           0.106156428170156,
           0.13217518974657266,
           0.1488305944618046,
           0.14217421965464128,
           0.11670621053060247,
           0.10383137858858703,
           0.09539521422566179,
           0.09542312706294351,
           0.10658190332517593,
           0.11840316063964285,
           0.09640703305357236,
           0.08711044182504794,
           0.10417274043555885,
           0.0948866725879826,
           0.06866980432468762,
           0.08441446581854686,
           0.08843834491819307,
           0.06808117973226213,
           0.07460921669962363,
           0.06786000139501538
          ],
          [
           0.3481087811358583,
           0.35428667894855304,
           0.344886536443216,
           0.31580759803635056,
           0.3556274670198574,
           0.25011308081865263,
           0.2696868891864569,
           0.27710624285355073,
           0.27191502025631376,
           0.2635638527696671,
           0.2663417926723961,
           0.2805400210535045,
           0.9999999999999981,
           0.2313316186524402,
           0.19464798226713323,
           0.1915991380105754,
           0.20092887234694062,
           0.18231715859404196,
           0.22130477948256005,
           0.19094988407140595,
           0.16849305217819058,
           0.1382106525895082,
           0.14054492590644918,
           0.14303483667566508,
           0.16214870240822568,
           0.1441371141443763,
           0.1393056156465937,
           0.11215831714138193,
           0.1588258993750674,
           0.1448137809368583,
           0.1454181224936298,
           0.12303748787977539,
           0.105754172824641,
           0.12433956071473286,
           0.14482153013805185,
           0.12854248515038744,
           0.12134223358840056,
           0.10412623388658454,
           0.10576774590309518,
           0.11058632627354889,
           0.12491950911092264,
           0.10540317580011253,
           0.09374099660438465,
           0.08369842196939581,
           0.09329181564548736,
           0.07747163691600017,
           0.07665299720159535,
           0.08808257809694907,
           0.09727248172643056,
           0.05851324004077576,
           0.08312790614590734,
           0.06661475405329902
          ],
          [
           0.3356255538788049,
           0.3170978551375599,
           0.33612374007365314,
           0.26281477235915934,
           0.28906777767132025,
           0.23789513420842487,
           0.24819658216648519,
           0.2223399930849149,
           0.22520124575866096,
           0.23470748257186572,
           0.2169914690723341,
           0.24366267033963113,
           0.2313316186524402,
           0.9999999999999918,
           0.1775098320882981,
           0.16568865917722142,
           0.1594010933684788,
           0.1607558064234754,
           0.16509239016919575,
           0.1580568689898575,
           0.1534045267177839,
           0.14264992721970765,
           0.13790165088387382,
           0.16037334174239654,
           0.12440676573376452,
           0.12249445296665193,
           0.1052517088941294,
           0.09976270865999931,
           0.12706977265413383,
           0.12352667923161757,
           0.11948486993703686,
           0.12392020551030018,
           0.08645016222915322,
           0.11162494123374896,
           0.11718241066303997,
           0.11801530236695053,
           0.11748728883687246,
           0.08888538191451309,
           0.08260509275555362,
           0.07577592660475838,
           0.1024622860337666,
           0.0942341819878572,
           0.06932955071130442,
           0.07899868231422738,
           0.09220476595071446,
           0.08979497282114283,
           0.06496591055147677,
           0.06615515159756317,
           0.06455779699849339,
           0.05268286331517739,
           0.06396185481928629,
           0.061150204203845995
          ],
          [
           0.30088694372406205,
           0.3042391268494004,
           0.2885282738657384,
           0.2737634798153714,
           0.25059335562299345,
           0.33704916681244285,
           0.21984694570392949,
           0.21868824442698612,
           0.19817888559333852,
           0.20987539419470674,
           0.20578877094716697,
           0.19794499234371404,
           0.19464798226713323,
           0.1775098320882981,
           1.0000000000000102,
           0.16952240388657885,
           0.1750414560540885,
           0.17572306843683094,
           0.1505750177439808,
           0.14342402690302447,
           0.13588588452616157,
           0.11606976374906401,
           0.1763764382520713,
           0.15137861028415248,
           0.1278829949245272,
           0.1164581898400419,
           0.10953034724160728,
           0.10539647868170161,
           0.12633200651606677,
           0.10874981354525079,
           0.11394043798035698,
           0.09858808220023114,
           0.10488530660385682,
           0.11256335693992753,
           0.1121686954181882,
           0.11119210561218969,
           0.09543749439572881,
           0.09983500135335525,
           0.09026977557566024,
           0.07550155942920775,
           0.09605672010305394,
           0.11458675123559663,
           0.06872388667486617,
           0.09434920443882938,
           0.0868337975691441,
           0.06265814890265337,
           0.06560947573661015,
           0.0793723241262681,
           0.07970304107447494,
           0.1315395558445944,
           0.07558343176386453,
           0.06481395474358563
          ],
          [
           0.26589510969859237,
           0.2924538584398279,
           0.2506743177481165,
           0.3083830871714314,
           0.2349975504311241,
           0.21775078278779786,
           0.2398405353748886,
           0.20749276702578523,
           0.23449225155129616,
           0.1971301095102972,
           0.21083243978203078,
           0.1881227257827263,
           0.1915991380105754,
           0.16568865917722142,
           0.16952240388657885,
           0.9999999999999984,
           0.1858158327450549,
           0.14806876383806905,
           0.19083499208725505,
           0.16555099357882103,
           0.1518417320645768,
           0.12142128780639913,
           0.11338827424147319,
           0.10093196507538561,
           0.18959556269136582,
           0.1102498601094086,
           0.15679692543667903,
           0.12902340610423849,
           0.1319122407499702,
           0.10939569645926672,
           0.11845284057976653,
           0.09104554528193526,
           0.09802092615161187,
           0.11251150373194367,
           0.10339646449945405,
           0.10538042248395732,
           0.1057705564009936,
           0.10394941349933699,
           0.12602636978443346,
           0.17146143517409682,
           0.11011179165996797,
           0.09784483863945143,
           0.06893524455370237,
           0.07498887960918528,
           0.11323833810885801,
           0.05937794507711809,
           0.082472070145864,
           0.10895394132288276,
           0.06815805841846537,
           0.07176225284908638,
           0.08987806125855283,
           0.07346873219977804
          ],
          [
           0.2364495490773802,
           0.28430823280630524,
           0.23824745344641415,
           0.2812001891988597,
           0.2338022359109943,
           0.20992538062965047,
           0.21475485409435405,
           0.23224811262772085,
           0.2043105687146954,
           0.2216368009736345,
           0.23956599829098246,
           0.1928783686319061,
           0.20092887234694062,
           0.1594010933684788,
           0.1750414560540885,
           0.1858158327450549,
           0.9999999999999988,
           0.16457440809480287,
           0.1633233462961565,
           0.14709845538967614,
           0.12070429434421331,
           0.10718272750171955,
           0.09930199799533049,
           0.10544564910287,
           0.1355824896096921,
           0.10954115367024035,
           0.1022400849256425,
           0.11383438271462772,
           0.1578134121737781,
           0.13282249595453816,
           0.16525353806853613,
           0.09838952421192508,
           0.09872570086832488,
           0.12098281699465963,
           0.11601810808634962,
           0.09367321143232944,
           0.1094578308936642,
           0.11856147264306327,
           0.1199767497456978,
           0.11085396612147118,
           0.11812012816862742,
           0.09022798280489401,
           0.10329129863471943,
           0.07124583840878582,
           0.1176555060112748,
           0.05907281818781277,
           0.09004393766888218,
           0.1056646660681346,
           0.12261673737196968,
           0.03794582466137429,
           0.07950396333775063,
           0.06581123848286324
          ],
          [
           0.2357886364553944,
           0.24897227539500444,
           0.23050426966123921,
           0.22880979067003612,
           0.2368514923420061,
           0.20088604398695303,
           0.19531170448426052,
           0.22379186355811156,
           0.19142500667735063,
           0.1812366166539272,
           0.18138643983095928,
           0.18997026829941033,
           0.18231715859404196,
           0.1607558064234754,
           0.17572306843683094,
           0.14806876383806905,
           0.16457440809480287,
           0.9999999999999933,
           0.13900988090420138,
           0.15030715635321446,
           0.12947564405312814,
           0.10567337608461638,
           0.11076981362000594,
           0.09628356846635534,
           0.10355728271638062,
           0.12647460709526812,
           0.10107972489937839,
           0.09509551104553934,
           0.10666805627612617,
           0.10381870312797752,
           0.1136375315000276,
           0.10386973813843225,
           0.09484273053348925,
           0.08808102409072739,
           0.09053879083940551,
           0.1096078129398671,
           0.08873093040718334,
           0.09981720560918576,
           0.08504613873246387,
           0.08988371321612679,
           0.12107370722986519,
           0.10035096336609885,
           0.08869039402225633,
           0.06214858202097288,
           0.08867041881828194,
           0.07082911691473039,
           0.05997022294906325,
           0.05839250284885173,
           0.06871154095653376,
           0.06778532034106201,
           0.0822776839702847,
           0.06644077471173553
          ],
          [
           0.250714718166793,
           0.24554268796955606,
           0.24695599293236994,
           0.2303445920105311,
           0.25698626265407654,
           0.1842843473708688,
           0.20640112377125774,
           0.20446604248566494,
           0.22107612418209038,
           0.1930769177402658,
           0.19765564768450739,
           0.2019273731587181,
           0.22130477948256005,
           0.16509239016919575,
           0.1505750177439808,
           0.19083499208725505,
           0.1633233462961565,
           0.13900988090420138,
           1.000000000000002,
           0.15177892863421782,
           0.14920048188500346,
           0.11170903908562098,
           0.09643087709444016,
           0.10181577999060135,
           0.1520447947047319,
           0.09251021739713171,
           0.10531601448175108,
           0.08593894832778093,
           0.12801121925570288,
           0.11498092231568872,
           0.1195623637447144,
           0.09822063907401277,
           0.08510774909273013,
           0.1009495763212448,
           0.08786289240381821,
           0.10624264941338955,
           0.0945101759170947,
           0.08694756985366396,
           0.15269780701994312,
           0.11093810688713347,
           0.11665685792097581,
           0.08474904014150761,
           0.0871524850811784,
           0.0628131634432969,
           0.09662818758103953,
           0.04716687141062714,
           0.07243219676253439,
           0.09068453330233382,
           0.0837931999057585,
           0.06180943381730589,
           0.06827174970263182,
           0.06267061533432271
          ],
          [
           0.212879959759283,
           0.23178271411071424,
           0.21282176077296922,
           0.23941250128200386,
           0.23387544939488628,
           0.17437430422650785,
           0.18605000660004328,
           0.21817818554221055,
           0.21596602175969132,
           0.17472725786549284,
           0.18391531317797732,
           0.1774998318940662,
           0.19094988407140595,
           0.1580568689898575,
           0.14342402690302447,
           0.16555099357882103,
           0.14709845538967614,
           0.15030715635321446,
           0.15177892863421782,
           0.9999999999999971,
           0.14312616112416485,
           0.09786991751967224,
           0.10668781112697866,
           0.09756986206844685,
           0.12035632577582099,
           0.12001046308592463,
           0.11375624374557519,
           0.09821584039002001,
           0.09908931520117634,
           0.10440784076842463,
           0.11085748179426742,
           0.09611259174849705,
           0.0762458087224646,
           0.0910159482824396,
           0.11494118053153182,
           0.103836441044687,
           0.08165863675111977,
           0.09233340964808451,
           0.07480844128452566,
           0.09031218972924614,
           0.1472616670253833,
           0.09970359729794767,
           0.07182318062505058,
           0.05939741305910466,
           0.10226786847228998,
           0.0542885350086474,
           0.07979911087565192,
           0.08088499259038207,
           0.0736962198122683,
           0.08719244164212418,
           0.1083934672841153,
           0.09703086680264318
          ],
          [
           0.2435446194672572,
           0.22123510180696498,
           0.23769959515287772,
           0.20903895943680204,
           0.23050255860301616,
           0.16665150411139876,
           0.19754864914939924,
           0.1663901687260877,
           0.17636906209845454,
           0.16522799013642694,
           0.1669956135193769,
           0.18887179891488148,
           0.16849305217819058,
           0.1534045267177839,
           0.13588588452616157,
           0.1518417320645768,
           0.12070429434421331,
           0.12947564405312814,
           0.14920048188500346,
           0.14312616112416485,
           1.0000000000000024,
           0.10006614711357037,
           0.09391963406028969,
           0.08580752297541838,
           0.10441945830686257,
           0.07642879449739758,
           0.08242344541120764,
           0.071052795518199,
           0.09398593387896044,
           0.08796331480685915,
           0.0978526910099433,
           0.09100019685079078,
           0.07542643035488347,
           0.09762664285133159,
           0.09015341929748312,
           0.08771551614726895,
           0.07433057479950327,
           0.07586241084897082,
           0.07322094420013141,
           0.05759540130428343,
           0.08709008637308384,
           0.08546615726337083,
           0.0486474192885173,
           0.05367884629323055,
           0.08402633103361642,
           0.04306300300014599,
           0.06384087012242817,
           0.0799581218428954,
           0.041100784335456345,
           0.04281973069395653,
           0.05814422554158515,
           0.0565809986838887
          ],
          [
           0.26248971412445116,
           0.23291206728001757,
           0.23541158726390488,
           0.18984765566742676,
           0.18812169121511804,
           0.1625403182719006,
           0.17965085572752143,
           0.1444773792571899,
           0.14982250133583283,
           0.1653886593392872,
           0.14899299333911623,
           0.15452203420256003,
           0.1382106525895082,
           0.14264992721970765,
           0.11606976374906401,
           0.12142128780639913,
           0.10718272750171955,
           0.10567337608461638,
           0.11170903908562098,
           0.09786991751967224,
           0.10006614711357037,
           1.0000000000000038,
           0.0995642817131575,
           0.10653613355780571,
           0.08092999131553812,
           0.07332829096037241,
           0.08661869624875085,
           0.06449252981632558,
           0.06957191151724657,
           0.08005593908535158,
           0.07977854143681865,
           0.07828258030542773,
           0.07663215854079994,
           0.08955510585145836,
           0.08273799472605552,
           0.09647729995081392,
           0.09655031822703278,
           0.0698970399975783,
           0.05091903398534609,
           0.053021294269566456,
           0.06380600873883649,
           0.0595950095013457,
           0.044748440295458006,
           0.05033038803608059,
           0.05314539530833469,
           0.09024312436378133,
           0.04601446477038288,
           0.047902508898473486,
           0.04495806242716857,
           0.04582870242583705,
           0.037161403311963256,
           0.03967738017042037
          ],
          [
           0.23496623131534505,
           0.2066711439666455,
           0.21037948058447606,
           0.17432766409302078,
           0.1678574873061557,
           0.24231712727494448,
           0.17025095312174554,
           0.14418556677807573,
           0.1412218833407793,
           0.1448503428919997,
           0.1334776782047571,
           0.13570929458242456,
           0.14054492590644918,
           0.13790165088387382,
           0.1763764382520713,
           0.11338827424147319,
           0.09930199799533049,
           0.11076981362000594,
           0.09643087709444016,
           0.10668781112697866,
           0.09391963406028969,
           0.0995642817131575,
           0.9999999999999976,
           0.10627308298087498,
           0.07385873540373286,
           0.07762373529107669,
           0.07144512306824692,
           0.0681290952966339,
           0.07573372739313554,
           0.07158978539297106,
           0.07730250217829414,
           0.0785894778200955,
           0.0659498103367715,
           0.07634901145266147,
           0.0838285658149813,
           0.08319479358177503,
           0.06765160998989217,
           0.05756772325491664,
           0.04785714932502761,
           0.04763835744128756,
           0.07502273621012041,
           0.08638638840829206,
           0.04901075193569933,
           0.06367141656954758,
           0.06046502569387648,
           0.049220281259139284,
           0.043886665316147204,
           0.04317868491193965,
           0.035223564052957644,
           0.08886889623582772,
           0.048468367820652364,
           0.04152260606361565
          ],
          [
           0.21953245141413327,
           0.20421226014249674,
           0.20754664246328666,
           0.16287205040602046,
           0.17104500503585485,
           0.1770435793555013,
           0.17255939365493458,
           0.1313965770303504,
           0.14378950526571305,
           0.14370313122127482,
           0.13207068292649532,
           0.15896208115021823,
           0.14303483667566508,
           0.16037334174239654,
           0.15137861028415248,
           0.10093196507538561,
           0.10544564910287,
           0.09628356846635534,
           0.10181577999060135,
           0.09756986206844685,
           0.08580752297541838,
           0.10653613355780571,
           0.10627308298087498,
           1.0000000000000022,
           0.07517715516698509,
           0.07763540718146553,
           0.06969307911399664,
           0.05988618328951956,
           0.06901587712394604,
           0.07366942581835113,
           0.07471909193455302,
           0.08435315347676209,
           0.07364932510424729,
           0.06237810174464257,
           0.07727718812193222,
           0.07504911168023544,
           0.09952398660871876,
           0.0680434611390502,
           0.05624241156943726,
           0.04944746082488723,
           0.057183875154915596,
           0.07423171916812284,
           0.05462947009696284,
           0.048922539137192946,
           0.04139086061708047,
           0.09938531230419634,
           0.03583815520738086,
           0.04626202685570112,
           0.04189081034515206,
           0.07355241890527611,
           0.042964756267093,
           0.03663813047546114
          ],
          [
           0.19206156743398345,
           0.19656938184927503,
           0.18756434101301048,
           0.1865861241733034,
           0.18069105618829617,
           0.1450875332021393,
           0.15866351421956537,
           0.14588999248483234,
           0.16159646012858206,
           0.14067923129050122,
           0.1454227687282585,
           0.1526111984197112,
           0.16214870240822568,
           0.12440676573376452,
           0.1278829949245272,
           0.18959556269136582,
           0.1355824896096921,
           0.10355728271638062,
           0.1520447947047319,
           0.12035632577582099,
           0.10441945830686257,
           0.08092999131553812,
           0.07385873540373286,
           0.07517715516698509,
           1.0000000000000004,
           0.07949161928996207,
           0.09249009357957744,
           0.08153767652542372,
           0.08643604067106705,
           0.08551477551986997,
           0.09360612194997682,
           0.08287962528356596,
           0.09271742465736552,
           0.07366264684002514,
           0.0774219082314236,
           0.06846526613961665,
           0.07594098241199318,
           0.06711365996974554,
           0.09741007176057245,
           0.11835372133916235,
           0.08213392495519309,
           0.0778891912792473,
           0.053418769133411995,
           0.036443910019992684,
           0.08476234364429584,
           0.033116711538092966,
           0.05160442207003028,
           0.08012293137503125,
           0.06521591863175234,
           0.04650227068259747,
           0.0810564926134493,
           0.0582281169946364
          ],
          [
           0.15468917170608174,
           0.17613628222396827,
           0.15883170565206733,
           0.17630441001635905,
           0.1752920572441894,
           0.137691014123923,
           0.1570327805777418,
           0.17464959277572462,
           0.15181805995556455,
           0.12666826719063604,
           0.13152598063617413,
           0.12814389234140808,
           0.1441371141443763,
           0.12249445296665193,
           0.1164581898400419,
           0.1102498601094086,
           0.10954115367024035,
           0.12647460709526812,
           0.09251021739713171,
           0.12001046308592463,
           0.07642879449739758,
           0.07332829096037241,
           0.07762373529107669,
           0.07763540718146553,
           0.07949161928996207,
           0.9999999999999964,
           0.09612760931537444,
           0.08027932128791264,
           0.07011619714697172,
           0.07184605442039163,
           0.11286550228320774,
           0.09773264650873613,
           0.062052864556581,
           0.06974158147717925,
           0.08647906109031381,
           0.11614271294171068,
           0.0560202728309212,
           0.12539159818767698,
           0.04979499318220534,
           0.0680062546731376,
           0.09046443894870214,
           0.08136070176203158,
           0.08554874386796468,
           0.053079391565933054,
           0.06303266359671181,
           0.05667561094444845,
           0.04488159455543849,
           0.05064578110472677,
           0.06867203073473258,
           0.04798814385335851,
           0.06358284578008305,
           0.06852434908629036
          ],
          [
           0.15890982816612997,
           0.18454862383537507,
           0.1531385232889188,
           0.19864492215139815,
           0.16069645829657006,
           0.13368336598209637,
           0.14078866389909608,
           0.1746985366082467,
           0.15432586204090046,
           0.11608252767688339,
           0.1293810630422641,
           0.1155276460664712,
           0.1393056156465937,
           0.1052517088941294,
           0.10953034724160728,
           0.15679692543667903,
           0.1022400849256425,
           0.10107972489937839,
           0.10531601448175108,
           0.11375624374557519,
           0.08242344541120764,
           0.08661869624875085,
           0.07144512306824692,
           0.06969307911399664,
           0.09249009357957744,
           0.09612760931537444,
           0.9999999999999977,
           0.17038451376147684,
           0.08245290289687969,
           0.06477507521107802,
           0.08844478515698909,
           0.053364713620439395,
           0.0703387345832475,
           0.0559447177962159,
           0.0673316508129993,
           0.08906840832870881,
           0.054468941687042034,
           0.08500238131011732,
           0.05822287989542813,
           0.07885743211981323,
           0.08718160639767378,
           0.04912335645191056,
           0.06830070414976544,
           0.051045837269176414,
           0.08249569004026427,
           0.03158135146391325,
           0.07577316438371029,
           0.05943517291486333,
           0.0453287422412682,
           0.048714155686292365,
           0.08272378913863546,
           0.06537862604488409
          ],
          [
           0.14569784597296342,
           0.17239127330999485,
           0.1475880612412641,
           0.1762550840184421,
           0.15474773626005253,
           0.12492392509325592,
           0.13903434057899916,
           0.15773867601843233,
           0.13239583243912414,
           0.11966085882311031,
           0.1228676490917058,
           0.12376057314680884,
           0.11215831714138193,
           0.09976270865999931,
           0.10539647868170161,
           0.12902340610423849,
           0.11383438271462772,
           0.09509551104553934,
           0.08593894832778093,
           0.09821584039002001,
           0.071052795518199,
           0.06449252981632558,
           0.0681290952966339,
           0.05988618328951956,
           0.08153767652542372,
           0.08027932128791264,
           0.17038451376147684,
           1.000000000000002,
           0.07639011338964459,
           0.0708074204521348,
           0.09345121630642479,
           0.05149657824574173,
           0.07343874690266987,
           0.06175594393834374,
           0.05918861567416868,
           0.07978111894194388,
           0.06311747796986138,
           0.0942585658365954,
           0.05736595868685772,
           0.06795540656564181,
           0.09109150340867972,
           0.055512367267669636,
           0.08264767631787268,
           0.061435619455539194,
           0.07841159330505972,
           0.04212975661086994,
           0.08021005636488963,
           0.04349971569519536,
           0.04942130116954002,
           0.040767365082413826,
           0.05062932293836881,
           0.0740207765751043
          ],
          [
           0.17522462731706914,
           0.1868039393422941,
           0.16826217646775576,
           0.1870133111528514,
           0.16892509046490561,
           0.13950994418592172,
           0.1470971124453874,
           0.13748214451029456,
           0.14814712412356232,
           0.17134443692702808,
           0.1715396089189867,
           0.14797608123620143,
           0.1588258993750674,
           0.12706977265413383,
           0.12633200651606677,
           0.1319122407499702,
           0.1578134121737781,
           0.10666805627612617,
           0.12801121925570288,
           0.09908931520117634,
           0.09398593387896044,
           0.06957191151724657,
           0.07573372739313554,
           0.06901587712394604,
           0.08643604067106705,
           0.07011619714697172,
           0.08245290289687969,
           0.07639011338964459,
           0.999999999999998,
           0.13395038346370128,
           0.12876464226367712,
           0.07045829585678483,
           0.06568152661202671,
           0.08728698772489918,
           0.08938499376755105,
           0.08265074226680076,
           0.08058188430319263,
           0.061130870812159184,
           0.07665794303956834,
           0.11457575418251933,
           0.0866752911322991,
           0.06361582119608541,
           0.08940530506770414,
           0.06628920808040485,
           0.11147408014386813,
           0.04118201618649924,
           0.0692228893335792,
           0.09596507812426873,
           0.10919448637190682,
           0.03596892075423272,
           0.05983256309725045,
           0.0611037609167092
          ],
          [
           0.168923935049352,
           0.17531296956312445,
           0.16818674384307505,
           0.17160116957021035,
           0.15614105848688153,
           0.13105425500533963,
           0.14098286039955132,
           0.13773381301959092,
           0.138959005051839,
           0.15540204598105048,
           0.16561095826912797,
           0.14154919224895657,
           0.1448137809368583,
           0.12352667923161757,
           0.10874981354525079,
           0.10939569645926672,
           0.13282249595453816,
           0.10381870312797752,
           0.11498092231568872,
           0.10440784076842463,
           0.08796331480685915,
           0.08005593908535158,
           0.07158978539297106,
           0.07366942581835113,
           0.08551477551986997,
           0.07184605442039163,
           0.06477507521107802,
           0.0708074204521348,
           0.13395038346370128,
           1.0000000000000018,
           0.11183461064690561,
           0.08287371405378276,
           0.06348182172446351,
           0.09190958987765223,
           0.09213125759549452,
           0.05782987558199741,
           0.07854770375972614,
           0.05662630863006054,
           0.06180232362023791,
           0.07785950420511367,
           0.07709937282242316,
           0.06691518297869244,
           0.09711948748018565,
           0.06403800794698884,
           0.07450199452248057,
           0.04539167292031069,
           0.05813461721174347,
           0.042216024427797205,
           0.0959374262568074,
           0.026274782126025024,
           0.0478318865181221,
           0.04847601718687659
          ],
          [
           0.1737255450052302,
           0.19445571989474653,
           0.18328698966980597,
           0.17613303428587562,
           0.16670495220555778,
           0.1488927071053663,
           0.18942837319167816,
           0.1619917460143689,
           0.13534799314923232,
           0.15916308291931774,
           0.16453454742130597,
           0.1396697639871308,
           0.1454181224936298,
           0.11948486993703686,
           0.11394043798035698,
           0.11845284057976653,
           0.16525353806853613,
           0.1136375315000276,
           0.1195623637447144,
           0.11085748179426742,
           0.0978526910099433,
           0.07977854143681865,
           0.07730250217829414,
           0.07471909193455302,
           0.09360612194997682,
           0.11286550228320774,
           0.08844478515698909,
           0.09345121630642479,
           0.12876464226367712,
           0.11183461064690561,
           1.000000000000001,
           0.08612322156083714,
           0.07568088638922021,
           0.10163301182504075,
           0.07432044093127056,
           0.08051118228885677,
           0.09037441728163934,
           0.07117295717220105,
           0.06321185149353424,
           0.09442139412051849,
           0.076346471899548,
           0.06433056411883127,
           0.14493349832485944,
           0.08312318127060592,
           0.09463404527206347,
           0.03911610563085517,
           0.06029253384029585,
           0.06932654398715941,
           0.0865891670633579,
           0.031177375198945735,
           0.07420042211584713,
           0.06611238886882174
          ],
          [
           0.1730355060571744,
           0.1613156536948921,
           0.17236857221398724,
           0.13858017502133882,
           0.15463752053249585,
           0.1222195809642807,
           0.13283472930041923,
           0.12213259248949365,
           0.13020609175628803,
           0.12515194541162322,
           0.11894304782712034,
           0.13816745845363562,
           0.12303748787977539,
           0.12392020551030018,
           0.09858808220023114,
           0.09104554528193526,
           0.09838952421192508,
           0.10386973813843225,
           0.09822063907401277,
           0.09611259174849705,
           0.09100019685079078,
           0.07828258030542773,
           0.0785894778200955,
           0.08435315347676209,
           0.08287962528356596,
           0.09773264650873613,
           0.053364713620439395,
           0.05149657824574173,
           0.07045829585678483,
           0.08287371405378276,
           0.08612322156083714,
           0.9999999999999971,
           0.055094476843087034,
           0.07824255611932059,
           0.06585747351472267,
           0.060896112133396595,
           0.06440202427627498,
           0.05723043784467607,
           0.061052657932693336,
           0.05002349756483411,
           0.07211964366130667,
           0.0667264370088001,
           0.03786223291345893,
           0.04512046059502377,
           0.05375439881477934,
           0.06018611904683184,
           0.03517678967049166,
           0.03486291104493405,
           0.03793973661439963,
           0.052025350972442236,
           0.04818073482092475,
           0.04224900098872045
          ],
          [
           0.1536733389097165,
           0.15788959996944057,
           0.1519872168880087,
           0.14027106298414874,
           0.13517183514915898,
           0.11910751094129629,
           0.11605654599920459,
           0.1357046141455108,
           0.11561644586216858,
           0.11186932001588941,
           0.11148490743252464,
           0.106156428170156,
           0.105754172824641,
           0.08645016222915322,
           0.10488530660385682,
           0.09802092615161187,
           0.09872570086832488,
           0.09484273053348925,
           0.08510774909273013,
           0.0762458087224646,
           0.07542643035488347,
           0.07663215854079994,
           0.0659498103367715,
           0.07364932510424729,
           0.09271742465736552,
           0.062052864556581,
           0.0703387345832475,
           0.07343874690266987,
           0.06568152661202671,
           0.06348182172446351,
           0.07568088638922021,
           0.055094476843087034,
           0.9999999999999987,
           0.05874643389225837,
           0.05606916202703746,
           0.07403582598118706,
           0.052015444860659385,
           0.0691492268291167,
           0.06336720482312722,
           0.06186094538593416,
           0.06670880374212704,
           0.05073595672600064,
           0.03363053901787827,
           0.040746104703846264,
           0.06937762405166997,
           0.05245740324917096,
           0.05435094612261538,
           0.038774663392794555,
           0.0536695351614908,
           0.035091302459440483,
           0.06255970515562681,
           0.035826155110452916
          ],
          [
           0.17202802655060936,
           0.1843727327632404,
           0.17230738700927734,
           0.16629962840790538,
           0.15587570110291252,
           0.14250563883647402,
           0.15182542344373137,
           0.13917901282584974,
           0.12859623954818153,
           0.1502126847657032,
           0.14548854065489134,
           0.13217518974657266,
           0.12433956071473286,
           0.11162494123374896,
           0.11256335693992753,
           0.11251150373194367,
           0.12098281699465963,
           0.08808102409072739,
           0.1009495763212448,
           0.0910159482824396,
           0.09762664285133159,
           0.08955510585145836,
           0.07634901145266147,
           0.06237810174464257,
           0.07366264684002514,
           0.06974158147717925,
           0.0559447177962159,
           0.06175594393834374,
           0.08728698772489918,
           0.09190958987765223,
           0.10163301182504075,
           0.07824255611932059,
           0.05874643389225837,
           0.9999999999999988,
           0.08741207211126299,
           0.06507942720921614,
           0.07560623346781048,
           0.068639370519573,
           0.052167407423809986,
           0.06707257031265279,
           0.0788338046258151,
           0.07222134324027532,
           0.052885775662751586,
           0.06172226645445615,
           0.05599131150209689,
           0.033618331238913425,
           0.046151503915773426,
           0.052351275610975745,
           0.05334425462653291,
           0.04109590905422961,
           0.043050853764204255,
           0.04127096624935042
          ],
          [
           0.1686117772182171,
           0.17863742555756948,
           0.17656635594653394,
           0.16451948270687544,
           0.15719061098146322,
           0.14388788577809133,
           0.15157547753776043,
           0.12739007773871175,
           0.13059524582376103,
           0.1428608508522214,
           0.1269602215659701,
           0.1488305944618046,
           0.14482153013805185,
           0.11718241066303997,
           0.1121686954181882,
           0.10339646449945405,
           0.11601810808634962,
           0.09053879083940551,
           0.08786289240381821,
           0.11494118053153182,
           0.09015341929748312,
           0.08273799472605552,
           0.0838285658149813,
           0.07727718812193222,
           0.0774219082314236,
           0.08647906109031381,
           0.0673316508129993,
           0.05918861567416868,
           0.08938499376755105,
           0.09213125759549452,
           0.07432044093127056,
           0.06585747351472267,
           0.05606916202703746,
           0.08741207211126299,
           1.0000000000000029,
           0.08385784023939456,
           0.05633602877217888,
           0.07155708621496046,
           0.04631986580056023,
           0.05479875834450046,
           0.053702406049210526,
           0.06477541164578304,
           0.048951391923692376,
           0.06879140381147306,
           0.06936815780100833,
           0.06461560186881354,
           0.04755602836526997,
           0.05579286226309341,
           0.049854458459780183,
           0.051122328729842875,
           0.051145985888315024,
           0.06054180243850546
          ],
          [
           0.18078594572057635,
           0.1847978198120825,
           0.17445293372451376,
           0.16110168383049656,
           0.16569093542477034,
           0.14573867125230783,
           0.1471790490848575,
           0.15632403358671737,
           0.12314342621428342,
           0.14500219519204466,
           0.122907813710173,
           0.14217421965464128,
           0.12854248515038744,
           0.11801530236695053,
           0.11119210561218969,
           0.10538042248395732,
           0.09367321143232944,
           0.1096078129398671,
           0.10624264941338955,
           0.103836441044687,
           0.08771551614726895,
           0.09647729995081392,
           0.08319479358177503,
           0.07504911168023544,
           0.06846526613961665,
           0.11614271294171068,
           0.08906840832870881,
           0.07978111894194388,
           0.08265074226680076,
           0.05782987558199741,
           0.08051118228885677,
           0.060896112133396595,
           0.07403582598118706,
           0.06507942720921614,
           0.08385784023939456,
           0.9999999999999992,
           0.05789020664601198,
           0.11062374632599602,
           0.046856893531275784,
           0.056879938893838584,
           0.09788940065292955,
           0.06078603030748403,
           0.060390652381571416,
           0.05481333885841682,
           0.07011543077444811,
           0.0801117082513777,
           0.048667306601609034,
           0.04925827310235979,
           0.05112283004787878,
           0.03920282271131826,
           0.060791649284399195,
           0.06943095972090424
          ],
          [
           0.1529934645281964,
           0.16959928416039916,
           0.1627840088601564,
           0.14581725308937937,
           0.13481442214709452,
           0.11963501770127147,
           0.12612746953840484,
           0.11261308968716999,
           0.12527930394844194,
           0.13334460257925168,
           0.13813683408193023,
           0.11670621053060247,
           0.12134223358840056,
           0.11748728883687246,
           0.09543749439572881,
           0.1057705564009936,
           0.1094578308936642,
           0.08873093040718334,
           0.0945101759170947,
           0.08165863675111977,
           0.07433057479950327,
           0.09655031822703278,
           0.06765160998989217,
           0.09952398660871876,
           0.07594098241199318,
           0.0560202728309212,
           0.054468941687042034,
           0.06311747796986138,
           0.08058188430319263,
           0.07854770375972614,
           0.09037441728163934,
           0.06440202427627498,
           0.052015444860659385,
           0.07560623346781048,
           0.05633602877217888,
           0.05789020664601198,
           0.9999999999999961,
           0.056730939309706546,
           0.06168200188063185,
           0.07597886144030858,
           0.05015719694875813,
           0.07834414516411542,
           0.044860110251821426,
           0.03656910088985718,
           0.051658706668147945,
           0.035838917497825556,
           0.0385887075943067,
           0.04004539744591603,
           0.040470239311195505,
           0.017266519685822077,
           0.026729667558033566,
           0.032472018040819006
          ],
          [
           0.13440939779886563,
           0.15544547634923295,
           0.1334204979526248,
           0.15066734722109493,
           0.1297070457768122,
           0.11665392314053034,
           0.12214095810796566,
           0.12451881235106116,
           0.11534340767074679,
           0.11775894357556702,
           0.1105998583914126,
           0.10383137858858703,
           0.10412623388658454,
           0.08888538191451309,
           0.09983500135335525,
           0.10394941349933699,
           0.11856147264306327,
           0.09981720560918576,
           0.08694756985366396,
           0.09233340964808451,
           0.07586241084897082,
           0.0698970399975783,
           0.05756772325491664,
           0.0680434611390502,
           0.06711365996974554,
           0.12539159818767698,
           0.08500238131011732,
           0.0942585658365954,
           0.061130870812159184,
           0.05662630863006054,
           0.07117295717220105,
           0.05723043784467607,
           0.0691492268291167,
           0.068639370519573,
           0.07155708621496046,
           0.11062374632599602,
           0.056730939309706546,
           0.9999999999999982,
           0.04407167553472131,
           0.06314814280212833,
           0.10249663062431,
           0.050525598691643234,
           0.06778410153566664,
           0.04320401849755101,
           0.0705717695789151,
           0.03345983401146201,
           0.05406190624429144,
           0.045045905708687925,
           0.04762566811757312,
           0.047849221674157186,
           0.057530508852412954,
           0.043139635211950786
          ],
          [
           0.1085213445285444,
           0.11948190391675598,
           0.10673246886221474,
           0.13089257881431812,
           0.11232196057602835,
           0.09468930771289231,
           0.11149504080213615,
           0.09660263449533946,
           0.13246777496929182,
           0.09839858088331098,
           0.11313091710970477,
           0.09539521422566179,
           0.10576774590309518,
           0.08260509275555362,
           0.09026977557566024,
           0.12602636978443346,
           0.1199767497456978,
           0.08504613873246387,
           0.15269780701994312,
           0.07480844128452566,
           0.07322094420013141,
           0.05091903398534609,
           0.04785714932502761,
           0.05624241156943726,
           0.09741007176057245,
           0.04979499318220534,
           0.05822287989542813,
           0.05736595868685772,
           0.07665794303956834,
           0.06180232362023791,
           0.06321185149353424,
           0.061052657932693336,
           0.06336720482312722,
           0.052167407423809986,
           0.04631986580056023,
           0.046856893531275784,
           0.06168200188063185,
           0.04407167553472131,
           1.000000000000001,
           0.10804888696328577,
           0.08252960987185712,
           0.05983123009179525,
           0.05734362672225127,
           0.03736396922084157,
           0.08253735548902476,
           0.027067223495392704,
           0.05024346085778816,
           0.08874724883351148,
           0.05531171475495165,
           0.03412160245929756,
           0.05143048249779353,
           0.03133025805774251
          ],
          [
           0.11595216078406405,
           0.1347870503197784,
           0.10761636859953383,
           0.14978564718743081,
           0.11466295113919898,
           0.10691439203425572,
           0.11812828209014396,
           0.1001427271443892,
           0.11687988562486555,
           0.0973613823705601,
           0.11588976166886937,
           0.09542312706294351,
           0.11058632627354889,
           0.07577592660475838,
           0.07550155942920775,
           0.17146143517409682,
           0.11085396612147118,
           0.08988371321612679,
           0.11093810688713347,
           0.09031218972924614,
           0.05759540130428343,
           0.053021294269566456,
           0.04763835744128756,
           0.04944746082488723,
           0.11835372133916235,
           0.0680062546731376,
           0.07885743211981323,
           0.06795540656564181,
           0.11457575418251933,
           0.07785950420511367,
           0.09442139412051849,
           0.05002349756483411,
           0.06186094538593416,
           0.06707257031265279,
           0.05479875834450046,
           0.056879938893838584,
           0.07597886144030858,
           0.06314814280212833,
           0.10804888696328577,
           0.9999999999999991,
           0.06683460915246833,
           0.06837049990967088,
           0.06354573063897646,
           0.04240047686792602,
           0.0893302265721953,
           0.025684980907453348,
           0.05526479454137964,
           0.0572285185153849,
           0.044438564365531286,
           0.03541359493309428,
           0.050226112634856226,
           0.07122892337806361
          ],
          [
           0.12516110456324725,
           0.1488045883972129,
           0.12229837525428451,
           0.1522759962307707,
           0.1562722230486285,
           0.11420943935971398,
           0.13324998739962973,
           0.16722166315154277,
           0.13409952852106094,
           0.11111790879360992,
           0.12460796434279578,
           0.10658190332517593,
           0.12491950911092264,
           0.1024622860337666,
           0.09605672010305394,
           0.11011179165996797,
           0.11812012816862742,
           0.12107370722986519,
           0.11665685792097581,
           0.1472616670253833,
           0.08709008637308384,
           0.06380600873883649,
           0.07502273621012041,
           0.057183875154915596,
           0.08213392495519309,
           0.09046443894870214,
           0.08718160639767378,
           0.09109150340867972,
           0.0866752911322991,
           0.07709937282242316,
           0.076346471899548,
           0.07211964366130667,
           0.06670880374212704,
           0.0788338046258151,
           0.053702406049210526,
           0.09788940065292955,
           0.05015719694875813,
           0.10249663062431,
           0.08252960987185712,
           0.06683460915246833,
           0.9999999999999988,
           0.07002594414409048,
           0.06829993286658133,
           0.05535508712296168,
           0.09521978183488637,
           0.03555063680693714,
           0.08266440619075321,
           0.05608541998787054,
           0.054534408389951564,
           0.04622742418683732,
           0.0921919521548516,
           0.07346886240859761
          ],
          [
           0.13047211034819486,
           0.1449226403688481,
           0.13045322403216383,
           0.12546401636618115,
           0.12910468018242865,
           0.13275046248313674,
           0.10521905107702338,
           0.12753516811498047,
           0.1168563175135379,
           0.10542154104851637,
           0.10402960505110463,
           0.11840316063964285,
           0.10540317580011253,
           0.0942341819878572,
           0.11458675123559663,
           0.09784483863945143,
           0.09022798280489401,
           0.10035096336609885,
           0.08474904014150761,
           0.09970359729794767,
           0.08546615726337083,
           0.0595950095013457,
           0.08638638840829206,
           0.07423171916812284,
           0.0778891912792473,
           0.08136070176203158,
           0.04912335645191056,
           0.055512367267669636,
           0.06361582119608541,
           0.06691518297869244,
           0.06433056411883127,
           0.0667264370088001,
           0.05073595672600064,
           0.07222134324027532,
           0.06477541164578304,
           0.06078603030748403,
           0.07834414516411542,
           0.050525598691643234,
           0.05983123009179525,
           0.06837049990967088,
           0.07002594414409048,
           0.9999999999999997,
           0.02790830802396302,
           0.033957075770228565,
           0.048632352443910974,
           0.027167033586293368,
           0.050363056310882365,
           0.05489197561248062,
           0.02602433470435643,
           0.06440569498826425,
           0.04396966622476413,
           0.05809107336734444
          ],
          [
           0.08221939750967736,
           0.10189497497312766,
           0.0889594630807845,
           0.10916417638658905,
           0.09539013778480987,
           0.08099411560943802,
           0.14643223034937963,
           0.0938389401583752,
           0.09832120675427986,
           0.0965591208412266,
           0.11698384318382687,
           0.09640703305357236,
           0.09374099660438465,
           0.06932955071130442,
           0.06872388667486617,
           0.06893524455370237,
           0.10329129863471943,
           0.08869039402225633,
           0.0871524850811784,
           0.07182318062505058,
           0.0486474192885173,
           0.044748440295458006,
           0.04901075193569933,
           0.05462947009696284,
           0.053418769133411995,
           0.08554874386796468,
           0.06830070414976544,
           0.08264767631787268,
           0.08940530506770414,
           0.09711948748018565,
           0.14493349832485944,
           0.03786223291345893,
           0.03363053901787827,
           0.052885775662751586,
           0.048951391923692376,
           0.060390652381571416,
           0.044860110251821426,
           0.06778410153566664,
           0.05734362672225127,
           0.06354573063897646,
           0.06829993286658133,
           0.02790830802396302,
           0.9999999999999993,
           0.0722160413475149,
           0.07032585037118763,
           0.016755857634108737,
           0.0793337214414774,
           0.03890154506468295,
           0.09627176112543456,
           0.020358600078900137,
           0.024237056405275268,
           0.03497704841369292
          ],
          [
           0.10038712768101292,
           0.11202198487635914,
           0.10741644498501667,
           0.11160088066563305,
           0.10075606613620287,
           0.10462288428735173,
           0.11287554125685868,
           0.09195399417063989,
           0.07079194592199754,
           0.08275083700381215,
           0.0887907615758965,
           0.08711044182504794,
           0.08369842196939581,
           0.07899868231422738,
           0.09434920443882938,
           0.07498887960918528,
           0.07124583840878582,
           0.06214858202097288,
           0.0628131634432969,
           0.05939741305910466,
           0.05367884629323055,
           0.05033038803608059,
           0.06367141656954758,
           0.048922539137192946,
           0.036443910019992684,
           0.053079391565933054,
           0.051045837269176414,
           0.061435619455539194,
           0.06628920808040485,
           0.06403800794698884,
           0.08312318127060592,
           0.04512046059502377,
           0.040746104703846264,
           0.06172226645445615,
           0.06879140381147306,
           0.05481333885841682,
           0.03656910088985718,
           0.04320401849755101,
           0.03736396922084157,
           0.04240047686792602,
           0.05535508712296168,
           0.033957075770228565,
           0.0722160413475149,
           1.0000000000000013,
           0.04540857987964112,
           0.02692577475849864,
           0.021822834790897333,
           0.042610261844998436,
           0.04015467884910557,
           0.03583152783272271,
           0.034669786676867376,
           0.025573401279076428
          ],
          [
           0.11612249067857326,
           0.14752155795448496,
           0.1158803919971029,
           0.16529572420263872,
           0.12841993344271477,
           0.10864088614555935,
           0.12144785973513643,
           0.12072714458845621,
           0.10502387281720345,
           0.10845567470713502,
           0.1137060398707926,
           0.10417274043555885,
           0.09329181564548736,
           0.09220476595071446,
           0.0868337975691441,
           0.11323833810885801,
           0.1176555060112748,
           0.08867041881828194,
           0.09662818758103953,
           0.10226786847228998,
           0.08402633103361642,
           0.05314539530833469,
           0.06046502569387648,
           0.04139086061708047,
           0.08476234364429584,
           0.06303266359671181,
           0.08249569004026427,
           0.07841159330505972,
           0.11147408014386813,
           0.07450199452248057,
           0.09463404527206347,
           0.05375439881477934,
           0.06937762405166997,
           0.05599131150209689,
           0.06936815780100833,
           0.07011543077444811,
           0.051658706668147945,
           0.0705717695789151,
           0.08253735548902476,
           0.0893302265721953,
           0.09521978183488637,
           0.048632352443910974,
           0.07032585037118763,
           0.04540857987964112,
           0.9999999999999982,
           0.02418940817794625,
           0.09383682687817954,
           0.06906450541225366,
           0.061624279734849574,
           0.04567016500809837,
           0.07760505102696769,
           0.3249785653664754
          ],
          [
           0.13394471434529925,
           0.1195381177237527,
           0.1271701818359351,
           0.09409048214394845,
           0.0979101867656823,
           0.08389995962829973,
           0.08953080686096308,
           0.07955509369410617,
           0.08115654475956433,
           0.10323205007694192,
           0.08068402768321582,
           0.0948866725879826,
           0.07747163691600017,
           0.08979497282114283,
           0.06265814890265337,
           0.05937794507711809,
           0.05907281818781277,
           0.07082911691473039,
           0.04716687141062714,
           0.0542885350086474,
           0.04306300300014599,
           0.09024312436378133,
           0.049220281259139284,
           0.09938531230419634,
           0.033116711538092966,
           0.05667561094444845,
           0.03158135146391325,
           0.04212975661086994,
           0.04118201618649924,
           0.04539167292031069,
           0.03911610563085517,
           0.06018611904683184,
           0.05245740324917096,
           0.033618331238913425,
           0.06461560186881354,
           0.0801117082513777,
           0.035838917497825556,
           0.03345983401146201,
           0.027067223495392704,
           0.025684980907453348,
           0.03555063680693714,
           0.027167033586293368,
           0.016755857634108737,
           0.02692577475849864,
           0.02418940817794625,
           0.9999999999999999,
           0.015900575920268396,
           0.023137018277165695,
           0.020045239439964637,
           0.017921172683685125,
           0.017866851835354403,
           0.019628561166089905
          ],
          [
           0.08654125625828296,
           0.10811579953860467,
           0.08855651542865578,
           0.10212772576280268,
           0.08747123162122127,
           0.08052581473319984,
           0.08649984531797923,
           0.0895085796139567,
           0.08662213378546109,
           0.07669460611387025,
           0.07697724315677473,
           0.06866980432468762,
           0.07665299720159535,
           0.06496591055147677,
           0.06560947573661015,
           0.082472070145864,
           0.09004393766888218,
           0.05997022294906325,
           0.07243219676253439,
           0.07979911087565192,
           0.06384087012242817,
           0.04601446477038288,
           0.043886665316147204,
           0.03583815520738086,
           0.05160442207003028,
           0.04488159455543849,
           0.07577316438371029,
           0.08021005636488963,
           0.0692228893335792,
           0.05813461721174347,
           0.06029253384029585,
           0.03517678967049166,
           0.05435094612261538,
           0.046151503915773426,
           0.04755602836526997,
           0.048667306601609034,
           0.0385887075943067,
           0.05406190624429144,
           0.05024346085778816,
           0.05526479454137964,
           0.08266440619075321,
           0.050363056310882365,
           0.0793337214414774,
           0.021822834790897333,
           0.09383682687817954,
           0.015900575920268396,
           1.0000000000000009,
           0.0680266614749785,
           0.047187929014846836,
           0.025431285837669834,
           0.05495142390849705,
           0.08553802372534758
          ],
          [
           0.09413792385530359,
           0.10776138638548055,
           0.09381797702247437,
           0.10632240154120667,
           0.0906925179129277,
           0.08163313135180025,
           0.10313835709385791,
           0.08334679222441073,
           0.10510989857416991,
           0.08834605649917159,
           0.08071405237953748,
           0.08441446581854686,
           0.08808257809694907,
           0.06615515159756317,
           0.0793723241262681,
           0.10895394132288276,
           0.1056646660681346,
           0.05839250284885173,
           0.09068453330233382,
           0.08088499259038207,
           0.0799581218428954,
           0.047902508898473486,
           0.04317868491193965,
           0.04626202685570112,
           0.08012293137503125,
           0.05064578110472677,
           0.05943517291486333,
           0.04349971569519536,
           0.09596507812426873,
           0.042216024427797205,
           0.06932654398715941,
           0.03486291104493405,
           0.038774663392794555,
           0.052351275610975745,
           0.05579286226309341,
           0.04925827310235979,
           0.04004539744591603,
           0.045045905708687925,
           0.08874724883351148,
           0.0572285185153849,
           0.05608541998787054,
           0.05489197561248062,
           0.03890154506468295,
           0.042610261844998436,
           0.06906450541225366,
           0.023137018277165695,
           0.0680266614749785,
           1,
           0.09518335981751802,
           0.050597564970961906,
           0.03656468280542844,
           0.0526260848529269
          ],
          [
           0.08076653039159543,
           0.0921518676961539,
           0.08191835007470184,
           0.09409675116858192,
           0.09421516891051879,
           0.07723465065157703,
           0.08460912142005443,
           0.09940863696688448,
           0.0799528397171973,
           0.09783319223639177,
           0.10045674244164567,
           0.08843834491819307,
           0.09727248172643056,
           0.06455779699849339,
           0.07970304107447494,
           0.06815805841846537,
           0.12261673737196968,
           0.06871154095653376,
           0.0837931999057585,
           0.0736962198122683,
           0.041100784335456345,
           0.04495806242716857,
           0.035223564052957644,
           0.04189081034515206,
           0.06521591863175234,
           0.06867203073473258,
           0.0453287422412682,
           0.04942130116954002,
           0.10919448637190682,
           0.0959374262568074,
           0.0865891670633579,
           0.03793973661439963,
           0.0536695351614908,
           0.05334425462653291,
           0.049854458459780183,
           0.05112283004787878,
           0.040470239311195505,
           0.04762566811757312,
           0.05531171475495165,
           0.044438564365531286,
           0.054534408389951564,
           0.02602433470435643,
           0.09627176112543456,
           0.04015467884910557,
           0.061624279734849574,
           0.020045239439964637,
           0.047187929014846836,
           0.09518335981751802,
           1.0000000000000002,
           0.02344667191177516,
           0.047142011182673145,
           0.05447147290933962
          ],
          [
           0.0858257350523538,
           0.08469090479546107,
           0.08681947181555491,
           0.07176876351296542,
           0.07694655063622544,
           0.12608771316293615,
           0.083866196705015,
           0.07358369887277279,
           0.08532544722090919,
           0.061133388202095365,
           0.06484799645583596,
           0.06808117973226213,
           0.05851324004077576,
           0.05268286331517739,
           0.1315395558445944,
           0.07176225284908638,
           0.03794582466137429,
           0.06778532034106201,
           0.06180943381730589,
           0.08719244164212418,
           0.04281973069395653,
           0.04582870242583705,
           0.08886889623582772,
           0.07355241890527611,
           0.04650227068259747,
           0.04798814385335851,
           0.048714155686292365,
           0.040767365082413826,
           0.03596892075423272,
           0.026274782126025024,
           0.031177375198945735,
           0.052025350972442236,
           0.035091302459440483,
           0.04109590905422961,
           0.051122328729842875,
           0.03920282271131826,
           0.017266519685822077,
           0.047849221674157186,
           0.03412160245929756,
           0.03541359493309428,
           0.04622742418683732,
           0.06440569498826425,
           0.020358600078900137,
           0.03583152783272271,
           0.04567016500809837,
           0.017921172683685125,
           0.025431285837669834,
           0.050597564970961906,
           0.02344667191177516,
           1,
           0.08102300855013768,
           0.05271875481581213
          ],
          [
           0.08622506384838458,
           0.1089447458276339,
           0.08462292953200269,
           0.12214553141679094,
           0.09628560475902115,
           0.08129257768205919,
           0.08881186377146463,
           0.11477625260279849,
           0.08437613046596874,
           0.07937000905785024,
           0.09316973619105198,
           0.07460921669962363,
           0.08312790614590734,
           0.06396185481928629,
           0.07558343176386453,
           0.08987806125855283,
           0.07950396333775063,
           0.0822776839702847,
           0.06827174970263182,
           0.1083934672841153,
           0.05814422554158515,
           0.037161403311963256,
           0.048468367820652364,
           0.042964756267093,
           0.0810564926134493,
           0.06358284578008305,
           0.08272378913863546,
           0.05062932293836881,
           0.05983256309725045,
           0.0478318865181221,
           0.07420042211584713,
           0.04818073482092475,
           0.06255970515562681,
           0.043050853764204255,
           0.051145985888315024,
           0.060791649284399195,
           0.026729667558033566,
           0.057530508852412954,
           0.05143048249779353,
           0.050226112634856226,
           0.0921919521548516,
           0.04396966622476413,
           0.024237056405275268,
           0.034669786676867376,
           0.07760505102696769,
           0.017866851835354403,
           0.05495142390849705,
           0.03656468280542844,
           0.047142011182673145,
           0.08102300855013768,
           1,
           0.06548561113371665
          ],
          [
           0.08041648584649616,
           0.09187880208301202,
           0.07585331017930741,
           0.1060399090575511,
           0.08063065735403746,
           0.07094736916401016,
           0.07805257966364021,
           0.08791885092489334,
           0.08714948366129283,
           0.07250048090820634,
           0.0794992046124121,
           0.06786000139501538,
           0.06661475405329902,
           0.061150204203845995,
           0.06481395474358563,
           0.07346873219977804,
           0.06581123848286324,
           0.06644077471173553,
           0.06267061533432271,
           0.09703086680264318,
           0.0565809986838887,
           0.03967738017042037,
           0.04152260606361565,
           0.03663813047546114,
           0.0582281169946364,
           0.06852434908629036,
           0.06537862604488409,
           0.0740207765751043,
           0.0611037609167092,
           0.04847601718687659,
           0.06611238886882174,
           0.04224900098872045,
           0.035826155110452916,
           0.04127096624935042,
           0.06054180243850546,
           0.06943095972090424,
           0.032472018040819006,
           0.043139635211950786,
           0.03133025805774251,
           0.07122892337806361,
           0.07346886240859761,
           0.05809107336734444,
           0.03497704841369292,
           0.025573401279076428,
           0.3249785653664754,
           0.019628561166089905,
           0.08553802372534758,
           0.0526260848529269,
           0.05447147290933962,
           0.05271875481581213,
           0.06548561113371665,
           1
          ]
         ]
        }
       ],
       "layout": {
        "coloraxis": {
         "colorbar": {
          "title": {
           "text": "Similarity Score"
          }
         },
         "colorscale": [
          [
           0,
           "rgb(247,252,240)"
          ],
          [
           0.125,
           "rgb(224,243,219)"
          ],
          [
           0.25,
           "rgb(204,235,197)"
          ],
          [
           0.375,
           "rgb(168,221,181)"
          ],
          [
           0.5,
           "rgb(123,204,196)"
          ],
          [
           0.625,
           "rgb(78,179,211)"
          ],
          [
           0.75,
           "rgb(43,140,190)"
          ],
          [
           0.875,
           "rgb(8,104,172)"
          ],
          [
           1,
           "rgb(8,64,129)"
          ]
         ]
        },
        "height": 800,
        "hoverlabel": {
         "bgcolor": "white",
         "font": {
          "family": "Rockwell",
          "size": 16
         }
        },
        "legend": {
         "title": {
          "text": "Trend"
         }
        },
        "margin": {
         "t": 60
        },
        "showlegend": true,
        "template": {
         "data": {
          "bar": [
           {
            "error_x": {
             "color": "#2a3f5f"
            },
            "error_y": {
             "color": "#2a3f5f"
            },
            "marker": {
             "line": {
              "color": "#E5ECF6",
              "width": 0.5
             },
             "pattern": {
              "fillmode": "overlay",
              "size": 10,
              "solidity": 0.2
             }
            },
            "type": "bar"
           }
          ],
          "barpolar": [
           {
            "marker": {
             "line": {
              "color": "#E5ECF6",
              "width": 0.5
             },
             "pattern": {
              "fillmode": "overlay",
              "size": 10,
              "solidity": 0.2
             }
            },
            "type": "barpolar"
           }
          ],
          "carpet": [
           {
            "aaxis": {
             "endlinecolor": "#2a3f5f",
             "gridcolor": "white",
             "linecolor": "white",
             "minorgridcolor": "white",
             "startlinecolor": "#2a3f5f"
            },
            "baxis": {
             "endlinecolor": "#2a3f5f",
             "gridcolor": "white",
             "linecolor": "white",
             "minorgridcolor": "white",
             "startlinecolor": "#2a3f5f"
            },
            "type": "carpet"
           }
          ],
          "choropleth": [
           {
            "colorbar": {
             "outlinewidth": 0,
             "ticks": ""
            },
            "type": "choropleth"
           }
          ],
          "contour": [
           {
            "colorbar": {
             "outlinewidth": 0,
             "ticks": ""
            },
            "colorscale": [
             [
              0,
              "#0d0887"
             ],
             [
              0.1111111111111111,
              "#46039f"
             ],
             [
              0.2222222222222222,
              "#7201a8"
             ],
             [
              0.3333333333333333,
              "#9c179e"
             ],
             [
              0.4444444444444444,
              "#bd3786"
             ],
             [
              0.5555555555555556,
              "#d8576b"
             ],
             [
              0.6666666666666666,
              "#ed7953"
             ],
             [
              0.7777777777777778,
              "#fb9f3a"
             ],
             [
              0.8888888888888888,
              "#fdca26"
             ],
             [
              1,
              "#f0f921"
             ]
            ],
            "type": "contour"
           }
          ],
          "contourcarpet": [
           {
            "colorbar": {
             "outlinewidth": 0,
             "ticks": ""
            },
            "type": "contourcarpet"
           }
          ],
          "heatmap": [
           {
            "colorbar": {
             "outlinewidth": 0,
             "ticks": ""
            },
            "colorscale": [
             [
              0,
              "#0d0887"
             ],
             [
              0.1111111111111111,
              "#46039f"
             ],
             [
              0.2222222222222222,
              "#7201a8"
             ],
             [
              0.3333333333333333,
              "#9c179e"
             ],
             [
              0.4444444444444444,
              "#bd3786"
             ],
             [
              0.5555555555555556,
              "#d8576b"
             ],
             [
              0.6666666666666666,
              "#ed7953"
             ],
             [
              0.7777777777777778,
              "#fb9f3a"
             ],
             [
              0.8888888888888888,
              "#fdca26"
             ],
             [
              1,
              "#f0f921"
             ]
            ],
            "type": "heatmap"
           }
          ],
          "heatmapgl": [
           {
            "colorbar": {
             "outlinewidth": 0,
             "ticks": ""
            },
            "colorscale": [
             [
              0,
              "#0d0887"
             ],
             [
              0.1111111111111111,
              "#46039f"
             ],
             [
              0.2222222222222222,
              "#7201a8"
             ],
             [
              0.3333333333333333,
              "#9c179e"
             ],
             [
              0.4444444444444444,
              "#bd3786"
             ],
             [
              0.5555555555555556,
              "#d8576b"
             ],
             [
              0.6666666666666666,
              "#ed7953"
             ],
             [
              0.7777777777777778,
              "#fb9f3a"
             ],
             [
              0.8888888888888888,
              "#fdca26"
             ],
             [
              1,
              "#f0f921"
             ]
            ],
            "type": "heatmapgl"
           }
          ],
          "histogram": [
           {
            "marker": {
             "pattern": {
              "fillmode": "overlay",
              "size": 10,
              "solidity": 0.2
             }
            },
            "type": "histogram"
           }
          ],
          "histogram2d": [
           {
            "colorbar": {
             "outlinewidth": 0,
             "ticks": ""
            },
            "colorscale": [
             [
              0,
              "#0d0887"
             ],
             [
              0.1111111111111111,
              "#46039f"
             ],
             [
              0.2222222222222222,
              "#7201a8"
             ],
             [
              0.3333333333333333,
              "#9c179e"
             ],
             [
              0.4444444444444444,
              "#bd3786"
             ],
             [
              0.5555555555555556,
              "#d8576b"
             ],
             [
              0.6666666666666666,
              "#ed7953"
             ],
             [
              0.7777777777777778,
              "#fb9f3a"
             ],
             [
              0.8888888888888888,
              "#fdca26"
             ],
             [
              1,
              "#f0f921"
             ]
            ],
            "type": "histogram2d"
           }
          ],
          "histogram2dcontour": [
           {
            "colorbar": {
             "outlinewidth": 0,
             "ticks": ""
            },
            "colorscale": [
             [
              0,
              "#0d0887"
             ],
             [
              0.1111111111111111,
              "#46039f"
             ],
             [
              0.2222222222222222,
              "#7201a8"
             ],
             [
              0.3333333333333333,
              "#9c179e"
             ],
             [
              0.4444444444444444,
              "#bd3786"
             ],
             [
              0.5555555555555556,
              "#d8576b"
             ],
             [
              0.6666666666666666,
              "#ed7953"
             ],
             [
              0.7777777777777778,
              "#fb9f3a"
             ],
             [
              0.8888888888888888,
              "#fdca26"
             ],
             [
              1,
              "#f0f921"
             ]
            ],
            "type": "histogram2dcontour"
           }
          ],
          "mesh3d": [
           {
            "colorbar": {
             "outlinewidth": 0,
             "ticks": ""
            },
            "type": "mesh3d"
           }
          ],
          "parcoords": [
           {
            "line": {
             "colorbar": {
              "outlinewidth": 0,
              "ticks": ""
             }
            },
            "type": "parcoords"
           }
          ],
          "pie": [
           {
            "automargin": true,
            "type": "pie"
           }
          ],
          "scatter": [
           {
            "fillpattern": {
             "fillmode": "overlay",
             "size": 10,
             "solidity": 0.2
            },
            "type": "scatter"
           }
          ],
          "scatter3d": [
           {
            "line": {
             "colorbar": {
              "outlinewidth": 0,
              "ticks": ""
             }
            },
            "marker": {
             "colorbar": {
              "outlinewidth": 0,
              "ticks": ""
             }
            },
            "type": "scatter3d"
           }
          ],
          "scattercarpet": [
           {
            "marker": {
             "colorbar": {
              "outlinewidth": 0,
              "ticks": ""
             }
            },
            "type": "scattercarpet"
           }
          ],
          "scattergeo": [
           {
            "marker": {
             "colorbar": {
              "outlinewidth": 0,
              "ticks": ""
             }
            },
            "type": "scattergeo"
           }
          ],
          "scattergl": [
           {
            "marker": {
             "colorbar": {
              "outlinewidth": 0,
              "ticks": ""
             }
            },
            "type": "scattergl"
           }
          ],
          "scattermapbox": [
           {
            "marker": {
             "colorbar": {
              "outlinewidth": 0,
              "ticks": ""
             }
            },
            "type": "scattermapbox"
           }
          ],
          "scatterpolar": [
           {
            "marker": {
             "colorbar": {
              "outlinewidth": 0,
              "ticks": ""
             }
            },
            "type": "scatterpolar"
           }
          ],
          "scatterpolargl": [
           {
            "marker": {
             "colorbar": {
              "outlinewidth": 0,
              "ticks": ""
             }
            },
            "type": "scatterpolargl"
           }
          ],
          "scatterternary": [
           {
            "marker": {
             "colorbar": {
              "outlinewidth": 0,
              "ticks": ""
             }
            },
            "type": "scatterternary"
           }
          ],
          "surface": [
           {
            "colorbar": {
             "outlinewidth": 0,
             "ticks": ""
            },
            "colorscale": [
             [
              0,
              "#0d0887"
             ],
             [
              0.1111111111111111,
              "#46039f"
             ],
             [
              0.2222222222222222,
              "#7201a8"
             ],
             [
              0.3333333333333333,
              "#9c179e"
             ],
             [
              0.4444444444444444,
              "#bd3786"
             ],
             [
              0.5555555555555556,
              "#d8576b"
             ],
             [
              0.6666666666666666,
              "#ed7953"
             ],
             [
              0.7777777777777778,
              "#fb9f3a"
             ],
             [
              0.8888888888888888,
              "#fdca26"
             ],
             [
              1,
              "#f0f921"
             ]
            ],
            "type": "surface"
           }
          ],
          "table": [
           {
            "cells": {
             "fill": {
              "color": "#EBF0F8"
             },
             "line": {
              "color": "white"
             }
            },
            "header": {
             "fill": {
              "color": "#C8D4E3"
             },
             "line": {
              "color": "white"
             }
            },
            "type": "table"
           }
          ]
         },
         "layout": {
          "annotationdefaults": {
           "arrowcolor": "#2a3f5f",
           "arrowhead": 0,
           "arrowwidth": 1
          },
          "autotypenumbers": "strict",
          "coloraxis": {
           "colorbar": {
            "outlinewidth": 0,
            "ticks": ""
           }
          },
          "colorscale": {
           "diverging": [
            [
             0,
             "#8e0152"
            ],
            [
             0.1,
             "#c51b7d"
            ],
            [
             0.2,
             "#de77ae"
            ],
            [
             0.3,
             "#f1b6da"
            ],
            [
             0.4,
             "#fde0ef"
            ],
            [
             0.5,
             "#f7f7f7"
            ],
            [
             0.6,
             "#e6f5d0"
            ],
            [
             0.7,
             "#b8e186"
            ],
            [
             0.8,
             "#7fbc41"
            ],
            [
             0.9,
             "#4d9221"
            ],
            [
             1,
             "#276419"
            ]
           ],
           "sequential": [
            [
             0,
             "#0d0887"
            ],
            [
             0.1111111111111111,
             "#46039f"
            ],
            [
             0.2222222222222222,
             "#7201a8"
            ],
            [
             0.3333333333333333,
             "#9c179e"
            ],
            [
             0.4444444444444444,
             "#bd3786"
            ],
            [
             0.5555555555555556,
             "#d8576b"
            ],
            [
             0.6666666666666666,
             "#ed7953"
            ],
            [
             0.7777777777777778,
             "#fb9f3a"
            ],
            [
             0.8888888888888888,
             "#fdca26"
            ],
            [
             1,
             "#f0f921"
            ]
           ],
           "sequentialminus": [
            [
             0,
             "#0d0887"
            ],
            [
             0.1111111111111111,
             "#46039f"
            ],
            [
             0.2222222222222222,
             "#7201a8"
            ],
            [
             0.3333333333333333,
             "#9c179e"
            ],
            [
             0.4444444444444444,
             "#bd3786"
            ],
            [
             0.5555555555555556,
             "#d8576b"
            ],
            [
             0.6666666666666666,
             "#ed7953"
            ],
            [
             0.7777777777777778,
             "#fb9f3a"
            ],
            [
             0.8888888888888888,
             "#fdca26"
            ],
            [
             1,
             "#f0f921"
            ]
           ]
          },
          "colorway": [
           "#636efa",
           "#EF553B",
           "#00cc96",
           "#ab63fa",
           "#FFA15A",
           "#19d3f3",
           "#FF6692",
           "#B6E880",
           "#FF97FF",
           "#FECB52"
          ],
          "font": {
           "color": "#2a3f5f"
          },
          "geo": {
           "bgcolor": "white",
           "lakecolor": "white",
           "landcolor": "#E5ECF6",
           "showlakes": true,
           "showland": true,
           "subunitcolor": "white"
          },
          "hoverlabel": {
           "align": "left"
          },
          "hovermode": "closest",
          "mapbox": {
           "style": "light"
          },
          "paper_bgcolor": "white",
          "plot_bgcolor": "#E5ECF6",
          "polar": {
           "angularaxis": {
            "gridcolor": "white",
            "linecolor": "white",
            "ticks": ""
           },
           "bgcolor": "#E5ECF6",
           "radialaxis": {
            "gridcolor": "white",
            "linecolor": "white",
            "ticks": ""
           }
          },
          "scene": {
           "xaxis": {
            "backgroundcolor": "#E5ECF6",
            "gridcolor": "white",
            "gridwidth": 2,
            "linecolor": "white",
            "showbackground": true,
            "ticks": "",
            "zerolinecolor": "white"
           },
           "yaxis": {
            "backgroundcolor": "#E5ECF6",
            "gridcolor": "white",
            "gridwidth": 2,
            "linecolor": "white",
            "showbackground": true,
            "ticks": "",
            "zerolinecolor": "white"
           },
           "zaxis": {
            "backgroundcolor": "#E5ECF6",
            "gridcolor": "white",
            "gridwidth": 2,
            "linecolor": "white",
            "showbackground": true,
            "ticks": "",
            "zerolinecolor": "white"
           }
          },
          "shapedefaults": {
           "line": {
            "color": "#2a3f5f"
           }
          },
          "ternary": {
           "aaxis": {
            "gridcolor": "white",
            "linecolor": "white",
            "ticks": ""
           },
           "baxis": {
            "gridcolor": "white",
            "linecolor": "white",
            "ticks": ""
           },
           "bgcolor": "#E5ECF6",
           "caxis": {
            "gridcolor": "white",
            "linecolor": "white",
            "ticks": ""
           }
          },
          "title": {
           "x": 0.05
          },
          "xaxis": {
           "automargin": true,
           "gridcolor": "white",
           "linecolor": "white",
           "ticks": "",
           "title": {
            "standoff": 15
           },
           "zerolinecolor": "white",
           "zerolinewidth": 2
          },
          "yaxis": {
           "automargin": true,
           "gridcolor": "white",
           "linecolor": "white",
           "ticks": "",
           "title": {
            "standoff": 15
           },
           "zerolinecolor": "white",
           "zerolinewidth": 2
          }
         }
        },
        "title": {
         "font": {
          "color": "Black",
          "size": 22
         },
         "text": "<b>Similarity Matrix</b>",
         "x": 0.55,
         "xanchor": "center",
         "y": 0.95,
         "yanchor": "top"
        },
        "width": 800,
        "xaxis": {
         "anchor": "y",
         "constrain": "domain",
         "domain": [
          0,
          1
         ],
         "scaleanchor": "y"
        },
        "yaxis": {
         "anchor": "x",
         "autorange": "reversed",
         "constrain": "domain",
         "domain": [
          0,
          1
         ]
        }
       }
      },
      "text/html": [
       "<div>                            <div id=\"9eb5da0d-671c-4639-87d5-c761180db319\" class=\"plotly-graph-div\" style=\"height:800px; width:800px;\"></div>            <script type=\"text/javascript\">                require([\"plotly\"], function(Plotly) {                    window.PLOTLYENV=window.PLOTLYENV || {};                                    if (document.getElementById(\"9eb5da0d-671c-4639-87d5-c761180db319\")) {                    Plotly.newPlot(                        \"9eb5da0d-671c-4639-87d5-c761180db319\",                        [{\"coloraxis\":\"coloraxis\",\"name\":\"0\",\"x\":[\"ChatGPT\",\"GPT-3\",\"GPT-4\",\"T5\",\"LLaMA\",\"Codex\",\"OPT\",\"PaLM\",\"FLAN\",\"BLOOM\",\"Flan-T5\",\"Alpaca\",\"Vicuna\",\"InstructGPT\",\"Claude\",\"CodeGen\",\"mT5\",\"T0\",\"BLOOMZ\",\"Pythia\",\"GLM\",\"Anthropic\",\"ChatGLM\",\"LaMDA\",\"AlphaCode\",\"Chinchilla\",\"UL2\",\"NLLB\",\"Flan-PaLM\",\"Tk-Instruct\",\"GShard\",\"Gopher\",\"GLaM\",\"Koala\",\"HyperCLOVA\",\"WebGPT\",\"Jurassic-1\",\"Cohere\",\"U-PaLM\",\"GPT-NeoX-20B\",\"mT0\",\"ERNIE 3\",\"MT-NLG\",\"AlexaTM\",\"Sparrow\",\"Flan-U-PaLM\",\"CPM-2\",\"OPT-IML\",\"CodeGeeX\",\"Yuan 1.0\",\"ERNIE 3.0 Titan\",\"WeLM\"],\"y\":[\"ChatGPT\",\"GPT-3\",\"GPT-4\",\"T5\",\"LLaMA\",\"Codex\",\"OPT\",\"PaLM\",\"FLAN\",\"BLOOM\",\"Flan-T5\",\"Alpaca\",\"Vicuna\",\"InstructGPT\",\"Claude\",\"CodeGen\",\"mT5\",\"T0\",\"BLOOMZ\",\"Pythia\",\"GLM\",\"Anthropic\",\"ChatGLM\",\"LaMDA\",\"AlphaCode\",\"Chinchilla\",\"UL2\",\"NLLB\",\"Flan-PaLM\",\"Tk-Instruct\",\"GShard\",\"Gopher\",\"GLaM\",\"Koala\",\"HyperCLOVA\",\"WebGPT\",\"Jurassic-1\",\"Cohere\",\"U-PaLM\",\"GPT-NeoX-20B\",\"mT0\",\"ERNIE 3\",\"MT-NLG\",\"AlexaTM\",\"Sparrow\",\"Flan-U-PaLM\",\"CPM-2\",\"OPT-IML\",\"CodeGeeX\",\"Yuan 1.0\",\"ERNIE 3.0 Titan\",\"WeLM\"],\"z\":[[1.00000000000002,0.6671892578758327,0.6908311697296214,0.5071599905764004,0.5039075707582373,0.4451217234153271,0.42246481738627617,0.36628483289746244,0.36904735559561735,0.36824110475936844,0.353287249500398,0.38403954574586463,0.3481087811358583,0.3356255538788049,0.30088694372406205,0.26589510969859237,0.2364495490773802,0.2357886364553944,0.250714718166793,0.212879959759283,0.2435446194672572,0.26248971412445116,0.23496623131534505,0.21953245141413327,0.19206156743398345,0.15468917170608174,0.15890982816612997,0.14569784597296342,0.17522462731706914,0.168923935049352,0.1737255450052302,0.1730355060571744,0.1536733389097165,0.17202802655060936,0.1686117772182171,0.18078594572057635,0.1529934645281964,0.13440939779886563,0.1085213445285444,0.11595216078406405,0.12516110456324725,0.13047211034819486,0.08221939750967736,0.10038712768101292,0.11612249067857326,0.13394471434529925,0.08654125625828296,0.09413792385530359,0.08076653039159543,0.0858257350523538,0.08622506384838458,0.08041648584649616],[0.6671892578758327,1.0000000000000857,0.636478598968852,0.5462942090634075,0.4951842904554031,0.43657402461218087,0.4300711888285334,0.39966233695762293,0.3719638652480487,0.3868237395309572,0.3770016961145706,0.3668658345558152,0.35428667894855304,0.3170978551375599,0.3042391268494004,0.2924538584398279,0.28430823280630524,0.24897227539500444,0.24554268796955606,0.23178271411071424,0.22123510180696498,0.23291206728001757,0.2066711439666455,0.20421226014249674,0.19656938184927503,0.17613628222396827,0.18454862383537507,0.17239127330999485,0.1868039393422941,0.17531296956312445,0.19445571989474653,0.1613156536948921,0.15788959996944057,0.1843727327632404,0.17863742555756948,0.1847978198120825,0.16959928416039916,0.15544547634923295,0.11948190391675598,0.1347870503197784,0.1488045883972129,0.1449226403688481,0.10189497497312766,0.11202198487635914,0.14752155795448496,0.1195381177237527,0.10811579953860467,0.10776138638548055,0.0921518676961539,0.08469090479546107,0.1089447458276339,0.09187880208301202],[0.6908311697296214,0.636478598968852,0.9999999999999208,0.47217484789386055,0.49289557376864246,0.41595042014002115,0.41889986480891855,0.3520560672575311,0.35299978037027263,0.36572136271231226,0.3521518219574102,0.38726942606703707,0.344886536443216,0.33612374007365314,0.2885282738657384,0.2506743177481165,0.23824745344641415,0.23050426966123921,0.24695599293236994,0.21282176077296922,0.23769959515287772,0.23541158726390488,0.21037948058447606,0.20754664246328666,0.18756434101301048,0.15883170565206733,0.1531385232889188,0.1475880612412641,0.16826217646775576,0.16818674384307505,0.18328698966980597,0.17236857221398724,0.1519872168880087,0.17230738700927734,0.17656635594653394,0.17445293372451376,0.1627840088601564,0.1334204979526248,0.10673246886221474,0.10761636859953383,0.12229837525428451,0.13045322403216383,0.0889594630807845,0.10741644498501667,0.1158803919971029,0.1271701818359351,0.08855651542865578,0.09381797702247437,0.08191835007470184,0.08681947181555491,0.08462292953200269,0.07585331017930741],[0.5071599905764004,0.5462942090634075,0.47217484789386055,1.0000000000000555,0.4337186432525412,0.3676140134814249,0.3739820587790724,0.367295213294402,0.33541696053941034,0.3245265289164552,0.3584297211631471,0.31195169993704586,0.31580759803635056,0.26281477235915934,0.2737634798153714,0.3083830871714314,0.2812001891988597,0.22880979067003612,0.2303445920105311,0.23941250128200386,0.20903895943680204,0.18984765566742676,0.17432766409302078,0.16287205040602046,0.1865861241733034,0.17630441001635905,0.19864492215139815,0.1762550840184421,0.1870133111528514,0.17160116957021035,0.17613303428587562,0.13858017502133882,0.14027106298414874,0.16629962840790538,0.16451948270687544,0.16110168383049656,0.14581725308937937,0.15066734722109493,0.13089257881431812,0.14978564718743081,0.1522759962307707,0.12546401636618115,0.10916417638658905,0.11160088066563305,0.16529572420263872,0.09409048214394845,0.10212772576280268,0.10632240154120667,0.09409675116858192,0.07176876351296542,0.12214553141679094,0.1060399090575511],[0.5039075707582373,0.4951842904554031,0.49289557376864246,0.4337186432525412,0.9999999999999549,0.3393993186228233,0.36540691165105044,0.37121674952166334,0.3349243524794741,0.3222512832209101,0.3265740591283692,0.3540195743263884,0.3556274670198574,0.28906777767132025,0.25059335562299345,0.2349975504311241,0.2338022359109943,0.2368514923420061,0.25698626265407654,0.23387544939488628,0.23050255860301616,0.18812169121511804,0.1678574873061557,0.17104500503585485,0.18069105618829617,0.1752920572441894,0.16069645829657006,0.15474773626005253,0.16892509046490561,0.15614105848688153,0.16670495220555778,0.15463752053249585,0.13517183514915898,0.15587570110291252,0.15719061098146322,0.16569093542477034,0.13481442214709452,0.1297070457768122,0.11232196057602835,0.11466295113919898,0.1562722230486285,0.12910468018242865,0.09539013778480987,0.10075606613620287,0.12841993344271477,0.0979101867656823,0.08747123162122127,0.0906925179129277,0.09421516891051879,0.07694655063622544,0.09628560475902115,0.08063065735403746],[0.4451217234153271,0.43657402461218087,0.41595042014002115,0.3676140134814249,0.3393993186228233,0.9999999999999675,0.317520950838262,0.2796076649519411,0.26532073306159226,0.2821788591232448,0.2680111858375484,0.26511500997116977,0.25011308081865263,0.23789513420842487,0.33704916681244285,0.21775078278779786,0.20992538062965047,0.20088604398695303,0.1842843473708688,0.17437430422650785,0.16665150411139876,0.1625403182719006,0.24231712727494448,0.1770435793555013,0.1450875332021393,0.137691014123923,0.13368336598209637,0.12492392509325592,0.13950994418592172,0.13105425500533963,0.1488927071053663,0.1222195809642807,0.11910751094129629,0.14250563883647402,0.14388788577809133,0.14573867125230783,0.11963501770127147,0.11665392314053034,0.09468930771289231,0.10691439203425572,0.11420943935971398,0.13275046248313674,0.08099411560943802,0.10462288428735173,0.10864088614555935,0.08389995962829973,0.08052581473319984,0.08163313135180025,0.07723465065157703,0.12608771316293615,0.08129257768205919,0.07094736916401016],[0.42246481738627617,0.4300711888285334,0.41889986480891855,0.3739820587790724,0.36540691165105044,0.317520950838262,0.9999999999999836,0.2921938052366933,0.28758087383260494,0.29018947229020314,0.2915651945199095,0.28976846886226254,0.2696868891864569,0.24819658216648519,0.21984694570392949,0.2398405353748886,0.21475485409435405,0.19531170448426052,0.20640112377125774,0.18605000660004328,0.19754864914939924,0.17965085572752143,0.17025095312174554,0.17255939365493458,0.15866351421956537,0.1570327805777418,0.14078866389909608,0.13903434057899916,0.1470971124453874,0.14098286039955132,0.18942837319167816,0.13283472930041923,0.11605654599920459,0.15182542344373137,0.15157547753776043,0.1471790490848575,0.12612746953840484,0.12214095810796566,0.11149504080213615,0.11812828209014396,0.13324998739962973,0.10521905107702338,0.14643223034937963,0.11287554125685868,0.12144785973513643,0.08953080686096308,0.08649984531797923,0.10313835709385791,0.08460912142005443,0.083866196705015,0.08881186377146463,0.07805257966364021],[0.36628483289746244,0.39966233695762293,0.3520560672575311,0.367295213294402,0.37121674952166334,0.2796076649519411,0.2921938052366933,1.000000000000007,0.2847167045100175,0.2609954417492249,0.2688908220897925,0.266845126657071,0.27710624285355073,0.2223399930849149,0.21868824442698612,0.20749276702578523,0.23224811262772085,0.22379186355811156,0.20446604248566494,0.21817818554221055,0.1663901687260877,0.1444773792571899,0.14418556677807573,0.1313965770303504,0.14588999248483234,0.17464959277572462,0.1746985366082467,0.15773867601843233,0.13748214451029456,0.13773381301959092,0.1619917460143689,0.12213259248949365,0.1357046141455108,0.13917901282584974,0.12739007773871175,0.15632403358671737,0.11261308968716999,0.12451881235106116,0.09660263449533946,0.1001427271443892,0.16722166315154277,0.12753516811498047,0.0938389401583752,0.09195399417063989,0.12072714458845621,0.07955509369410617,0.0895085796139567,0.08334679222441073,0.09940863696688448,0.07358369887277279,0.11477625260279849,0.08791885092489334],[0.36904735559561735,0.3719638652480487,0.35299978037027263,0.33541696053941034,0.3349243524794741,0.26532073306159226,0.28758087383260494,0.2847167045100175,0.9999999999999717,0.2526128873975639,0.2650282080895713,0.2516285620070869,0.27191502025631376,0.22520124575866096,0.19817888559333852,0.23449225155129616,0.2043105687146954,0.19142500667735063,0.22107612418209038,0.21596602175969132,0.17636906209845454,0.14982250133583283,0.1412218833407793,0.14378950526571305,0.16159646012858206,0.15181805995556455,0.15432586204090046,0.13239583243912414,0.14814712412356232,0.138959005051839,0.13534799314923232,0.13020609175628803,0.11561644586216858,0.12859623954818153,0.13059524582376103,0.12314342621428342,0.12527930394844194,0.11534340767074679,0.13246777496929182,0.11687988562486555,0.13409952852106094,0.1168563175135379,0.09832120675427986,0.07079194592199754,0.10502387281720345,0.08115654475956433,0.08662213378546109,0.10510989857416991,0.0799528397171973,0.08532544722090919,0.08437613046596874,0.08714948366129283],[0.36824110475936844,0.3868237395309572,0.36572136271231226,0.3245265289164552,0.3222512832209101,0.2821788591232448,0.29018947229020314,0.2609954417492249,0.2526128873975639,1.0000000000000318,0.2762031921749748,0.26801575089644974,0.2635638527696671,0.23470748257186572,0.20987539419470674,0.1971301095102972,0.2216368009736345,0.1812366166539272,0.1930769177402658,0.17472725786549284,0.16522799013642694,0.1653886593392872,0.1448503428919997,0.14370313122127482,0.14067923129050122,0.12666826719063604,0.11608252767688339,0.11966085882311031,0.17134443692702808,0.15540204598105048,0.15916308291931774,0.12515194541162322,0.11186932001588941,0.1502126847657032,0.1428608508522214,0.14500219519204466,0.13334460257925168,0.11775894357556702,0.09839858088331098,0.0973613823705601,0.11111790879360992,0.10542154104851637,0.0965591208412266,0.08275083700381215,0.10845567470713502,0.10323205007694192,0.07669460611387025,0.08834605649917159,0.09783319223639177,0.061133388202095365,0.07937000905785024,0.07250048090820634],[0.353287249500398,0.3770016961145706,0.3521518219574102,0.3584297211631471,0.3265740591283692,0.2680111858375484,0.2915651945199095,0.2688908220897925,0.2650282080895713,0.2762031921749748,1.0000000000000084,0.25510608583256966,0.2663417926723961,0.2169914690723341,0.20578877094716697,0.21083243978203078,0.23956599829098246,0.18138643983095928,0.19765564768450739,0.18391531317797732,0.1669956135193769,0.14899299333911623,0.1334776782047571,0.13207068292649532,0.1454227687282585,0.13152598063617413,0.1293810630422641,0.1228676490917058,0.1715396089189867,0.16561095826912797,0.16453454742130597,0.11894304782712034,0.11148490743252464,0.14548854065489134,0.1269602215659701,0.122907813710173,0.13813683408193023,0.1105998583914126,0.11313091710970477,0.11588976166886937,0.12460796434279578,0.10402960505110463,0.11698384318382687,0.0887907615758965,0.1137060398707926,0.08068402768321582,0.07697724315677473,0.08071405237953748,0.10045674244164567,0.06484799645583596,0.09316973619105198,0.0794992046124121],[0.38403954574586463,0.3668658345558152,0.38726942606703707,0.31195169993704586,0.3540195743263884,0.26511500997116977,0.28976846886226254,0.266845126657071,0.2516285620070869,0.26801575089644974,0.25510608583256966,1.0000000000000182,0.2805400210535045,0.24366267033963113,0.19794499234371404,0.1881227257827263,0.1928783686319061,0.18997026829941033,0.2019273731587181,0.1774998318940662,0.18887179891488148,0.15452203420256003,0.13570929458242456,0.15896208115021823,0.1526111984197112,0.12814389234140808,0.1155276460664712,0.12376057314680884,0.14797608123620143,0.14154919224895657,0.1396697639871308,0.13816745845363562,0.106156428170156,0.13217518974657266,0.1488305944618046,0.14217421965464128,0.11670621053060247,0.10383137858858703,0.09539521422566179,0.09542312706294351,0.10658190332517593,0.11840316063964285,0.09640703305357236,0.08711044182504794,0.10417274043555885,0.0948866725879826,0.06866980432468762,0.08441446581854686,0.08843834491819307,0.06808117973226213,0.07460921669962363,0.06786000139501538],[0.3481087811358583,0.35428667894855304,0.344886536443216,0.31580759803635056,0.3556274670198574,0.25011308081865263,0.2696868891864569,0.27710624285355073,0.27191502025631376,0.2635638527696671,0.2663417926723961,0.2805400210535045,0.9999999999999981,0.2313316186524402,0.19464798226713323,0.1915991380105754,0.20092887234694062,0.18231715859404196,0.22130477948256005,0.19094988407140595,0.16849305217819058,0.1382106525895082,0.14054492590644918,0.14303483667566508,0.16214870240822568,0.1441371141443763,0.1393056156465937,0.11215831714138193,0.1588258993750674,0.1448137809368583,0.1454181224936298,0.12303748787977539,0.105754172824641,0.12433956071473286,0.14482153013805185,0.12854248515038744,0.12134223358840056,0.10412623388658454,0.10576774590309518,0.11058632627354889,0.12491950911092264,0.10540317580011253,0.09374099660438465,0.08369842196939581,0.09329181564548736,0.07747163691600017,0.07665299720159535,0.08808257809694907,0.09727248172643056,0.05851324004077576,0.08312790614590734,0.06661475405329902],[0.3356255538788049,0.3170978551375599,0.33612374007365314,0.26281477235915934,0.28906777767132025,0.23789513420842487,0.24819658216648519,0.2223399930849149,0.22520124575866096,0.23470748257186572,0.2169914690723341,0.24366267033963113,0.2313316186524402,0.9999999999999918,0.1775098320882981,0.16568865917722142,0.1594010933684788,0.1607558064234754,0.16509239016919575,0.1580568689898575,0.1534045267177839,0.14264992721970765,0.13790165088387382,0.16037334174239654,0.12440676573376452,0.12249445296665193,0.1052517088941294,0.09976270865999931,0.12706977265413383,0.12352667923161757,0.11948486993703686,0.12392020551030018,0.08645016222915322,0.11162494123374896,0.11718241066303997,0.11801530236695053,0.11748728883687246,0.08888538191451309,0.08260509275555362,0.07577592660475838,0.1024622860337666,0.0942341819878572,0.06932955071130442,0.07899868231422738,0.09220476595071446,0.08979497282114283,0.06496591055147677,0.06615515159756317,0.06455779699849339,0.05268286331517739,0.06396185481928629,0.061150204203845995],[0.30088694372406205,0.3042391268494004,0.2885282738657384,0.2737634798153714,0.25059335562299345,0.33704916681244285,0.21984694570392949,0.21868824442698612,0.19817888559333852,0.20987539419470674,0.20578877094716697,0.19794499234371404,0.19464798226713323,0.1775098320882981,1.0000000000000102,0.16952240388657885,0.1750414560540885,0.17572306843683094,0.1505750177439808,0.14342402690302447,0.13588588452616157,0.11606976374906401,0.1763764382520713,0.15137861028415248,0.1278829949245272,0.1164581898400419,0.10953034724160728,0.10539647868170161,0.12633200651606677,0.10874981354525079,0.11394043798035698,0.09858808220023114,0.10488530660385682,0.11256335693992753,0.1121686954181882,0.11119210561218969,0.09543749439572881,0.09983500135335525,0.09026977557566024,0.07550155942920775,0.09605672010305394,0.11458675123559663,0.06872388667486617,0.09434920443882938,0.0868337975691441,0.06265814890265337,0.06560947573661015,0.0793723241262681,0.07970304107447494,0.1315395558445944,0.07558343176386453,0.06481395474358563],[0.26589510969859237,0.2924538584398279,0.2506743177481165,0.3083830871714314,0.2349975504311241,0.21775078278779786,0.2398405353748886,0.20749276702578523,0.23449225155129616,0.1971301095102972,0.21083243978203078,0.1881227257827263,0.1915991380105754,0.16568865917722142,0.16952240388657885,0.9999999999999984,0.1858158327450549,0.14806876383806905,0.19083499208725505,0.16555099357882103,0.1518417320645768,0.12142128780639913,0.11338827424147319,0.10093196507538561,0.18959556269136582,0.1102498601094086,0.15679692543667903,0.12902340610423849,0.1319122407499702,0.10939569645926672,0.11845284057976653,0.09104554528193526,0.09802092615161187,0.11251150373194367,0.10339646449945405,0.10538042248395732,0.1057705564009936,0.10394941349933699,0.12602636978443346,0.17146143517409682,0.11011179165996797,0.09784483863945143,0.06893524455370237,0.07498887960918528,0.11323833810885801,0.05937794507711809,0.082472070145864,0.10895394132288276,0.06815805841846537,0.07176225284908638,0.08987806125855283,0.07346873219977804],[0.2364495490773802,0.28430823280630524,0.23824745344641415,0.2812001891988597,0.2338022359109943,0.20992538062965047,0.21475485409435405,0.23224811262772085,0.2043105687146954,0.2216368009736345,0.23956599829098246,0.1928783686319061,0.20092887234694062,0.1594010933684788,0.1750414560540885,0.1858158327450549,0.9999999999999988,0.16457440809480287,0.1633233462961565,0.14709845538967614,0.12070429434421331,0.10718272750171955,0.09930199799533049,0.10544564910287,0.1355824896096921,0.10954115367024035,0.1022400849256425,0.11383438271462772,0.1578134121737781,0.13282249595453816,0.16525353806853613,0.09838952421192508,0.09872570086832488,0.12098281699465963,0.11601810808634962,0.09367321143232944,0.1094578308936642,0.11856147264306327,0.1199767497456978,0.11085396612147118,0.11812012816862742,0.09022798280489401,0.10329129863471943,0.07124583840878582,0.1176555060112748,0.05907281818781277,0.09004393766888218,0.1056646660681346,0.12261673737196968,0.03794582466137429,0.07950396333775063,0.06581123848286324],[0.2357886364553944,0.24897227539500444,0.23050426966123921,0.22880979067003612,0.2368514923420061,0.20088604398695303,0.19531170448426052,0.22379186355811156,0.19142500667735063,0.1812366166539272,0.18138643983095928,0.18997026829941033,0.18231715859404196,0.1607558064234754,0.17572306843683094,0.14806876383806905,0.16457440809480287,0.9999999999999933,0.13900988090420138,0.15030715635321446,0.12947564405312814,0.10567337608461638,0.11076981362000594,0.09628356846635534,0.10355728271638062,0.12647460709526812,0.10107972489937839,0.09509551104553934,0.10666805627612617,0.10381870312797752,0.1136375315000276,0.10386973813843225,0.09484273053348925,0.08808102409072739,0.09053879083940551,0.1096078129398671,0.08873093040718334,0.09981720560918576,0.08504613873246387,0.08988371321612679,0.12107370722986519,0.10035096336609885,0.08869039402225633,0.06214858202097288,0.08867041881828194,0.07082911691473039,0.05997022294906325,0.05839250284885173,0.06871154095653376,0.06778532034106201,0.0822776839702847,0.06644077471173553],[0.250714718166793,0.24554268796955606,0.24695599293236994,0.2303445920105311,0.25698626265407654,0.1842843473708688,0.20640112377125774,0.20446604248566494,0.22107612418209038,0.1930769177402658,0.19765564768450739,0.2019273731587181,0.22130477948256005,0.16509239016919575,0.1505750177439808,0.19083499208725505,0.1633233462961565,0.13900988090420138,1.000000000000002,0.15177892863421782,0.14920048188500346,0.11170903908562098,0.09643087709444016,0.10181577999060135,0.1520447947047319,0.09251021739713171,0.10531601448175108,0.08593894832778093,0.12801121925570288,0.11498092231568872,0.1195623637447144,0.09822063907401277,0.08510774909273013,0.1009495763212448,0.08786289240381821,0.10624264941338955,0.0945101759170947,0.08694756985366396,0.15269780701994312,0.11093810688713347,0.11665685792097581,0.08474904014150761,0.0871524850811784,0.0628131634432969,0.09662818758103953,0.04716687141062714,0.07243219676253439,0.09068453330233382,0.0837931999057585,0.06180943381730589,0.06827174970263182,0.06267061533432271],[0.212879959759283,0.23178271411071424,0.21282176077296922,0.23941250128200386,0.23387544939488628,0.17437430422650785,0.18605000660004328,0.21817818554221055,0.21596602175969132,0.17472725786549284,0.18391531317797732,0.1774998318940662,0.19094988407140595,0.1580568689898575,0.14342402690302447,0.16555099357882103,0.14709845538967614,0.15030715635321446,0.15177892863421782,0.9999999999999971,0.14312616112416485,0.09786991751967224,0.10668781112697866,0.09756986206844685,0.12035632577582099,0.12001046308592463,0.11375624374557519,0.09821584039002001,0.09908931520117634,0.10440784076842463,0.11085748179426742,0.09611259174849705,0.0762458087224646,0.0910159482824396,0.11494118053153182,0.103836441044687,0.08165863675111977,0.09233340964808451,0.07480844128452566,0.09031218972924614,0.1472616670253833,0.09970359729794767,0.07182318062505058,0.05939741305910466,0.10226786847228998,0.0542885350086474,0.07979911087565192,0.08088499259038207,0.0736962198122683,0.08719244164212418,0.1083934672841153,0.09703086680264318],[0.2435446194672572,0.22123510180696498,0.23769959515287772,0.20903895943680204,0.23050255860301616,0.16665150411139876,0.19754864914939924,0.1663901687260877,0.17636906209845454,0.16522799013642694,0.1669956135193769,0.18887179891488148,0.16849305217819058,0.1534045267177839,0.13588588452616157,0.1518417320645768,0.12070429434421331,0.12947564405312814,0.14920048188500346,0.14312616112416485,1.0000000000000024,0.10006614711357037,0.09391963406028969,0.08580752297541838,0.10441945830686257,0.07642879449739758,0.08242344541120764,0.071052795518199,0.09398593387896044,0.08796331480685915,0.0978526910099433,0.09100019685079078,0.07542643035488347,0.09762664285133159,0.09015341929748312,0.08771551614726895,0.07433057479950327,0.07586241084897082,0.07322094420013141,0.05759540130428343,0.08709008637308384,0.08546615726337083,0.0486474192885173,0.05367884629323055,0.08402633103361642,0.04306300300014599,0.06384087012242817,0.0799581218428954,0.041100784335456345,0.04281973069395653,0.05814422554158515,0.0565809986838887],[0.26248971412445116,0.23291206728001757,0.23541158726390488,0.18984765566742676,0.18812169121511804,0.1625403182719006,0.17965085572752143,0.1444773792571899,0.14982250133583283,0.1653886593392872,0.14899299333911623,0.15452203420256003,0.1382106525895082,0.14264992721970765,0.11606976374906401,0.12142128780639913,0.10718272750171955,0.10567337608461638,0.11170903908562098,0.09786991751967224,0.10006614711357037,1.0000000000000038,0.0995642817131575,0.10653613355780571,0.08092999131553812,0.07332829096037241,0.08661869624875085,0.06449252981632558,0.06957191151724657,0.08005593908535158,0.07977854143681865,0.07828258030542773,0.07663215854079994,0.08955510585145836,0.08273799472605552,0.09647729995081392,0.09655031822703278,0.0698970399975783,0.05091903398534609,0.053021294269566456,0.06380600873883649,0.0595950095013457,0.044748440295458006,0.05033038803608059,0.05314539530833469,0.09024312436378133,0.04601446477038288,0.047902508898473486,0.04495806242716857,0.04582870242583705,0.037161403311963256,0.03967738017042037],[0.23496623131534505,0.2066711439666455,0.21037948058447606,0.17432766409302078,0.1678574873061557,0.24231712727494448,0.17025095312174554,0.14418556677807573,0.1412218833407793,0.1448503428919997,0.1334776782047571,0.13570929458242456,0.14054492590644918,0.13790165088387382,0.1763764382520713,0.11338827424147319,0.09930199799533049,0.11076981362000594,0.09643087709444016,0.10668781112697866,0.09391963406028969,0.0995642817131575,0.9999999999999976,0.10627308298087498,0.07385873540373286,0.07762373529107669,0.07144512306824692,0.0681290952966339,0.07573372739313554,0.07158978539297106,0.07730250217829414,0.0785894778200955,0.0659498103367715,0.07634901145266147,0.0838285658149813,0.08319479358177503,0.06765160998989217,0.05756772325491664,0.04785714932502761,0.04763835744128756,0.07502273621012041,0.08638638840829206,0.04901075193569933,0.06367141656954758,0.06046502569387648,0.049220281259139284,0.043886665316147204,0.04317868491193965,0.035223564052957644,0.08886889623582772,0.048468367820652364,0.04152260606361565],[0.21953245141413327,0.20421226014249674,0.20754664246328666,0.16287205040602046,0.17104500503585485,0.1770435793555013,0.17255939365493458,0.1313965770303504,0.14378950526571305,0.14370313122127482,0.13207068292649532,0.15896208115021823,0.14303483667566508,0.16037334174239654,0.15137861028415248,0.10093196507538561,0.10544564910287,0.09628356846635534,0.10181577999060135,0.09756986206844685,0.08580752297541838,0.10653613355780571,0.10627308298087498,1.0000000000000022,0.07517715516698509,0.07763540718146553,0.06969307911399664,0.05988618328951956,0.06901587712394604,0.07366942581835113,0.07471909193455302,0.08435315347676209,0.07364932510424729,0.06237810174464257,0.07727718812193222,0.07504911168023544,0.09952398660871876,0.0680434611390502,0.05624241156943726,0.04944746082488723,0.057183875154915596,0.07423171916812284,0.05462947009696284,0.048922539137192946,0.04139086061708047,0.09938531230419634,0.03583815520738086,0.04626202685570112,0.04189081034515206,0.07355241890527611,0.042964756267093,0.03663813047546114],[0.19206156743398345,0.19656938184927503,0.18756434101301048,0.1865861241733034,0.18069105618829617,0.1450875332021393,0.15866351421956537,0.14588999248483234,0.16159646012858206,0.14067923129050122,0.1454227687282585,0.1526111984197112,0.16214870240822568,0.12440676573376452,0.1278829949245272,0.18959556269136582,0.1355824896096921,0.10355728271638062,0.1520447947047319,0.12035632577582099,0.10441945830686257,0.08092999131553812,0.07385873540373286,0.07517715516698509,1.0000000000000004,0.07949161928996207,0.09249009357957744,0.08153767652542372,0.08643604067106705,0.08551477551986997,0.09360612194997682,0.08287962528356596,0.09271742465736552,0.07366264684002514,0.0774219082314236,0.06846526613961665,0.07594098241199318,0.06711365996974554,0.09741007176057245,0.11835372133916235,0.08213392495519309,0.0778891912792473,0.053418769133411995,0.036443910019992684,0.08476234364429584,0.033116711538092966,0.05160442207003028,0.08012293137503125,0.06521591863175234,0.04650227068259747,0.0810564926134493,0.0582281169946364],[0.15468917170608174,0.17613628222396827,0.15883170565206733,0.17630441001635905,0.1752920572441894,0.137691014123923,0.1570327805777418,0.17464959277572462,0.15181805995556455,0.12666826719063604,0.13152598063617413,0.12814389234140808,0.1441371141443763,0.12249445296665193,0.1164581898400419,0.1102498601094086,0.10954115367024035,0.12647460709526812,0.09251021739713171,0.12001046308592463,0.07642879449739758,0.07332829096037241,0.07762373529107669,0.07763540718146553,0.07949161928996207,0.9999999999999964,0.09612760931537444,0.08027932128791264,0.07011619714697172,0.07184605442039163,0.11286550228320774,0.09773264650873613,0.062052864556581,0.06974158147717925,0.08647906109031381,0.11614271294171068,0.0560202728309212,0.12539159818767698,0.04979499318220534,0.0680062546731376,0.09046443894870214,0.08136070176203158,0.08554874386796468,0.053079391565933054,0.06303266359671181,0.05667561094444845,0.04488159455543849,0.05064578110472677,0.06867203073473258,0.04798814385335851,0.06358284578008305,0.06852434908629036],[0.15890982816612997,0.18454862383537507,0.1531385232889188,0.19864492215139815,0.16069645829657006,0.13368336598209637,0.14078866389909608,0.1746985366082467,0.15432586204090046,0.11608252767688339,0.1293810630422641,0.1155276460664712,0.1393056156465937,0.1052517088941294,0.10953034724160728,0.15679692543667903,0.1022400849256425,0.10107972489937839,0.10531601448175108,0.11375624374557519,0.08242344541120764,0.08661869624875085,0.07144512306824692,0.06969307911399664,0.09249009357957744,0.09612760931537444,0.9999999999999977,0.17038451376147684,0.08245290289687969,0.06477507521107802,0.08844478515698909,0.053364713620439395,0.0703387345832475,0.0559447177962159,0.0673316508129993,0.08906840832870881,0.054468941687042034,0.08500238131011732,0.05822287989542813,0.07885743211981323,0.08718160639767378,0.04912335645191056,0.06830070414976544,0.051045837269176414,0.08249569004026427,0.03158135146391325,0.07577316438371029,0.05943517291486333,0.0453287422412682,0.048714155686292365,0.08272378913863546,0.06537862604488409],[0.14569784597296342,0.17239127330999485,0.1475880612412641,0.1762550840184421,0.15474773626005253,0.12492392509325592,0.13903434057899916,0.15773867601843233,0.13239583243912414,0.11966085882311031,0.1228676490917058,0.12376057314680884,0.11215831714138193,0.09976270865999931,0.10539647868170161,0.12902340610423849,0.11383438271462772,0.09509551104553934,0.08593894832778093,0.09821584039002001,0.071052795518199,0.06449252981632558,0.0681290952966339,0.05988618328951956,0.08153767652542372,0.08027932128791264,0.17038451376147684,1.000000000000002,0.07639011338964459,0.0708074204521348,0.09345121630642479,0.05149657824574173,0.07343874690266987,0.06175594393834374,0.05918861567416868,0.07978111894194388,0.06311747796986138,0.0942585658365954,0.05736595868685772,0.06795540656564181,0.09109150340867972,0.055512367267669636,0.08264767631787268,0.061435619455539194,0.07841159330505972,0.04212975661086994,0.08021005636488963,0.04349971569519536,0.04942130116954002,0.040767365082413826,0.05062932293836881,0.0740207765751043],[0.17522462731706914,0.1868039393422941,0.16826217646775576,0.1870133111528514,0.16892509046490561,0.13950994418592172,0.1470971124453874,0.13748214451029456,0.14814712412356232,0.17134443692702808,0.1715396089189867,0.14797608123620143,0.1588258993750674,0.12706977265413383,0.12633200651606677,0.1319122407499702,0.1578134121737781,0.10666805627612617,0.12801121925570288,0.09908931520117634,0.09398593387896044,0.06957191151724657,0.07573372739313554,0.06901587712394604,0.08643604067106705,0.07011619714697172,0.08245290289687969,0.07639011338964459,0.999999999999998,0.13395038346370128,0.12876464226367712,0.07045829585678483,0.06568152661202671,0.08728698772489918,0.08938499376755105,0.08265074226680076,0.08058188430319263,0.061130870812159184,0.07665794303956834,0.11457575418251933,0.0866752911322991,0.06361582119608541,0.08940530506770414,0.06628920808040485,0.11147408014386813,0.04118201618649924,0.0692228893335792,0.09596507812426873,0.10919448637190682,0.03596892075423272,0.05983256309725045,0.0611037609167092],[0.168923935049352,0.17531296956312445,0.16818674384307505,0.17160116957021035,0.15614105848688153,0.13105425500533963,0.14098286039955132,0.13773381301959092,0.138959005051839,0.15540204598105048,0.16561095826912797,0.14154919224895657,0.1448137809368583,0.12352667923161757,0.10874981354525079,0.10939569645926672,0.13282249595453816,0.10381870312797752,0.11498092231568872,0.10440784076842463,0.08796331480685915,0.08005593908535158,0.07158978539297106,0.07366942581835113,0.08551477551986997,0.07184605442039163,0.06477507521107802,0.0708074204521348,0.13395038346370128,1.0000000000000018,0.11183461064690561,0.08287371405378276,0.06348182172446351,0.09190958987765223,0.09213125759549452,0.05782987558199741,0.07854770375972614,0.05662630863006054,0.06180232362023791,0.07785950420511367,0.07709937282242316,0.06691518297869244,0.09711948748018565,0.06403800794698884,0.07450199452248057,0.04539167292031069,0.05813461721174347,0.042216024427797205,0.0959374262568074,0.026274782126025024,0.0478318865181221,0.04847601718687659],[0.1737255450052302,0.19445571989474653,0.18328698966980597,0.17613303428587562,0.16670495220555778,0.1488927071053663,0.18942837319167816,0.1619917460143689,0.13534799314923232,0.15916308291931774,0.16453454742130597,0.1396697639871308,0.1454181224936298,0.11948486993703686,0.11394043798035698,0.11845284057976653,0.16525353806853613,0.1136375315000276,0.1195623637447144,0.11085748179426742,0.0978526910099433,0.07977854143681865,0.07730250217829414,0.07471909193455302,0.09360612194997682,0.11286550228320774,0.08844478515698909,0.09345121630642479,0.12876464226367712,0.11183461064690561,1.000000000000001,0.08612322156083714,0.07568088638922021,0.10163301182504075,0.07432044093127056,0.08051118228885677,0.09037441728163934,0.07117295717220105,0.06321185149353424,0.09442139412051849,0.076346471899548,0.06433056411883127,0.14493349832485944,0.08312318127060592,0.09463404527206347,0.03911610563085517,0.06029253384029585,0.06932654398715941,0.0865891670633579,0.031177375198945735,0.07420042211584713,0.06611238886882174],[0.1730355060571744,0.1613156536948921,0.17236857221398724,0.13858017502133882,0.15463752053249585,0.1222195809642807,0.13283472930041923,0.12213259248949365,0.13020609175628803,0.12515194541162322,0.11894304782712034,0.13816745845363562,0.12303748787977539,0.12392020551030018,0.09858808220023114,0.09104554528193526,0.09838952421192508,0.10386973813843225,0.09822063907401277,0.09611259174849705,0.09100019685079078,0.07828258030542773,0.0785894778200955,0.08435315347676209,0.08287962528356596,0.09773264650873613,0.053364713620439395,0.05149657824574173,0.07045829585678483,0.08287371405378276,0.08612322156083714,0.9999999999999971,0.055094476843087034,0.07824255611932059,0.06585747351472267,0.060896112133396595,0.06440202427627498,0.05723043784467607,0.061052657932693336,0.05002349756483411,0.07211964366130667,0.0667264370088001,0.03786223291345893,0.04512046059502377,0.05375439881477934,0.06018611904683184,0.03517678967049166,0.03486291104493405,0.03793973661439963,0.052025350972442236,0.04818073482092475,0.04224900098872045],[0.1536733389097165,0.15788959996944057,0.1519872168880087,0.14027106298414874,0.13517183514915898,0.11910751094129629,0.11605654599920459,0.1357046141455108,0.11561644586216858,0.11186932001588941,0.11148490743252464,0.106156428170156,0.105754172824641,0.08645016222915322,0.10488530660385682,0.09802092615161187,0.09872570086832488,0.09484273053348925,0.08510774909273013,0.0762458087224646,0.07542643035488347,0.07663215854079994,0.0659498103367715,0.07364932510424729,0.09271742465736552,0.062052864556581,0.0703387345832475,0.07343874690266987,0.06568152661202671,0.06348182172446351,0.07568088638922021,0.055094476843087034,0.9999999999999987,0.05874643389225837,0.05606916202703746,0.07403582598118706,0.052015444860659385,0.0691492268291167,0.06336720482312722,0.06186094538593416,0.06670880374212704,0.05073595672600064,0.03363053901787827,0.040746104703846264,0.06937762405166997,0.05245740324917096,0.05435094612261538,0.038774663392794555,0.0536695351614908,0.035091302459440483,0.06255970515562681,0.035826155110452916],[0.17202802655060936,0.1843727327632404,0.17230738700927734,0.16629962840790538,0.15587570110291252,0.14250563883647402,0.15182542344373137,0.13917901282584974,0.12859623954818153,0.1502126847657032,0.14548854065489134,0.13217518974657266,0.12433956071473286,0.11162494123374896,0.11256335693992753,0.11251150373194367,0.12098281699465963,0.08808102409072739,0.1009495763212448,0.0910159482824396,0.09762664285133159,0.08955510585145836,0.07634901145266147,0.06237810174464257,0.07366264684002514,0.06974158147717925,0.0559447177962159,0.06175594393834374,0.08728698772489918,0.09190958987765223,0.10163301182504075,0.07824255611932059,0.05874643389225837,0.9999999999999988,0.08741207211126299,0.06507942720921614,0.07560623346781048,0.068639370519573,0.052167407423809986,0.06707257031265279,0.0788338046258151,0.07222134324027532,0.052885775662751586,0.06172226645445615,0.05599131150209689,0.033618331238913425,0.046151503915773426,0.052351275610975745,0.05334425462653291,0.04109590905422961,0.043050853764204255,0.04127096624935042],[0.1686117772182171,0.17863742555756948,0.17656635594653394,0.16451948270687544,0.15719061098146322,0.14388788577809133,0.15157547753776043,0.12739007773871175,0.13059524582376103,0.1428608508522214,0.1269602215659701,0.1488305944618046,0.14482153013805185,0.11718241066303997,0.1121686954181882,0.10339646449945405,0.11601810808634962,0.09053879083940551,0.08786289240381821,0.11494118053153182,0.09015341929748312,0.08273799472605552,0.0838285658149813,0.07727718812193222,0.0774219082314236,0.08647906109031381,0.0673316508129993,0.05918861567416868,0.08938499376755105,0.09213125759549452,0.07432044093127056,0.06585747351472267,0.05606916202703746,0.08741207211126299,1.0000000000000029,0.08385784023939456,0.05633602877217888,0.07155708621496046,0.04631986580056023,0.05479875834450046,0.053702406049210526,0.06477541164578304,0.048951391923692376,0.06879140381147306,0.06936815780100833,0.06461560186881354,0.04755602836526997,0.05579286226309341,0.049854458459780183,0.051122328729842875,0.051145985888315024,0.06054180243850546],[0.18078594572057635,0.1847978198120825,0.17445293372451376,0.16110168383049656,0.16569093542477034,0.14573867125230783,0.1471790490848575,0.15632403358671737,0.12314342621428342,0.14500219519204466,0.122907813710173,0.14217421965464128,0.12854248515038744,0.11801530236695053,0.11119210561218969,0.10538042248395732,0.09367321143232944,0.1096078129398671,0.10624264941338955,0.103836441044687,0.08771551614726895,0.09647729995081392,0.08319479358177503,0.07504911168023544,0.06846526613961665,0.11614271294171068,0.08906840832870881,0.07978111894194388,0.08265074226680076,0.05782987558199741,0.08051118228885677,0.060896112133396595,0.07403582598118706,0.06507942720921614,0.08385784023939456,0.9999999999999992,0.05789020664601198,0.11062374632599602,0.046856893531275784,0.056879938893838584,0.09788940065292955,0.06078603030748403,0.060390652381571416,0.05481333885841682,0.07011543077444811,0.0801117082513777,0.048667306601609034,0.04925827310235979,0.05112283004787878,0.03920282271131826,0.060791649284399195,0.06943095972090424],[0.1529934645281964,0.16959928416039916,0.1627840088601564,0.14581725308937937,0.13481442214709452,0.11963501770127147,0.12612746953840484,0.11261308968716999,0.12527930394844194,0.13334460257925168,0.13813683408193023,0.11670621053060247,0.12134223358840056,0.11748728883687246,0.09543749439572881,0.1057705564009936,0.1094578308936642,0.08873093040718334,0.0945101759170947,0.08165863675111977,0.07433057479950327,0.09655031822703278,0.06765160998989217,0.09952398660871876,0.07594098241199318,0.0560202728309212,0.054468941687042034,0.06311747796986138,0.08058188430319263,0.07854770375972614,0.09037441728163934,0.06440202427627498,0.052015444860659385,0.07560623346781048,0.05633602877217888,0.05789020664601198,0.9999999999999961,0.056730939309706546,0.06168200188063185,0.07597886144030858,0.05015719694875813,0.07834414516411542,0.044860110251821426,0.03656910088985718,0.051658706668147945,0.035838917497825556,0.0385887075943067,0.04004539744591603,0.040470239311195505,0.017266519685822077,0.026729667558033566,0.032472018040819006],[0.13440939779886563,0.15544547634923295,0.1334204979526248,0.15066734722109493,0.1297070457768122,0.11665392314053034,0.12214095810796566,0.12451881235106116,0.11534340767074679,0.11775894357556702,0.1105998583914126,0.10383137858858703,0.10412623388658454,0.08888538191451309,0.09983500135335525,0.10394941349933699,0.11856147264306327,0.09981720560918576,0.08694756985366396,0.09233340964808451,0.07586241084897082,0.0698970399975783,0.05756772325491664,0.0680434611390502,0.06711365996974554,0.12539159818767698,0.08500238131011732,0.0942585658365954,0.061130870812159184,0.05662630863006054,0.07117295717220105,0.05723043784467607,0.0691492268291167,0.068639370519573,0.07155708621496046,0.11062374632599602,0.056730939309706546,0.9999999999999982,0.04407167553472131,0.06314814280212833,0.10249663062431,0.050525598691643234,0.06778410153566664,0.04320401849755101,0.0705717695789151,0.03345983401146201,0.05406190624429144,0.045045905708687925,0.04762566811757312,0.047849221674157186,0.057530508852412954,0.043139635211950786],[0.1085213445285444,0.11948190391675598,0.10673246886221474,0.13089257881431812,0.11232196057602835,0.09468930771289231,0.11149504080213615,0.09660263449533946,0.13246777496929182,0.09839858088331098,0.11313091710970477,0.09539521422566179,0.10576774590309518,0.08260509275555362,0.09026977557566024,0.12602636978443346,0.1199767497456978,0.08504613873246387,0.15269780701994312,0.07480844128452566,0.07322094420013141,0.05091903398534609,0.04785714932502761,0.05624241156943726,0.09741007176057245,0.04979499318220534,0.05822287989542813,0.05736595868685772,0.07665794303956834,0.06180232362023791,0.06321185149353424,0.061052657932693336,0.06336720482312722,0.052167407423809986,0.04631986580056023,0.046856893531275784,0.06168200188063185,0.04407167553472131,1.000000000000001,0.10804888696328577,0.08252960987185712,0.05983123009179525,0.05734362672225127,0.03736396922084157,0.08253735548902476,0.027067223495392704,0.05024346085778816,0.08874724883351148,0.05531171475495165,0.03412160245929756,0.05143048249779353,0.03133025805774251],[0.11595216078406405,0.1347870503197784,0.10761636859953383,0.14978564718743081,0.11466295113919898,0.10691439203425572,0.11812828209014396,0.1001427271443892,0.11687988562486555,0.0973613823705601,0.11588976166886937,0.09542312706294351,0.11058632627354889,0.07577592660475838,0.07550155942920775,0.17146143517409682,0.11085396612147118,0.08988371321612679,0.11093810688713347,0.09031218972924614,0.05759540130428343,0.053021294269566456,0.04763835744128756,0.04944746082488723,0.11835372133916235,0.0680062546731376,0.07885743211981323,0.06795540656564181,0.11457575418251933,0.07785950420511367,0.09442139412051849,0.05002349756483411,0.06186094538593416,0.06707257031265279,0.05479875834450046,0.056879938893838584,0.07597886144030858,0.06314814280212833,0.10804888696328577,0.9999999999999991,0.06683460915246833,0.06837049990967088,0.06354573063897646,0.04240047686792602,0.0893302265721953,0.025684980907453348,0.05526479454137964,0.0572285185153849,0.044438564365531286,0.03541359493309428,0.050226112634856226,0.07122892337806361],[0.12516110456324725,0.1488045883972129,0.12229837525428451,0.1522759962307707,0.1562722230486285,0.11420943935971398,0.13324998739962973,0.16722166315154277,0.13409952852106094,0.11111790879360992,0.12460796434279578,0.10658190332517593,0.12491950911092264,0.1024622860337666,0.09605672010305394,0.11011179165996797,0.11812012816862742,0.12107370722986519,0.11665685792097581,0.1472616670253833,0.08709008637308384,0.06380600873883649,0.07502273621012041,0.057183875154915596,0.08213392495519309,0.09046443894870214,0.08718160639767378,0.09109150340867972,0.0866752911322991,0.07709937282242316,0.076346471899548,0.07211964366130667,0.06670880374212704,0.0788338046258151,0.053702406049210526,0.09788940065292955,0.05015719694875813,0.10249663062431,0.08252960987185712,0.06683460915246833,0.9999999999999988,0.07002594414409048,0.06829993286658133,0.05535508712296168,0.09521978183488637,0.03555063680693714,0.08266440619075321,0.05608541998787054,0.054534408389951564,0.04622742418683732,0.0921919521548516,0.07346886240859761],[0.13047211034819486,0.1449226403688481,0.13045322403216383,0.12546401636618115,0.12910468018242865,0.13275046248313674,0.10521905107702338,0.12753516811498047,0.1168563175135379,0.10542154104851637,0.10402960505110463,0.11840316063964285,0.10540317580011253,0.0942341819878572,0.11458675123559663,0.09784483863945143,0.09022798280489401,0.10035096336609885,0.08474904014150761,0.09970359729794767,0.08546615726337083,0.0595950095013457,0.08638638840829206,0.07423171916812284,0.0778891912792473,0.08136070176203158,0.04912335645191056,0.055512367267669636,0.06361582119608541,0.06691518297869244,0.06433056411883127,0.0667264370088001,0.05073595672600064,0.07222134324027532,0.06477541164578304,0.06078603030748403,0.07834414516411542,0.050525598691643234,0.05983123009179525,0.06837049990967088,0.07002594414409048,0.9999999999999997,0.02790830802396302,0.033957075770228565,0.048632352443910974,0.027167033586293368,0.050363056310882365,0.05489197561248062,0.02602433470435643,0.06440569498826425,0.04396966622476413,0.05809107336734444],[0.08221939750967736,0.10189497497312766,0.0889594630807845,0.10916417638658905,0.09539013778480987,0.08099411560943802,0.14643223034937963,0.0938389401583752,0.09832120675427986,0.0965591208412266,0.11698384318382687,0.09640703305357236,0.09374099660438465,0.06932955071130442,0.06872388667486617,0.06893524455370237,0.10329129863471943,0.08869039402225633,0.0871524850811784,0.07182318062505058,0.0486474192885173,0.044748440295458006,0.04901075193569933,0.05462947009696284,0.053418769133411995,0.08554874386796468,0.06830070414976544,0.08264767631787268,0.08940530506770414,0.09711948748018565,0.14493349832485944,0.03786223291345893,0.03363053901787827,0.052885775662751586,0.048951391923692376,0.060390652381571416,0.044860110251821426,0.06778410153566664,0.05734362672225127,0.06354573063897646,0.06829993286658133,0.02790830802396302,0.9999999999999993,0.0722160413475149,0.07032585037118763,0.016755857634108737,0.0793337214414774,0.03890154506468295,0.09627176112543456,0.020358600078900137,0.024237056405275268,0.03497704841369292],[0.10038712768101292,0.11202198487635914,0.10741644498501667,0.11160088066563305,0.10075606613620287,0.10462288428735173,0.11287554125685868,0.09195399417063989,0.07079194592199754,0.08275083700381215,0.0887907615758965,0.08711044182504794,0.08369842196939581,0.07899868231422738,0.09434920443882938,0.07498887960918528,0.07124583840878582,0.06214858202097288,0.0628131634432969,0.05939741305910466,0.05367884629323055,0.05033038803608059,0.06367141656954758,0.048922539137192946,0.036443910019992684,0.053079391565933054,0.051045837269176414,0.061435619455539194,0.06628920808040485,0.06403800794698884,0.08312318127060592,0.04512046059502377,0.040746104703846264,0.06172226645445615,0.06879140381147306,0.05481333885841682,0.03656910088985718,0.04320401849755101,0.03736396922084157,0.04240047686792602,0.05535508712296168,0.033957075770228565,0.0722160413475149,1.0000000000000013,0.04540857987964112,0.02692577475849864,0.021822834790897333,0.042610261844998436,0.04015467884910557,0.03583152783272271,0.034669786676867376,0.025573401279076428],[0.11612249067857326,0.14752155795448496,0.1158803919971029,0.16529572420263872,0.12841993344271477,0.10864088614555935,0.12144785973513643,0.12072714458845621,0.10502387281720345,0.10845567470713502,0.1137060398707926,0.10417274043555885,0.09329181564548736,0.09220476595071446,0.0868337975691441,0.11323833810885801,0.1176555060112748,0.08867041881828194,0.09662818758103953,0.10226786847228998,0.08402633103361642,0.05314539530833469,0.06046502569387648,0.04139086061708047,0.08476234364429584,0.06303266359671181,0.08249569004026427,0.07841159330505972,0.11147408014386813,0.07450199452248057,0.09463404527206347,0.05375439881477934,0.06937762405166997,0.05599131150209689,0.06936815780100833,0.07011543077444811,0.051658706668147945,0.0705717695789151,0.08253735548902476,0.0893302265721953,0.09521978183488637,0.048632352443910974,0.07032585037118763,0.04540857987964112,0.9999999999999982,0.02418940817794625,0.09383682687817954,0.06906450541225366,0.061624279734849574,0.04567016500809837,0.07760505102696769,0.3249785653664754],[0.13394471434529925,0.1195381177237527,0.1271701818359351,0.09409048214394845,0.0979101867656823,0.08389995962829973,0.08953080686096308,0.07955509369410617,0.08115654475956433,0.10323205007694192,0.08068402768321582,0.0948866725879826,0.07747163691600017,0.08979497282114283,0.06265814890265337,0.05937794507711809,0.05907281818781277,0.07082911691473039,0.04716687141062714,0.0542885350086474,0.04306300300014599,0.09024312436378133,0.049220281259139284,0.09938531230419634,0.033116711538092966,0.05667561094444845,0.03158135146391325,0.04212975661086994,0.04118201618649924,0.04539167292031069,0.03911610563085517,0.06018611904683184,0.05245740324917096,0.033618331238913425,0.06461560186881354,0.0801117082513777,0.035838917497825556,0.03345983401146201,0.027067223495392704,0.025684980907453348,0.03555063680693714,0.027167033586293368,0.016755857634108737,0.02692577475849864,0.02418940817794625,0.9999999999999999,0.015900575920268396,0.023137018277165695,0.020045239439964637,0.017921172683685125,0.017866851835354403,0.019628561166089905],[0.08654125625828296,0.10811579953860467,0.08855651542865578,0.10212772576280268,0.08747123162122127,0.08052581473319984,0.08649984531797923,0.0895085796139567,0.08662213378546109,0.07669460611387025,0.07697724315677473,0.06866980432468762,0.07665299720159535,0.06496591055147677,0.06560947573661015,0.082472070145864,0.09004393766888218,0.05997022294906325,0.07243219676253439,0.07979911087565192,0.06384087012242817,0.04601446477038288,0.043886665316147204,0.03583815520738086,0.05160442207003028,0.04488159455543849,0.07577316438371029,0.08021005636488963,0.0692228893335792,0.05813461721174347,0.06029253384029585,0.03517678967049166,0.05435094612261538,0.046151503915773426,0.04755602836526997,0.048667306601609034,0.0385887075943067,0.05406190624429144,0.05024346085778816,0.05526479454137964,0.08266440619075321,0.050363056310882365,0.0793337214414774,0.021822834790897333,0.09383682687817954,0.015900575920268396,1.0000000000000009,0.0680266614749785,0.047187929014846836,0.025431285837669834,0.05495142390849705,0.08553802372534758],[0.09413792385530359,0.10776138638548055,0.09381797702247437,0.10632240154120667,0.0906925179129277,0.08163313135180025,0.10313835709385791,0.08334679222441073,0.10510989857416991,0.08834605649917159,0.08071405237953748,0.08441446581854686,0.08808257809694907,0.06615515159756317,0.0793723241262681,0.10895394132288276,0.1056646660681346,0.05839250284885173,0.09068453330233382,0.08088499259038207,0.0799581218428954,0.047902508898473486,0.04317868491193965,0.04626202685570112,0.08012293137503125,0.05064578110472677,0.05943517291486333,0.04349971569519536,0.09596507812426873,0.042216024427797205,0.06932654398715941,0.03486291104493405,0.038774663392794555,0.052351275610975745,0.05579286226309341,0.04925827310235979,0.04004539744591603,0.045045905708687925,0.08874724883351148,0.0572285185153849,0.05608541998787054,0.05489197561248062,0.03890154506468295,0.042610261844998436,0.06906450541225366,0.023137018277165695,0.0680266614749785,1.0,0.09518335981751802,0.050597564970961906,0.03656468280542844,0.0526260848529269],[0.08076653039159543,0.0921518676961539,0.08191835007470184,0.09409675116858192,0.09421516891051879,0.07723465065157703,0.08460912142005443,0.09940863696688448,0.0799528397171973,0.09783319223639177,0.10045674244164567,0.08843834491819307,0.09727248172643056,0.06455779699849339,0.07970304107447494,0.06815805841846537,0.12261673737196968,0.06871154095653376,0.0837931999057585,0.0736962198122683,0.041100784335456345,0.04495806242716857,0.035223564052957644,0.04189081034515206,0.06521591863175234,0.06867203073473258,0.0453287422412682,0.04942130116954002,0.10919448637190682,0.0959374262568074,0.0865891670633579,0.03793973661439963,0.0536695351614908,0.05334425462653291,0.049854458459780183,0.05112283004787878,0.040470239311195505,0.04762566811757312,0.05531171475495165,0.044438564365531286,0.054534408389951564,0.02602433470435643,0.09627176112543456,0.04015467884910557,0.061624279734849574,0.020045239439964637,0.047187929014846836,0.09518335981751802,1.0000000000000002,0.02344667191177516,0.047142011182673145,0.05447147290933962],[0.0858257350523538,0.08469090479546107,0.08681947181555491,0.07176876351296542,0.07694655063622544,0.12608771316293615,0.083866196705015,0.07358369887277279,0.08532544722090919,0.061133388202095365,0.06484799645583596,0.06808117973226213,0.05851324004077576,0.05268286331517739,0.1315395558445944,0.07176225284908638,0.03794582466137429,0.06778532034106201,0.06180943381730589,0.08719244164212418,0.04281973069395653,0.04582870242583705,0.08886889623582772,0.07355241890527611,0.04650227068259747,0.04798814385335851,0.048714155686292365,0.040767365082413826,0.03596892075423272,0.026274782126025024,0.031177375198945735,0.052025350972442236,0.035091302459440483,0.04109590905422961,0.051122328729842875,0.03920282271131826,0.017266519685822077,0.047849221674157186,0.03412160245929756,0.03541359493309428,0.04622742418683732,0.06440569498826425,0.020358600078900137,0.03583152783272271,0.04567016500809837,0.017921172683685125,0.025431285837669834,0.050597564970961906,0.02344667191177516,1.0,0.08102300855013768,0.05271875481581213],[0.08622506384838458,0.1089447458276339,0.08462292953200269,0.12214553141679094,0.09628560475902115,0.08129257768205919,0.08881186377146463,0.11477625260279849,0.08437613046596874,0.07937000905785024,0.09316973619105198,0.07460921669962363,0.08312790614590734,0.06396185481928629,0.07558343176386453,0.08987806125855283,0.07950396333775063,0.0822776839702847,0.06827174970263182,0.1083934672841153,0.05814422554158515,0.037161403311963256,0.048468367820652364,0.042964756267093,0.0810564926134493,0.06358284578008305,0.08272378913863546,0.05062932293836881,0.05983256309725045,0.0478318865181221,0.07420042211584713,0.04818073482092475,0.06255970515562681,0.043050853764204255,0.051145985888315024,0.060791649284399195,0.026729667558033566,0.057530508852412954,0.05143048249779353,0.050226112634856226,0.0921919521548516,0.04396966622476413,0.024237056405275268,0.034669786676867376,0.07760505102696769,0.017866851835354403,0.05495142390849705,0.03656468280542844,0.047142011182673145,0.08102300855013768,1.0,0.06548561113371665],[0.08041648584649616,0.09187880208301202,0.07585331017930741,0.1060399090575511,0.08063065735403746,0.07094736916401016,0.07805257966364021,0.08791885092489334,0.08714948366129283,0.07250048090820634,0.0794992046124121,0.06786000139501538,0.06661475405329902,0.061150204203845995,0.06481395474358563,0.07346873219977804,0.06581123848286324,0.06644077471173553,0.06267061533432271,0.09703086680264318,0.0565809986838887,0.03967738017042037,0.04152260606361565,0.03663813047546114,0.0582281169946364,0.06852434908629036,0.06537862604488409,0.0740207765751043,0.0611037609167092,0.04847601718687659,0.06611238886882174,0.04224900098872045,0.035826155110452916,0.04127096624935042,0.06054180243850546,0.06943095972090424,0.032472018040819006,0.043139635211950786,0.03133025805774251,0.07122892337806361,0.07346886240859761,0.05809107336734444,0.03497704841369292,0.025573401279076428,0.3249785653664754,0.019628561166089905,0.08553802372534758,0.0526260848529269,0.05447147290933962,0.05271875481581213,0.06548561113371665,1.0]],\"type\":\"heatmap\",\"xaxis\":\"x\",\"yaxis\":\"y\",\"hovertemplate\":\"x: %{x}<br>y: %{y}<br>Similarity Score: %{z}<extra></extra>\"}],                        {\"template\":{\"data\":{\"histogram2dcontour\":[{\"type\":\"histogram2dcontour\",\"colorbar\":{\"outlinewidth\":0,\"ticks\":\"\"},\"colorscale\":[[0.0,\"#0d0887\"],[0.1111111111111111,\"#46039f\"],[0.2222222222222222,\"#7201a8\"],[0.3333333333333333,\"#9c179e\"],[0.4444444444444444,\"#bd3786\"],[0.5555555555555556,\"#d8576b\"],[0.6666666666666666,\"#ed7953\"],[0.7777777777777778,\"#fb9f3a\"],[0.8888888888888888,\"#fdca26\"],[1.0,\"#f0f921\"]]}],\"choropleth\":[{\"type\":\"choropleth\",\"colorbar\":{\"outlinewidth\":0,\"ticks\":\"\"}}],\"histogram2d\":[{\"type\":\"histogram2d\",\"colorbar\":{\"outlinewidth\":0,\"ticks\":\"\"},\"colorscale\":[[0.0,\"#0d0887\"],[0.1111111111111111,\"#46039f\"],[0.2222222222222222,\"#7201a8\"],[0.3333333333333333,\"#9c179e\"],[0.4444444444444444,\"#bd3786\"],[0.5555555555555556,\"#d8576b\"],[0.6666666666666666,\"#ed7953\"],[0.7777777777777778,\"#fb9f3a\"],[0.8888888888888888,\"#fdca26\"],[1.0,\"#f0f921\"]]}],\"heatmap\":[{\"type\":\"heatmap\",\"colorbar\":{\"outlinewidth\":0,\"ticks\":\"\"},\"colorscale\":[[0.0,\"#0d0887\"],[0.1111111111111111,\"#46039f\"],[0.2222222222222222,\"#7201a8\"],[0.3333333333333333,\"#9c179e\"],[0.4444444444444444,\"#bd3786\"],[0.5555555555555556,\"#d8576b\"],[0.6666666666666666,\"#ed7953\"],[0.7777777777777778,\"#fb9f3a\"],[0.8888888888888888,\"#fdca26\"],[1.0,\"#f0f921\"]]}],\"heatmapgl\":[{\"type\":\"heatmapgl\",\"colorbar\":{\"outlinewidth\":0,\"ticks\":\"\"},\"colorscale\":[[0.0,\"#0d0887\"],[0.1111111111111111,\"#46039f\"],[0.2222222222222222,\"#7201a8\"],[0.3333333333333333,\"#9c179e\"],[0.4444444444444444,\"#bd3786\"],[0.5555555555555556,\"#d8576b\"],[0.6666666666666666,\"#ed7953\"],[0.7777777777777778,\"#fb9f3a\"],[0.8888888888888888,\"#fdca26\"],[1.0,\"#f0f921\"]]}],\"contourcarpet\":[{\"type\":\"contourcarpet\",\"colorbar\":{\"outlinewidth\":0,\"ticks\":\"\"}}],\"contour\":[{\"type\":\"contour\",\"colorbar\":{\"outlinewidth\":0,\"ticks\":\"\"},\"colorscale\":[[0.0,\"#0d0887\"],[0.1111111111111111,\"#46039f\"],[0.2222222222222222,\"#7201a8\"],[0.3333333333333333,\"#9c179e\"],[0.4444444444444444,\"#bd3786\"],[0.5555555555555556,\"#d8576b\"],[0.6666666666666666,\"#ed7953\"],[0.7777777777777778,\"#fb9f3a\"],[0.8888888888888888,\"#fdca26\"],[1.0,\"#f0f921\"]]}],\"surface\":[{\"type\":\"surface\",\"colorbar\":{\"outlinewidth\":0,\"ticks\":\"\"},\"colorscale\":[[0.0,\"#0d0887\"],[0.1111111111111111,\"#46039f\"],[0.2222222222222222,\"#7201a8\"],[0.3333333333333333,\"#9c179e\"],[0.4444444444444444,\"#bd3786\"],[0.5555555555555556,\"#d8576b\"],[0.6666666666666666,\"#ed7953\"],[0.7777777777777778,\"#fb9f3a\"],[0.8888888888888888,\"#fdca26\"],[1.0,\"#f0f921\"]]}],\"mesh3d\":[{\"type\":\"mesh3d\",\"colorbar\":{\"outlinewidth\":0,\"ticks\":\"\"}}],\"scatter\":[{\"fillpattern\":{\"fillmode\":\"overlay\",\"size\":10,\"solidity\":0.2},\"type\":\"scatter\"}],\"parcoords\":[{\"type\":\"parcoords\",\"line\":{\"colorbar\":{\"outlinewidth\":0,\"ticks\":\"\"}}}],\"scatterpolargl\":[{\"type\":\"scatterpolargl\",\"marker\":{\"colorbar\":{\"outlinewidth\":0,\"ticks\":\"\"}}}],\"bar\":[{\"error_x\":{\"color\":\"#2a3f5f\"},\"error_y\":{\"color\":\"#2a3f5f\"},\"marker\":{\"line\":{\"color\":\"#E5ECF6\",\"width\":0.5},\"pattern\":{\"fillmode\":\"overlay\",\"size\":10,\"solidity\":0.2}},\"type\":\"bar\"}],\"scattergeo\":[{\"type\":\"scattergeo\",\"marker\":{\"colorbar\":{\"outlinewidth\":0,\"ticks\":\"\"}}}],\"scatterpolar\":[{\"type\":\"scatterpolar\",\"marker\":{\"colorbar\":{\"outlinewidth\":0,\"ticks\":\"\"}}}],\"histogram\":[{\"marker\":{\"pattern\":{\"fillmode\":\"overlay\",\"size\":10,\"solidity\":0.2}},\"type\":\"histogram\"}],\"scattergl\":[{\"type\":\"scattergl\",\"marker\":{\"colorbar\":{\"outlinewidth\":0,\"ticks\":\"\"}}}],\"scatter3d\":[{\"type\":\"scatter3d\",\"line\":{\"colorbar\":{\"outlinewidth\":0,\"ticks\":\"\"}},\"marker\":{\"colorbar\":{\"outlinewidth\":0,\"ticks\":\"\"}}}],\"scattermapbox\":[{\"type\":\"scattermapbox\",\"marker\":{\"colorbar\":{\"outlinewidth\":0,\"ticks\":\"\"}}}],\"scatterternary\":[{\"type\":\"scatterternary\",\"marker\":{\"colorbar\":{\"outlinewidth\":0,\"ticks\":\"\"}}}],\"scattercarpet\":[{\"type\":\"scattercarpet\",\"marker\":{\"colorbar\":{\"outlinewidth\":0,\"ticks\":\"\"}}}],\"carpet\":[{\"aaxis\":{\"endlinecolor\":\"#2a3f5f\",\"gridcolor\":\"white\",\"linecolor\":\"white\",\"minorgridcolor\":\"white\",\"startlinecolor\":\"#2a3f5f\"},\"baxis\":{\"endlinecolor\":\"#2a3f5f\",\"gridcolor\":\"white\",\"linecolor\":\"white\",\"minorgridcolor\":\"white\",\"startlinecolor\":\"#2a3f5f\"},\"type\":\"carpet\"}],\"table\":[{\"cells\":{\"fill\":{\"color\":\"#EBF0F8\"},\"line\":{\"color\":\"white\"}},\"header\":{\"fill\":{\"color\":\"#C8D4E3\"},\"line\":{\"color\":\"white\"}},\"type\":\"table\"}],\"barpolar\":[{\"marker\":{\"line\":{\"color\":\"#E5ECF6\",\"width\":0.5},\"pattern\":{\"fillmode\":\"overlay\",\"size\":10,\"solidity\":0.2}},\"type\":\"barpolar\"}],\"pie\":[{\"automargin\":true,\"type\":\"pie\"}]},\"layout\":{\"autotypenumbers\":\"strict\",\"colorway\":[\"#636efa\",\"#EF553B\",\"#00cc96\",\"#ab63fa\",\"#FFA15A\",\"#19d3f3\",\"#FF6692\",\"#B6E880\",\"#FF97FF\",\"#FECB52\"],\"font\":{\"color\":\"#2a3f5f\"},\"hovermode\":\"closest\",\"hoverlabel\":{\"align\":\"left\"},\"paper_bgcolor\":\"white\",\"plot_bgcolor\":\"#E5ECF6\",\"polar\":{\"bgcolor\":\"#E5ECF6\",\"angularaxis\":{\"gridcolor\":\"white\",\"linecolor\":\"white\",\"ticks\":\"\"},\"radialaxis\":{\"gridcolor\":\"white\",\"linecolor\":\"white\",\"ticks\":\"\"}},\"ternary\":{\"bgcolor\":\"#E5ECF6\",\"aaxis\":{\"gridcolor\":\"white\",\"linecolor\":\"white\",\"ticks\":\"\"},\"baxis\":{\"gridcolor\":\"white\",\"linecolor\":\"white\",\"ticks\":\"\"},\"caxis\":{\"gridcolor\":\"white\",\"linecolor\":\"white\",\"ticks\":\"\"}},\"coloraxis\":{\"colorbar\":{\"outlinewidth\":0,\"ticks\":\"\"}},\"colorscale\":{\"sequential\":[[0.0,\"#0d0887\"],[0.1111111111111111,\"#46039f\"],[0.2222222222222222,\"#7201a8\"],[0.3333333333333333,\"#9c179e\"],[0.4444444444444444,\"#bd3786\"],[0.5555555555555556,\"#d8576b\"],[0.6666666666666666,\"#ed7953\"],[0.7777777777777778,\"#fb9f3a\"],[0.8888888888888888,\"#fdca26\"],[1.0,\"#f0f921\"]],\"sequentialminus\":[[0.0,\"#0d0887\"],[0.1111111111111111,\"#46039f\"],[0.2222222222222222,\"#7201a8\"],[0.3333333333333333,\"#9c179e\"],[0.4444444444444444,\"#bd3786\"],[0.5555555555555556,\"#d8576b\"],[0.6666666666666666,\"#ed7953\"],[0.7777777777777778,\"#fb9f3a\"],[0.8888888888888888,\"#fdca26\"],[1.0,\"#f0f921\"]],\"diverging\":[[0,\"#8e0152\"],[0.1,\"#c51b7d\"],[0.2,\"#de77ae\"],[0.3,\"#f1b6da\"],[0.4,\"#fde0ef\"],[0.5,\"#f7f7f7\"],[0.6,\"#e6f5d0\"],[0.7,\"#b8e186\"],[0.8,\"#7fbc41\"],[0.9,\"#4d9221\"],[1,\"#276419\"]]},\"xaxis\":{\"gridcolor\":\"white\",\"linecolor\":\"white\",\"ticks\":\"\",\"title\":{\"standoff\":15},\"zerolinecolor\":\"white\",\"automargin\":true,\"zerolinewidth\":2},\"yaxis\":{\"gridcolor\":\"white\",\"linecolor\":\"white\",\"ticks\":\"\",\"title\":{\"standoff\":15},\"zerolinecolor\":\"white\",\"automargin\":true,\"zerolinewidth\":2},\"scene\":{\"xaxis\":{\"backgroundcolor\":\"#E5ECF6\",\"gridcolor\":\"white\",\"linecolor\":\"white\",\"showbackground\":true,\"ticks\":\"\",\"zerolinecolor\":\"white\",\"gridwidth\":2},\"yaxis\":{\"backgroundcolor\":\"#E5ECF6\",\"gridcolor\":\"white\",\"linecolor\":\"white\",\"showbackground\":true,\"ticks\":\"\",\"zerolinecolor\":\"white\",\"gridwidth\":2},\"zaxis\":{\"backgroundcolor\":\"#E5ECF6\",\"gridcolor\":\"white\",\"linecolor\":\"white\",\"showbackground\":true,\"ticks\":\"\",\"zerolinecolor\":\"white\",\"gridwidth\":2}},\"shapedefaults\":{\"line\":{\"color\":\"#2a3f5f\"}},\"annotationdefaults\":{\"arrowcolor\":\"#2a3f5f\",\"arrowhead\":0,\"arrowwidth\":1},\"geo\":{\"bgcolor\":\"white\",\"landcolor\":\"#E5ECF6\",\"subunitcolor\":\"white\",\"showland\":true,\"showlakes\":true,\"lakecolor\":\"white\"},\"title\":{\"x\":0.05},\"mapbox\":{\"style\":\"light\"}}},\"xaxis\":{\"anchor\":\"y\",\"domain\":[0.0,1.0],\"scaleanchor\":\"y\",\"constrain\":\"domain\"},\"yaxis\":{\"anchor\":\"x\",\"domain\":[0.0,1.0],\"autorange\":\"reversed\",\"constrain\":\"domain\"},\"coloraxis\":{\"colorbar\":{\"title\":{\"text\":\"Similarity Score\"}},\"colorscale\":[[0.0,\"rgb(247,252,240)\"],[0.125,\"rgb(224,243,219)\"],[0.25,\"rgb(204,235,197)\"],[0.375,\"rgb(168,221,181)\"],[0.5,\"rgb(123,204,196)\"],[0.625,\"rgb(78,179,211)\"],[0.75,\"rgb(43,140,190)\"],[0.875,\"rgb(8,104,172)\"],[1.0,\"rgb(8,64,129)\"]]},\"margin\":{\"t\":60},\"title\":{\"font\":{\"size\":22,\"color\":\"Black\"},\"text\":\"<b>Similarity Matrix</b>\",\"y\":0.95,\"x\":0.55,\"xanchor\":\"center\",\"yanchor\":\"top\"},\"hoverlabel\":{\"font\":{\"size\":16,\"family\":\"Rockwell\"},\"bgcolor\":\"white\"},\"width\":800,\"height\":800,\"showlegend\":true,\"legend\":{\"title\":{\"text\":\"Trend\"}}},                        {\"responsive\": true}                    ).then(function(){\n",
       "                            \n",
       "var gd = document.getElementById('9eb5da0d-671c-4639-87d5-c761180db319');\n",
       "var x = new MutationObserver(function (mutations, observer) {{\n",
       "        var display = window.getComputedStyle(gd).display;\n",
       "        if (!display || display === 'none') {{\n",
       "            console.log([gd, 'removed!']);\n",
       "            Plotly.purge(gd);\n",
       "            observer.disconnect();\n",
       "        }}\n",
       "}});\n",
       "\n",
       "// Listen for the removal of the full notebook cells\n",
       "var notebookContainer = gd.closest('#notebook-container');\n",
       "if (notebookContainer) {{\n",
       "    x.observe(notebookContainer, {childList: true});\n",
       "}}\n",
       "\n",
       "// Listen for the clearing of the current output cell\n",
       "var outputEl = gd.closest('.output');\n",
       "if (outputEl) {{\n",
       "    x.observe(outputEl, {childList: true});\n",
       "}}\n",
       "\n",
       "                        })                };                });            </script>        </div>"
      ]
     },
     "metadata": {},
     "output_type": "display_data"
    }
   ],
   "source": [
    "topic_model.visualize_heatmap(custom_labels =True)"
   ]
  },
  {
   "cell_type": "code",
   "execution_count": 43,
   "metadata": {},
   "outputs": [],
   "source": [
    "# from sklearn.datasets import fetch_20newsgroups\n",
    "# from sentence_transformers import SentenceTransformer\n",
    "# from bertopic import BERTopic\n",
    "# from umap import UMAP\n",
    "# from hdbscan import HDBSCAN\n",
    "\n",
    "# hdbscan_model = HDBSCAN(min_cluster_size=29, metric='euclidean', cluster_selection_method='eom', prediction_data=True)\n",
    "# # Prepare embeddings\n",
    "# sentence_model = SentenceTransformer(\"all-MiniLM-L6-v2\")\n",
    "# embeddings = sentence_model.encode(text.tolist(), show_progress_bar=False)\n",
    "# from sklearn.feature_extraction.text import CountVectorizer\n",
    "# vectorizer_model = CountVectorizer(stop_words=\"english\", min_df=2, ngram_range=(1, 2))\n",
    "# # Train BERTopic\n",
    "# topic_model = BERTopic(hdbscan_model=hdbscan_model,vectorizer_model=vectorizer_model,).fit(text.tolist(), embeddings)\n",
    "# topics, probs = topic_model.fit_transform(text.tolist(), y=y)\n",
    "# # Run the visualization with the original embeddings\n",
    "# topic_model.visualize_documents(text.tolist(), embeddings=embeddings)\n",
    "\n",
    "# # Reduce dimensionality of embeddings, this step is optional but much faster to perform iteratively:\n",
    "# reduced_embeddings = UMAP(n_neighbors=10, n_components=2, min_dist=0.0, metric='cosine').fit_transform(embeddings)\n",
    "# topic_model.visualize_documents(text.tolist(), reduced_embeddings=reduced_embeddings)"
   ]
  },
  {
   "cell_type": "code",
   "execution_count": 44,
   "metadata": {},
   "outputs": [],
   "source": [
    "model_df = model_df.loc[model_df['rep_model_rank'] < 10]\n",
    "text = model_df['text']\n",
    "date = model_df['date']\n",
    "y = model_df['rep_model_rank']\n",
    "cate_name = model_df['rep_model']"
   ]
  },
  {
   "cell_type": "code",
   "execution_count": 45,
   "metadata": {},
   "outputs": [],
   "source": [
    "from bertopic import BERTopic\n",
    "from bertopic.vectorizers import ClassTfidfTransformer\n",
    "from bertopic.dimensionality import BaseDimensionalityReduction\n",
    "from sklearn.linear_model import LogisticRegression\n",
    "vectorizer_model = CountVectorizer(stop_words=\"english\", min_df=2, ngram_range=(1, 2))\n",
    "\n",
    "\n",
    "# Skip over dimensionality reduction, replace cluster model with classifier,\n",
    "# and reduce frequent words while we are at it.\n",
    "empty_dimensionality_model = BaseDimensionalityReduction()\n",
    "clf = LogisticRegression()\n",
    "ctfidf_model = ClassTfidfTransformer(reduce_frequent_words=True)\n",
    "\n",
    "# Create a fully supervised BERTopic instance\n",
    "topic_model= BERTopic(\n",
    "        umap_model=empty_dimensionality_model,\n",
    "        hdbscan_model=clf,\n",
    "        ctfidf_model=ctfidf_model,\n",
    "        vectorizer_model=vectorizer_model,\n",
    "        top_n_words=20,\n",
    ")\n",
    "topics, probs = topic_model.fit_transform(text, y=y)\n"
   ]
  },
  {
   "cell_type": "code",
   "execution_count": 46,
   "metadata": {},
   "outputs": [
    {
     "data": {
      "text/html": [
       "<div>\n",
       "<style scoped>\n",
       "    .dataframe tbody tr th:only-of-type {\n",
       "        vertical-align: middle;\n",
       "    }\n",
       "\n",
       "    .dataframe tbody tr th {\n",
       "        vertical-align: top;\n",
       "    }\n",
       "\n",
       "    .dataframe thead th {\n",
       "        text-align: right;\n",
       "    }\n",
       "</style>\n",
       "<table border=\"1\" class=\"dataframe\">\n",
       "  <thead>\n",
       "    <tr style=\"text-align: right;\">\n",
       "      <th></th>\n",
       "      <th>Topic</th>\n",
       "      <th>Count</th>\n",
       "      <th>Name</th>\n",
       "      <th>Representation</th>\n",
       "      <th>Representative_Docs</th>\n",
       "    </tr>\n",
       "  </thead>\n",
       "  <tbody>\n",
       "    <tr>\n",
       "      <th>0</th>\n",
       "      <td>0</td>\n",
       "      <td>901</td>\n",
       "      <td>0_chatgpt_ai_llms_research</td>\n",
       "      <td>[chatgpt, ai, llms, research, study, potential...</td>\n",
       "      <td>[How Close is ChatGPT to Human Experts? Compar...</td>\n",
       "    </tr>\n",
       "    <tr>\n",
       "      <th>1</th>\n",
       "      <td>1</td>\n",
       "      <td>592</td>\n",
       "      <td>1_gpt3_models_language_model</td>\n",
       "      <td>[gpt3, models, language, model, language model...</td>\n",
       "      <td>[An Empirical Study of GPT-3 for Few-Shot Know...</td>\n",
       "    </tr>\n",
       "    <tr>\n",
       "      <th>2</th>\n",
       "      <td>2</td>\n",
       "      <td>486</td>\n",
       "      <td>2_gpt4_llms_models_large language</td>\n",
       "      <td>[gpt4, llms, models, large language, large, la...</td>\n",
       "      <td>[Benchmarking Large Language Models on CMExam ...</td>\n",
       "    </tr>\n",
       "    <tr>\n",
       "      <th>3</th>\n",
       "      <td>3</td>\n",
       "      <td>222</td>\n",
       "      <td>3_t5_pretrained_model_models</td>\n",
       "      <td>[t5, pretrained, model, models, pretraining, p...</td>\n",
       "      <td>[M6-Rec: Generative Pretrained Language Models...</td>\n",
       "    </tr>\n",
       "    <tr>\n",
       "      <th>4</th>\n",
       "      <td>4</td>\n",
       "      <td>165</td>\n",
       "      <td>4_llama_llms_model_models</td>\n",
       "      <td>[llama, llms, model, models, large language, f...</td>\n",
       "      <td>[BayLing: Bridging Cross-lingual Alignment and...</td>\n",
       "    </tr>\n",
       "    <tr>\n",
       "      <th>5</th>\n",
       "      <td>5</td>\n",
       "      <td>98</td>\n",
       "      <td>5_codex_code_program_programming</td>\n",
       "      <td>[codex, code, program, programming, repair, pr...</td>\n",
       "      <td>[InferFix: End-to-End Program Repair with LLMs...</td>\n",
       "    </tr>\n",
       "    <tr>\n",
       "      <th>6</th>\n",
       "      <td>6</td>\n",
       "      <td>69</td>\n",
       "      <td>6_palm_language_models_math</td>\n",
       "      <td>[palm, language, models, math, language models...</td>\n",
       "      <td>[PAL: Program-aided Language Models   Large la...</td>\n",
       "    </tr>\n",
       "    <tr>\n",
       "      <th>7</th>\n",
       "      <td>7</td>\n",
       "      <td>58</td>\n",
       "      <td>7_opt_quantization_perplexity_inference</td>\n",
       "      <td>[opt, quantization, perplexity, inference, mod...</td>\n",
       "      <td>[GPTQ: Accurate Post-Training Quantization for...</td>\n",
       "    </tr>\n",
       "    <tr>\n",
       "      <th>8</th>\n",
       "      <td>8</td>\n",
       "      <td>52</td>\n",
       "      <td>8_multilingual_languages_multilingual language...</td>\n",
       "      <td>[multilingual, languages, multilingual languag...</td>\n",
       "      <td>[Answering Unseen Questions With Smaller Langu...</td>\n",
       "    </tr>\n",
       "    <tr>\n",
       "      <th>9</th>\n",
       "      <td>9</td>\n",
       "      <td>6</td>\n",
       "      <td>9_assumptions_similarity_definitive_break</td>\n",
       "      <td>[assumptions, similarity, definitive, break, m...</td>\n",
       "      <td>[CSTS: Conditional Semantic Textual Similarity...</td>\n",
       "    </tr>\n",
       "  </tbody>\n",
       "</table>\n",
       "</div>"
      ],
      "text/plain": [
       "   Topic  Count                                               Name  \\\n",
       "0      0    901                         0_chatgpt_ai_llms_research   \n",
       "1      1    592                       1_gpt3_models_language_model   \n",
       "2      2    486                  2_gpt4_llms_models_large language   \n",
       "3      3    222                       3_t5_pretrained_model_models   \n",
       "4      4    165                          4_llama_llms_model_models   \n",
       "5      5     98                   5_codex_code_program_programming   \n",
       "6      6     69                        6_palm_language_models_math   \n",
       "7      7     58            7_opt_quantization_perplexity_inference   \n",
       "8      8     52  8_multilingual_languages_multilingual language...   \n",
       "9      9      6          9_assumptions_similarity_definitive_break   \n",
       "\n",
       "                                      Representation  \\\n",
       "0  [chatgpt, ai, llms, research, study, potential...   \n",
       "1  [gpt3, models, language, model, language model...   \n",
       "2  [gpt4, llms, models, large language, large, la...   \n",
       "3  [t5, pretrained, model, models, pretraining, p...   \n",
       "4  [llama, llms, model, models, large language, f...   \n",
       "5  [codex, code, program, programming, repair, pr...   \n",
       "6  [palm, language, models, math, language models...   \n",
       "7  [opt, quantization, perplexity, inference, mod...   \n",
       "8  [multilingual, languages, multilingual languag...   \n",
       "9  [assumptions, similarity, definitive, break, m...   \n",
       "\n",
       "                                 Representative_Docs  \n",
       "0  [How Close is ChatGPT to Human Experts? Compar...  \n",
       "1  [An Empirical Study of GPT-3 for Few-Shot Know...  \n",
       "2  [Benchmarking Large Language Models on CMExam ...  \n",
       "3  [M6-Rec: Generative Pretrained Language Models...  \n",
       "4  [BayLing: Bridging Cross-lingual Alignment and...  \n",
       "5  [InferFix: End-to-End Program Repair with LLMs...  \n",
       "6  [PAL: Program-aided Language Models   Large la...  \n",
       "7  [GPTQ: Accurate Post-Training Quantization for...  \n",
       "8  [Answering Unseen Questions With Smaller Langu...  \n",
       "9  [CSTS: Conditional Semantic Textual Similarity...  "
      ]
     },
     "execution_count": 46,
     "metadata": {},
     "output_type": "execute_result"
    }
   ],
   "source": [
    "df = topic_model.get_topic_info()\n",
    "df"
   ]
  },
  {
   "cell_type": "code",
   "execution_count": 47,
   "metadata": {},
   "outputs": [],
   "source": [
    "topic_model.set_topic_labels(num2model)"
   ]
  },
  {
   "cell_type": "code",
   "execution_count": 48,
   "metadata": {},
   "outputs": [
    {
     "data": {
      "application/vnd.plotly.v1+json": {
       "config": {
        "plotlyServerURL": "https://plot.ly"
       },
       "data": [
        {
         "marker": {
          "color": "#D55E00"
         },
         "orientation": "h",
         "type": "bar",
         "x": [
          0.19892611394231963,
          0.19978851868076294,
          0.20170198378564647,
          0.20198405230313465,
          0.20210554341191325,
          0.20266238660967584,
          0.2031217626360566,
          0.20760402370617795,
          0.2104758498293471,
          0.2110223884662757,
          0.21113746489080076,
          0.21440579963956904,
          0.2182535816888512,
          0.21918101865558162,
          0.21924355625197928,
          0.21961027779744008,
          0.22054726259203686,
          0.2230799455602277,
          0.26574800267202986,
          0.3590466931695915
         ],
         "xaxis": "x",
         "y": [
          "responses  ",
          "language models  ",
          "using  ",
          "analysis  ",
          "text  ",
          "generative  ",
          "tasks  ",
          "chatgpts  ",
          "large  ",
          "large language  ",
          "paper  ",
          "models  ",
          "data  ",
          "language  ",
          "potential  ",
          "study  ",
          "research  ",
          "llms  ",
          "ai  ",
          "chatgpt  "
         ],
         "yaxis": "y"
        },
        {
         "marker": {
          "color": "#0072B2"
         },
         "orientation": "h",
         "type": "bar",
         "x": [
          0.19981880817323058,
          0.20032053133405656,
          0.2030821812778806,
          0.20634260312515978,
          0.20827263885255054,
          0.21304019880739453,
          0.21561904744827148,
          0.21679162744041625,
          0.21848731289037457,
          0.22146804749638416,
          0.2224295044101686,
          0.22416940107804337,
          0.22539922465044715,
          0.22603715440621497,
          0.2336096595167923,
          0.24172075973647947,
          0.2429123691036887,
          0.2617319404601786,
          0.2623436290614252,
          0.34461412796726054
         ],
         "xaxis": "x2",
         "y": [
          "reasoning  ",
          "gpt35  ",
          "text  ",
          "large language  ",
          "task  ",
          "performance  ",
          "data  ",
          "knowledge  ",
          "using  ",
          "tasks  ",
          "fewshot  ",
          "human  ",
          "large  ",
          "training  ",
          "learning  ",
          "language models  ",
          "model  ",
          "language  ",
          "models  ",
          "gpt3  "
         ],
         "yaxis": "y2"
        },
        {
         "marker": {
          "color": "#CC79A7"
         },
         "orientation": "h",
         "type": "bar",
         "x": [
          0.19509566948255688,
          0.19607092498943582,
          0.1991695763259033,
          0.1997818460458865,
          0.20776569367030961,
          0.2089404254293891,
          0.2137114717161962,
          0.21541480009620634,
          0.216045344783953,
          0.21900619142503236,
          0.21911135130214895,
          0.21937434067787656,
          0.22585136213785864,
          0.23219971375055923,
          0.23870948195358938,
          0.2501712941325772,
          0.25034895042003996,
          0.2541929921772244,
          0.28656796056688294,
          0.3947211198343439
         ],
         "xaxis": "x3",
         "y": [
          "results  ",
          "gpt35  ",
          "model  ",
          "using  ",
          "evaluation  ",
          "chatgpt gpt4  ",
          "tasks  ",
          "llm  ",
          "performance  ",
          "models llms  ",
          "data  ",
          "human  ",
          "reasoning  ",
          "language models  ",
          "language  ",
          "large  ",
          "large language  ",
          "models  ",
          "llms  ",
          "gpt4  "
         ],
         "yaxis": "y3"
        },
        {
         "marker": {
          "color": "#E69F00"
         },
         "orientation": "h",
         "type": "bar",
         "x": [
          0.21745491054115904,
          0.2187470251932514,
          0.22009038707841092,
          0.22196423536043386,
          0.22874412025754468,
          0.23341148871693457,
          0.23726218121884213,
          0.23744386475727713,
          0.23827450734982006,
          0.24046758959997883,
          0.24648271941512537,
          0.24743904438910816,
          0.2615236600101616,
          0.26981995315843765,
          0.2759192264641226,
          0.27869409163710385,
          0.28167626600865525,
          0.30108407806812276,
          0.31494346209506063,
          0.437401998163782
         ],
         "xaxis": "x4",
         "y": [
          "bart  ",
          "finetuning  ",
          "t5 model  ",
          "text  ",
          "knowledge  ",
          "task  ",
          "bert  ",
          "transformer  ",
          "language models  ",
          "plms  ",
          "generation  ",
          "tasks  ",
          "training  ",
          "language  ",
          "pretrained language  ",
          "pretraining  ",
          "models  ",
          "model  ",
          "pretrained  ",
          "t5  "
         ],
         "yaxis": "y4"
        },
        {
         "marker": {
          "color": "#56B4E9"
         },
         "orientation": "h",
         "type": "bar",
         "x": [
          0.218947835113951,
          0.22142855533013184,
          0.22498188381428497,
          0.2295323953447502,
          0.23202642279053567,
          0.2335822479387931,
          0.23521095877056544,
          0.23978547697575286,
          0.2546232839773266,
          0.2561747928642273,
          0.2561970903070959,
          0.25635956058440357,
          0.2603365296971268,
          0.26588532210668736,
          0.26600380744094193,
          0.2681465139880891,
          0.2708666698286337,
          0.2962125076023612,
          0.30111772994817443,
          0.4259548038647121
         ],
         "xaxis": "x5",
         "y": [
          "reasoning  ",
          "performance  ",
          "data  ",
          "tuning  ",
          "models llms  ",
          "training  ",
          "tasks  ",
          "context  ",
          "llm  ",
          "language models  ",
          "language  ",
          "quantization  ",
          "instruction  ",
          "large  ",
          "finetuning  ",
          "large language  ",
          "models  ",
          "model  ",
          "llms  ",
          "llama  "
         ],
         "yaxis": "y5"
        },
        {
         "marker": {
          "color": "#009E73"
         },
         "orientation": "h",
         "type": "bar",
         "x": [
          0.2473221230940994,
          0.24914923937518604,
          0.2562197182266603,
          0.25868991983976386,
          0.2589271622366564,
          0.2593194314427369,
          0.2640085233634148,
          0.26447076993326635,
          0.27137610480253127,
          0.2736674083366778,
          0.2759514353027523,
          0.29163792741686156,
          0.3006070893947692,
          0.31075412139193515,
          0.314542374387864,
          0.33635090031954795,
          0.3411667345022042,
          0.36445814251113684,
          0.4861817670251781,
          0.5597877478532228
         ],
         "xaxis": "x6",
         "y": [
          "models  ",
          "large  ",
          "synthesis  ",
          "copilot  ",
          "language models  ",
          "generate  ",
          "gpt3 codex  ",
          "natural language  ",
          "natural  ",
          "generation  ",
          "program synthesis  ",
          "language  ",
          "bugs  ",
          "code generation  ",
          "programs  ",
          "repair  ",
          "programming  ",
          "program  ",
          "code  ",
          "codex  "
         ],
         "yaxis": "y6"
        },
        {
         "marker": {
          "color": "#F0E442"
         },
         "orientation": "h",
         "type": "bar",
         "x": [
          0.23501436092491523,
          0.2361567192034911,
          0.23618353353924595,
          0.23949492306463194,
          0.24195037753455495,
          0.2427380628503303,
          0.24354805005601535,
          0.2470369920281463,
          0.25001255613879486,
          0.25103109438433713,
          0.25507841022409034,
          0.25651968742214765,
          0.2599236765539358,
          0.2635210759457424,
          0.26695213415463026,
          0.2691026248490631,
          0.27103338308988395,
          0.2812525297594554,
          0.2818151629022425,
          0.5091672032467409
         ],
         "xaxis": "x7",
         "y": [
          "gsm8k  ",
          "interpreter  ",
          "assurance  ",
          "llms  ",
          "performance  ",
          "prompting  ",
          "bigbench  ",
          "capabilities  ",
          "tasks  ",
          "model  ",
          "attribution  ",
          "large language  ",
          "large  ",
          "reasoning  ",
          "palm2  ",
          "language models  ",
          "math  ",
          "models  ",
          "language  ",
          "palm  "
         ],
         "yaxis": "y7"
        },
        {
         "marker": {
          "color": "#D55E00"
         },
         "orientation": "h",
         "type": "bar",
         "x": [
          0.26221866174465736,
          0.2648195432700936,
          0.26608616921256634,
          0.26676918908698294,
          0.26841907163347245,
          0.2716495467189631,
          0.27196796550315655,
          0.2724737828765556,
          0.2747670729464772,
          0.2776417726018317,
          0.2797751108897393,
          0.2803542332257354,
          0.28070864852610994,
          0.2831438775088738,
          0.29540406232872995,
          0.29711482334507605,
          0.299197925572231,
          0.31225571181043177,
          0.36138954375950694,
          0.4635981282754509
         ],
         "xaxis": "x8",
         "y": [
          "watermark  ",
          "scaling  ",
          "finetuning  ",
          "memory  ",
          "larger  ",
          "language  ",
          "learning  ",
          "incontext learning  ",
          "tokens  ",
          "compression  ",
          "attention  ",
          "model  ",
          "opt175b  ",
          "language models  ",
          "incontext  ",
          "models  ",
          "inference  ",
          "perplexity  ",
          "quantization  ",
          "opt  "
         ],
         "yaxis": "y8"
        },
        {
         "marker": {
          "color": "#0072B2"
         },
         "orientation": "h",
         "type": "bar",
         "x": [
          0.24171220300484508,
          0.24184768559409214,
          0.24358844309551067,
          0.24519676277113597,
          0.24657565209456941,
          0.2509828802138456,
          0.2513037824486636,
          0.2560302919965143,
          0.25713617010228124,
          0.2602148244008334,
          0.2655118161034849,
          0.26562734449178765,
          0.26831198505883846,
          0.27996697689362404,
          0.28458783616309247,
          0.2866284985224115,
          0.29742064247774996,
          0.3094367033489547,
          0.32236900000209817,
          0.4880770599064957
         ],
         "xaxis": "x9",
         "y": [
          "llms  ",
          "research  ",
          "korean  ",
          "factually inconsistent  ",
          "large  ",
          "englishcentric  ",
          "language models  ",
          "openworld  ",
          "factually consistent  ",
          "performance  ",
          "music  ",
          "model  ",
          "governance  ",
          "language  ",
          "los  ",
          "models  ",
          "factually  ",
          "multilingual language  ",
          "languages  ",
          "multilingual  "
         ],
         "yaxis": "y9"
        },
        {
         "marker": {
          "color": "#CC79A7"
         },
         "orientation": "h",
         "type": "bar",
         "x": [
          0.41804888598298495,
          0.41804888598298495,
          0.41804888598298495,
          0.41828064789924563,
          0.42671982987030266,
          0.42671982987030266,
          0.4364139726085881,
          0.43733247799572245,
          0.45101491049141107,
          0.4513494283213325,
          0.4513494283213325,
          0.4544130583843652,
          0.4669712756824199,
          0.4672721700840161,
          0.521897568917673,
          0.5356207095182359,
          0.5599673950256364,
          0.563940995290035,
          0.5715743997112882,
          0.5972179776375225
         ],
         "xaxis": "x10",
         "y": [
          "semantic textual  ",
          "variety language  ",
          "textual similarity  ",
          "opensource llms  ",
          "mturk  ",
          "querydocument  ",
          "correctly  ",
          "interesting findings  ",
          "querydocument pairs  ",
          "sts  ",
          "assumption  ",
          "common  ",
          "dont  ",
          "reason  ",
          "contexts  ",
          "models correctly  ",
          "break  ",
          "definitive  ",
          "similarity  ",
          "assumptions  "
         ],
         "yaxis": "y10"
        }
       ],
       "layout": {
        "annotations": [
         {
          "font": {
           "size": 16
          },
          "showarrow": false,
          "text": "ChatGPT",
          "x": 0.0875,
          "xanchor": "center",
          "xref": "paper",
          "y": 1,
          "yanchor": "bottom",
          "yref": "paper"
         },
         {
          "font": {
           "size": 16
          },
          "showarrow": false,
          "text": "GPT-3",
          "x": 0.36250000000000004,
          "xanchor": "center",
          "xref": "paper",
          "y": 1,
          "yanchor": "bottom",
          "yref": "paper"
         },
         {
          "font": {
           "size": 16
          },
          "showarrow": false,
          "text": "GPT-4",
          "x": 0.6375000000000001,
          "xanchor": "center",
          "xref": "paper",
          "y": 1,
          "yanchor": "bottom",
          "yref": "paper"
         },
         {
          "font": {
           "size": 16
          },
          "showarrow": false,
          "text": "T5",
          "x": 0.9125,
          "xanchor": "center",
          "xref": "paper",
          "y": 1,
          "yanchor": "bottom",
          "yref": "paper"
         },
         {
          "font": {
           "size": 16
          },
          "showarrow": false,
          "text": "LLaMA",
          "x": 0.0875,
          "xanchor": "center",
          "xref": "paper",
          "y": 0.6222222222222222,
          "yanchor": "bottom",
          "yref": "paper"
         },
         {
          "font": {
           "size": 16
          },
          "showarrow": false,
          "text": "Codex",
          "x": 0.36250000000000004,
          "xanchor": "center",
          "xref": "paper",
          "y": 0.6222222222222222,
          "yanchor": "bottom",
          "yref": "paper"
         },
         {
          "font": {
           "size": 16
          },
          "showarrow": false,
          "text": "OPT",
          "x": 0.6375000000000001,
          "xanchor": "center",
          "xref": "paper",
          "y": 0.6222222222222222,
          "yanchor": "bottom",
          "yref": "paper"
         },
         {
          "font": {
           "size": 16
          },
          "showarrow": false,
          "text": "PaLM",
          "x": 0.9125,
          "xanchor": "center",
          "xref": "paper",
          "y": 0.6222222222222222,
          "yanchor": "bottom",
          "yref": "paper"
         },
         {
          "font": {
           "size": 16
          },
          "showarrow": false,
          "text": "FLAN",
          "x": 0.0875,
          "xanchor": "center",
          "xref": "paper",
          "y": 0.24444444444444446,
          "yanchor": "bottom",
          "yref": "paper"
         },
         {
          "font": {
           "size": 16
          },
          "showarrow": false,
          "text": "BLOOM",
          "x": 0.36250000000000004,
          "xanchor": "center",
          "xref": "paper",
          "y": 0.24444444444444446,
          "yanchor": "bottom",
          "yref": "paper"
         }
        ],
        "height": 3000,
        "hoverlabel": {
         "bgcolor": "white",
         "font": {
          "family": "Rockwell",
          "size": 16
         }
        },
        "showlegend": false,
        "template": {
         "data": {
          "bar": [
           {
            "error_x": {
             "color": "#2a3f5f"
            },
            "error_y": {
             "color": "#2a3f5f"
            },
            "marker": {
             "line": {
              "color": "white",
              "width": 0.5
             },
             "pattern": {
              "fillmode": "overlay",
              "size": 10,
              "solidity": 0.2
             }
            },
            "type": "bar"
           }
          ],
          "barpolar": [
           {
            "marker": {
             "line": {
              "color": "white",
              "width": 0.5
             },
             "pattern": {
              "fillmode": "overlay",
              "size": 10,
              "solidity": 0.2
             }
            },
            "type": "barpolar"
           }
          ],
          "carpet": [
           {
            "aaxis": {
             "endlinecolor": "#2a3f5f",
             "gridcolor": "#C8D4E3",
             "linecolor": "#C8D4E3",
             "minorgridcolor": "#C8D4E3",
             "startlinecolor": "#2a3f5f"
            },
            "baxis": {
             "endlinecolor": "#2a3f5f",
             "gridcolor": "#C8D4E3",
             "linecolor": "#C8D4E3",
             "minorgridcolor": "#C8D4E3",
             "startlinecolor": "#2a3f5f"
            },
            "type": "carpet"
           }
          ],
          "choropleth": [
           {
            "colorbar": {
             "outlinewidth": 0,
             "ticks": ""
            },
            "type": "choropleth"
           }
          ],
          "contour": [
           {
            "colorbar": {
             "outlinewidth": 0,
             "ticks": ""
            },
            "colorscale": [
             [
              0,
              "#0d0887"
             ],
             [
              0.1111111111111111,
              "#46039f"
             ],
             [
              0.2222222222222222,
              "#7201a8"
             ],
             [
              0.3333333333333333,
              "#9c179e"
             ],
             [
              0.4444444444444444,
              "#bd3786"
             ],
             [
              0.5555555555555556,
              "#d8576b"
             ],
             [
              0.6666666666666666,
              "#ed7953"
             ],
             [
              0.7777777777777778,
              "#fb9f3a"
             ],
             [
              0.8888888888888888,
              "#fdca26"
             ],
             [
              1,
              "#f0f921"
             ]
            ],
            "type": "contour"
           }
          ],
          "contourcarpet": [
           {
            "colorbar": {
             "outlinewidth": 0,
             "ticks": ""
            },
            "type": "contourcarpet"
           }
          ],
          "heatmap": [
           {
            "colorbar": {
             "outlinewidth": 0,
             "ticks": ""
            },
            "colorscale": [
             [
              0,
              "#0d0887"
             ],
             [
              0.1111111111111111,
              "#46039f"
             ],
             [
              0.2222222222222222,
              "#7201a8"
             ],
             [
              0.3333333333333333,
              "#9c179e"
             ],
             [
              0.4444444444444444,
              "#bd3786"
             ],
             [
              0.5555555555555556,
              "#d8576b"
             ],
             [
              0.6666666666666666,
              "#ed7953"
             ],
             [
              0.7777777777777778,
              "#fb9f3a"
             ],
             [
              0.8888888888888888,
              "#fdca26"
             ],
             [
              1,
              "#f0f921"
             ]
            ],
            "type": "heatmap"
           }
          ],
          "heatmapgl": [
           {
            "colorbar": {
             "outlinewidth": 0,
             "ticks": ""
            },
            "colorscale": [
             [
              0,
              "#0d0887"
             ],
             [
              0.1111111111111111,
              "#46039f"
             ],
             [
              0.2222222222222222,
              "#7201a8"
             ],
             [
              0.3333333333333333,
              "#9c179e"
             ],
             [
              0.4444444444444444,
              "#bd3786"
             ],
             [
              0.5555555555555556,
              "#d8576b"
             ],
             [
              0.6666666666666666,
              "#ed7953"
             ],
             [
              0.7777777777777778,
              "#fb9f3a"
             ],
             [
              0.8888888888888888,
              "#fdca26"
             ],
             [
              1,
              "#f0f921"
             ]
            ],
            "type": "heatmapgl"
           }
          ],
          "histogram": [
           {
            "marker": {
             "pattern": {
              "fillmode": "overlay",
              "size": 10,
              "solidity": 0.2
             }
            },
            "type": "histogram"
           }
          ],
          "histogram2d": [
           {
            "colorbar": {
             "outlinewidth": 0,
             "ticks": ""
            },
            "colorscale": [
             [
              0,
              "#0d0887"
             ],
             [
              0.1111111111111111,
              "#46039f"
             ],
             [
              0.2222222222222222,
              "#7201a8"
             ],
             [
              0.3333333333333333,
              "#9c179e"
             ],
             [
              0.4444444444444444,
              "#bd3786"
             ],
             [
              0.5555555555555556,
              "#d8576b"
             ],
             [
              0.6666666666666666,
              "#ed7953"
             ],
             [
              0.7777777777777778,
              "#fb9f3a"
             ],
             [
              0.8888888888888888,
              "#fdca26"
             ],
             [
              1,
              "#f0f921"
             ]
            ],
            "type": "histogram2d"
           }
          ],
          "histogram2dcontour": [
           {
            "colorbar": {
             "outlinewidth": 0,
             "ticks": ""
            },
            "colorscale": [
             [
              0,
              "#0d0887"
             ],
             [
              0.1111111111111111,
              "#46039f"
             ],
             [
              0.2222222222222222,
              "#7201a8"
             ],
             [
              0.3333333333333333,
              "#9c179e"
             ],
             [
              0.4444444444444444,
              "#bd3786"
             ],
             [
              0.5555555555555556,
              "#d8576b"
             ],
             [
              0.6666666666666666,
              "#ed7953"
             ],
             [
              0.7777777777777778,
              "#fb9f3a"
             ],
             [
              0.8888888888888888,
              "#fdca26"
             ],
             [
              1,
              "#f0f921"
             ]
            ],
            "type": "histogram2dcontour"
           }
          ],
          "mesh3d": [
           {
            "colorbar": {
             "outlinewidth": 0,
             "ticks": ""
            },
            "type": "mesh3d"
           }
          ],
          "parcoords": [
           {
            "line": {
             "colorbar": {
              "outlinewidth": 0,
              "ticks": ""
             }
            },
            "type": "parcoords"
           }
          ],
          "pie": [
           {
            "automargin": true,
            "type": "pie"
           }
          ],
          "scatter": [
           {
            "fillpattern": {
             "fillmode": "overlay",
             "size": 10,
             "solidity": 0.2
            },
            "type": "scatter"
           }
          ],
          "scatter3d": [
           {
            "line": {
             "colorbar": {
              "outlinewidth": 0,
              "ticks": ""
             }
            },
            "marker": {
             "colorbar": {
              "outlinewidth": 0,
              "ticks": ""
             }
            },
            "type": "scatter3d"
           }
          ],
          "scattercarpet": [
           {
            "marker": {
             "colorbar": {
              "outlinewidth": 0,
              "ticks": ""
             }
            },
            "type": "scattercarpet"
           }
          ],
          "scattergeo": [
           {
            "marker": {
             "colorbar": {
              "outlinewidth": 0,
              "ticks": ""
             }
            },
            "type": "scattergeo"
           }
          ],
          "scattergl": [
           {
            "marker": {
             "colorbar": {
              "outlinewidth": 0,
              "ticks": ""
             }
            },
            "type": "scattergl"
           }
          ],
          "scattermapbox": [
           {
            "marker": {
             "colorbar": {
              "outlinewidth": 0,
              "ticks": ""
             }
            },
            "type": "scattermapbox"
           }
          ],
          "scatterpolar": [
           {
            "marker": {
             "colorbar": {
              "outlinewidth": 0,
              "ticks": ""
             }
            },
            "type": "scatterpolar"
           }
          ],
          "scatterpolargl": [
           {
            "marker": {
             "colorbar": {
              "outlinewidth": 0,
              "ticks": ""
             }
            },
            "type": "scatterpolargl"
           }
          ],
          "scatterternary": [
           {
            "marker": {
             "colorbar": {
              "outlinewidth": 0,
              "ticks": ""
             }
            },
            "type": "scatterternary"
           }
          ],
          "surface": [
           {
            "colorbar": {
             "outlinewidth": 0,
             "ticks": ""
            },
            "colorscale": [
             [
              0,
              "#0d0887"
             ],
             [
              0.1111111111111111,
              "#46039f"
             ],
             [
              0.2222222222222222,
              "#7201a8"
             ],
             [
              0.3333333333333333,
              "#9c179e"
             ],
             [
              0.4444444444444444,
              "#bd3786"
             ],
             [
              0.5555555555555556,
              "#d8576b"
             ],
             [
              0.6666666666666666,
              "#ed7953"
             ],
             [
              0.7777777777777778,
              "#fb9f3a"
             ],
             [
              0.8888888888888888,
              "#fdca26"
             ],
             [
              1,
              "#f0f921"
             ]
            ],
            "type": "surface"
           }
          ],
          "table": [
           {
            "cells": {
             "fill": {
              "color": "#EBF0F8"
             },
             "line": {
              "color": "white"
             }
            },
            "header": {
             "fill": {
              "color": "#C8D4E3"
             },
             "line": {
              "color": "white"
             }
            },
            "type": "table"
           }
          ]
         },
         "layout": {
          "annotationdefaults": {
           "arrowcolor": "#2a3f5f",
           "arrowhead": 0,
           "arrowwidth": 1
          },
          "autotypenumbers": "strict",
          "coloraxis": {
           "colorbar": {
            "outlinewidth": 0,
            "ticks": ""
           }
          },
          "colorscale": {
           "diverging": [
            [
             0,
             "#8e0152"
            ],
            [
             0.1,
             "#c51b7d"
            ],
            [
             0.2,
             "#de77ae"
            ],
            [
             0.3,
             "#f1b6da"
            ],
            [
             0.4,
             "#fde0ef"
            ],
            [
             0.5,
             "#f7f7f7"
            ],
            [
             0.6,
             "#e6f5d0"
            ],
            [
             0.7,
             "#b8e186"
            ],
            [
             0.8,
             "#7fbc41"
            ],
            [
             0.9,
             "#4d9221"
            ],
            [
             1,
             "#276419"
            ]
           ],
           "sequential": [
            [
             0,
             "#0d0887"
            ],
            [
             0.1111111111111111,
             "#46039f"
            ],
            [
             0.2222222222222222,
             "#7201a8"
            ],
            [
             0.3333333333333333,
             "#9c179e"
            ],
            [
             0.4444444444444444,
             "#bd3786"
            ],
            [
             0.5555555555555556,
             "#d8576b"
            ],
            [
             0.6666666666666666,
             "#ed7953"
            ],
            [
             0.7777777777777778,
             "#fb9f3a"
            ],
            [
             0.8888888888888888,
             "#fdca26"
            ],
            [
             1,
             "#f0f921"
            ]
           ],
           "sequentialminus": [
            [
             0,
             "#0d0887"
            ],
            [
             0.1111111111111111,
             "#46039f"
            ],
            [
             0.2222222222222222,
             "#7201a8"
            ],
            [
             0.3333333333333333,
             "#9c179e"
            ],
            [
             0.4444444444444444,
             "#bd3786"
            ],
            [
             0.5555555555555556,
             "#d8576b"
            ],
            [
             0.6666666666666666,
             "#ed7953"
            ],
            [
             0.7777777777777778,
             "#fb9f3a"
            ],
            [
             0.8888888888888888,
             "#fdca26"
            ],
            [
             1,
             "#f0f921"
            ]
           ]
          },
          "colorway": [
           "#636efa",
           "#EF553B",
           "#00cc96",
           "#ab63fa",
           "#FFA15A",
           "#19d3f3",
           "#FF6692",
           "#B6E880",
           "#FF97FF",
           "#FECB52"
          ],
          "font": {
           "color": "#2a3f5f"
          },
          "geo": {
           "bgcolor": "white",
           "lakecolor": "white",
           "landcolor": "white",
           "showlakes": true,
           "showland": true,
           "subunitcolor": "#C8D4E3"
          },
          "hoverlabel": {
           "align": "left"
          },
          "hovermode": "closest",
          "mapbox": {
           "style": "light"
          },
          "paper_bgcolor": "white",
          "plot_bgcolor": "white",
          "polar": {
           "angularaxis": {
            "gridcolor": "#EBF0F8",
            "linecolor": "#EBF0F8",
            "ticks": ""
           },
           "bgcolor": "white",
           "radialaxis": {
            "gridcolor": "#EBF0F8",
            "linecolor": "#EBF0F8",
            "ticks": ""
           }
          },
          "scene": {
           "xaxis": {
            "backgroundcolor": "white",
            "gridcolor": "#DFE8F3",
            "gridwidth": 2,
            "linecolor": "#EBF0F8",
            "showbackground": true,
            "ticks": "",
            "zerolinecolor": "#EBF0F8"
           },
           "yaxis": {
            "backgroundcolor": "white",
            "gridcolor": "#DFE8F3",
            "gridwidth": 2,
            "linecolor": "#EBF0F8",
            "showbackground": true,
            "ticks": "",
            "zerolinecolor": "#EBF0F8"
           },
           "zaxis": {
            "backgroundcolor": "white",
            "gridcolor": "#DFE8F3",
            "gridwidth": 2,
            "linecolor": "#EBF0F8",
            "showbackground": true,
            "ticks": "",
            "zerolinecolor": "#EBF0F8"
           }
          },
          "shapedefaults": {
           "line": {
            "color": "#2a3f5f"
           }
          },
          "ternary": {
           "aaxis": {
            "gridcolor": "#DFE8F3",
            "linecolor": "#A2B1C6",
            "ticks": ""
           },
           "baxis": {
            "gridcolor": "#DFE8F3",
            "linecolor": "#A2B1C6",
            "ticks": ""
           },
           "bgcolor": "white",
           "caxis": {
            "gridcolor": "#DFE8F3",
            "linecolor": "#A2B1C6",
            "ticks": ""
           }
          },
          "title": {
           "x": 0.05
          },
          "xaxis": {
           "automargin": true,
           "gridcolor": "#EBF0F8",
           "linecolor": "#EBF0F8",
           "ticks": "",
           "title": {
            "standoff": 15
           },
           "zerolinecolor": "#EBF0F8",
           "zerolinewidth": 2
          },
          "yaxis": {
           "automargin": true,
           "gridcolor": "#EBF0F8",
           "linecolor": "#EBF0F8",
           "ticks": "",
           "title": {
            "standoff": 15
           },
           "zerolinecolor": "#EBF0F8",
           "zerolinewidth": 2
          }
         }
        },
        "title": {
         "font": {
          "color": "Black",
          "size": 22
         },
         "text": "Topic Word Scores",
         "x": 0.5,
         "xanchor": "center",
         "yanchor": "top"
        },
        "width": 1000,
        "xaxis": {
         "anchor": "y",
         "domain": [
          0,
          0.175
         ],
         "showgrid": true
        },
        "xaxis10": {
         "anchor": "y10",
         "domain": [
          0.275,
          0.45
         ],
         "showgrid": true
        },
        "xaxis11": {
         "anchor": "y11",
         "domain": [
          0.55,
          0.7250000000000001
         ],
         "showgrid": true
        },
        "xaxis12": {
         "anchor": "y12",
         "domain": [
          0.825,
          1
         ],
         "showgrid": true
        },
        "xaxis2": {
         "anchor": "y2",
         "domain": [
          0.275,
          0.45
         ],
         "showgrid": true
        },
        "xaxis3": {
         "anchor": "y3",
         "domain": [
          0.55,
          0.7250000000000001
         ],
         "showgrid": true
        },
        "xaxis4": {
         "anchor": "y4",
         "domain": [
          0.825,
          1
         ],
         "showgrid": true
        },
        "xaxis5": {
         "anchor": "y5",
         "domain": [
          0,
          0.175
         ],
         "showgrid": true
        },
        "xaxis6": {
         "anchor": "y6",
         "domain": [
          0.275,
          0.45
         ],
         "showgrid": true
        },
        "xaxis7": {
         "anchor": "y7",
         "domain": [
          0.55,
          0.7250000000000001
         ],
         "showgrid": true
        },
        "xaxis8": {
         "anchor": "y8",
         "domain": [
          0.825,
          1
         ],
         "showgrid": true
        },
        "xaxis9": {
         "anchor": "y9",
         "domain": [
          0,
          0.175
         ],
         "showgrid": true
        },
        "yaxis": {
         "anchor": "x",
         "domain": [
          0.7555555555555555,
          1
         ],
         "showgrid": true
        },
        "yaxis10": {
         "anchor": "x10",
         "domain": [
          0,
          0.24444444444444446
         ],
         "showgrid": true
        },
        "yaxis11": {
         "anchor": "x11",
         "domain": [
          0,
          0.24444444444444446
         ],
         "showgrid": true
        },
        "yaxis12": {
         "anchor": "x12",
         "domain": [
          0,
          0.24444444444444446
         ],
         "showgrid": true
        },
        "yaxis2": {
         "anchor": "x2",
         "domain": [
          0.7555555555555555,
          1
         ],
         "showgrid": true
        },
        "yaxis3": {
         "anchor": "x3",
         "domain": [
          0.7555555555555555,
          1
         ],
         "showgrid": true
        },
        "yaxis4": {
         "anchor": "x4",
         "domain": [
          0.7555555555555555,
          1
         ],
         "showgrid": true
        },
        "yaxis5": {
         "anchor": "x5",
         "domain": [
          0.37777777777777777,
          0.6222222222222222
         ],
         "showgrid": true
        },
        "yaxis6": {
         "anchor": "x6",
         "domain": [
          0.37777777777777777,
          0.6222222222222222
         ],
         "showgrid": true
        },
        "yaxis7": {
         "anchor": "x7",
         "domain": [
          0.37777777777777777,
          0.6222222222222222
         ],
         "showgrid": true
        },
        "yaxis8": {
         "anchor": "x8",
         "domain": [
          0.37777777777777777,
          0.6222222222222222
         ],
         "showgrid": true
        },
        "yaxis9": {
         "anchor": "x9",
         "domain": [
          0,
          0.24444444444444446
         ],
         "showgrid": true
        }
       }
      },
      "text/html": [
       "<div>                            <div id=\"4551b171-df45-4051-87a4-8ffc88ad8179\" class=\"plotly-graph-div\" style=\"height:3000px; width:1000px;\"></div>            <script type=\"text/javascript\">                require([\"plotly\"], function(Plotly) {                    window.PLOTLYENV=window.PLOTLYENV || {};                                    if (document.getElementById(\"4551b171-df45-4051-87a4-8ffc88ad8179\")) {                    Plotly.newPlot(                        \"4551b171-df45-4051-87a4-8ffc88ad8179\",                        [{\"marker\":{\"color\":\"#D55E00\"},\"orientation\":\"h\",\"x\":[0.19892611394231963,0.19978851868076294,0.20170198378564647,0.20198405230313465,0.20210554341191325,0.20266238660967584,0.2031217626360566,0.20760402370617795,0.2104758498293471,0.2110223884662757,0.21113746489080076,0.21440579963956904,0.2182535816888512,0.21918101865558162,0.21924355625197928,0.21961027779744008,0.22054726259203686,0.2230799455602277,0.26574800267202986,0.3590466931695915],\"y\":[\"responses  \",\"language models  \",\"using  \",\"analysis  \",\"text  \",\"generative  \",\"tasks  \",\"chatgpts  \",\"large  \",\"large language  \",\"paper  \",\"models  \",\"data  \",\"language  \",\"potential  \",\"study  \",\"research  \",\"llms  \",\"ai  \",\"chatgpt  \"],\"type\":\"bar\",\"xaxis\":\"x\",\"yaxis\":\"y\"},{\"marker\":{\"color\":\"#0072B2\"},\"orientation\":\"h\",\"x\":[0.19981880817323058,0.20032053133405656,0.2030821812778806,0.20634260312515978,0.20827263885255054,0.21304019880739453,0.21561904744827148,0.21679162744041625,0.21848731289037457,0.22146804749638416,0.2224295044101686,0.22416940107804337,0.22539922465044715,0.22603715440621497,0.2336096595167923,0.24172075973647947,0.2429123691036887,0.2617319404601786,0.2623436290614252,0.34461412796726054],\"y\":[\"reasoning  \",\"gpt35  \",\"text  \",\"large language  \",\"task  \",\"performance  \",\"data  \",\"knowledge  \",\"using  \",\"tasks  \",\"fewshot  \",\"human  \",\"large  \",\"training  \",\"learning  \",\"language models  \",\"model  \",\"language  \",\"models  \",\"gpt3  \"],\"type\":\"bar\",\"xaxis\":\"x2\",\"yaxis\":\"y2\"},{\"marker\":{\"color\":\"#CC79A7\"},\"orientation\":\"h\",\"x\":[0.19509566948255688,0.19607092498943582,0.1991695763259033,0.1997818460458865,0.20776569367030961,0.2089404254293891,0.2137114717161962,0.21541480009620634,0.216045344783953,0.21900619142503236,0.21911135130214895,0.21937434067787656,0.22585136213785864,0.23219971375055923,0.23870948195358938,0.2501712941325772,0.25034895042003996,0.2541929921772244,0.28656796056688294,0.3947211198343439],\"y\":[\"results  \",\"gpt35  \",\"model  \",\"using  \",\"evaluation  \",\"chatgpt gpt4  \",\"tasks  \",\"llm  \",\"performance  \",\"models llms  \",\"data  \",\"human  \",\"reasoning  \",\"language models  \",\"language  \",\"large  \",\"large language  \",\"models  \",\"llms  \",\"gpt4  \"],\"type\":\"bar\",\"xaxis\":\"x3\",\"yaxis\":\"y3\"},{\"marker\":{\"color\":\"#E69F00\"},\"orientation\":\"h\",\"x\":[0.21745491054115904,0.2187470251932514,0.22009038707841092,0.22196423536043386,0.22874412025754468,0.23341148871693457,0.23726218121884213,0.23744386475727713,0.23827450734982006,0.24046758959997883,0.24648271941512537,0.24743904438910816,0.2615236600101616,0.26981995315843765,0.2759192264641226,0.27869409163710385,0.28167626600865525,0.30108407806812276,0.31494346209506063,0.437401998163782],\"y\":[\"bart  \",\"finetuning  \",\"t5 model  \",\"text  \",\"knowledge  \",\"task  \",\"bert  \",\"transformer  \",\"language models  \",\"plms  \",\"generation  \",\"tasks  \",\"training  \",\"language  \",\"pretrained language  \",\"pretraining  \",\"models  \",\"model  \",\"pretrained  \",\"t5  \"],\"type\":\"bar\",\"xaxis\":\"x4\",\"yaxis\":\"y4\"},{\"marker\":{\"color\":\"#56B4E9\"},\"orientation\":\"h\",\"x\":[0.218947835113951,0.22142855533013184,0.22498188381428497,0.2295323953447502,0.23202642279053567,0.2335822479387931,0.23521095877056544,0.23978547697575286,0.2546232839773266,0.2561747928642273,0.2561970903070959,0.25635956058440357,0.2603365296971268,0.26588532210668736,0.26600380744094193,0.2681465139880891,0.2708666698286337,0.2962125076023612,0.30111772994817443,0.4259548038647121],\"y\":[\"reasoning  \",\"performance  \",\"data  \",\"tuning  \",\"models llms  \",\"training  \",\"tasks  \",\"context  \",\"llm  \",\"language models  \",\"language  \",\"quantization  \",\"instruction  \",\"large  \",\"finetuning  \",\"large language  \",\"models  \",\"model  \",\"llms  \",\"llama  \"],\"type\":\"bar\",\"xaxis\":\"x5\",\"yaxis\":\"y5\"},{\"marker\":{\"color\":\"#009E73\"},\"orientation\":\"h\",\"x\":[0.2473221230940994,0.24914923937518604,0.2562197182266603,0.25868991983976386,0.2589271622366564,0.2593194314427369,0.2640085233634148,0.26447076993326635,0.27137610480253127,0.2736674083366778,0.2759514353027523,0.29163792741686156,0.3006070893947692,0.31075412139193515,0.314542374387864,0.33635090031954795,0.3411667345022042,0.36445814251113684,0.4861817670251781,0.5597877478532228],\"y\":[\"models  \",\"large  \",\"synthesis  \",\"copilot  \",\"language models  \",\"generate  \",\"gpt3 codex  \",\"natural language  \",\"natural  \",\"generation  \",\"program synthesis  \",\"language  \",\"bugs  \",\"code generation  \",\"programs  \",\"repair  \",\"programming  \",\"program  \",\"code  \",\"codex  \"],\"type\":\"bar\",\"xaxis\":\"x6\",\"yaxis\":\"y6\"},{\"marker\":{\"color\":\"#F0E442\"},\"orientation\":\"h\",\"x\":[0.23501436092491523,0.2361567192034911,0.23618353353924595,0.23949492306463194,0.24195037753455495,0.2427380628503303,0.24354805005601535,0.2470369920281463,0.25001255613879486,0.25103109438433713,0.25507841022409034,0.25651968742214765,0.2599236765539358,0.2635210759457424,0.26695213415463026,0.2691026248490631,0.27103338308988395,0.2812525297594554,0.2818151629022425,0.5091672032467409],\"y\":[\"gsm8k  \",\"interpreter  \",\"assurance  \",\"llms  \",\"performance  \",\"prompting  \",\"bigbench  \",\"capabilities  \",\"tasks  \",\"model  \",\"attribution  \",\"large language  \",\"large  \",\"reasoning  \",\"palm2  \",\"language models  \",\"math  \",\"models  \",\"language  \",\"palm  \"],\"type\":\"bar\",\"xaxis\":\"x7\",\"yaxis\":\"y7\"},{\"marker\":{\"color\":\"#D55E00\"},\"orientation\":\"h\",\"x\":[0.26221866174465736,0.2648195432700936,0.26608616921256634,0.26676918908698294,0.26841907163347245,0.2716495467189631,0.27196796550315655,0.2724737828765556,0.2747670729464772,0.2776417726018317,0.2797751108897393,0.2803542332257354,0.28070864852610994,0.2831438775088738,0.29540406232872995,0.29711482334507605,0.299197925572231,0.31225571181043177,0.36138954375950694,0.4635981282754509],\"y\":[\"watermark  \",\"scaling  \",\"finetuning  \",\"memory  \",\"larger  \",\"language  \",\"learning  \",\"incontext learning  \",\"tokens  \",\"compression  \",\"attention  \",\"model  \",\"opt175b  \",\"language models  \",\"incontext  \",\"models  \",\"inference  \",\"perplexity  \",\"quantization  \",\"opt  \"],\"type\":\"bar\",\"xaxis\":\"x8\",\"yaxis\":\"y8\"},{\"marker\":{\"color\":\"#0072B2\"},\"orientation\":\"h\",\"x\":[0.24171220300484508,0.24184768559409214,0.24358844309551067,0.24519676277113597,0.24657565209456941,0.2509828802138456,0.2513037824486636,0.2560302919965143,0.25713617010228124,0.2602148244008334,0.2655118161034849,0.26562734449178765,0.26831198505883846,0.27996697689362404,0.28458783616309247,0.2866284985224115,0.29742064247774996,0.3094367033489547,0.32236900000209817,0.4880770599064957],\"y\":[\"llms  \",\"research  \",\"korean  \",\"factually inconsistent  \",\"large  \",\"englishcentric  \",\"language models  \",\"openworld  \",\"factually consistent  \",\"performance  \",\"music  \",\"model  \",\"governance  \",\"language  \",\"los  \",\"models  \",\"factually  \",\"multilingual language  \",\"languages  \",\"multilingual  \"],\"type\":\"bar\",\"xaxis\":\"x9\",\"yaxis\":\"y9\"},{\"marker\":{\"color\":\"#CC79A7\"},\"orientation\":\"h\",\"x\":[0.41804888598298495,0.41804888598298495,0.41804888598298495,0.41828064789924563,0.42671982987030266,0.42671982987030266,0.4364139726085881,0.43733247799572245,0.45101491049141107,0.4513494283213325,0.4513494283213325,0.4544130583843652,0.4669712756824199,0.4672721700840161,0.521897568917673,0.5356207095182359,0.5599673950256364,0.563940995290035,0.5715743997112882,0.5972179776375225],\"y\":[\"semantic textual  \",\"variety language  \",\"textual similarity  \",\"opensource llms  \",\"mturk  \",\"querydocument  \",\"correctly  \",\"interesting findings  \",\"querydocument pairs  \",\"sts  \",\"assumption  \",\"common  \",\"dont  \",\"reason  \",\"contexts  \",\"models correctly  \",\"break  \",\"definitive  \",\"similarity  \",\"assumptions  \"],\"type\":\"bar\",\"xaxis\":\"x10\",\"yaxis\":\"y10\"}],                        {\"template\":{\"data\":{\"barpolar\":[{\"marker\":{\"line\":{\"color\":\"white\",\"width\":0.5},\"pattern\":{\"fillmode\":\"overlay\",\"size\":10,\"solidity\":0.2}},\"type\":\"barpolar\"}],\"bar\":[{\"error_x\":{\"color\":\"#2a3f5f\"},\"error_y\":{\"color\":\"#2a3f5f\"},\"marker\":{\"line\":{\"color\":\"white\",\"width\":0.5},\"pattern\":{\"fillmode\":\"overlay\",\"size\":10,\"solidity\":0.2}},\"type\":\"bar\"}],\"carpet\":[{\"aaxis\":{\"endlinecolor\":\"#2a3f5f\",\"gridcolor\":\"#C8D4E3\",\"linecolor\":\"#C8D4E3\",\"minorgridcolor\":\"#C8D4E3\",\"startlinecolor\":\"#2a3f5f\"},\"baxis\":{\"endlinecolor\":\"#2a3f5f\",\"gridcolor\":\"#C8D4E3\",\"linecolor\":\"#C8D4E3\",\"minorgridcolor\":\"#C8D4E3\",\"startlinecolor\":\"#2a3f5f\"},\"type\":\"carpet\"}],\"choropleth\":[{\"colorbar\":{\"outlinewidth\":0,\"ticks\":\"\"},\"type\":\"choropleth\"}],\"contourcarpet\":[{\"colorbar\":{\"outlinewidth\":0,\"ticks\":\"\"},\"type\":\"contourcarpet\"}],\"contour\":[{\"colorbar\":{\"outlinewidth\":0,\"ticks\":\"\"},\"colorscale\":[[0.0,\"#0d0887\"],[0.1111111111111111,\"#46039f\"],[0.2222222222222222,\"#7201a8\"],[0.3333333333333333,\"#9c179e\"],[0.4444444444444444,\"#bd3786\"],[0.5555555555555556,\"#d8576b\"],[0.6666666666666666,\"#ed7953\"],[0.7777777777777778,\"#fb9f3a\"],[0.8888888888888888,\"#fdca26\"],[1.0,\"#f0f921\"]],\"type\":\"contour\"}],\"heatmapgl\":[{\"colorbar\":{\"outlinewidth\":0,\"ticks\":\"\"},\"colorscale\":[[0.0,\"#0d0887\"],[0.1111111111111111,\"#46039f\"],[0.2222222222222222,\"#7201a8\"],[0.3333333333333333,\"#9c179e\"],[0.4444444444444444,\"#bd3786\"],[0.5555555555555556,\"#d8576b\"],[0.6666666666666666,\"#ed7953\"],[0.7777777777777778,\"#fb9f3a\"],[0.8888888888888888,\"#fdca26\"],[1.0,\"#f0f921\"]],\"type\":\"heatmapgl\"}],\"heatmap\":[{\"colorbar\":{\"outlinewidth\":0,\"ticks\":\"\"},\"colorscale\":[[0.0,\"#0d0887\"],[0.1111111111111111,\"#46039f\"],[0.2222222222222222,\"#7201a8\"],[0.3333333333333333,\"#9c179e\"],[0.4444444444444444,\"#bd3786\"],[0.5555555555555556,\"#d8576b\"],[0.6666666666666666,\"#ed7953\"],[0.7777777777777778,\"#fb9f3a\"],[0.8888888888888888,\"#fdca26\"],[1.0,\"#f0f921\"]],\"type\":\"heatmap\"}],\"histogram2dcontour\":[{\"colorbar\":{\"outlinewidth\":0,\"ticks\":\"\"},\"colorscale\":[[0.0,\"#0d0887\"],[0.1111111111111111,\"#46039f\"],[0.2222222222222222,\"#7201a8\"],[0.3333333333333333,\"#9c179e\"],[0.4444444444444444,\"#bd3786\"],[0.5555555555555556,\"#d8576b\"],[0.6666666666666666,\"#ed7953\"],[0.7777777777777778,\"#fb9f3a\"],[0.8888888888888888,\"#fdca26\"],[1.0,\"#f0f921\"]],\"type\":\"histogram2dcontour\"}],\"histogram2d\":[{\"colorbar\":{\"outlinewidth\":0,\"ticks\":\"\"},\"colorscale\":[[0.0,\"#0d0887\"],[0.1111111111111111,\"#46039f\"],[0.2222222222222222,\"#7201a8\"],[0.3333333333333333,\"#9c179e\"],[0.4444444444444444,\"#bd3786\"],[0.5555555555555556,\"#d8576b\"],[0.6666666666666666,\"#ed7953\"],[0.7777777777777778,\"#fb9f3a\"],[0.8888888888888888,\"#fdca26\"],[1.0,\"#f0f921\"]],\"type\":\"histogram2d\"}],\"histogram\":[{\"marker\":{\"pattern\":{\"fillmode\":\"overlay\",\"size\":10,\"solidity\":0.2}},\"type\":\"histogram\"}],\"mesh3d\":[{\"colorbar\":{\"outlinewidth\":0,\"ticks\":\"\"},\"type\":\"mesh3d\"}],\"parcoords\":[{\"line\":{\"colorbar\":{\"outlinewidth\":0,\"ticks\":\"\"}},\"type\":\"parcoords\"}],\"pie\":[{\"automargin\":true,\"type\":\"pie\"}],\"scatter3d\":[{\"line\":{\"colorbar\":{\"outlinewidth\":0,\"ticks\":\"\"}},\"marker\":{\"colorbar\":{\"outlinewidth\":0,\"ticks\":\"\"}},\"type\":\"scatter3d\"}],\"scattercarpet\":[{\"marker\":{\"colorbar\":{\"outlinewidth\":0,\"ticks\":\"\"}},\"type\":\"scattercarpet\"}],\"scattergeo\":[{\"marker\":{\"colorbar\":{\"outlinewidth\":0,\"ticks\":\"\"}},\"type\":\"scattergeo\"}],\"scattergl\":[{\"marker\":{\"colorbar\":{\"outlinewidth\":0,\"ticks\":\"\"}},\"type\":\"scattergl\"}],\"scattermapbox\":[{\"marker\":{\"colorbar\":{\"outlinewidth\":0,\"ticks\":\"\"}},\"type\":\"scattermapbox\"}],\"scatterpolargl\":[{\"marker\":{\"colorbar\":{\"outlinewidth\":0,\"ticks\":\"\"}},\"type\":\"scatterpolargl\"}],\"scatterpolar\":[{\"marker\":{\"colorbar\":{\"outlinewidth\":0,\"ticks\":\"\"}},\"type\":\"scatterpolar\"}],\"scatter\":[{\"fillpattern\":{\"fillmode\":\"overlay\",\"size\":10,\"solidity\":0.2},\"type\":\"scatter\"}],\"scatterternary\":[{\"marker\":{\"colorbar\":{\"outlinewidth\":0,\"ticks\":\"\"}},\"type\":\"scatterternary\"}],\"surface\":[{\"colorbar\":{\"outlinewidth\":0,\"ticks\":\"\"},\"colorscale\":[[0.0,\"#0d0887\"],[0.1111111111111111,\"#46039f\"],[0.2222222222222222,\"#7201a8\"],[0.3333333333333333,\"#9c179e\"],[0.4444444444444444,\"#bd3786\"],[0.5555555555555556,\"#d8576b\"],[0.6666666666666666,\"#ed7953\"],[0.7777777777777778,\"#fb9f3a\"],[0.8888888888888888,\"#fdca26\"],[1.0,\"#f0f921\"]],\"type\":\"surface\"}],\"table\":[{\"cells\":{\"fill\":{\"color\":\"#EBF0F8\"},\"line\":{\"color\":\"white\"}},\"header\":{\"fill\":{\"color\":\"#C8D4E3\"},\"line\":{\"color\":\"white\"}},\"type\":\"table\"}]},\"layout\":{\"annotationdefaults\":{\"arrowcolor\":\"#2a3f5f\",\"arrowhead\":0,\"arrowwidth\":1},\"autotypenumbers\":\"strict\",\"coloraxis\":{\"colorbar\":{\"outlinewidth\":0,\"ticks\":\"\"}},\"colorscale\":{\"diverging\":[[0,\"#8e0152\"],[0.1,\"#c51b7d\"],[0.2,\"#de77ae\"],[0.3,\"#f1b6da\"],[0.4,\"#fde0ef\"],[0.5,\"#f7f7f7\"],[0.6,\"#e6f5d0\"],[0.7,\"#b8e186\"],[0.8,\"#7fbc41\"],[0.9,\"#4d9221\"],[1,\"#276419\"]],\"sequential\":[[0.0,\"#0d0887\"],[0.1111111111111111,\"#46039f\"],[0.2222222222222222,\"#7201a8\"],[0.3333333333333333,\"#9c179e\"],[0.4444444444444444,\"#bd3786\"],[0.5555555555555556,\"#d8576b\"],[0.6666666666666666,\"#ed7953\"],[0.7777777777777778,\"#fb9f3a\"],[0.8888888888888888,\"#fdca26\"],[1.0,\"#f0f921\"]],\"sequentialminus\":[[0.0,\"#0d0887\"],[0.1111111111111111,\"#46039f\"],[0.2222222222222222,\"#7201a8\"],[0.3333333333333333,\"#9c179e\"],[0.4444444444444444,\"#bd3786\"],[0.5555555555555556,\"#d8576b\"],[0.6666666666666666,\"#ed7953\"],[0.7777777777777778,\"#fb9f3a\"],[0.8888888888888888,\"#fdca26\"],[1.0,\"#f0f921\"]]},\"colorway\":[\"#636efa\",\"#EF553B\",\"#00cc96\",\"#ab63fa\",\"#FFA15A\",\"#19d3f3\",\"#FF6692\",\"#B6E880\",\"#FF97FF\",\"#FECB52\"],\"font\":{\"color\":\"#2a3f5f\"},\"geo\":{\"bgcolor\":\"white\",\"lakecolor\":\"white\",\"landcolor\":\"white\",\"showlakes\":true,\"showland\":true,\"subunitcolor\":\"#C8D4E3\"},\"hoverlabel\":{\"align\":\"left\"},\"hovermode\":\"closest\",\"mapbox\":{\"style\":\"light\"},\"paper_bgcolor\":\"white\",\"plot_bgcolor\":\"white\",\"polar\":{\"angularaxis\":{\"gridcolor\":\"#EBF0F8\",\"linecolor\":\"#EBF0F8\",\"ticks\":\"\"},\"bgcolor\":\"white\",\"radialaxis\":{\"gridcolor\":\"#EBF0F8\",\"linecolor\":\"#EBF0F8\",\"ticks\":\"\"}},\"scene\":{\"xaxis\":{\"backgroundcolor\":\"white\",\"gridcolor\":\"#DFE8F3\",\"gridwidth\":2,\"linecolor\":\"#EBF0F8\",\"showbackground\":true,\"ticks\":\"\",\"zerolinecolor\":\"#EBF0F8\"},\"yaxis\":{\"backgroundcolor\":\"white\",\"gridcolor\":\"#DFE8F3\",\"gridwidth\":2,\"linecolor\":\"#EBF0F8\",\"showbackground\":true,\"ticks\":\"\",\"zerolinecolor\":\"#EBF0F8\"},\"zaxis\":{\"backgroundcolor\":\"white\",\"gridcolor\":\"#DFE8F3\",\"gridwidth\":2,\"linecolor\":\"#EBF0F8\",\"showbackground\":true,\"ticks\":\"\",\"zerolinecolor\":\"#EBF0F8\"}},\"shapedefaults\":{\"line\":{\"color\":\"#2a3f5f\"}},\"ternary\":{\"aaxis\":{\"gridcolor\":\"#DFE8F3\",\"linecolor\":\"#A2B1C6\",\"ticks\":\"\"},\"baxis\":{\"gridcolor\":\"#DFE8F3\",\"linecolor\":\"#A2B1C6\",\"ticks\":\"\"},\"bgcolor\":\"white\",\"caxis\":{\"gridcolor\":\"#DFE8F3\",\"linecolor\":\"#A2B1C6\",\"ticks\":\"\"}},\"title\":{\"x\":0.05},\"xaxis\":{\"automargin\":true,\"gridcolor\":\"#EBF0F8\",\"linecolor\":\"#EBF0F8\",\"ticks\":\"\",\"title\":{\"standoff\":15},\"zerolinecolor\":\"#EBF0F8\",\"zerolinewidth\":2},\"yaxis\":{\"automargin\":true,\"gridcolor\":\"#EBF0F8\",\"linecolor\":\"#EBF0F8\",\"ticks\":\"\",\"title\":{\"standoff\":15},\"zerolinecolor\":\"#EBF0F8\",\"zerolinewidth\":2}}},\"xaxis\":{\"anchor\":\"y\",\"domain\":[0.0,0.175],\"showgrid\":true},\"yaxis\":{\"anchor\":\"x\",\"domain\":[0.7555555555555555,1.0],\"showgrid\":true},\"xaxis2\":{\"anchor\":\"y2\",\"domain\":[0.275,0.45],\"showgrid\":true},\"yaxis2\":{\"anchor\":\"x2\",\"domain\":[0.7555555555555555,1.0],\"showgrid\":true},\"xaxis3\":{\"anchor\":\"y3\",\"domain\":[0.55,0.7250000000000001],\"showgrid\":true},\"yaxis3\":{\"anchor\":\"x3\",\"domain\":[0.7555555555555555,1.0],\"showgrid\":true},\"xaxis4\":{\"anchor\":\"y4\",\"domain\":[0.825,1.0],\"showgrid\":true},\"yaxis4\":{\"anchor\":\"x4\",\"domain\":[0.7555555555555555,1.0],\"showgrid\":true},\"xaxis5\":{\"anchor\":\"y5\",\"domain\":[0.0,0.175],\"showgrid\":true},\"yaxis5\":{\"anchor\":\"x5\",\"domain\":[0.37777777777777777,0.6222222222222222],\"showgrid\":true},\"xaxis6\":{\"anchor\":\"y6\",\"domain\":[0.275,0.45],\"showgrid\":true},\"yaxis6\":{\"anchor\":\"x6\",\"domain\":[0.37777777777777777,0.6222222222222222],\"showgrid\":true},\"xaxis7\":{\"anchor\":\"y7\",\"domain\":[0.55,0.7250000000000001],\"showgrid\":true},\"yaxis7\":{\"anchor\":\"x7\",\"domain\":[0.37777777777777777,0.6222222222222222],\"showgrid\":true},\"xaxis8\":{\"anchor\":\"y8\",\"domain\":[0.825,1.0],\"showgrid\":true},\"yaxis8\":{\"anchor\":\"x8\",\"domain\":[0.37777777777777777,0.6222222222222222],\"showgrid\":true},\"xaxis9\":{\"anchor\":\"y9\",\"domain\":[0.0,0.175],\"showgrid\":true},\"yaxis9\":{\"anchor\":\"x9\",\"domain\":[0.0,0.24444444444444446],\"showgrid\":true},\"xaxis10\":{\"anchor\":\"y10\",\"domain\":[0.275,0.45],\"showgrid\":true},\"yaxis10\":{\"anchor\":\"x10\",\"domain\":[0.0,0.24444444444444446],\"showgrid\":true},\"xaxis11\":{\"anchor\":\"y11\",\"domain\":[0.55,0.7250000000000001],\"showgrid\":true},\"yaxis11\":{\"anchor\":\"x11\",\"domain\":[0.0,0.24444444444444446],\"showgrid\":true},\"xaxis12\":{\"anchor\":\"y12\",\"domain\":[0.825,1.0],\"showgrid\":true},\"yaxis12\":{\"anchor\":\"x12\",\"domain\":[0.0,0.24444444444444446],\"showgrid\":true},\"annotations\":[{\"font\":{\"size\":16},\"showarrow\":false,\"text\":\"ChatGPT\",\"x\":0.0875,\"xanchor\":\"center\",\"xref\":\"paper\",\"y\":1.0,\"yanchor\":\"bottom\",\"yref\":\"paper\"},{\"font\":{\"size\":16},\"showarrow\":false,\"text\":\"GPT-3\",\"x\":0.36250000000000004,\"xanchor\":\"center\",\"xref\":\"paper\",\"y\":1.0,\"yanchor\":\"bottom\",\"yref\":\"paper\"},{\"font\":{\"size\":16},\"showarrow\":false,\"text\":\"GPT-4\",\"x\":0.6375000000000001,\"xanchor\":\"center\",\"xref\":\"paper\",\"y\":1.0,\"yanchor\":\"bottom\",\"yref\":\"paper\"},{\"font\":{\"size\":16},\"showarrow\":false,\"text\":\"T5\",\"x\":0.9125,\"xanchor\":\"center\",\"xref\":\"paper\",\"y\":1.0,\"yanchor\":\"bottom\",\"yref\":\"paper\"},{\"font\":{\"size\":16},\"showarrow\":false,\"text\":\"LLaMA\",\"x\":0.0875,\"xanchor\":\"center\",\"xref\":\"paper\",\"y\":0.6222222222222222,\"yanchor\":\"bottom\",\"yref\":\"paper\"},{\"font\":{\"size\":16},\"showarrow\":false,\"text\":\"Codex\",\"x\":0.36250000000000004,\"xanchor\":\"center\",\"xref\":\"paper\",\"y\":0.6222222222222222,\"yanchor\":\"bottom\",\"yref\":\"paper\"},{\"font\":{\"size\":16},\"showarrow\":false,\"text\":\"OPT\",\"x\":0.6375000000000001,\"xanchor\":\"center\",\"xref\":\"paper\",\"y\":0.6222222222222222,\"yanchor\":\"bottom\",\"yref\":\"paper\"},{\"font\":{\"size\":16},\"showarrow\":false,\"text\":\"PaLM\",\"x\":0.9125,\"xanchor\":\"center\",\"xref\":\"paper\",\"y\":0.6222222222222222,\"yanchor\":\"bottom\",\"yref\":\"paper\"},{\"font\":{\"size\":16},\"showarrow\":false,\"text\":\"FLAN\",\"x\":0.0875,\"xanchor\":\"center\",\"xref\":\"paper\",\"y\":0.24444444444444446,\"yanchor\":\"bottom\",\"yref\":\"paper\"},{\"font\":{\"size\":16},\"showarrow\":false,\"text\":\"BLOOM\",\"x\":0.36250000000000004,\"xanchor\":\"center\",\"xref\":\"paper\",\"y\":0.24444444444444446,\"yanchor\":\"bottom\",\"yref\":\"paper\"}],\"title\":{\"font\":{\"size\":22,\"color\":\"Black\"},\"text\":\"Topic Word Scores\",\"x\":0.5,\"xanchor\":\"center\",\"yanchor\":\"top\"},\"hoverlabel\":{\"font\":{\"size\":16,\"family\":\"Rockwell\"},\"bgcolor\":\"white\"},\"showlegend\":false,\"width\":1000,\"height\":3000},                        {\"responsive\": true}                    ).then(function(){\n",
       "                            \n",
       "var gd = document.getElementById('4551b171-df45-4051-87a4-8ffc88ad8179');\n",
       "var x = new MutationObserver(function (mutations, observer) {{\n",
       "        var display = window.getComputedStyle(gd).display;\n",
       "        if (!display || display === 'none') {{\n",
       "            console.log([gd, 'removed!']);\n",
       "            Plotly.purge(gd);\n",
       "            observer.disconnect();\n",
       "        }}\n",
       "}});\n",
       "\n",
       "// Listen for the removal of the full notebook cells\n",
       "var notebookContainer = gd.closest('#notebook-container');\n",
       "if (notebookContainer) {{\n",
       "    x.observe(notebookContainer, {childList: true});\n",
       "}}\n",
       "\n",
       "// Listen for the clearing of the current output cell\n",
       "var outputEl = gd.closest('.output');\n",
       "if (outputEl) {{\n",
       "    x.observe(outputEl, {childList: true});\n",
       "}}\n",
       "\n",
       "                        })                };                });            </script>        </div>"
      ]
     },
     "metadata": {},
     "output_type": "display_data"
    }
   ],
   "source": [
    "topic_model.visualize_barchart(custom_labels=True, top_n_topics = 20, n_words = 20 , height= 1000)\n",
    "# lists more fingerprints, from 10 to 50"
   ]
  },
  {
   "cell_type": "code",
   "execution_count": 49,
   "metadata": {},
   "outputs": [
    {
     "data": {
      "application/vnd.plotly.v1+json": {
       "config": {
        "plotlyServerURL": "https://plot.ly"
       },
       "data": [
        {
         "customdata": [
          [
           0,
           "chatgpt | ai | llms | research | study",
           901
          ],
          [
           1,
           "gpt3 | models | language | model | language models",
           592
          ],
          [
           2,
           "gpt4 | llms | models | large language | large",
           486
          ],
          [
           3,
           "t5 | pretrained | model | models | pretraining",
           222
          ],
          [
           4,
           "llama | llms | model | models | large language",
           165
          ],
          [
           5,
           "codex | code | program | programming | repair",
           98
          ],
          [
           6,
           "palm | language | models | math | language models",
           69
          ],
          [
           7,
           "opt | quantization | perplexity | inference | models",
           58
          ],
          [
           8,
           "multilingual | languages | multilingual language | factually | models",
           52
          ],
          [
           9,
           "assumptions | similarity | definitive | break | models correctly",
           6
          ]
         ],
         "hovertemplate": "<b>Topic %{customdata[0]}</b><br>%{customdata[1]}<br>Size: %{customdata[2]}",
         "legendgroup": "",
         "marker": {
          "color": "#B0BEC5",
          "line": {
           "color": "DarkSlateGrey",
           "width": 2
          },
          "size": [
           901,
           592,
           486,
           222,
           165,
           98,
           69,
           58,
           52,
           6
          ],
          "sizemode": "area",
          "sizeref": 0.563125,
          "symbol": "circle"
         },
         "mode": "markers",
         "name": "",
         "orientation": "v",
         "showlegend": false,
         "type": "scatter",
         "x": [
          4.948853492736816,
          2.2132668495178223,
          5.343331336975098,
          1.777390480041504,
          2.1211202144622803,
          5.701216220855713,
          2.1000216007232666,
          1.789943814277649,
          2.444774627685547,
          1.1660277843475342
         ],
         "xaxis": "x",
         "y": [
          -10.909340858459473,
          -8.545722007751465,
          -11.323933601379395,
          -8.647002220153809,
          -6.660523891448975,
          -10.858553886413574,
          -7.350416660308838,
          -6.21918249130249,
          -6.149080753326416,
          -8.30261516571045
         ],
         "yaxis": "y"
        }
       ],
       "layout": {
        "annotations": [
         {
          "showarrow": false,
          "text": "D1",
          "x": 0.991123616695404,
          "y": -9.12462114095688,
          "yshift": 10
         },
         {
          "showarrow": false,
          "text": "D2",
          "x": 3.773761135339737,
          "xshift": 10,
          "y": -5.226718640327453
         }
        ],
        "font": {
         "color": "LightSeaGreen",
         "family": "sans serif",
         "size": 18
        },
        "height": 650,
        "hoverlabel": {
         "bgcolor": "white",
         "font": {
          "family": "Rockwell",
          "size": 16
         }
        },
        "legend": {
         "itemsizing": "constant",
         "tracegroupgap": 0
        },
        "margin": {
         "t": 60
        },
        "shapes": [
         {
          "line": {
           "color": "#CFD8DC",
           "width": 2
          },
          "type": "line",
          "x0": 3.773761135339737,
          "x1": 3.773761135339737,
          "y0": -13.022523641586304,
          "y1": -5.226718640327453
         },
         {
          "line": {
           "color": "#9E9E9E",
           "width": 2
          },
          "type": "line",
          "x0": 0.991123616695404,
          "x1": 6.55639865398407,
          "y0": -9.12462114095688,
          "y1": -9.12462114095688
         }
        ],
        "sliders": [
         {
          "active": 0,
          "pad": {
           "t": 50
          },
          "steps": [
           {
            "args": [
             {
              "marker.color": [
               [
                "red",
                "#B0BEC5",
                "#B0BEC5",
                "#B0BEC5",
                "#B0BEC5",
                "#B0BEC5",
                "#B0BEC5",
                "#B0BEC5",
                "#B0BEC5",
                "#B0BEC5"
               ]
              ]
             }
            ],
            "label": "Topic 0",
            "method": "update"
           },
           {
            "args": [
             {
              "marker.color": [
               [
                "#B0BEC5",
                "red",
                "#B0BEC5",
                "#B0BEC5",
                "#B0BEC5",
                "#B0BEC5",
                "#B0BEC5",
                "#B0BEC5",
                "#B0BEC5",
                "#B0BEC5"
               ]
              ]
             }
            ],
            "label": "Topic 1",
            "method": "update"
           },
           {
            "args": [
             {
              "marker.color": [
               [
                "#B0BEC5",
                "#B0BEC5",
                "red",
                "#B0BEC5",
                "#B0BEC5",
                "#B0BEC5",
                "#B0BEC5",
                "#B0BEC5",
                "#B0BEC5",
                "#B0BEC5"
               ]
              ]
             }
            ],
            "label": "Topic 2",
            "method": "update"
           },
           {
            "args": [
             {
              "marker.color": [
               [
                "#B0BEC5",
                "#B0BEC5",
                "#B0BEC5",
                "red",
                "#B0BEC5",
                "#B0BEC5",
                "#B0BEC5",
                "#B0BEC5",
                "#B0BEC5",
                "#B0BEC5"
               ]
              ]
             }
            ],
            "label": "Topic 3",
            "method": "update"
           },
           {
            "args": [
             {
              "marker.color": [
               [
                "#B0BEC5",
                "#B0BEC5",
                "#B0BEC5",
                "#B0BEC5",
                "red",
                "#B0BEC5",
                "#B0BEC5",
                "#B0BEC5",
                "#B0BEC5",
                "#B0BEC5"
               ]
              ]
             }
            ],
            "label": "Topic 4",
            "method": "update"
           },
           {
            "args": [
             {
              "marker.color": [
               [
                "#B0BEC5",
                "#B0BEC5",
                "#B0BEC5",
                "#B0BEC5",
                "#B0BEC5",
                "red",
                "#B0BEC5",
                "#B0BEC5",
                "#B0BEC5",
                "#B0BEC5"
               ]
              ]
             }
            ],
            "label": "Topic 5",
            "method": "update"
           },
           {
            "args": [
             {
              "marker.color": [
               [
                "#B0BEC5",
                "#B0BEC5",
                "#B0BEC5",
                "#B0BEC5",
                "#B0BEC5",
                "#B0BEC5",
                "red",
                "#B0BEC5",
                "#B0BEC5",
                "#B0BEC5"
               ]
              ]
             }
            ],
            "label": "Topic 6",
            "method": "update"
           },
           {
            "args": [
             {
              "marker.color": [
               [
                "#B0BEC5",
                "#B0BEC5",
                "#B0BEC5",
                "#B0BEC5",
                "#B0BEC5",
                "#B0BEC5",
                "#B0BEC5",
                "red",
                "#B0BEC5",
                "#B0BEC5"
               ]
              ]
             }
            ],
            "label": "Topic 7",
            "method": "update"
           },
           {
            "args": [
             {
              "marker.color": [
               [
                "#B0BEC5",
                "#B0BEC5",
                "#B0BEC5",
                "#B0BEC5",
                "#B0BEC5",
                "#B0BEC5",
                "#B0BEC5",
                "#B0BEC5",
                "red",
                "#B0BEC5"
               ]
              ]
             }
            ],
            "label": "Topic 8",
            "method": "update"
           },
           {
            "args": [
             {
              "marker.color": [
               [
                "#B0BEC5",
                "#B0BEC5",
                "#B0BEC5",
                "#B0BEC5",
                "#B0BEC5",
                "#B0BEC5",
                "#B0BEC5",
                "#B0BEC5",
                "#B0BEC5",
                "red"
               ]
              ]
             }
            ],
            "label": "Topic 9",
            "method": "update"
           }
          ]
         }
        ],
        "template": {
         "data": {
          "bar": [
           {
            "error_x": {
             "color": "rgb(36,36,36)"
            },
            "error_y": {
             "color": "rgb(36,36,36)"
            },
            "marker": {
             "line": {
              "color": "white",
              "width": 0.5
             },
             "pattern": {
              "fillmode": "overlay",
              "size": 10,
              "solidity": 0.2
             }
            },
            "type": "bar"
           }
          ],
          "barpolar": [
           {
            "marker": {
             "line": {
              "color": "white",
              "width": 0.5
             },
             "pattern": {
              "fillmode": "overlay",
              "size": 10,
              "solidity": 0.2
             }
            },
            "type": "barpolar"
           }
          ],
          "carpet": [
           {
            "aaxis": {
             "endlinecolor": "rgb(36,36,36)",
             "gridcolor": "white",
             "linecolor": "white",
             "minorgridcolor": "white",
             "startlinecolor": "rgb(36,36,36)"
            },
            "baxis": {
             "endlinecolor": "rgb(36,36,36)",
             "gridcolor": "white",
             "linecolor": "white",
             "minorgridcolor": "white",
             "startlinecolor": "rgb(36,36,36)"
            },
            "type": "carpet"
           }
          ],
          "choropleth": [
           {
            "colorbar": {
             "outlinewidth": 1,
             "tickcolor": "rgb(36,36,36)",
             "ticks": "outside"
            },
            "type": "choropleth"
           }
          ],
          "contour": [
           {
            "colorbar": {
             "outlinewidth": 1,
             "tickcolor": "rgb(36,36,36)",
             "ticks": "outside"
            },
            "colorscale": [
             [
              0,
              "#440154"
             ],
             [
              0.1111111111111111,
              "#482878"
             ],
             [
              0.2222222222222222,
              "#3e4989"
             ],
             [
              0.3333333333333333,
              "#31688e"
             ],
             [
              0.4444444444444444,
              "#26828e"
             ],
             [
              0.5555555555555556,
              "#1f9e89"
             ],
             [
              0.6666666666666666,
              "#35b779"
             ],
             [
              0.7777777777777778,
              "#6ece58"
             ],
             [
              0.8888888888888888,
              "#b5de2b"
             ],
             [
              1,
              "#fde725"
             ]
            ],
            "type": "contour"
           }
          ],
          "contourcarpet": [
           {
            "colorbar": {
             "outlinewidth": 1,
             "tickcolor": "rgb(36,36,36)",
             "ticks": "outside"
            },
            "type": "contourcarpet"
           }
          ],
          "heatmap": [
           {
            "colorbar": {
             "outlinewidth": 1,
             "tickcolor": "rgb(36,36,36)",
             "ticks": "outside"
            },
            "colorscale": [
             [
              0,
              "#440154"
             ],
             [
              0.1111111111111111,
              "#482878"
             ],
             [
              0.2222222222222222,
              "#3e4989"
             ],
             [
              0.3333333333333333,
              "#31688e"
             ],
             [
              0.4444444444444444,
              "#26828e"
             ],
             [
              0.5555555555555556,
              "#1f9e89"
             ],
             [
              0.6666666666666666,
              "#35b779"
             ],
             [
              0.7777777777777778,
              "#6ece58"
             ],
             [
              0.8888888888888888,
              "#b5de2b"
             ],
             [
              1,
              "#fde725"
             ]
            ],
            "type": "heatmap"
           }
          ],
          "heatmapgl": [
           {
            "colorbar": {
             "outlinewidth": 1,
             "tickcolor": "rgb(36,36,36)",
             "ticks": "outside"
            },
            "colorscale": [
             [
              0,
              "#440154"
             ],
             [
              0.1111111111111111,
              "#482878"
             ],
             [
              0.2222222222222222,
              "#3e4989"
             ],
             [
              0.3333333333333333,
              "#31688e"
             ],
             [
              0.4444444444444444,
              "#26828e"
             ],
             [
              0.5555555555555556,
              "#1f9e89"
             ],
             [
              0.6666666666666666,
              "#35b779"
             ],
             [
              0.7777777777777778,
              "#6ece58"
             ],
             [
              0.8888888888888888,
              "#b5de2b"
             ],
             [
              1,
              "#fde725"
             ]
            ],
            "type": "heatmapgl"
           }
          ],
          "histogram": [
           {
            "marker": {
             "line": {
              "color": "white",
              "width": 0.6
             }
            },
            "type": "histogram"
           }
          ],
          "histogram2d": [
           {
            "colorbar": {
             "outlinewidth": 1,
             "tickcolor": "rgb(36,36,36)",
             "ticks": "outside"
            },
            "colorscale": [
             [
              0,
              "#440154"
             ],
             [
              0.1111111111111111,
              "#482878"
             ],
             [
              0.2222222222222222,
              "#3e4989"
             ],
             [
              0.3333333333333333,
              "#31688e"
             ],
             [
              0.4444444444444444,
              "#26828e"
             ],
             [
              0.5555555555555556,
              "#1f9e89"
             ],
             [
              0.6666666666666666,
              "#35b779"
             ],
             [
              0.7777777777777778,
              "#6ece58"
             ],
             [
              0.8888888888888888,
              "#b5de2b"
             ],
             [
              1,
              "#fde725"
             ]
            ],
            "type": "histogram2d"
           }
          ],
          "histogram2dcontour": [
           {
            "colorbar": {
             "outlinewidth": 1,
             "tickcolor": "rgb(36,36,36)",
             "ticks": "outside"
            },
            "colorscale": [
             [
              0,
              "#440154"
             ],
             [
              0.1111111111111111,
              "#482878"
             ],
             [
              0.2222222222222222,
              "#3e4989"
             ],
             [
              0.3333333333333333,
              "#31688e"
             ],
             [
              0.4444444444444444,
              "#26828e"
             ],
             [
              0.5555555555555556,
              "#1f9e89"
             ],
             [
              0.6666666666666666,
              "#35b779"
             ],
             [
              0.7777777777777778,
              "#6ece58"
             ],
             [
              0.8888888888888888,
              "#b5de2b"
             ],
             [
              1,
              "#fde725"
             ]
            ],
            "type": "histogram2dcontour"
           }
          ],
          "mesh3d": [
           {
            "colorbar": {
             "outlinewidth": 1,
             "tickcolor": "rgb(36,36,36)",
             "ticks": "outside"
            },
            "type": "mesh3d"
           }
          ],
          "parcoords": [
           {
            "line": {
             "colorbar": {
              "outlinewidth": 1,
              "tickcolor": "rgb(36,36,36)",
              "ticks": "outside"
             }
            },
            "type": "parcoords"
           }
          ],
          "pie": [
           {
            "automargin": true,
            "type": "pie"
           }
          ],
          "scatter": [
           {
            "fillpattern": {
             "fillmode": "overlay",
             "size": 10,
             "solidity": 0.2
            },
            "type": "scatter"
           }
          ],
          "scatter3d": [
           {
            "line": {
             "colorbar": {
              "outlinewidth": 1,
              "tickcolor": "rgb(36,36,36)",
              "ticks": "outside"
             }
            },
            "marker": {
             "colorbar": {
              "outlinewidth": 1,
              "tickcolor": "rgb(36,36,36)",
              "ticks": "outside"
             }
            },
            "type": "scatter3d"
           }
          ],
          "scattercarpet": [
           {
            "marker": {
             "colorbar": {
              "outlinewidth": 1,
              "tickcolor": "rgb(36,36,36)",
              "ticks": "outside"
             }
            },
            "type": "scattercarpet"
           }
          ],
          "scattergeo": [
           {
            "marker": {
             "colorbar": {
              "outlinewidth": 1,
              "tickcolor": "rgb(36,36,36)",
              "ticks": "outside"
             }
            },
            "type": "scattergeo"
           }
          ],
          "scattergl": [
           {
            "marker": {
             "colorbar": {
              "outlinewidth": 1,
              "tickcolor": "rgb(36,36,36)",
              "ticks": "outside"
             }
            },
            "type": "scattergl"
           }
          ],
          "scattermapbox": [
           {
            "marker": {
             "colorbar": {
              "outlinewidth": 1,
              "tickcolor": "rgb(36,36,36)",
              "ticks": "outside"
             }
            },
            "type": "scattermapbox"
           }
          ],
          "scatterpolar": [
           {
            "marker": {
             "colorbar": {
              "outlinewidth": 1,
              "tickcolor": "rgb(36,36,36)",
              "ticks": "outside"
             }
            },
            "type": "scatterpolar"
           }
          ],
          "scatterpolargl": [
           {
            "marker": {
             "colorbar": {
              "outlinewidth": 1,
              "tickcolor": "rgb(36,36,36)",
              "ticks": "outside"
             }
            },
            "type": "scatterpolargl"
           }
          ],
          "scatterternary": [
           {
            "marker": {
             "colorbar": {
              "outlinewidth": 1,
              "tickcolor": "rgb(36,36,36)",
              "ticks": "outside"
             }
            },
            "type": "scatterternary"
           }
          ],
          "surface": [
           {
            "colorbar": {
             "outlinewidth": 1,
             "tickcolor": "rgb(36,36,36)",
             "ticks": "outside"
            },
            "colorscale": [
             [
              0,
              "#440154"
             ],
             [
              0.1111111111111111,
              "#482878"
             ],
             [
              0.2222222222222222,
              "#3e4989"
             ],
             [
              0.3333333333333333,
              "#31688e"
             ],
             [
              0.4444444444444444,
              "#26828e"
             ],
             [
              0.5555555555555556,
              "#1f9e89"
             ],
             [
              0.6666666666666666,
              "#35b779"
             ],
             [
              0.7777777777777778,
              "#6ece58"
             ],
             [
              0.8888888888888888,
              "#b5de2b"
             ],
             [
              1,
              "#fde725"
             ]
            ],
            "type": "surface"
           }
          ],
          "table": [
           {
            "cells": {
             "fill": {
              "color": "rgb(237,237,237)"
             },
             "line": {
              "color": "white"
             }
            },
            "header": {
             "fill": {
              "color": "rgb(217,217,217)"
             },
             "line": {
              "color": "white"
             }
            },
            "type": "table"
           }
          ]
         },
         "layout": {
          "annotationdefaults": {
           "arrowhead": 0,
           "arrowwidth": 1
          },
          "autotypenumbers": "strict",
          "coloraxis": {
           "colorbar": {
            "outlinewidth": 1,
            "tickcolor": "rgb(36,36,36)",
            "ticks": "outside"
           }
          },
          "colorscale": {
           "diverging": [
            [
             0,
             "rgb(103,0,31)"
            ],
            [
             0.1,
             "rgb(178,24,43)"
            ],
            [
             0.2,
             "rgb(214,96,77)"
            ],
            [
             0.3,
             "rgb(244,165,130)"
            ],
            [
             0.4,
             "rgb(253,219,199)"
            ],
            [
             0.5,
             "rgb(247,247,247)"
            ],
            [
             0.6,
             "rgb(209,229,240)"
            ],
            [
             0.7,
             "rgb(146,197,222)"
            ],
            [
             0.8,
             "rgb(67,147,195)"
            ],
            [
             0.9,
             "rgb(33,102,172)"
            ],
            [
             1,
             "rgb(5,48,97)"
            ]
           ],
           "sequential": [
            [
             0,
             "#440154"
            ],
            [
             0.1111111111111111,
             "#482878"
            ],
            [
             0.2222222222222222,
             "#3e4989"
            ],
            [
             0.3333333333333333,
             "#31688e"
            ],
            [
             0.4444444444444444,
             "#26828e"
            ],
            [
             0.5555555555555556,
             "#1f9e89"
            ],
            [
             0.6666666666666666,
             "#35b779"
            ],
            [
             0.7777777777777778,
             "#6ece58"
            ],
            [
             0.8888888888888888,
             "#b5de2b"
            ],
            [
             1,
             "#fde725"
            ]
           ],
           "sequentialminus": [
            [
             0,
             "#440154"
            ],
            [
             0.1111111111111111,
             "#482878"
            ],
            [
             0.2222222222222222,
             "#3e4989"
            ],
            [
             0.3333333333333333,
             "#31688e"
            ],
            [
             0.4444444444444444,
             "#26828e"
            ],
            [
             0.5555555555555556,
             "#1f9e89"
            ],
            [
             0.6666666666666666,
             "#35b779"
            ],
            [
             0.7777777777777778,
             "#6ece58"
            ],
            [
             0.8888888888888888,
             "#b5de2b"
            ],
            [
             1,
             "#fde725"
            ]
           ]
          },
          "colorway": [
           "#1F77B4",
           "#FF7F0E",
           "#2CA02C",
           "#D62728",
           "#9467BD",
           "#8C564B",
           "#E377C2",
           "#7F7F7F",
           "#BCBD22",
           "#17BECF"
          ],
          "font": {
           "color": "rgb(36,36,36)"
          },
          "geo": {
           "bgcolor": "white",
           "lakecolor": "white",
           "landcolor": "white",
           "showlakes": true,
           "showland": true,
           "subunitcolor": "white"
          },
          "hoverlabel": {
           "align": "left"
          },
          "hovermode": "closest",
          "mapbox": {
           "style": "light"
          },
          "paper_bgcolor": "white",
          "plot_bgcolor": "white",
          "polar": {
           "angularaxis": {
            "gridcolor": "rgb(232,232,232)",
            "linecolor": "rgb(36,36,36)",
            "showgrid": false,
            "showline": true,
            "ticks": "outside"
           },
           "bgcolor": "white",
           "radialaxis": {
            "gridcolor": "rgb(232,232,232)",
            "linecolor": "rgb(36,36,36)",
            "showgrid": false,
            "showline": true,
            "ticks": "outside"
           }
          },
          "scene": {
           "xaxis": {
            "backgroundcolor": "white",
            "gridcolor": "rgb(232,232,232)",
            "gridwidth": 2,
            "linecolor": "rgb(36,36,36)",
            "showbackground": true,
            "showgrid": false,
            "showline": true,
            "ticks": "outside",
            "zeroline": false,
            "zerolinecolor": "rgb(36,36,36)"
           },
           "yaxis": {
            "backgroundcolor": "white",
            "gridcolor": "rgb(232,232,232)",
            "gridwidth": 2,
            "linecolor": "rgb(36,36,36)",
            "showbackground": true,
            "showgrid": false,
            "showline": true,
            "ticks": "outside",
            "zeroline": false,
            "zerolinecolor": "rgb(36,36,36)"
           },
           "zaxis": {
            "backgroundcolor": "white",
            "gridcolor": "rgb(232,232,232)",
            "gridwidth": 2,
            "linecolor": "rgb(36,36,36)",
            "showbackground": true,
            "showgrid": false,
            "showline": true,
            "ticks": "outside",
            "zeroline": false,
            "zerolinecolor": "rgb(36,36,36)"
           }
          },
          "shapedefaults": {
           "fillcolor": "black",
           "line": {
            "width": 0
           },
           "opacity": 0.3
          },
          "ternary": {
           "aaxis": {
            "gridcolor": "rgb(232,232,232)",
            "linecolor": "rgb(36,36,36)",
            "showgrid": false,
            "showline": true,
            "ticks": "outside"
           },
           "baxis": {
            "gridcolor": "rgb(232,232,232)",
            "linecolor": "rgb(36,36,36)",
            "showgrid": false,
            "showline": true,
            "ticks": "outside"
           },
           "bgcolor": "white",
           "caxis": {
            "gridcolor": "rgb(232,232,232)",
            "linecolor": "rgb(36,36,36)",
            "showgrid": false,
            "showline": true,
            "ticks": "outside"
           }
          },
          "title": {
           "x": 0.05
          },
          "xaxis": {
           "automargin": true,
           "gridcolor": "rgb(232,232,232)",
           "linecolor": "rgb(36,36,36)",
           "showgrid": false,
           "showline": true,
           "ticks": "outside",
           "title": {
            "standoff": 15
           },
           "zeroline": false,
           "zerolinecolor": "rgb(36,36,36)"
          },
          "yaxis": {
           "automargin": true,
           "gridcolor": "rgb(232,232,232)",
           "linecolor": "rgb(36,36,36)",
           "showgrid": false,
           "showline": true,
           "ticks": "outside",
           "title": {
            "standoff": 15
           },
           "zeroline": false,
           "zerolinecolor": "rgb(36,36,36)"
          }
         }
        },
        "title": {
         "font": {
          "color": "Black",
          "size": 22
         },
         "text": "<b>Intertopic Distance Map</b>",
         "x": 0.5,
         "xanchor": "center",
         "y": 0.95,
         "yanchor": "top"
        },
        "width": 650,
        "xaxis": {
         "anchor": "y",
         "domain": [
          0,
          1
         ],
         "range": [
          0.991123616695404,
          6.55639865398407
         ],
         "title": {
          "text": ""
         },
         "visible": false
        },
        "yaxis": {
         "anchor": "x",
         "domain": [
          0,
          1
         ],
         "range": [
          -13.022523641586304,
          -5.226718640327453
         ],
         "title": {
          "text": ""
         },
         "visible": false
        }
       }
      },
      "text/html": [
       "<div>                            <div id=\"9fb06477-f243-46dd-9d8a-1b78c066c45e\" class=\"plotly-graph-div\" style=\"height:650px; width:650px;\"></div>            <script type=\"text/javascript\">                require([\"plotly\"], function(Plotly) {                    window.PLOTLYENV=window.PLOTLYENV || {};                                    if (document.getElementById(\"9fb06477-f243-46dd-9d8a-1b78c066c45e\")) {                    Plotly.newPlot(                        \"9fb06477-f243-46dd-9d8a-1b78c066c45e\",                        [{\"customdata\":[[0,\"chatgpt | ai | llms | research | study\",901],[1,\"gpt3 | models | language | model | language models\",592],[2,\"gpt4 | llms | models | large language | large\",486],[3,\"t5 | pretrained | model | models | pretraining\",222],[4,\"llama | llms | model | models | large language\",165],[5,\"codex | code | program | programming | repair\",98],[6,\"palm | language | models | math | language models\",69],[7,\"opt | quantization | perplexity | inference | models\",58],[8,\"multilingual | languages | multilingual language | factually | models\",52],[9,\"assumptions | similarity | definitive | break | models correctly\",6]],\"hovertemplate\":\"<b>Topic %{customdata[0]}</b><br>%{customdata[1]}<br>Size: %{customdata[2]}\",\"legendgroup\":\"\",\"marker\":{\"color\":\"#B0BEC5\",\"size\":[901,592,486,222,165,98,69,58,52,6],\"sizemode\":\"area\",\"sizeref\":0.563125,\"symbol\":\"circle\",\"line\":{\"color\":\"DarkSlateGrey\",\"width\":2}},\"mode\":\"markers\",\"name\":\"\",\"orientation\":\"v\",\"showlegend\":false,\"x\":[4.948853492736816,2.2132668495178223,5.343331336975098,1.777390480041504,2.1211202144622803,5.701216220855713,2.1000216007232666,1.789943814277649,2.444774627685547,1.1660277843475342],\"xaxis\":\"x\",\"y\":[-10.909340858459473,-8.545722007751465,-11.323933601379395,-8.647002220153809,-6.660523891448975,-10.858553886413574,-7.350416660308838,-6.21918249130249,-6.149080753326416,-8.30261516571045],\"yaxis\":\"y\",\"type\":\"scatter\"}],                        {\"template\":{\"data\":{\"barpolar\":[{\"marker\":{\"line\":{\"color\":\"white\",\"width\":0.5},\"pattern\":{\"fillmode\":\"overlay\",\"size\":10,\"solidity\":0.2}},\"type\":\"barpolar\"}],\"bar\":[{\"error_x\":{\"color\":\"rgb(36,36,36)\"},\"error_y\":{\"color\":\"rgb(36,36,36)\"},\"marker\":{\"line\":{\"color\":\"white\",\"width\":0.5},\"pattern\":{\"fillmode\":\"overlay\",\"size\":10,\"solidity\":0.2}},\"type\":\"bar\"}],\"carpet\":[{\"aaxis\":{\"endlinecolor\":\"rgb(36,36,36)\",\"gridcolor\":\"white\",\"linecolor\":\"white\",\"minorgridcolor\":\"white\",\"startlinecolor\":\"rgb(36,36,36)\"},\"baxis\":{\"endlinecolor\":\"rgb(36,36,36)\",\"gridcolor\":\"white\",\"linecolor\":\"white\",\"minorgridcolor\":\"white\",\"startlinecolor\":\"rgb(36,36,36)\"},\"type\":\"carpet\"}],\"choropleth\":[{\"colorbar\":{\"outlinewidth\":1,\"tickcolor\":\"rgb(36,36,36)\",\"ticks\":\"outside\"},\"type\":\"choropleth\"}],\"contourcarpet\":[{\"colorbar\":{\"outlinewidth\":1,\"tickcolor\":\"rgb(36,36,36)\",\"ticks\":\"outside\"},\"type\":\"contourcarpet\"}],\"contour\":[{\"colorbar\":{\"outlinewidth\":1,\"tickcolor\":\"rgb(36,36,36)\",\"ticks\":\"outside\"},\"colorscale\":[[0.0,\"#440154\"],[0.1111111111111111,\"#482878\"],[0.2222222222222222,\"#3e4989\"],[0.3333333333333333,\"#31688e\"],[0.4444444444444444,\"#26828e\"],[0.5555555555555556,\"#1f9e89\"],[0.6666666666666666,\"#35b779\"],[0.7777777777777778,\"#6ece58\"],[0.8888888888888888,\"#b5de2b\"],[1.0,\"#fde725\"]],\"type\":\"contour\"}],\"heatmapgl\":[{\"colorbar\":{\"outlinewidth\":1,\"tickcolor\":\"rgb(36,36,36)\",\"ticks\":\"outside\"},\"colorscale\":[[0.0,\"#440154\"],[0.1111111111111111,\"#482878\"],[0.2222222222222222,\"#3e4989\"],[0.3333333333333333,\"#31688e\"],[0.4444444444444444,\"#26828e\"],[0.5555555555555556,\"#1f9e89\"],[0.6666666666666666,\"#35b779\"],[0.7777777777777778,\"#6ece58\"],[0.8888888888888888,\"#b5de2b\"],[1.0,\"#fde725\"]],\"type\":\"heatmapgl\"}],\"heatmap\":[{\"colorbar\":{\"outlinewidth\":1,\"tickcolor\":\"rgb(36,36,36)\",\"ticks\":\"outside\"},\"colorscale\":[[0.0,\"#440154\"],[0.1111111111111111,\"#482878\"],[0.2222222222222222,\"#3e4989\"],[0.3333333333333333,\"#31688e\"],[0.4444444444444444,\"#26828e\"],[0.5555555555555556,\"#1f9e89\"],[0.6666666666666666,\"#35b779\"],[0.7777777777777778,\"#6ece58\"],[0.8888888888888888,\"#b5de2b\"],[1.0,\"#fde725\"]],\"type\":\"heatmap\"}],\"histogram2dcontour\":[{\"colorbar\":{\"outlinewidth\":1,\"tickcolor\":\"rgb(36,36,36)\",\"ticks\":\"outside\"},\"colorscale\":[[0.0,\"#440154\"],[0.1111111111111111,\"#482878\"],[0.2222222222222222,\"#3e4989\"],[0.3333333333333333,\"#31688e\"],[0.4444444444444444,\"#26828e\"],[0.5555555555555556,\"#1f9e89\"],[0.6666666666666666,\"#35b779\"],[0.7777777777777778,\"#6ece58\"],[0.8888888888888888,\"#b5de2b\"],[1.0,\"#fde725\"]],\"type\":\"histogram2dcontour\"}],\"histogram2d\":[{\"colorbar\":{\"outlinewidth\":1,\"tickcolor\":\"rgb(36,36,36)\",\"ticks\":\"outside\"},\"colorscale\":[[0.0,\"#440154\"],[0.1111111111111111,\"#482878\"],[0.2222222222222222,\"#3e4989\"],[0.3333333333333333,\"#31688e\"],[0.4444444444444444,\"#26828e\"],[0.5555555555555556,\"#1f9e89\"],[0.6666666666666666,\"#35b779\"],[0.7777777777777778,\"#6ece58\"],[0.8888888888888888,\"#b5de2b\"],[1.0,\"#fde725\"]],\"type\":\"histogram2d\"}],\"histogram\":[{\"marker\":{\"line\":{\"color\":\"white\",\"width\":0.6}},\"type\":\"histogram\"}],\"mesh3d\":[{\"colorbar\":{\"outlinewidth\":1,\"tickcolor\":\"rgb(36,36,36)\",\"ticks\":\"outside\"},\"type\":\"mesh3d\"}],\"parcoords\":[{\"line\":{\"colorbar\":{\"outlinewidth\":1,\"tickcolor\":\"rgb(36,36,36)\",\"ticks\":\"outside\"}},\"type\":\"parcoords\"}],\"pie\":[{\"automargin\":true,\"type\":\"pie\"}],\"scatter3d\":[{\"line\":{\"colorbar\":{\"outlinewidth\":1,\"tickcolor\":\"rgb(36,36,36)\",\"ticks\":\"outside\"}},\"marker\":{\"colorbar\":{\"outlinewidth\":1,\"tickcolor\":\"rgb(36,36,36)\",\"ticks\":\"outside\"}},\"type\":\"scatter3d\"}],\"scattercarpet\":[{\"marker\":{\"colorbar\":{\"outlinewidth\":1,\"tickcolor\":\"rgb(36,36,36)\",\"ticks\":\"outside\"}},\"type\":\"scattercarpet\"}],\"scattergeo\":[{\"marker\":{\"colorbar\":{\"outlinewidth\":1,\"tickcolor\":\"rgb(36,36,36)\",\"ticks\":\"outside\"}},\"type\":\"scattergeo\"}],\"scattergl\":[{\"marker\":{\"colorbar\":{\"outlinewidth\":1,\"tickcolor\":\"rgb(36,36,36)\",\"ticks\":\"outside\"}},\"type\":\"scattergl\"}],\"scattermapbox\":[{\"marker\":{\"colorbar\":{\"outlinewidth\":1,\"tickcolor\":\"rgb(36,36,36)\",\"ticks\":\"outside\"}},\"type\":\"scattermapbox\"}],\"scatterpolargl\":[{\"marker\":{\"colorbar\":{\"outlinewidth\":1,\"tickcolor\":\"rgb(36,36,36)\",\"ticks\":\"outside\"}},\"type\":\"scatterpolargl\"}],\"scatterpolar\":[{\"marker\":{\"colorbar\":{\"outlinewidth\":1,\"tickcolor\":\"rgb(36,36,36)\",\"ticks\":\"outside\"}},\"type\":\"scatterpolar\"}],\"scatter\":[{\"fillpattern\":{\"fillmode\":\"overlay\",\"size\":10,\"solidity\":0.2},\"type\":\"scatter\"}],\"scatterternary\":[{\"marker\":{\"colorbar\":{\"outlinewidth\":1,\"tickcolor\":\"rgb(36,36,36)\",\"ticks\":\"outside\"}},\"type\":\"scatterternary\"}],\"surface\":[{\"colorbar\":{\"outlinewidth\":1,\"tickcolor\":\"rgb(36,36,36)\",\"ticks\":\"outside\"},\"colorscale\":[[0.0,\"#440154\"],[0.1111111111111111,\"#482878\"],[0.2222222222222222,\"#3e4989\"],[0.3333333333333333,\"#31688e\"],[0.4444444444444444,\"#26828e\"],[0.5555555555555556,\"#1f9e89\"],[0.6666666666666666,\"#35b779\"],[0.7777777777777778,\"#6ece58\"],[0.8888888888888888,\"#b5de2b\"],[1.0,\"#fde725\"]],\"type\":\"surface\"}],\"table\":[{\"cells\":{\"fill\":{\"color\":\"rgb(237,237,237)\"},\"line\":{\"color\":\"white\"}},\"header\":{\"fill\":{\"color\":\"rgb(217,217,217)\"},\"line\":{\"color\":\"white\"}},\"type\":\"table\"}]},\"layout\":{\"annotationdefaults\":{\"arrowhead\":0,\"arrowwidth\":1},\"autotypenumbers\":\"strict\",\"coloraxis\":{\"colorbar\":{\"outlinewidth\":1,\"tickcolor\":\"rgb(36,36,36)\",\"ticks\":\"outside\"}},\"colorscale\":{\"diverging\":[[0.0,\"rgb(103,0,31)\"],[0.1,\"rgb(178,24,43)\"],[0.2,\"rgb(214,96,77)\"],[0.3,\"rgb(244,165,130)\"],[0.4,\"rgb(253,219,199)\"],[0.5,\"rgb(247,247,247)\"],[0.6,\"rgb(209,229,240)\"],[0.7,\"rgb(146,197,222)\"],[0.8,\"rgb(67,147,195)\"],[0.9,\"rgb(33,102,172)\"],[1.0,\"rgb(5,48,97)\"]],\"sequential\":[[0.0,\"#440154\"],[0.1111111111111111,\"#482878\"],[0.2222222222222222,\"#3e4989\"],[0.3333333333333333,\"#31688e\"],[0.4444444444444444,\"#26828e\"],[0.5555555555555556,\"#1f9e89\"],[0.6666666666666666,\"#35b779\"],[0.7777777777777778,\"#6ece58\"],[0.8888888888888888,\"#b5de2b\"],[1.0,\"#fde725\"]],\"sequentialminus\":[[0.0,\"#440154\"],[0.1111111111111111,\"#482878\"],[0.2222222222222222,\"#3e4989\"],[0.3333333333333333,\"#31688e\"],[0.4444444444444444,\"#26828e\"],[0.5555555555555556,\"#1f9e89\"],[0.6666666666666666,\"#35b779\"],[0.7777777777777778,\"#6ece58\"],[0.8888888888888888,\"#b5de2b\"],[1.0,\"#fde725\"]]},\"colorway\":[\"#1F77B4\",\"#FF7F0E\",\"#2CA02C\",\"#D62728\",\"#9467BD\",\"#8C564B\",\"#E377C2\",\"#7F7F7F\",\"#BCBD22\",\"#17BECF\"],\"font\":{\"color\":\"rgb(36,36,36)\"},\"geo\":{\"bgcolor\":\"white\",\"lakecolor\":\"white\",\"landcolor\":\"white\",\"showlakes\":true,\"showland\":true,\"subunitcolor\":\"white\"},\"hoverlabel\":{\"align\":\"left\"},\"hovermode\":\"closest\",\"mapbox\":{\"style\":\"light\"},\"paper_bgcolor\":\"white\",\"plot_bgcolor\":\"white\",\"polar\":{\"angularaxis\":{\"gridcolor\":\"rgb(232,232,232)\",\"linecolor\":\"rgb(36,36,36)\",\"showgrid\":false,\"showline\":true,\"ticks\":\"outside\"},\"bgcolor\":\"white\",\"radialaxis\":{\"gridcolor\":\"rgb(232,232,232)\",\"linecolor\":\"rgb(36,36,36)\",\"showgrid\":false,\"showline\":true,\"ticks\":\"outside\"}},\"scene\":{\"xaxis\":{\"backgroundcolor\":\"white\",\"gridcolor\":\"rgb(232,232,232)\",\"gridwidth\":2,\"linecolor\":\"rgb(36,36,36)\",\"showbackground\":true,\"showgrid\":false,\"showline\":true,\"ticks\":\"outside\",\"zeroline\":false,\"zerolinecolor\":\"rgb(36,36,36)\"},\"yaxis\":{\"backgroundcolor\":\"white\",\"gridcolor\":\"rgb(232,232,232)\",\"gridwidth\":2,\"linecolor\":\"rgb(36,36,36)\",\"showbackground\":true,\"showgrid\":false,\"showline\":true,\"ticks\":\"outside\",\"zeroline\":false,\"zerolinecolor\":\"rgb(36,36,36)\"},\"zaxis\":{\"backgroundcolor\":\"white\",\"gridcolor\":\"rgb(232,232,232)\",\"gridwidth\":2,\"linecolor\":\"rgb(36,36,36)\",\"showbackground\":true,\"showgrid\":false,\"showline\":true,\"ticks\":\"outside\",\"zeroline\":false,\"zerolinecolor\":\"rgb(36,36,36)\"}},\"shapedefaults\":{\"fillcolor\":\"black\",\"line\":{\"width\":0},\"opacity\":0.3},\"ternary\":{\"aaxis\":{\"gridcolor\":\"rgb(232,232,232)\",\"linecolor\":\"rgb(36,36,36)\",\"showgrid\":false,\"showline\":true,\"ticks\":\"outside\"},\"baxis\":{\"gridcolor\":\"rgb(232,232,232)\",\"linecolor\":\"rgb(36,36,36)\",\"showgrid\":false,\"showline\":true,\"ticks\":\"outside\"},\"bgcolor\":\"white\",\"caxis\":{\"gridcolor\":\"rgb(232,232,232)\",\"linecolor\":\"rgb(36,36,36)\",\"showgrid\":false,\"showline\":true,\"ticks\":\"outside\"}},\"title\":{\"x\":0.05},\"xaxis\":{\"automargin\":true,\"gridcolor\":\"rgb(232,232,232)\",\"linecolor\":\"rgb(36,36,36)\",\"showgrid\":false,\"showline\":true,\"ticks\":\"outside\",\"title\":{\"standoff\":15},\"zeroline\":false,\"zerolinecolor\":\"rgb(36,36,36)\"},\"yaxis\":{\"automargin\":true,\"gridcolor\":\"rgb(232,232,232)\",\"linecolor\":\"rgb(36,36,36)\",\"showgrid\":false,\"showline\":true,\"ticks\":\"outside\",\"title\":{\"standoff\":15},\"zeroline\":false,\"zerolinecolor\":\"rgb(36,36,36)\"}}},\"xaxis\":{\"anchor\":\"y\",\"domain\":[0.0,1.0],\"title\":{\"text\":\"\"},\"visible\":false,\"range\":[0.991123616695404,6.55639865398407]},\"yaxis\":{\"anchor\":\"x\",\"domain\":[0.0,1.0],\"title\":{\"text\":\"\"},\"visible\":false,\"range\":[-13.022523641586304,-5.226718640327453]},\"legend\":{\"tracegroupgap\":0,\"itemsizing\":\"constant\"},\"margin\":{\"t\":60},\"title\":{\"font\":{\"size\":22,\"color\":\"Black\"},\"text\":\"<b>Intertopic Distance Map</b>\",\"y\":0.95,\"x\":0.5,\"xanchor\":\"center\",\"yanchor\":\"top\"},\"hoverlabel\":{\"font\":{\"size\":16,\"family\":\"Rockwell\"},\"bgcolor\":\"white\"},\"font\":{\"family\":\"sans serif\",\"size\":18,\"color\":\"LightSeaGreen\"},\"width\":650,\"height\":650,\"sliders\":[{\"active\":0,\"pad\":{\"t\":50},\"steps\":[{\"args\":[{\"marker.color\":[[\"red\",\"#B0BEC5\",\"#B0BEC5\",\"#B0BEC5\",\"#B0BEC5\",\"#B0BEC5\",\"#B0BEC5\",\"#B0BEC5\",\"#B0BEC5\",\"#B0BEC5\"]]}],\"label\":\"Topic 0\",\"method\":\"update\"},{\"args\":[{\"marker.color\":[[\"#B0BEC5\",\"red\",\"#B0BEC5\",\"#B0BEC5\",\"#B0BEC5\",\"#B0BEC5\",\"#B0BEC5\",\"#B0BEC5\",\"#B0BEC5\",\"#B0BEC5\"]]}],\"label\":\"Topic 1\",\"method\":\"update\"},{\"args\":[{\"marker.color\":[[\"#B0BEC5\",\"#B0BEC5\",\"red\",\"#B0BEC5\",\"#B0BEC5\",\"#B0BEC5\",\"#B0BEC5\",\"#B0BEC5\",\"#B0BEC5\",\"#B0BEC5\"]]}],\"label\":\"Topic 2\",\"method\":\"update\"},{\"args\":[{\"marker.color\":[[\"#B0BEC5\",\"#B0BEC5\",\"#B0BEC5\",\"red\",\"#B0BEC5\",\"#B0BEC5\",\"#B0BEC5\",\"#B0BEC5\",\"#B0BEC5\",\"#B0BEC5\"]]}],\"label\":\"Topic 3\",\"method\":\"update\"},{\"args\":[{\"marker.color\":[[\"#B0BEC5\",\"#B0BEC5\",\"#B0BEC5\",\"#B0BEC5\",\"red\",\"#B0BEC5\",\"#B0BEC5\",\"#B0BEC5\",\"#B0BEC5\",\"#B0BEC5\"]]}],\"label\":\"Topic 4\",\"method\":\"update\"},{\"args\":[{\"marker.color\":[[\"#B0BEC5\",\"#B0BEC5\",\"#B0BEC5\",\"#B0BEC5\",\"#B0BEC5\",\"red\",\"#B0BEC5\",\"#B0BEC5\",\"#B0BEC5\",\"#B0BEC5\"]]}],\"label\":\"Topic 5\",\"method\":\"update\"},{\"args\":[{\"marker.color\":[[\"#B0BEC5\",\"#B0BEC5\",\"#B0BEC5\",\"#B0BEC5\",\"#B0BEC5\",\"#B0BEC5\",\"red\",\"#B0BEC5\",\"#B0BEC5\",\"#B0BEC5\"]]}],\"label\":\"Topic 6\",\"method\":\"update\"},{\"args\":[{\"marker.color\":[[\"#B0BEC5\",\"#B0BEC5\",\"#B0BEC5\",\"#B0BEC5\",\"#B0BEC5\",\"#B0BEC5\",\"#B0BEC5\",\"red\",\"#B0BEC5\",\"#B0BEC5\"]]}],\"label\":\"Topic 7\",\"method\":\"update\"},{\"args\":[{\"marker.color\":[[\"#B0BEC5\",\"#B0BEC5\",\"#B0BEC5\",\"#B0BEC5\",\"#B0BEC5\",\"#B0BEC5\",\"#B0BEC5\",\"#B0BEC5\",\"red\",\"#B0BEC5\"]]}],\"label\":\"Topic 8\",\"method\":\"update\"},{\"args\":[{\"marker.color\":[[\"#B0BEC5\",\"#B0BEC5\",\"#B0BEC5\",\"#B0BEC5\",\"#B0BEC5\",\"#B0BEC5\",\"#B0BEC5\",\"#B0BEC5\",\"#B0BEC5\",\"red\"]]}],\"label\":\"Topic 9\",\"method\":\"update\"}]}],\"shapes\":[{\"line\":{\"color\":\"#CFD8DC\",\"width\":2},\"type\":\"line\",\"x0\":3.773761135339737,\"x1\":3.773761135339737,\"y0\":-13.022523641586304,\"y1\":-5.226718640327453},{\"line\":{\"color\":\"#9E9E9E\",\"width\":2},\"type\":\"line\",\"x0\":0.991123616695404,\"x1\":6.55639865398407,\"y0\":-9.12462114095688,\"y1\":-9.12462114095688}],\"annotations\":[{\"showarrow\":false,\"text\":\"D1\",\"x\":0.991123616695404,\"y\":-9.12462114095688,\"yshift\":10},{\"showarrow\":false,\"text\":\"D2\",\"x\":3.773761135339737,\"xshift\":10,\"y\":-5.226718640327453}]},                        {\"responsive\": true}                    ).then(function(){\n",
       "                            \n",
       "var gd = document.getElementById('9fb06477-f243-46dd-9d8a-1b78c066c45e');\n",
       "var x = new MutationObserver(function (mutations, observer) {{\n",
       "        var display = window.getComputedStyle(gd).display;\n",
       "        if (!display || display === 'none') {{\n",
       "            console.log([gd, 'removed!']);\n",
       "            Plotly.purge(gd);\n",
       "            observer.disconnect();\n",
       "        }}\n",
       "}});\n",
       "\n",
       "// Listen for the removal of the full notebook cells\n",
       "var notebookContainer = gd.closest('#notebook-container');\n",
       "if (notebookContainer) {{\n",
       "    x.observe(notebookContainer, {childList: true});\n",
       "}}\n",
       "\n",
       "// Listen for the clearing of the current output cell\n",
       "var outputEl = gd.closest('.output');\n",
       "if (outputEl) {{\n",
       "    x.observe(outputEl, {childList: true});\n",
       "}}\n",
       "\n",
       "                        })                };                });            </script>        </div>"
      ]
     },
     "metadata": {},
     "output_type": "display_data"
    }
   ],
   "source": [
    "topic_model.visualize_topics()\n",
    "# highlight all topics, d1, d2 (specification, fine-tuning) ??\n",
    "# fingerprints\n",
    "# quantization\n",
    "# finances\n"
   ]
  },
  {
   "cell_type": "code",
   "execution_count": 50,
   "metadata": {},
   "outputs": [
    {
     "data": {
      "application/vnd.plotly.v1+json": {
       "config": {
        "plotlyServerURL": "https://plot.ly"
       },
       "data": [
        {
         "coloraxis": "coloraxis",
         "hovertemplate": "x: %{x}<br>y: %{y}<br>Similarity Score: %{z}<extra></extra>",
         "name": "0",
         "type": "heatmap",
         "x": [
          "ChatGPT",
          "GPT-3",
          "GPT-4",
          "T5",
          "LLaMA",
          "Codex",
          "OPT",
          "PaLM",
          "FLAN",
          "BLOOM"
         ],
         "xaxis": "x",
         "y": [
          "ChatGPT",
          "GPT-3",
          "GPT-4",
          "T5",
          "LLaMA",
          "Codex",
          "OPT",
          "PaLM",
          "FLAN",
          "BLOOM"
         ],
         "yaxis": "y",
         "z": [
          [
           0.9999998211860657,
           0.9120574593544006,
           0.9358204007148743,
           0.8505730628967285,
           0.8676775097846985,
           0.8171915411949158,
           0.8626178503036499,
           0.7870810031890869,
           0.8625852465629578,
           0.8256161212921143
          ],
          [
           0.9120574593544006,
           0.9999997019767761,
           0.9776819944381714,
           0.950743556022644,
           0.9370413422584534,
           0.876603901386261,
           0.956523597240448,
           0.9149695038795471,
           0.9243613481521606,
           0.9059717059135437
          ],
          [
           0.9358204007148743,
           0.9776819944381714,
           0.9999995827674866,
           0.9089310765266418,
           0.9299730062484741,
           0.8771457076072693,
           0.9438836574554443,
           0.8756510019302368,
           0.9121244549751282,
           0.8656236529350281
          ],
          [
           0.8505730628967285,
           0.950743556022644,
           0.9089310765266418,
           1.0000001192092896,
           0.941511869430542,
           0.8447748422622681,
           0.9419435858726501,
           0.9414545893669128,
           0.9333897829055786,
           0.8950445652008057
          ],
          [
           0.8676775097846985,
           0.9370413422584534,
           0.9299730062484741,
           0.941511869430542,
           0.9999997019767761,
           0.8546010851860046,
           0.9532097578048706,
           0.9428282380104065,
           0.9392703175544739,
           0.853163480758667
          ],
          [
           0.8171915411949158,
           0.876603901386261,
           0.8771457076072693,
           0.8447748422622681,
           0.8546010851860046,
           0.9999997019767761,
           0.862644612789154,
           0.8133851885795593,
           0.8417983651161194,
           0.7905299067497253
          ],
          [
           0.8626178503036499,
           0.956523597240448,
           0.9438836574554443,
           0.9419435858726501,
           0.9532097578048706,
           0.862644612789154,
           0.9999993443489075,
           0.9284031987190247,
           0.9210433959960938,
           0.8674648404121399
          ],
          [
           0.7870810031890869,
           0.9149695038795471,
           0.8756510019302368,
           0.9414545893669128,
           0.9428282380104065,
           0.8133851885795593,
           0.9284031987190247,
           0.9999994039535522,
           0.917259693145752,
           0.8312494158744812
          ],
          [
           0.8625852465629578,
           0.9243613481521606,
           0.9121244549751282,
           0.9333897829055786,
           0.9392703175544739,
           0.8417983651161194,
           0.9210433959960938,
           0.917259693145752,
           1.0000003576278687,
           0.8753082156181335
          ],
          [
           0.8256161212921143,
           0.9059717059135437,
           0.8656236529350281,
           0.8950445652008057,
           0.853163480758667,
           0.7905299067497253,
           0.8674648404121399,
           0.8312494158744812,
           0.8753082156181335,
           0.9999997019767761
          ]
         ]
        }
       ],
       "layout": {
        "coloraxis": {
         "colorbar": {
          "title": {
           "text": "Similarity Score"
          }
         },
         "colorscale": [
          [
           0,
           "rgb(247,252,240)"
          ],
          [
           0.125,
           "rgb(224,243,219)"
          ],
          [
           0.25,
           "rgb(204,235,197)"
          ],
          [
           0.375,
           "rgb(168,221,181)"
          ],
          [
           0.5,
           "rgb(123,204,196)"
          ],
          [
           0.625,
           "rgb(78,179,211)"
          ],
          [
           0.75,
           "rgb(43,140,190)"
          ],
          [
           0.875,
           "rgb(8,104,172)"
          ],
          [
           1,
           "rgb(8,64,129)"
          ]
         ]
        },
        "height": 800,
        "hoverlabel": {
         "bgcolor": "white",
         "font": {
          "family": "Rockwell",
          "size": 16
         }
        },
        "legend": {
         "title": {
          "text": "Trend"
         }
        },
        "margin": {
         "t": 60
        },
        "showlegend": true,
        "template": {
         "data": {
          "bar": [
           {
            "error_x": {
             "color": "#2a3f5f"
            },
            "error_y": {
             "color": "#2a3f5f"
            },
            "marker": {
             "line": {
              "color": "#E5ECF6",
              "width": 0.5
             },
             "pattern": {
              "fillmode": "overlay",
              "size": 10,
              "solidity": 0.2
             }
            },
            "type": "bar"
           }
          ],
          "barpolar": [
           {
            "marker": {
             "line": {
              "color": "#E5ECF6",
              "width": 0.5
             },
             "pattern": {
              "fillmode": "overlay",
              "size": 10,
              "solidity": 0.2
             }
            },
            "type": "barpolar"
           }
          ],
          "carpet": [
           {
            "aaxis": {
             "endlinecolor": "#2a3f5f",
             "gridcolor": "white",
             "linecolor": "white",
             "minorgridcolor": "white",
             "startlinecolor": "#2a3f5f"
            },
            "baxis": {
             "endlinecolor": "#2a3f5f",
             "gridcolor": "white",
             "linecolor": "white",
             "minorgridcolor": "white",
             "startlinecolor": "#2a3f5f"
            },
            "type": "carpet"
           }
          ],
          "choropleth": [
           {
            "colorbar": {
             "outlinewidth": 0,
             "ticks": ""
            },
            "type": "choropleth"
           }
          ],
          "contour": [
           {
            "colorbar": {
             "outlinewidth": 0,
             "ticks": ""
            },
            "colorscale": [
             [
              0,
              "#0d0887"
             ],
             [
              0.1111111111111111,
              "#46039f"
             ],
             [
              0.2222222222222222,
              "#7201a8"
             ],
             [
              0.3333333333333333,
              "#9c179e"
             ],
             [
              0.4444444444444444,
              "#bd3786"
             ],
             [
              0.5555555555555556,
              "#d8576b"
             ],
             [
              0.6666666666666666,
              "#ed7953"
             ],
             [
              0.7777777777777778,
              "#fb9f3a"
             ],
             [
              0.8888888888888888,
              "#fdca26"
             ],
             [
              1,
              "#f0f921"
             ]
            ],
            "type": "contour"
           }
          ],
          "contourcarpet": [
           {
            "colorbar": {
             "outlinewidth": 0,
             "ticks": ""
            },
            "type": "contourcarpet"
           }
          ],
          "heatmap": [
           {
            "colorbar": {
             "outlinewidth": 0,
             "ticks": ""
            },
            "colorscale": [
             [
              0,
              "#0d0887"
             ],
             [
              0.1111111111111111,
              "#46039f"
             ],
             [
              0.2222222222222222,
              "#7201a8"
             ],
             [
              0.3333333333333333,
              "#9c179e"
             ],
             [
              0.4444444444444444,
              "#bd3786"
             ],
             [
              0.5555555555555556,
              "#d8576b"
             ],
             [
              0.6666666666666666,
              "#ed7953"
             ],
             [
              0.7777777777777778,
              "#fb9f3a"
             ],
             [
              0.8888888888888888,
              "#fdca26"
             ],
             [
              1,
              "#f0f921"
             ]
            ],
            "type": "heatmap"
           }
          ],
          "heatmapgl": [
           {
            "colorbar": {
             "outlinewidth": 0,
             "ticks": ""
            },
            "colorscale": [
             [
              0,
              "#0d0887"
             ],
             [
              0.1111111111111111,
              "#46039f"
             ],
             [
              0.2222222222222222,
              "#7201a8"
             ],
             [
              0.3333333333333333,
              "#9c179e"
             ],
             [
              0.4444444444444444,
              "#bd3786"
             ],
             [
              0.5555555555555556,
              "#d8576b"
             ],
             [
              0.6666666666666666,
              "#ed7953"
             ],
             [
              0.7777777777777778,
              "#fb9f3a"
             ],
             [
              0.8888888888888888,
              "#fdca26"
             ],
             [
              1,
              "#f0f921"
             ]
            ],
            "type": "heatmapgl"
           }
          ],
          "histogram": [
           {
            "marker": {
             "pattern": {
              "fillmode": "overlay",
              "size": 10,
              "solidity": 0.2
             }
            },
            "type": "histogram"
           }
          ],
          "histogram2d": [
           {
            "colorbar": {
             "outlinewidth": 0,
             "ticks": ""
            },
            "colorscale": [
             [
              0,
              "#0d0887"
             ],
             [
              0.1111111111111111,
              "#46039f"
             ],
             [
              0.2222222222222222,
              "#7201a8"
             ],
             [
              0.3333333333333333,
              "#9c179e"
             ],
             [
              0.4444444444444444,
              "#bd3786"
             ],
             [
              0.5555555555555556,
              "#d8576b"
             ],
             [
              0.6666666666666666,
              "#ed7953"
             ],
             [
              0.7777777777777778,
              "#fb9f3a"
             ],
             [
              0.8888888888888888,
              "#fdca26"
             ],
             [
              1,
              "#f0f921"
             ]
            ],
            "type": "histogram2d"
           }
          ],
          "histogram2dcontour": [
           {
            "colorbar": {
             "outlinewidth": 0,
             "ticks": ""
            },
            "colorscale": [
             [
              0,
              "#0d0887"
             ],
             [
              0.1111111111111111,
              "#46039f"
             ],
             [
              0.2222222222222222,
              "#7201a8"
             ],
             [
              0.3333333333333333,
              "#9c179e"
             ],
             [
              0.4444444444444444,
              "#bd3786"
             ],
             [
              0.5555555555555556,
              "#d8576b"
             ],
             [
              0.6666666666666666,
              "#ed7953"
             ],
             [
              0.7777777777777778,
              "#fb9f3a"
             ],
             [
              0.8888888888888888,
              "#fdca26"
             ],
             [
              1,
              "#f0f921"
             ]
            ],
            "type": "histogram2dcontour"
           }
          ],
          "mesh3d": [
           {
            "colorbar": {
             "outlinewidth": 0,
             "ticks": ""
            },
            "type": "mesh3d"
           }
          ],
          "parcoords": [
           {
            "line": {
             "colorbar": {
              "outlinewidth": 0,
              "ticks": ""
             }
            },
            "type": "parcoords"
           }
          ],
          "pie": [
           {
            "automargin": true,
            "type": "pie"
           }
          ],
          "scatter": [
           {
            "fillpattern": {
             "fillmode": "overlay",
             "size": 10,
             "solidity": 0.2
            },
            "type": "scatter"
           }
          ],
          "scatter3d": [
           {
            "line": {
             "colorbar": {
              "outlinewidth": 0,
              "ticks": ""
             }
            },
            "marker": {
             "colorbar": {
              "outlinewidth": 0,
              "ticks": ""
             }
            },
            "type": "scatter3d"
           }
          ],
          "scattercarpet": [
           {
            "marker": {
             "colorbar": {
              "outlinewidth": 0,
              "ticks": ""
             }
            },
            "type": "scattercarpet"
           }
          ],
          "scattergeo": [
           {
            "marker": {
             "colorbar": {
              "outlinewidth": 0,
              "ticks": ""
             }
            },
            "type": "scattergeo"
           }
          ],
          "scattergl": [
           {
            "marker": {
             "colorbar": {
              "outlinewidth": 0,
              "ticks": ""
             }
            },
            "type": "scattergl"
           }
          ],
          "scattermapbox": [
           {
            "marker": {
             "colorbar": {
              "outlinewidth": 0,
              "ticks": ""
             }
            },
            "type": "scattermapbox"
           }
          ],
          "scatterpolar": [
           {
            "marker": {
             "colorbar": {
              "outlinewidth": 0,
              "ticks": ""
             }
            },
            "type": "scatterpolar"
           }
          ],
          "scatterpolargl": [
           {
            "marker": {
             "colorbar": {
              "outlinewidth": 0,
              "ticks": ""
             }
            },
            "type": "scatterpolargl"
           }
          ],
          "scatterternary": [
           {
            "marker": {
             "colorbar": {
              "outlinewidth": 0,
              "ticks": ""
             }
            },
            "type": "scatterternary"
           }
          ],
          "surface": [
           {
            "colorbar": {
             "outlinewidth": 0,
             "ticks": ""
            },
            "colorscale": [
             [
              0,
              "#0d0887"
             ],
             [
              0.1111111111111111,
              "#46039f"
             ],
             [
              0.2222222222222222,
              "#7201a8"
             ],
             [
              0.3333333333333333,
              "#9c179e"
             ],
             [
              0.4444444444444444,
              "#bd3786"
             ],
             [
              0.5555555555555556,
              "#d8576b"
             ],
             [
              0.6666666666666666,
              "#ed7953"
             ],
             [
              0.7777777777777778,
              "#fb9f3a"
             ],
             [
              0.8888888888888888,
              "#fdca26"
             ],
             [
              1,
              "#f0f921"
             ]
            ],
            "type": "surface"
           }
          ],
          "table": [
           {
            "cells": {
             "fill": {
              "color": "#EBF0F8"
             },
             "line": {
              "color": "white"
             }
            },
            "header": {
             "fill": {
              "color": "#C8D4E3"
             },
             "line": {
              "color": "white"
             }
            },
            "type": "table"
           }
          ]
         },
         "layout": {
          "annotationdefaults": {
           "arrowcolor": "#2a3f5f",
           "arrowhead": 0,
           "arrowwidth": 1
          },
          "autotypenumbers": "strict",
          "coloraxis": {
           "colorbar": {
            "outlinewidth": 0,
            "ticks": ""
           }
          },
          "colorscale": {
           "diverging": [
            [
             0,
             "#8e0152"
            ],
            [
             0.1,
             "#c51b7d"
            ],
            [
             0.2,
             "#de77ae"
            ],
            [
             0.3,
             "#f1b6da"
            ],
            [
             0.4,
             "#fde0ef"
            ],
            [
             0.5,
             "#f7f7f7"
            ],
            [
             0.6,
             "#e6f5d0"
            ],
            [
             0.7,
             "#b8e186"
            ],
            [
             0.8,
             "#7fbc41"
            ],
            [
             0.9,
             "#4d9221"
            ],
            [
             1,
             "#276419"
            ]
           ],
           "sequential": [
            [
             0,
             "#0d0887"
            ],
            [
             0.1111111111111111,
             "#46039f"
            ],
            [
             0.2222222222222222,
             "#7201a8"
            ],
            [
             0.3333333333333333,
             "#9c179e"
            ],
            [
             0.4444444444444444,
             "#bd3786"
            ],
            [
             0.5555555555555556,
             "#d8576b"
            ],
            [
             0.6666666666666666,
             "#ed7953"
            ],
            [
             0.7777777777777778,
             "#fb9f3a"
            ],
            [
             0.8888888888888888,
             "#fdca26"
            ],
            [
             1,
             "#f0f921"
            ]
           ],
           "sequentialminus": [
            [
             0,
             "#0d0887"
            ],
            [
             0.1111111111111111,
             "#46039f"
            ],
            [
             0.2222222222222222,
             "#7201a8"
            ],
            [
             0.3333333333333333,
             "#9c179e"
            ],
            [
             0.4444444444444444,
             "#bd3786"
            ],
            [
             0.5555555555555556,
             "#d8576b"
            ],
            [
             0.6666666666666666,
             "#ed7953"
            ],
            [
             0.7777777777777778,
             "#fb9f3a"
            ],
            [
             0.8888888888888888,
             "#fdca26"
            ],
            [
             1,
             "#f0f921"
            ]
           ]
          },
          "colorway": [
           "#636efa",
           "#EF553B",
           "#00cc96",
           "#ab63fa",
           "#FFA15A",
           "#19d3f3",
           "#FF6692",
           "#B6E880",
           "#FF97FF",
           "#FECB52"
          ],
          "font": {
           "color": "#2a3f5f"
          },
          "geo": {
           "bgcolor": "white",
           "lakecolor": "white",
           "landcolor": "#E5ECF6",
           "showlakes": true,
           "showland": true,
           "subunitcolor": "white"
          },
          "hoverlabel": {
           "align": "left"
          },
          "hovermode": "closest",
          "mapbox": {
           "style": "light"
          },
          "paper_bgcolor": "white",
          "plot_bgcolor": "#E5ECF6",
          "polar": {
           "angularaxis": {
            "gridcolor": "white",
            "linecolor": "white",
            "ticks": ""
           },
           "bgcolor": "#E5ECF6",
           "radialaxis": {
            "gridcolor": "white",
            "linecolor": "white",
            "ticks": ""
           }
          },
          "scene": {
           "xaxis": {
            "backgroundcolor": "#E5ECF6",
            "gridcolor": "white",
            "gridwidth": 2,
            "linecolor": "white",
            "showbackground": true,
            "ticks": "",
            "zerolinecolor": "white"
           },
           "yaxis": {
            "backgroundcolor": "#E5ECF6",
            "gridcolor": "white",
            "gridwidth": 2,
            "linecolor": "white",
            "showbackground": true,
            "ticks": "",
            "zerolinecolor": "white"
           },
           "zaxis": {
            "backgroundcolor": "#E5ECF6",
            "gridcolor": "white",
            "gridwidth": 2,
            "linecolor": "white",
            "showbackground": true,
            "ticks": "",
            "zerolinecolor": "white"
           }
          },
          "shapedefaults": {
           "line": {
            "color": "#2a3f5f"
           }
          },
          "ternary": {
           "aaxis": {
            "gridcolor": "white",
            "linecolor": "white",
            "ticks": ""
           },
           "baxis": {
            "gridcolor": "white",
            "linecolor": "white",
            "ticks": ""
           },
           "bgcolor": "#E5ECF6",
           "caxis": {
            "gridcolor": "white",
            "linecolor": "white",
            "ticks": ""
           }
          },
          "title": {
           "x": 0.05
          },
          "xaxis": {
           "automargin": true,
           "gridcolor": "white",
           "linecolor": "white",
           "ticks": "",
           "title": {
            "standoff": 15
           },
           "zerolinecolor": "white",
           "zerolinewidth": 2
          },
          "yaxis": {
           "automargin": true,
           "gridcolor": "white",
           "linecolor": "white",
           "ticks": "",
           "title": {
            "standoff": 15
           },
           "zerolinecolor": "white",
           "zerolinewidth": 2
          }
         }
        },
        "title": {
         "font": {
          "color": "Black",
          "size": 22
         },
         "text": "<b>Similarity Matrix</b>",
         "x": 0.55,
         "xanchor": "center",
         "y": 0.95,
         "yanchor": "top"
        },
        "width": 800,
        "xaxis": {
         "anchor": "y",
         "constrain": "domain",
         "domain": [
          0,
          1
         ],
         "scaleanchor": "y"
        },
        "yaxis": {
         "anchor": "x",
         "autorange": "reversed",
         "constrain": "domain",
         "domain": [
          0,
          1
         ]
        }
       }
      },
      "text/html": [
       "<div>                            <div id=\"58a29fc8-d24b-46b0-99ea-f1e6e22493fa\" class=\"plotly-graph-div\" style=\"height:800px; width:800px;\"></div>            <script type=\"text/javascript\">                require([\"plotly\"], function(Plotly) {                    window.PLOTLYENV=window.PLOTLYENV || {};                                    if (document.getElementById(\"58a29fc8-d24b-46b0-99ea-f1e6e22493fa\")) {                    Plotly.newPlot(                        \"58a29fc8-d24b-46b0-99ea-f1e6e22493fa\",                        [{\"coloraxis\":\"coloraxis\",\"name\":\"0\",\"x\":[\"ChatGPT\",\"GPT-3\",\"GPT-4\",\"T5\",\"LLaMA\",\"Codex\",\"OPT\",\"PaLM\",\"FLAN\",\"BLOOM\"],\"y\":[\"ChatGPT\",\"GPT-3\",\"GPT-4\",\"T5\",\"LLaMA\",\"Codex\",\"OPT\",\"PaLM\",\"FLAN\",\"BLOOM\"],\"z\":[[0.9999998211860657,0.9120574593544006,0.9358204007148743,0.8505730628967285,0.8676775097846985,0.8171915411949158,0.8626178503036499,0.7870810031890869,0.8625852465629578,0.8256161212921143],[0.9120574593544006,0.9999997019767761,0.9776819944381714,0.950743556022644,0.9370413422584534,0.876603901386261,0.956523597240448,0.9149695038795471,0.9243613481521606,0.9059717059135437],[0.9358204007148743,0.9776819944381714,0.9999995827674866,0.9089310765266418,0.9299730062484741,0.8771457076072693,0.9438836574554443,0.8756510019302368,0.9121244549751282,0.8656236529350281],[0.8505730628967285,0.950743556022644,0.9089310765266418,1.0000001192092896,0.941511869430542,0.8447748422622681,0.9419435858726501,0.9414545893669128,0.9333897829055786,0.8950445652008057],[0.8676775097846985,0.9370413422584534,0.9299730062484741,0.941511869430542,0.9999997019767761,0.8546010851860046,0.9532097578048706,0.9428282380104065,0.9392703175544739,0.853163480758667],[0.8171915411949158,0.876603901386261,0.8771457076072693,0.8447748422622681,0.8546010851860046,0.9999997019767761,0.862644612789154,0.8133851885795593,0.8417983651161194,0.7905299067497253],[0.8626178503036499,0.956523597240448,0.9438836574554443,0.9419435858726501,0.9532097578048706,0.862644612789154,0.9999993443489075,0.9284031987190247,0.9210433959960938,0.8674648404121399],[0.7870810031890869,0.9149695038795471,0.8756510019302368,0.9414545893669128,0.9428282380104065,0.8133851885795593,0.9284031987190247,0.9999994039535522,0.917259693145752,0.8312494158744812],[0.8625852465629578,0.9243613481521606,0.9121244549751282,0.9333897829055786,0.9392703175544739,0.8417983651161194,0.9210433959960938,0.917259693145752,1.0000003576278687,0.8753082156181335],[0.8256161212921143,0.9059717059135437,0.8656236529350281,0.8950445652008057,0.853163480758667,0.7905299067497253,0.8674648404121399,0.8312494158744812,0.8753082156181335,0.9999997019767761]],\"type\":\"heatmap\",\"xaxis\":\"x\",\"yaxis\":\"y\",\"hovertemplate\":\"x: %{x}<br>y: %{y}<br>Similarity Score: %{z}<extra></extra>\"}],                        {\"template\":{\"data\":{\"histogram2dcontour\":[{\"type\":\"histogram2dcontour\",\"colorbar\":{\"outlinewidth\":0,\"ticks\":\"\"},\"colorscale\":[[0.0,\"#0d0887\"],[0.1111111111111111,\"#46039f\"],[0.2222222222222222,\"#7201a8\"],[0.3333333333333333,\"#9c179e\"],[0.4444444444444444,\"#bd3786\"],[0.5555555555555556,\"#d8576b\"],[0.6666666666666666,\"#ed7953\"],[0.7777777777777778,\"#fb9f3a\"],[0.8888888888888888,\"#fdca26\"],[1.0,\"#f0f921\"]]}],\"choropleth\":[{\"type\":\"choropleth\",\"colorbar\":{\"outlinewidth\":0,\"ticks\":\"\"}}],\"histogram2d\":[{\"type\":\"histogram2d\",\"colorbar\":{\"outlinewidth\":0,\"ticks\":\"\"},\"colorscale\":[[0.0,\"#0d0887\"],[0.1111111111111111,\"#46039f\"],[0.2222222222222222,\"#7201a8\"],[0.3333333333333333,\"#9c179e\"],[0.4444444444444444,\"#bd3786\"],[0.5555555555555556,\"#d8576b\"],[0.6666666666666666,\"#ed7953\"],[0.7777777777777778,\"#fb9f3a\"],[0.8888888888888888,\"#fdca26\"],[1.0,\"#f0f921\"]]}],\"heatmap\":[{\"type\":\"heatmap\",\"colorbar\":{\"outlinewidth\":0,\"ticks\":\"\"},\"colorscale\":[[0.0,\"#0d0887\"],[0.1111111111111111,\"#46039f\"],[0.2222222222222222,\"#7201a8\"],[0.3333333333333333,\"#9c179e\"],[0.4444444444444444,\"#bd3786\"],[0.5555555555555556,\"#d8576b\"],[0.6666666666666666,\"#ed7953\"],[0.7777777777777778,\"#fb9f3a\"],[0.8888888888888888,\"#fdca26\"],[1.0,\"#f0f921\"]]}],\"heatmapgl\":[{\"type\":\"heatmapgl\",\"colorbar\":{\"outlinewidth\":0,\"ticks\":\"\"},\"colorscale\":[[0.0,\"#0d0887\"],[0.1111111111111111,\"#46039f\"],[0.2222222222222222,\"#7201a8\"],[0.3333333333333333,\"#9c179e\"],[0.4444444444444444,\"#bd3786\"],[0.5555555555555556,\"#d8576b\"],[0.6666666666666666,\"#ed7953\"],[0.7777777777777778,\"#fb9f3a\"],[0.8888888888888888,\"#fdca26\"],[1.0,\"#f0f921\"]]}],\"contourcarpet\":[{\"type\":\"contourcarpet\",\"colorbar\":{\"outlinewidth\":0,\"ticks\":\"\"}}],\"contour\":[{\"type\":\"contour\",\"colorbar\":{\"outlinewidth\":0,\"ticks\":\"\"},\"colorscale\":[[0.0,\"#0d0887\"],[0.1111111111111111,\"#46039f\"],[0.2222222222222222,\"#7201a8\"],[0.3333333333333333,\"#9c179e\"],[0.4444444444444444,\"#bd3786\"],[0.5555555555555556,\"#d8576b\"],[0.6666666666666666,\"#ed7953\"],[0.7777777777777778,\"#fb9f3a\"],[0.8888888888888888,\"#fdca26\"],[1.0,\"#f0f921\"]]}],\"surface\":[{\"type\":\"surface\",\"colorbar\":{\"outlinewidth\":0,\"ticks\":\"\"},\"colorscale\":[[0.0,\"#0d0887\"],[0.1111111111111111,\"#46039f\"],[0.2222222222222222,\"#7201a8\"],[0.3333333333333333,\"#9c179e\"],[0.4444444444444444,\"#bd3786\"],[0.5555555555555556,\"#d8576b\"],[0.6666666666666666,\"#ed7953\"],[0.7777777777777778,\"#fb9f3a\"],[0.8888888888888888,\"#fdca26\"],[1.0,\"#f0f921\"]]}],\"mesh3d\":[{\"type\":\"mesh3d\",\"colorbar\":{\"outlinewidth\":0,\"ticks\":\"\"}}],\"scatter\":[{\"fillpattern\":{\"fillmode\":\"overlay\",\"size\":10,\"solidity\":0.2},\"type\":\"scatter\"}],\"parcoords\":[{\"type\":\"parcoords\",\"line\":{\"colorbar\":{\"outlinewidth\":0,\"ticks\":\"\"}}}],\"scatterpolargl\":[{\"type\":\"scatterpolargl\",\"marker\":{\"colorbar\":{\"outlinewidth\":0,\"ticks\":\"\"}}}],\"bar\":[{\"error_x\":{\"color\":\"#2a3f5f\"},\"error_y\":{\"color\":\"#2a3f5f\"},\"marker\":{\"line\":{\"color\":\"#E5ECF6\",\"width\":0.5},\"pattern\":{\"fillmode\":\"overlay\",\"size\":10,\"solidity\":0.2}},\"type\":\"bar\"}],\"scattergeo\":[{\"type\":\"scattergeo\",\"marker\":{\"colorbar\":{\"outlinewidth\":0,\"ticks\":\"\"}}}],\"scatterpolar\":[{\"type\":\"scatterpolar\",\"marker\":{\"colorbar\":{\"outlinewidth\":0,\"ticks\":\"\"}}}],\"histogram\":[{\"marker\":{\"pattern\":{\"fillmode\":\"overlay\",\"size\":10,\"solidity\":0.2}},\"type\":\"histogram\"}],\"scattergl\":[{\"type\":\"scattergl\",\"marker\":{\"colorbar\":{\"outlinewidth\":0,\"ticks\":\"\"}}}],\"scatter3d\":[{\"type\":\"scatter3d\",\"line\":{\"colorbar\":{\"outlinewidth\":0,\"ticks\":\"\"}},\"marker\":{\"colorbar\":{\"outlinewidth\":0,\"ticks\":\"\"}}}],\"scattermapbox\":[{\"type\":\"scattermapbox\",\"marker\":{\"colorbar\":{\"outlinewidth\":0,\"ticks\":\"\"}}}],\"scatterternary\":[{\"type\":\"scatterternary\",\"marker\":{\"colorbar\":{\"outlinewidth\":0,\"ticks\":\"\"}}}],\"scattercarpet\":[{\"type\":\"scattercarpet\",\"marker\":{\"colorbar\":{\"outlinewidth\":0,\"ticks\":\"\"}}}],\"carpet\":[{\"aaxis\":{\"endlinecolor\":\"#2a3f5f\",\"gridcolor\":\"white\",\"linecolor\":\"white\",\"minorgridcolor\":\"white\",\"startlinecolor\":\"#2a3f5f\"},\"baxis\":{\"endlinecolor\":\"#2a3f5f\",\"gridcolor\":\"white\",\"linecolor\":\"white\",\"minorgridcolor\":\"white\",\"startlinecolor\":\"#2a3f5f\"},\"type\":\"carpet\"}],\"table\":[{\"cells\":{\"fill\":{\"color\":\"#EBF0F8\"},\"line\":{\"color\":\"white\"}},\"header\":{\"fill\":{\"color\":\"#C8D4E3\"},\"line\":{\"color\":\"white\"}},\"type\":\"table\"}],\"barpolar\":[{\"marker\":{\"line\":{\"color\":\"#E5ECF6\",\"width\":0.5},\"pattern\":{\"fillmode\":\"overlay\",\"size\":10,\"solidity\":0.2}},\"type\":\"barpolar\"}],\"pie\":[{\"automargin\":true,\"type\":\"pie\"}]},\"layout\":{\"autotypenumbers\":\"strict\",\"colorway\":[\"#636efa\",\"#EF553B\",\"#00cc96\",\"#ab63fa\",\"#FFA15A\",\"#19d3f3\",\"#FF6692\",\"#B6E880\",\"#FF97FF\",\"#FECB52\"],\"font\":{\"color\":\"#2a3f5f\"},\"hovermode\":\"closest\",\"hoverlabel\":{\"align\":\"left\"},\"paper_bgcolor\":\"white\",\"plot_bgcolor\":\"#E5ECF6\",\"polar\":{\"bgcolor\":\"#E5ECF6\",\"angularaxis\":{\"gridcolor\":\"white\",\"linecolor\":\"white\",\"ticks\":\"\"},\"radialaxis\":{\"gridcolor\":\"white\",\"linecolor\":\"white\",\"ticks\":\"\"}},\"ternary\":{\"bgcolor\":\"#E5ECF6\",\"aaxis\":{\"gridcolor\":\"white\",\"linecolor\":\"white\",\"ticks\":\"\"},\"baxis\":{\"gridcolor\":\"white\",\"linecolor\":\"white\",\"ticks\":\"\"},\"caxis\":{\"gridcolor\":\"white\",\"linecolor\":\"white\",\"ticks\":\"\"}},\"coloraxis\":{\"colorbar\":{\"outlinewidth\":0,\"ticks\":\"\"}},\"colorscale\":{\"sequential\":[[0.0,\"#0d0887\"],[0.1111111111111111,\"#46039f\"],[0.2222222222222222,\"#7201a8\"],[0.3333333333333333,\"#9c179e\"],[0.4444444444444444,\"#bd3786\"],[0.5555555555555556,\"#d8576b\"],[0.6666666666666666,\"#ed7953\"],[0.7777777777777778,\"#fb9f3a\"],[0.8888888888888888,\"#fdca26\"],[1.0,\"#f0f921\"]],\"sequentialminus\":[[0.0,\"#0d0887\"],[0.1111111111111111,\"#46039f\"],[0.2222222222222222,\"#7201a8\"],[0.3333333333333333,\"#9c179e\"],[0.4444444444444444,\"#bd3786\"],[0.5555555555555556,\"#d8576b\"],[0.6666666666666666,\"#ed7953\"],[0.7777777777777778,\"#fb9f3a\"],[0.8888888888888888,\"#fdca26\"],[1.0,\"#f0f921\"]],\"diverging\":[[0,\"#8e0152\"],[0.1,\"#c51b7d\"],[0.2,\"#de77ae\"],[0.3,\"#f1b6da\"],[0.4,\"#fde0ef\"],[0.5,\"#f7f7f7\"],[0.6,\"#e6f5d0\"],[0.7,\"#b8e186\"],[0.8,\"#7fbc41\"],[0.9,\"#4d9221\"],[1,\"#276419\"]]},\"xaxis\":{\"gridcolor\":\"white\",\"linecolor\":\"white\",\"ticks\":\"\",\"title\":{\"standoff\":15},\"zerolinecolor\":\"white\",\"automargin\":true,\"zerolinewidth\":2},\"yaxis\":{\"gridcolor\":\"white\",\"linecolor\":\"white\",\"ticks\":\"\",\"title\":{\"standoff\":15},\"zerolinecolor\":\"white\",\"automargin\":true,\"zerolinewidth\":2},\"scene\":{\"xaxis\":{\"backgroundcolor\":\"#E5ECF6\",\"gridcolor\":\"white\",\"linecolor\":\"white\",\"showbackground\":true,\"ticks\":\"\",\"zerolinecolor\":\"white\",\"gridwidth\":2},\"yaxis\":{\"backgroundcolor\":\"#E5ECF6\",\"gridcolor\":\"white\",\"linecolor\":\"white\",\"showbackground\":true,\"ticks\":\"\",\"zerolinecolor\":\"white\",\"gridwidth\":2},\"zaxis\":{\"backgroundcolor\":\"#E5ECF6\",\"gridcolor\":\"white\",\"linecolor\":\"white\",\"showbackground\":true,\"ticks\":\"\",\"zerolinecolor\":\"white\",\"gridwidth\":2}},\"shapedefaults\":{\"line\":{\"color\":\"#2a3f5f\"}},\"annotationdefaults\":{\"arrowcolor\":\"#2a3f5f\",\"arrowhead\":0,\"arrowwidth\":1},\"geo\":{\"bgcolor\":\"white\",\"landcolor\":\"#E5ECF6\",\"subunitcolor\":\"white\",\"showland\":true,\"showlakes\":true,\"lakecolor\":\"white\"},\"title\":{\"x\":0.05},\"mapbox\":{\"style\":\"light\"}}},\"xaxis\":{\"anchor\":\"y\",\"domain\":[0.0,1.0],\"scaleanchor\":\"y\",\"constrain\":\"domain\"},\"yaxis\":{\"anchor\":\"x\",\"domain\":[0.0,1.0],\"autorange\":\"reversed\",\"constrain\":\"domain\"},\"coloraxis\":{\"colorbar\":{\"title\":{\"text\":\"Similarity Score\"}},\"colorscale\":[[0.0,\"rgb(247,252,240)\"],[0.125,\"rgb(224,243,219)\"],[0.25,\"rgb(204,235,197)\"],[0.375,\"rgb(168,221,181)\"],[0.5,\"rgb(123,204,196)\"],[0.625,\"rgb(78,179,211)\"],[0.75,\"rgb(43,140,190)\"],[0.875,\"rgb(8,104,172)\"],[1.0,\"rgb(8,64,129)\"]]},\"margin\":{\"t\":60},\"title\":{\"font\":{\"size\":22,\"color\":\"Black\"},\"text\":\"<b>Similarity Matrix</b>\",\"y\":0.95,\"x\":0.55,\"xanchor\":\"center\",\"yanchor\":\"top\"},\"hoverlabel\":{\"font\":{\"size\":16,\"family\":\"Rockwell\"},\"bgcolor\":\"white\"},\"width\":800,\"height\":800,\"showlegend\":true,\"legend\":{\"title\":{\"text\":\"Trend\"}}},                        {\"responsive\": true}                    ).then(function(){\n",
       "                            \n",
       "var gd = document.getElementById('58a29fc8-d24b-46b0-99ea-f1e6e22493fa');\n",
       "var x = new MutationObserver(function (mutations, observer) {{\n",
       "        var display = window.getComputedStyle(gd).display;\n",
       "        if (!display || display === 'none') {{\n",
       "            console.log([gd, 'removed!']);\n",
       "            Plotly.purge(gd);\n",
       "            observer.disconnect();\n",
       "        }}\n",
       "}});\n",
       "\n",
       "// Listen for the removal of the full notebook cells\n",
       "var notebookContainer = gd.closest('#notebook-container');\n",
       "if (notebookContainer) {{\n",
       "    x.observe(notebookContainer, {childList: true});\n",
       "}}\n",
       "\n",
       "// Listen for the clearing of the current output cell\n",
       "var outputEl = gd.closest('.output');\n",
       "if (outputEl) {{\n",
       "    x.observe(outputEl, {childList: true});\n",
       "}}\n",
       "\n",
       "                        })                };                });            </script>        </div>"
      ]
     },
     "metadata": {},
     "output_type": "display_data"
    }
   ],
   "source": [
    "topic_model.visualize_heatmap(custom_labels =True)"
   ]
  }
 ],
 "metadata": {
  "kernelspec": {
   "display_name": "base",
   "language": "python",
   "name": "python3"
  },
  "language_info": {
   "codemirror_mode": {
    "name": "ipython",
    "version": 3
   },
   "file_extension": ".py",
   "mimetype": "text/x-python",
   "name": "python",
   "nbconvert_exporter": "python",
   "pygments_lexer": "ipython3",
   "version": "3.8.3"
  },
  "orig_nbformat": 4
 },
 "nbformat": 4,
 "nbformat_minor": 2
}
