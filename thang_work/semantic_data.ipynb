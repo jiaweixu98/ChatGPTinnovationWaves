{
 "cells": [
  {
   "cell_type": "code",
   "execution_count": null,
   "id": "96f804fa-6c1c-4ec1-9d1e-2f9a1b19a388",
   "metadata": {},
   "outputs": [],
   "source": []
  },
  {
   "cell_type": "code",
   "execution_count": null,
   "id": "7cc66a70-734a-441e-9dd3-9f60d0ec492d",
   "metadata": {},
   "outputs": [],
   "source": [
    "import pandas as pd \n",
    "\n",
    "df = pd.read_csv(\"llm.csv\")\n",
    "\n",
    "id_arXiv = df['id']\n",
    "\n",
    "id_arXiv[:500]"
   ]
  },
  {
   "cell_type": "code",
   "execution_count": null,
   "id": "4b6e6b59-885a-45f4-9068-a8d8b945421e",
   "metadata": {},
   "outputs": [],
   "source": [
    "import requests\n",
    "import json\n",
    "import time\n",
    "\n",
    "# Get all of the data for the fields \n",
    "# Put into an dictionary \n",
    "# Transform into a dataframe \n",
    "\n",
    "list_paper = []\n",
    "\n",
    "num_limit = 500\n",
    "num_loop = len(id_arXiv) // num_limit + 1\n",
    "\n",
    "for i in range(num_loop):\n",
    "    \n",
    "    if i != 0:\n",
    "        time.sleep(3)\n",
    "\n",
    "        print(\"Wait for 3 seconds\")\n",
    "    \n",
    "    if (i == num_loop - 1):\n",
    "        \n",
    "        ids_array = id_arXiv[500*i:len(id_arXiv)]\n",
    "    else:\n",
    "        ids_array = id_arXiv[500*i:500*(i+1)]\n",
    "        \n",
    "    \n",
    "    ids_array = ids_array.apply(lambda x: f\"ARXIV:{x}\").tolist()\n",
    "        \n",
    "\n",
    "    fields = ','.join([\n",
    "        'corpusId', 'url', 'title', 'venue', 'year', 'authors', \n",
    "        'referenceCount', 'citationCount', 'influentialCitationCount', 'isOpenAccess',\n",
    "        'fieldsOfStudy', 's2FieldsOfStudy', 'externalIds'\n",
    "    ])\n",
    "\n",
    "    r = requests.post(\n",
    "        'https://api.semanticscholar.org/graph/v1/paper/batch',\n",
    "        params={'fields': fields},\n",
    "        json={\"ids\": ids_array}\n",
    "    )\n",
    "    \n",
    "   # Check if r.json() is not None\n",
    "    \n",
    "\n",
    "    list_paper.extend(r.json())\n",
    "\n",
    "    print(i, len(list_paper))\n",
    "\n"
   ]
  },
  {
   "cell_type": "code",
   "execution_count": null,
   "id": "02921396-fed2-4c3c-80b0-a5dbed359991",
   "metadata": {},
   "outputs": [],
   "source": [
    "len(list_paper)"
   ]
  },
  {
   "cell_type": "code",
   "execution_count": null,
   "id": "ded70dbe-baa9-440f-af10-bb32ba29d57d",
   "metadata": {},
   "outputs": [],
   "source": [
    "id_arXiv"
   ]
  },
  {
   "cell_type": "code",
   "execution_count": null,
   "id": "b7410e58-a59d-4e70-a651-d587d299b8bd",
   "metadata": {},
   "outputs": [],
   "source": [
    "import pandas as pd\n",
    "\n",
    "# Assuming list_paper contains dictionaries\n",
    "# If the structure of the dictionaries is consistent, you can directly convert it to a DataFrame\n",
    "# df = pd.DataFrame(list_paper)\n",
    "\n",
    "# If the structure is not consistent, you might need to normalize the data first\n",
    "df_new = pd.json_normalize(list_paper)\n"
   ]
  },
  {
   "cell_type": "code",
   "execution_count": null,
   "id": "53b9b093-2981-4ee2-a023-b91e20cad59b",
   "metadata": {},
   "outputs": [],
   "source": [
    "df_new = df_new.dropna(subset = ['paperId']).reset_index(drop = True)\n",
    "\n",
    "df_new"
   ]
  },
  {
   "cell_type": "code",
   "execution_count": null,
   "id": "926259fe-54a0-473d-82fe-212109cc48d9",
   "metadata": {},
   "outputs": [],
   "source": [
    "df_new.to_csv('semantic_scholar_with_id.csv',index = False)"
   ]
  },
  {
   "cell_type": "code",
   "execution_count": null,
   "id": "345b1e0e-973f-4539-bd94-50a69428e6ac",
   "metadata": {},
   "outputs": [],
   "source": []
  },
  {
   "cell_type": "code",
   "execution_count": null,
   "id": "785bbe37-6223-415c-aa17-b2c8bd2a7c2c",
   "metadata": {},
   "outputs": [],
   "source": []
  },
  {
   "cell_type": "code",
   "execution_count": null,
   "id": "bfe88ef4-4309-453a-872c-faf017b989f0",
   "metadata": {},
   "outputs": [],
   "source": []
  }
 ],
 "metadata": {
  "kernelspec": {
   "display_name": "Python 3 (ipykernel)",
   "language": "python",
   "name": "python3"
  },
  "language_info": {
   "codemirror_mode": {
    "name": "ipython",
    "version": 3
   },
   "file_extension": ".py",
   "mimetype": "text/x-python",
   "name": "python",
   "nbconvert_exporter": "python",
   "pygments_lexer": "ipython3",
   "version": "3.9.12"
  }
 },
 "nbformat": 4,
 "nbformat_minor": 5
}
